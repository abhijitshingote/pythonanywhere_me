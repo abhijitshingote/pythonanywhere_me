{
 "cells": [
  {
   "cell_type": "code",
   "execution_count": 1,
   "metadata": {
    "collapsed": true
   },
   "outputs": [],
   "source": [
    "import requests"
   ]
  },
  {
   "cell_type": "code",
   "execution_count": 2,
   "metadata": {
    "collapsed": true
   },
   "outputs": [],
   "source": [
    "url='https://api.nfl.com/v1/games/48134bf5-b4e1-4955-9c58-632bc1b99ca6'"
   ]
  },
  {
   "cell_type": "code",
   "execution_count": 3,
   "metadata": {
    "collapsed": true
   },
   "outputs": [],
   "source": [
    "\n",
    "html=requests.get(url)"
   ]
  },
  {
   "cell_type": "code",
   "execution_count": 4,
   "metadata": {
    "collapsed": false
   },
   "outputs": [
    {
     "data": {
      "text/plain": [
       "<Response [401]>"
      ]
     },
     "execution_count": 4,
     "metadata": {},
     "output_type": "execute_result"
    }
   ],
   "source": [
    "html"
   ]
  },
  {
   "cell_type": "code",
   "execution_count": 31,
   "metadata": {
    "collapsed": false
   },
   "outputs": [],
   "source": [
    "import numpy as np\n",
    "import pandas as pd\n",
    "from sklearn import linear_model"
   ]
  },
  {
   "cell_type": "code",
   "execution_count": 24,
   "metadata": {
    "collapsed": true
   },
   "outputs": [],
   "source": [
    "import sklearn"
   ]
  },
  {
   "cell_type": "code",
   "execution_count": 25,
   "metadata": {
    "collapsed": false
   },
   "outputs": [
    {
     "data": {
      "text/plain": [
       "LinearRegression(copy_X=True, fit_intercept=True, n_jobs=1, normalize=False)"
      ]
     },
     "execution_count": 25,
     "metadata": {},
     "output_type": "execute_result"
    }
   ],
   "source": [
    "sklearn.linear_model.LinearRegression()"
   ]
  },
  {
   "cell_type": "code",
   "execution_count": 39,
   "metadata": {
    "collapsed": true
   },
   "outputs": [],
   "source": [
    "#create random dataset\n",
    "x=np.random.rand(100)\n",
    "y=np.random.rand(100)\n",
    "z=np.random.rand(100)"
   ]
  },
  {
   "cell_type": "code",
   "execution_count": 40,
   "metadata": {
    "collapsed": false
   },
   "outputs": [
    {
     "data": {
      "text/html": [
       "<div>\n",
       "<table border=\"1\" class=\"dataframe\">\n",
       "  <thead>\n",
       "    <tr style=\"text-align: right;\">\n",
       "      <th></th>\n",
       "      <th>xvar</th>\n",
       "      <th>yvar</th>\n",
       "      <th>zvar</th>\n",
       "    </tr>\n",
       "  </thead>\n",
       "  <tbody>\n",
       "    <tr>\n",
       "      <th>count</th>\n",
       "      <td>100.000000</td>\n",
       "      <td>100.000000</td>\n",
       "      <td>100.000000</td>\n",
       "    </tr>\n",
       "    <tr>\n",
       "      <th>mean</th>\n",
       "      <td>0.467529</td>\n",
       "      <td>0.478358</td>\n",
       "      <td>0.498013</td>\n",
       "    </tr>\n",
       "    <tr>\n",
       "      <th>std</th>\n",
       "      <td>0.274820</td>\n",
       "      <td>0.267077</td>\n",
       "      <td>0.297234</td>\n",
       "    </tr>\n",
       "    <tr>\n",
       "      <th>min</th>\n",
       "      <td>0.003095</td>\n",
       "      <td>0.022214</td>\n",
       "      <td>0.000827</td>\n",
       "    </tr>\n",
       "    <tr>\n",
       "      <th>25%</th>\n",
       "      <td>0.244551</td>\n",
       "      <td>0.239584</td>\n",
       "      <td>0.233825</td>\n",
       "    </tr>\n",
       "    <tr>\n",
       "      <th>50%</th>\n",
       "      <td>0.461848</td>\n",
       "      <td>0.483476</td>\n",
       "      <td>0.442517</td>\n",
       "    </tr>\n",
       "    <tr>\n",
       "      <th>75%</th>\n",
       "      <td>0.685258</td>\n",
       "      <td>0.688811</td>\n",
       "      <td>0.761827</td>\n",
       "    </tr>\n",
       "    <tr>\n",
       "      <th>max</th>\n",
       "      <td>0.969508</td>\n",
       "      <td>0.955671</td>\n",
       "      <td>0.999551</td>\n",
       "    </tr>\n",
       "  </tbody>\n",
       "</table>\n",
       "</div>"
      ],
      "text/plain": [
       "             xvar        yvar        zvar\n",
       "count  100.000000  100.000000  100.000000\n",
       "mean     0.467529    0.478358    0.498013\n",
       "std      0.274820    0.267077    0.297234\n",
       "min      0.003095    0.022214    0.000827\n",
       "25%      0.244551    0.239584    0.233825\n",
       "50%      0.461848    0.483476    0.442517\n",
       "75%      0.685258    0.688811    0.761827\n",
       "max      0.969508    0.955671    0.999551"
      ]
     },
     "execution_count": 40,
     "metadata": {},
     "output_type": "execute_result"
    }
   ],
   "source": [
    "df=pd.DataFrame({\n",
    "    'xvar':x,\n",
    "    'yvar':y,\n",
    "    'zvar':z\n",
    "})\n",
    "df.describe()"
   ]
  },
  {
   "cell_type": "code",
   "execution_count": 41,
   "metadata": {
    "collapsed": true
   },
   "outputs": [],
   "source": [
    "linearobject=linear_model.LinearRegression()"
   ]
  },
  {
   "cell_type": "code",
   "execution_count": 50,
   "metadata": {
    "collapsed": false
   },
   "outputs": [
    {
     "data": {
      "text/plain": [
       "LinearRegression(copy_X=True, fit_intercept=True, n_jobs=1, normalize=False)"
      ]
     },
     "execution_count": 50,
     "metadata": {},
     "output_type": "execute_result"
    }
   ],
   "source": [
    "linearobject.fit(X=df[['xvar']],y=df[['zvar']])"
   ]
  },
  {
   "cell_type": "code",
   "execution_count": 51,
   "metadata": {
    "collapsed": false
   },
   "outputs": [
    {
     "name": "stdout",
     "output_type": "stream",
     "text": [
      "Help on method predict in module sklearn.linear_model.base:\n",
      "\n",
      "predict(X) method of sklearn.linear_model.base.LinearRegression instance\n",
      "    Predict using the linear model\n",
      "    \n",
      "    Parameters\n",
      "    ----------\n",
      "    X : {array-like, sparse matrix}, shape = (n_samples, n_features)\n",
      "        Samples.\n",
      "    \n",
      "    Returns\n",
      "    -------\n",
      "    C : array, shape = (n_samples,)\n",
      "        Returns predicted values.\n",
      "\n"
     ]
    }
   ],
   "source": [
    "help(linearobject.predict)"
   ]
  },
  {
   "cell_type": "code",
   "execution_count": 53,
   "metadata": {
    "collapsed": false
   },
   "outputs": [
    {
     "data": {
      "text/plain": [
       "array([[ 0.47467765],\n",
       "       [ 0.5094738 ],\n",
       "       [ 0.47963879],\n",
       "       [ 0.49403966],\n",
       "       [ 0.51029353],\n",
       "       [ 0.4953846 ],\n",
       "       [ 0.47491327],\n",
       "       [ 0.48830605],\n",
       "       [ 0.51022739],\n",
       "       [ 0.49534763],\n",
       "       [ 0.48957036],\n",
       "       [ 0.51690742],\n",
       "       [ 0.48045737],\n",
       "       [ 0.48930234],\n",
       "       [ 0.52523385],\n",
       "       [ 0.51710894],\n",
       "       [ 0.51368723],\n",
       "       [ 0.48994063],\n",
       "       [ 0.51436715],\n",
       "       [ 0.48307064],\n",
       "       [ 0.50355364],\n",
       "       [ 0.47601622],\n",
       "       [ 0.48200945],\n",
       "       [ 0.51527697],\n",
       "       [ 0.50632569],\n",
       "       [ 0.52402842],\n",
       "       [ 0.52172955],\n",
       "       [ 0.51337655],\n",
       "       [ 0.51559993],\n",
       "       [ 0.48926879],\n",
       "       [ 0.5002069 ],\n",
       "       [ 0.51370102],\n",
       "       [ 0.48092984],\n",
       "       [ 0.47318128],\n",
       "       [ 0.52293116],\n",
       "       [ 0.50996757],\n",
       "       [ 0.51053101],\n",
       "       [ 0.50507551],\n",
       "       [ 0.5213401 ],\n",
       "       [ 0.48316606],\n",
       "       [ 0.48502057],\n",
       "       [ 0.50085651],\n",
       "       [ 0.4848149 ],\n",
       "       [ 0.48102879],\n",
       "       [ 0.49652106],\n",
       "       [ 0.48539657],\n",
       "       [ 0.50558216],\n",
       "       [ 0.48144049],\n",
       "       [ 0.49014437],\n",
       "       [ 0.50490963],\n",
       "       [ 0.50887067],\n",
       "       [ 0.48683994],\n",
       "       [ 0.50674962],\n",
       "       [ 0.5069018 ],\n",
       "       [ 0.51632836],\n",
       "       [ 0.49117009],\n",
       "       [ 0.49978378],\n",
       "       [ 0.47533507],\n",
       "       [ 0.49802169],\n",
       "       [ 0.49703273],\n",
       "       [ 0.51708164],\n",
       "       [ 0.47608853],\n",
       "       [ 0.48595073],\n",
       "       [ 0.47570782],\n",
       "       [ 0.50575664],\n",
       "       [ 0.50469285],\n",
       "       [ 0.50098852],\n",
       "       [ 0.4940916 ],\n",
       "       [ 0.47804014],\n",
       "       [ 0.4787681 ],\n",
       "       [ 0.51209249],\n",
       "       [ 0.52266164],\n",
       "       [ 0.48096205],\n",
       "       [ 0.50785652],\n",
       "       [ 0.51998317],\n",
       "       [ 0.49745194],\n",
       "       [ 0.5129344 ],\n",
       "       [ 0.47730943],\n",
       "       [ 0.50629409],\n",
       "       [ 0.48800033],\n",
       "       [ 0.500371  ],\n",
       "       [ 0.48289179],\n",
       "       [ 0.52312636],\n",
       "       [ 0.51469799],\n",
       "       [ 0.49150307],\n",
       "       [ 0.49225776],\n",
       "       [ 0.5137722 ],\n",
       "       [ 0.47360598],\n",
       "       [ 0.49635699],\n",
       "       [ 0.52192515],\n",
       "       [ 0.50604961],\n",
       "       [ 0.50951421],\n",
       "       [ 0.5124097 ],\n",
       "       [ 0.50889983],\n",
       "       [ 0.49037853],\n",
       "       [ 0.48099267],\n",
       "       [ 0.50730922],\n",
       "       [ 0.4784197 ],\n",
       "       [ 0.49593988],\n",
       "       [ 0.49568814]])"
      ]
     },
     "execution_count": 53,
     "metadata": {},
     "output_type": "execute_result"
    }
   ],
   "source": [
    "linearobject.predict(X=df[['yvar']])"
   ]
  },
  {
   "cell_type": "code",
   "execution_count": null,
   "metadata": {
    "collapsed": true
   },
   "outputs": [],
   "source": []
  }
 ],
 "metadata": {
  "kernelspec": {
   "display_name": "Python 3",
   "language": "python",
   "name": "python3"
  },
  "language_info": {
   "codemirror_mode": {
    "name": "ipython",
    "version": 3
   },
   "file_extension": ".py",
   "mimetype": "text/x-python",
   "name": "python",
   "nbconvert_exporter": "python",
   "pygments_lexer": "ipython3",
   "version": "3.4.3"
  }
 },
 "nbformat": 4,
 "nbformat_minor": 2
}
