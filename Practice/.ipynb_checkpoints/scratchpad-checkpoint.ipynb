{
 "cells": [
  {
   "cell_type": "code",
   "execution_count": 4,
   "metadata": {
    "collapsed": true
   },
   "outputs": [],
   "source": [
    "import numpy as np\n",
    "import pandas as pd"
   ]
  },
  {
   "cell_type": "code",
   "execution_count": 6,
   "metadata": {
    "collapsed": false
   },
   "outputs": [],
   "source": [
    "dates=pd.date_range('20160101',periods=6)\n",
    "df = pd.DataFrame(np.random.randn(6,4), index=dates, columns=list('ABCD'))"
   ]
  },
  {
   "cell_type": "code",
   "execution_count": 7,
   "metadata": {
    "collapsed": false
   },
   "outputs": [
    {
     "data": {
      "text/html": [
       "<div>\n",
       "<table border=\"1\" class=\"dataframe\">\n",
       "  <thead>\n",
       "    <tr style=\"text-align: right;\">\n",
       "      <th></th>\n",
       "      <th>A</th>\n",
       "      <th>B</th>\n",
       "      <th>C</th>\n",
       "      <th>D</th>\n",
       "    </tr>\n",
       "  </thead>\n",
       "  <tbody>\n",
       "    <tr>\n",
       "      <th>2016-01-01</th>\n",
       "      <td>-2.191378</td>\n",
       "      <td>-0.648220</td>\n",
       "      <td>0.836133</td>\n",
       "      <td>-1.168866</td>\n",
       "    </tr>\n",
       "    <tr>\n",
       "      <th>2016-01-02</th>\n",
       "      <td>0.687607</td>\n",
       "      <td>-0.569896</td>\n",
       "      <td>0.700103</td>\n",
       "      <td>-0.941863</td>\n",
       "    </tr>\n",
       "    <tr>\n",
       "      <th>2016-01-03</th>\n",
       "      <td>0.852373</td>\n",
       "      <td>-0.923803</td>\n",
       "      <td>-0.393905</td>\n",
       "      <td>-2.161876</td>\n",
       "    </tr>\n",
       "    <tr>\n",
       "      <th>2016-01-04</th>\n",
       "      <td>-0.084419</td>\n",
       "      <td>-0.849152</td>\n",
       "      <td>-0.232093</td>\n",
       "      <td>0.746321</td>\n",
       "    </tr>\n",
       "    <tr>\n",
       "      <th>2016-01-05</th>\n",
       "      <td>0.332636</td>\n",
       "      <td>-1.103204</td>\n",
       "      <td>2.317851</td>\n",
       "      <td>-1.331963</td>\n",
       "    </tr>\n",
       "    <tr>\n",
       "      <th>2016-01-06</th>\n",
       "      <td>0.944500</td>\n",
       "      <td>-0.672734</td>\n",
       "      <td>-0.346809</td>\n",
       "      <td>-0.142834</td>\n",
       "    </tr>\n",
       "  </tbody>\n",
       "</table>\n",
       "</div>"
      ],
      "text/plain": [
       "                   A         B         C         D\n",
       "2016-01-01 -2.191378 -0.648220  0.836133 -1.168866\n",
       "2016-01-02  0.687607 -0.569896  0.700103 -0.941863\n",
       "2016-01-03  0.852373 -0.923803 -0.393905 -2.161876\n",
       "2016-01-04 -0.084419 -0.849152 -0.232093  0.746321\n",
       "2016-01-05  0.332636 -1.103204  2.317851 -1.331963\n",
       "2016-01-06  0.944500 -0.672734 -0.346809 -0.142834"
      ]
     },
     "execution_count": 7,
     "metadata": {},
     "output_type": "execute_result"
    }
   ],
   "source": [
    "df"
   ]
  },
  {
   "cell_type": "code",
   "execution_count": 10,
   "metadata": {
    "collapsed": false
   },
   "outputs": [
    {
     "data": {
      "text/plain": [
       "2016-01-01   -3.172332\n",
       "2016-01-02   -0.124048\n",
       "2016-01-03   -2.627212\n",
       "2016-01-04   -0.419343\n",
       "2016-01-05    0.215319\n",
       "2016-01-06   -0.217878\n",
       "Freq: D, dtype: float64"
      ]
     },
     "execution_count": 10,
     "metadata": {},
     "output_type": "execute_result"
    }
   ],
   "source": [
    "df.apply(sum,axis=1)"
   ]
  },
  {
   "cell_type": "code",
   "execution_count": 14,
   "metadata": {
    "collapsed": false
   },
   "outputs": [
    {
     "data": {
      "text/plain": [
       "2016-01-01   -1.543159\n",
       "2016-01-02    1.257503\n",
       "2016-01-03    1.776176\n",
       "2016-01-04    0.764733\n",
       "2016-01-05    1.435841\n",
       "2016-01-06    1.617234\n",
       "Freq: D, dtype: float64"
      ]
     },
     "execution_count": 14,
     "metadata": {},
     "output_type": "execute_result"
    }
   ],
   "source": [
    "df.apply((lambda x:x.A-x.B),axis=1)"
   ]
  },
  {
   "cell_type": "code",
   "execution_count": 15,
   "metadata": {
    "collapsed": false
   },
   "outputs": [
    {
     "data": {
      "text/plain": [
       "A   -1.503771\n",
       "B   -1.218116\n",
       "C    1.536236\n",
       "D   -2.110729\n",
       "dtype: float64"
      ]
     },
     "execution_count": 15,
     "metadata": {},
     "output_type": "execute_result"
    }
   ],
   "source": [
    "df.apply((lambda x:x[0]+x[1]),axis=0)"
   ]
  },
  {
   "cell_type": "code",
   "execution_count": 21,
   "metadata": {
    "collapsed": false
   },
   "outputs": [
    {
     "data": {
      "text/plain": [
       "[('bar', 'one'),\n",
       " ('bar', 'two'),\n",
       " ('baz', 'one'),\n",
       " ('baz', 'two'),\n",
       " ('foo', 'one'),\n",
       " ('foo', 'two'),\n",
       " ('qux', 'one'),\n",
       " ('qux', 'two')]"
      ]
     },
     "execution_count": 21,
     "metadata": {},
     "output_type": "execute_result"
    }
   ],
   "source": [
    "zip(['bar', 'bar', 'baz', 'baz','foo', 'foo', 'qux', 'qux'],\n",
    "['one', 'two', 'one', 'two','one', 'two', 'one', 'two'])"
   ]
  },
  {
   "cell_type": "code",
   "execution_count": 22,
   "metadata": {
    "collapsed": false
   },
   "outputs": [
    {
     "data": {
      "text/plain": [
       "[('bar', 'one'),\n",
       " ('bar', 'two'),\n",
       " ('baz', 'one'),\n",
       " ('baz', 'two'),\n",
       " ('foo', 'one'),\n",
       " ('foo', 'two'),\n",
       " ('qux', 'one'),\n",
       " ('qux', 'two')]"
      ]
     },
     "execution_count": 22,
     "metadata": {},
     "output_type": "execute_result"
    }
   ],
   "source": [
    "zip(['bar', 'bar', 'baz', 'baz','foo', 'foo', 'qux', 'qux'],\n",
    "['one', 'two', 'one', 'two','one', 'two', 'one', 'two'])"
   ]
  },
  {
   "cell_type": "code",
   "execution_count": 23,
   "metadata": {
    "collapsed": true
   },
   "outputs": [],
   "source": [
    "import pandas as pd\n",
    "import numpy as np\n",
    "%matplotlib inline"
   ]
  },
  {
   "cell_type": "code",
   "execution_count": 24,
   "metadata": {
    "collapsed": true
   },
   "outputs": [],
   "source": [
    "zip_zillow_data=pd.read_csv('http://files.zillowstatic.com/research/public/Zip/Zip_Zhvi_AllHomes.csv')"
   ]
  },
  {
   "cell_type": "code",
   "execution_count": 25,
   "metadata": {
    "collapsed": false
   },
   "outputs": [
    {
     "data": {
      "text/html": [
       "<div>\n",
       "<table border=\"1\" class=\"dataframe\">\n",
       "  <thead>\n",
       "    <tr style=\"text-align: right;\">\n",
       "      <th></th>\n",
       "      <th>RegionID</th>\n",
       "      <th>RegionName</th>\n",
       "      <th>City</th>\n",
       "      <th>State</th>\n",
       "      <th>Metro</th>\n",
       "      <th>CountyName</th>\n",
       "      <th>SizeRank</th>\n",
       "      <th>1996-04</th>\n",
       "      <th>1996-05</th>\n",
       "      <th>1996-06</th>\n",
       "      <th>...</th>\n",
       "      <th>2016-05</th>\n",
       "      <th>2016-06</th>\n",
       "      <th>2016-07</th>\n",
       "      <th>2016-08</th>\n",
       "      <th>2016-09</th>\n",
       "      <th>2016-10</th>\n",
       "      <th>2016-11</th>\n",
       "      <th>2016-12</th>\n",
       "      <th>2017-01</th>\n",
       "      <th>2017-02</th>\n",
       "    </tr>\n",
       "  </thead>\n",
       "  <tbody>\n",
       "    <tr>\n",
       "      <th>0</th>\n",
       "      <td>61639</td>\n",
       "      <td>10025</td>\n",
       "      <td>New York</td>\n",
       "      <td>NY</td>\n",
       "      <td>New York</td>\n",
       "      <td>New York</td>\n",
       "      <td>1</td>\n",
       "      <td>NaN</td>\n",
       "      <td>NaN</td>\n",
       "      <td>NaN</td>\n",
       "      <td>...</td>\n",
       "      <td>1071200.0</td>\n",
       "      <td>1092800</td>\n",
       "      <td>1119400</td>\n",
       "      <td>1141700</td>\n",
       "      <td>1149500</td>\n",
       "      <td>1152600</td>\n",
       "      <td>1171000</td>\n",
       "      <td>1177400.0</td>\n",
       "      <td>1165000</td>\n",
       "      <td>1156500</td>\n",
       "    </tr>\n",
       "    <tr>\n",
       "      <th>1</th>\n",
       "      <td>84654</td>\n",
       "      <td>60657</td>\n",
       "      <td>Chicago</td>\n",
       "      <td>IL</td>\n",
       "      <td>Chicago</td>\n",
       "      <td>Cook</td>\n",
       "      <td>2</td>\n",
       "      <td>146700.0</td>\n",
       "      <td>146500.0</td>\n",
       "      <td>146300.0</td>\n",
       "      <td>...</td>\n",
       "      <td>318300.0</td>\n",
       "      <td>318200</td>\n",
       "      <td>318100</td>\n",
       "      <td>318600</td>\n",
       "      <td>318000</td>\n",
       "      <td>317700</td>\n",
       "      <td>318300</td>\n",
       "      <td>319600.0</td>\n",
       "      <td>320200</td>\n",
       "      <td>320500</td>\n",
       "    </tr>\n",
       "    <tr>\n",
       "      <th>2</th>\n",
       "      <td>84616</td>\n",
       "      <td>60614</td>\n",
       "      <td>Chicago</td>\n",
       "      <td>IL</td>\n",
       "      <td>Chicago</td>\n",
       "      <td>Cook</td>\n",
       "      <td>3</td>\n",
       "      <td>198000.0</td>\n",
       "      <td>195500.0</td>\n",
       "      <td>194200.0</td>\n",
       "      <td>...</td>\n",
       "      <td>402700.0</td>\n",
       "      <td>401800</td>\n",
       "      <td>400600</td>\n",
       "      <td>400700</td>\n",
       "      <td>401900</td>\n",
       "      <td>406000</td>\n",
       "      <td>414100</td>\n",
       "      <td>417800.0</td>\n",
       "      <td>417100</td>\n",
       "      <td>417700</td>\n",
       "    </tr>\n",
       "    <tr>\n",
       "      <th>3</th>\n",
       "      <td>93144</td>\n",
       "      <td>79936</td>\n",
       "      <td>El Paso</td>\n",
       "      <td>TX</td>\n",
       "      <td>El Paso</td>\n",
       "      <td>El Paso</td>\n",
       "      <td>4</td>\n",
       "      <td>70800.0</td>\n",
       "      <td>71000.0</td>\n",
       "      <td>71000.0</td>\n",
       "      <td>...</td>\n",
       "      <td>112000.0</td>\n",
       "      <td>112600</td>\n",
       "      <td>113200</td>\n",
       "      <td>113600</td>\n",
       "      <td>113800</td>\n",
       "      <td>113800</td>\n",
       "      <td>114100</td>\n",
       "      <td>114500.0</td>\n",
       "      <td>114900</td>\n",
       "      <td>115100</td>\n",
       "    </tr>\n",
       "    <tr>\n",
       "      <th>4</th>\n",
       "      <td>61616</td>\n",
       "      <td>10002</td>\n",
       "      <td>New York</td>\n",
       "      <td>NY</td>\n",
       "      <td>New York</td>\n",
       "      <td>New York</td>\n",
       "      <td>5</td>\n",
       "      <td>NaN</td>\n",
       "      <td>NaN</td>\n",
       "      <td>NaN</td>\n",
       "      <td>...</td>\n",
       "      <td>772400.0</td>\n",
       "      <td>776200</td>\n",
       "      <td>780300</td>\n",
       "      <td>793900</td>\n",
       "      <td>811700</td>\n",
       "      <td>825200</td>\n",
       "      <td>838900</td>\n",
       "      <td>843200.0</td>\n",
       "      <td>844500</td>\n",
       "      <td>848000</td>\n",
       "    </tr>\n",
       "  </tbody>\n",
       "</table>\n",
       "<p>5 rows × 258 columns</p>\n",
       "</div>"
      ],
      "text/plain": [
       "   RegionID  RegionName      City State     Metro CountyName  SizeRank  \\\n",
       "0     61639       10025  New York    NY  New York   New York         1   \n",
       "1     84654       60657   Chicago    IL   Chicago       Cook         2   \n",
       "2     84616       60614   Chicago    IL   Chicago       Cook         3   \n",
       "3     93144       79936   El Paso    TX   El Paso    El Paso         4   \n",
       "4     61616       10002  New York    NY  New York   New York         5   \n",
       "\n",
       "    1996-04   1996-05   1996-06   ...       2016-05  2016-06  2016-07  \\\n",
       "0       NaN       NaN       NaN   ...     1071200.0  1092800  1119400   \n",
       "1  146700.0  146500.0  146300.0   ...      318300.0   318200   318100   \n",
       "2  198000.0  195500.0  194200.0   ...      402700.0   401800   400600   \n",
       "3   70800.0   71000.0   71000.0   ...      112000.0   112600   113200   \n",
       "4       NaN       NaN       NaN   ...      772400.0   776200   780300   \n",
       "\n",
       "   2016-08  2016-09  2016-10  2016-11    2016-12  2017-01  2017-02  \n",
       "0  1141700  1149500  1152600  1171000  1177400.0  1165000  1156500  \n",
       "1   318600   318000   317700   318300   319600.0   320200   320500  \n",
       "2   400700   401900   406000   414100   417800.0   417100   417700  \n",
       "3   113600   113800   113800   114100   114500.0   114900   115100  \n",
       "4   793900   811700   825200   838900   843200.0   844500   848000  \n",
       "\n",
       "[5 rows x 258 columns]"
      ]
     },
     "execution_count": 25,
     "metadata": {},
     "output_type": "execute_result"
    }
   ],
   "source": [
    "zip_zillow_data.head()"
   ]
  },
  {
   "cell_type": "code",
   "execution_count": 29,
   "metadata": {
    "collapsed": false
   },
   "outputs": [],
   "source": [
    "zip_zillow_data.set_index('RegionID',inplace=True)"
   ]
  },
  {
   "cell_type": "code",
   "execution_count": 33,
   "metadata": {
    "collapsed": false
   },
   "outputs": [
    {
     "data": {
      "text/html": [
       "<div>\n",
       "<table border=\"1\" class=\"dataframe\">\n",
       "  <thead>\n",
       "    <tr style=\"text-align: right;\">\n",
       "      <th></th>\n",
       "      <th>RegionName</th>\n",
       "      <th>City</th>\n",
       "      <th>State</th>\n",
       "      <th>Metro</th>\n",
       "      <th>CountyName</th>\n",
       "      <th>SizeRank</th>\n",
       "      <th>1996-04</th>\n",
       "      <th>1996-05</th>\n",
       "      <th>1996-06</th>\n",
       "      <th>1996-07</th>\n",
       "      <th>...</th>\n",
       "      <th>2016-05</th>\n",
       "      <th>2016-06</th>\n",
       "      <th>2016-07</th>\n",
       "      <th>2016-08</th>\n",
       "      <th>2016-09</th>\n",
       "      <th>2016-10</th>\n",
       "      <th>2016-11</th>\n",
       "      <th>2016-12</th>\n",
       "      <th>2017-01</th>\n",
       "      <th>2017-02</th>\n",
       "    </tr>\n",
       "    <tr>\n",
       "      <th>RegionID</th>\n",
       "      <th></th>\n",
       "      <th></th>\n",
       "      <th></th>\n",
       "      <th></th>\n",
       "      <th></th>\n",
       "      <th></th>\n",
       "      <th></th>\n",
       "      <th></th>\n",
       "      <th></th>\n",
       "      <th></th>\n",
       "      <th></th>\n",
       "      <th></th>\n",
       "      <th></th>\n",
       "      <th></th>\n",
       "      <th></th>\n",
       "      <th></th>\n",
       "      <th></th>\n",
       "      <th></th>\n",
       "      <th></th>\n",
       "      <th></th>\n",
       "      <th></th>\n",
       "    </tr>\n",
       "  </thead>\n",
       "  <tbody>\n",
       "    <tr>\n",
       "      <th>61639</th>\n",
       "      <td>10025</td>\n",
       "      <td>New York</td>\n",
       "      <td>NY</td>\n",
       "      <td>New York</td>\n",
       "      <td>New York</td>\n",
       "      <td>1</td>\n",
       "      <td>NaN</td>\n",
       "      <td>NaN</td>\n",
       "      <td>NaN</td>\n",
       "      <td>NaN</td>\n",
       "      <td>...</td>\n",
       "      <td>1071200.0</td>\n",
       "      <td>1092800</td>\n",
       "      <td>1119400</td>\n",
       "      <td>1141700</td>\n",
       "      <td>1149500</td>\n",
       "      <td>1152600</td>\n",
       "      <td>1171000</td>\n",
       "      <td>1177400.0</td>\n",
       "      <td>1165000</td>\n",
       "      <td>1156500</td>\n",
       "    </tr>\n",
       "    <tr>\n",
       "      <th>84654</th>\n",
       "      <td>60657</td>\n",
       "      <td>Chicago</td>\n",
       "      <td>IL</td>\n",
       "      <td>Chicago</td>\n",
       "      <td>Cook</td>\n",
       "      <td>2</td>\n",
       "      <td>146700.0</td>\n",
       "      <td>146500.0</td>\n",
       "      <td>146300.0</td>\n",
       "      <td>146300.0</td>\n",
       "      <td>...</td>\n",
       "      <td>318300.0</td>\n",
       "      <td>318200</td>\n",
       "      <td>318100</td>\n",
       "      <td>318600</td>\n",
       "      <td>318000</td>\n",
       "      <td>317700</td>\n",
       "      <td>318300</td>\n",
       "      <td>319600.0</td>\n",
       "      <td>320200</td>\n",
       "      <td>320500</td>\n",
       "    </tr>\n",
       "    <tr>\n",
       "      <th>84616</th>\n",
       "      <td>60614</td>\n",
       "      <td>Chicago</td>\n",
       "      <td>IL</td>\n",
       "      <td>Chicago</td>\n",
       "      <td>Cook</td>\n",
       "      <td>3</td>\n",
       "      <td>198000.0</td>\n",
       "      <td>195500.0</td>\n",
       "      <td>194200.0</td>\n",
       "      <td>193800.0</td>\n",
       "      <td>...</td>\n",
       "      <td>402700.0</td>\n",
       "      <td>401800</td>\n",
       "      <td>400600</td>\n",
       "      <td>400700</td>\n",
       "      <td>401900</td>\n",
       "      <td>406000</td>\n",
       "      <td>414100</td>\n",
       "      <td>417800.0</td>\n",
       "      <td>417100</td>\n",
       "      <td>417700</td>\n",
       "    </tr>\n",
       "    <tr>\n",
       "      <th>93144</th>\n",
       "      <td>79936</td>\n",
       "      <td>El Paso</td>\n",
       "      <td>TX</td>\n",
       "      <td>El Paso</td>\n",
       "      <td>El Paso</td>\n",
       "      <td>4</td>\n",
       "      <td>70800.0</td>\n",
       "      <td>71000.0</td>\n",
       "      <td>71000.0</td>\n",
       "      <td>71400.0</td>\n",
       "      <td>...</td>\n",
       "      <td>112000.0</td>\n",
       "      <td>112600</td>\n",
       "      <td>113200</td>\n",
       "      <td>113600</td>\n",
       "      <td>113800</td>\n",
       "      <td>113800</td>\n",
       "      <td>114100</td>\n",
       "      <td>114500.0</td>\n",
       "      <td>114900</td>\n",
       "      <td>115100</td>\n",
       "    </tr>\n",
       "    <tr>\n",
       "      <th>61616</th>\n",
       "      <td>10002</td>\n",
       "      <td>New York</td>\n",
       "      <td>NY</td>\n",
       "      <td>New York</td>\n",
       "      <td>New York</td>\n",
       "      <td>5</td>\n",
       "      <td>NaN</td>\n",
       "      <td>NaN</td>\n",
       "      <td>NaN</td>\n",
       "      <td>NaN</td>\n",
       "      <td>...</td>\n",
       "      <td>772400.0</td>\n",
       "      <td>776200</td>\n",
       "      <td>780300</td>\n",
       "      <td>793900</td>\n",
       "      <td>811700</td>\n",
       "      <td>825200</td>\n",
       "      <td>838900</td>\n",
       "      <td>843200.0</td>\n",
       "      <td>844500</td>\n",
       "      <td>848000</td>\n",
       "    </tr>\n",
       "  </tbody>\n",
       "</table>\n",
       "<p>5 rows × 257 columns</p>\n",
       "</div>"
      ],
      "text/plain": [
       "          RegionName      City State     Metro CountyName  SizeRank   1996-04  \\\n",
       "RegionID                                                                        \n",
       "61639          10025  New York    NY  New York   New York         1       NaN   \n",
       "84654          60657   Chicago    IL   Chicago       Cook         2  146700.0   \n",
       "84616          60614   Chicago    IL   Chicago       Cook         3  198000.0   \n",
       "93144          79936   El Paso    TX   El Paso    El Paso         4   70800.0   \n",
       "61616          10002  New York    NY  New York   New York         5       NaN   \n",
       "\n",
       "           1996-05   1996-06   1996-07   ...       2016-05  2016-06  2016-07  \\\n",
       "RegionID                                 ...                                   \n",
       "61639          NaN       NaN       NaN   ...     1071200.0  1092800  1119400   \n",
       "84654     146500.0  146300.0  146300.0   ...      318300.0   318200   318100   \n",
       "84616     195500.0  194200.0  193800.0   ...      402700.0   401800   400600   \n",
       "93144      71000.0   71000.0   71400.0   ...      112000.0   112600   113200   \n",
       "61616          NaN       NaN       NaN   ...      772400.0   776200   780300   \n",
       "\n",
       "          2016-08  2016-09  2016-10  2016-11    2016-12  2017-01  2017-02  \n",
       "RegionID                                                                   \n",
       "61639     1141700  1149500  1152600  1171000  1177400.0  1165000  1156500  \n",
       "84654      318600   318000   317700   318300   319600.0   320200   320500  \n",
       "84616      400700   401900   406000   414100   417800.0   417100   417700  \n",
       "93144      113600   113800   113800   114100   114500.0   114900   115100  \n",
       "61616      793900   811700   825200   838900   843200.0   844500   848000  \n",
       "\n",
       "[5 rows x 257 columns]"
      ]
     },
     "execution_count": 33,
     "metadata": {},
     "output_type": "execute_result"
    }
   ],
   "source": [
    "zip_zillow_data.head()"
   ]
  },
  {
   "cell_type": "code",
   "execution_count": 81,
   "metadata": {
    "collapsed": false
   },
   "outputs": [],
   "source": [
    "nearbyzips=[]\n",
    "for zip in lyndhurstdata.loc['RegionName'].values:\n",
    "    if str(zip)[:2]=='70':\n",
    "        nearbyzips.append(zip)\n",
    "        \n",
    "lyndhurstdata=zip_zillow_data[(zip_zillow_data.CountyName=='Bergen') &\n",
    "                             (zip_zillow_data.State=='NJ') &\n",
    "                             (zip_zillow_data.RegionName.isin(nearbyzips))].T"
   ]
  },
  {
   "cell_type": "code",
   "execution_count": 93,
   "metadata": {
    "collapsed": false
   },
   "outputs": [
    {
     "data": {
      "text/plain": [
       "<matplotlib.axes._subplots.AxesSubplot at 0x7f98a38d9c50>"
      ]
     },
     "execution_count": 93,
     "metadata": {},
     "output_type": "execute_result"
    },
    {
     "data": {
      "image/png": "[encoded data removed]",
      "text/plain": [
       "<matplotlib.figure.Figure at 0x7f98a8101490>"
      ]
     },
     "metadata": {},
     "output_type": "display_data"
    }
   ],
   "source": [
    "lyndhurstdata.columns=lyndhurstdata.loc['City'].values\n",
    "lyndhurstdata.iloc[-20:,:9].plot(rot=50,figsize=(10,8))"
   ]
  },
  {
   "cell_type": "code",
   "execution_count": 89,
   "metadata": {
    "collapsed": false
   },
   "outputs": [
    {
     "name": "stdout",
     "output_type": "stream",
     "text": [
      "Help on class FramePlotMethods in module pandas.tools.plotting:\n",
      "\n",
      "class FramePlotMethods(BasePlotMethods)\n",
      " |  DataFrame plotting accessor and method\n",
      " |  \n",
      " |  Examples\n",
      " |  --------\n",
      " |  >>> df.plot.line()\n",
      " |  >>> df.plot.scatter('x', 'y')\n",
      " |  >>> df.plot.hexbin()\n",
      " |  \n",
      " |  These plotting methods can also be accessed by calling the accessor as a\n",
      " |  method with the ``kind`` argument:\n",
      " |  ``df.plot(kind='line')`` is equivalent to ``df.plot.line()``\n",
      " |  \n",
      " |  Method resolution order:\n",
      " |      FramePlotMethods\n",
      " |      BasePlotMethods\n",
      " |      pandas.core.base.PandasObject\n",
      " |      pandas.core.base.StringMixin\n",
      " |      __builtin__.object\n",
      " |  \n",
      " |  Methods defined here:\n",
      " |  \n",
      " |  __call__(self, x=None, y=None, kind='line', ax=None, subplots=False, sharex=None, sharey=False, layout=None, figsize=None, use_index=True, title=None, grid=None, legend=True, style=None, logx=False, logy=False, loglog=False, xticks=None, yticks=None, xlim=None, ylim=None, rot=None, fontsize=None, colormap=None, table=False, yerr=None, xerr=None, secondary_y=False, sort_columns=False, **kwds)\n",
      " |      Make plots of DataFrame using matplotlib / pylab.\n",
      " |      \n",
      " |      *New in version 0.17.0:* Each plot kind has a corresponding method on the\n",
      " |      ``DataFrame.plot`` accessor:\n",
      " |      ``df.plot(kind='line')`` is equivalent to\n",
      " |      ``df.plot.line()``.\n",
      " |      \n",
      " |      Parameters\n",
      " |      ----------\n",
      " |      data : DataFrame\n",
      " |      x : label or position, default None\n",
      " |      y : label or position, default None\n",
      " |          Allows plotting of one column versus another\n",
      " |      kind : str\n",
      " |          - 'line' : line plot (default)\n",
      " |          - 'bar' : vertical bar plot\n",
      " |          - 'barh' : horizontal bar plot\n",
      " |          - 'hist' : histogram\n",
      " |          - 'box' : boxplot\n",
      " |          - 'kde' : Kernel Density Estimation plot\n",
      " |          - 'density' : same as 'kde'\n",
      " |          - 'area' : area plot\n",
      " |          - 'pie' : pie plot\n",
      " |          - 'scatter' : scatter plot\n",
      " |          - 'hexbin' : hexbin plot\n",
      " |      ax : matplotlib axes object, default None\n",
      " |      subplots : boolean, default False\n",
      " |          Make separate subplots for each column\n",
      " |      sharex : boolean, default True if ax is None else False\n",
      " |          In case subplots=True, share x axis and set some x axis labels to\n",
      " |          invisible; defaults to True if ax is None otherwise False if an ax\n",
      " |          is passed in; Be aware, that passing in both an ax and sharex=True\n",
      " |          will alter all x axis labels for all axis in a figure!\n",
      " |      sharey : boolean, default False\n",
      " |          In case subplots=True, share y axis and set some y axis labels to\n",
      " |          invisible\n",
      " |      layout : tuple (optional)\n",
      " |          (rows, columns) for the layout of subplots\n",
      " |      figsize : a tuple (width, height) in inches\n",
      " |      use_index : boolean, default True\n",
      " |          Use index as ticks for x axis\n",
      " |      title : string\n",
      " |          Title to use for the plot\n",
      " |      grid : boolean, default None (matlab style default)\n",
      " |          Axis grid lines\n",
      " |      legend : False/True/'reverse'\n",
      " |          Place legend on axis subplots\n",
      " |      style : list or dict\n",
      " |          matplotlib line style per column\n",
      " |      logx : boolean, default False\n",
      " |          Use log scaling on x axis\n",
      " |      logy : boolean, default False\n",
      " |          Use log scaling on y axis\n",
      " |      loglog : boolean, default False\n",
      " |          Use log scaling on both x and y axes\n",
      " |      xticks : sequence\n",
      " |          Values to use for the xticks\n",
      " |      yticks : sequence\n",
      " |          Values to use for the yticks\n",
      " |      xlim : 2-tuple/list\n",
      " |      ylim : 2-tuple/list\n",
      " |      rot : int, default None\n",
      " |          Rotation for ticks (xticks for vertical, yticks for horizontal plots)\n",
      " |      fontsize : int, default None\n",
      " |          Font size for xticks and yticks\n",
      " |      colormap : str or matplotlib colormap object, default None\n",
      " |          Colormap to select colors from. If string, load colormap with that name\n",
      " |          from matplotlib.\n",
      " |      colorbar : boolean, optional\n",
      " |          If True, plot colorbar (only relevant for 'scatter' and 'hexbin' plots)\n",
      " |      position : float\n",
      " |          Specify relative alignments for bar plot layout.\n",
      " |          From 0 (left/bottom-end) to 1 (right/top-end). Default is 0.5 (center)\n",
      " |      layout : tuple (optional)\n",
      " |          (rows, columns) for the layout of the plot\n",
      " |      table : boolean, Series or DataFrame, default False\n",
      " |          If True, draw a table using the data in the DataFrame and the data will\n",
      " |          be transposed to meet matplotlib's default layout.\n",
      " |          If a Series or DataFrame is passed, use passed data to draw a table.\n",
      " |      yerr : DataFrame, Series, array-like, dict and str\n",
      " |          See :ref:`Plotting with Error Bars <visualization.errorbars>` for\n",
      " |          detail.\n",
      " |      xerr : same types as yerr.\n",
      " |      stacked : boolean, default False in line and\n",
      " |          bar plots, and True in area plot. If True, create stacked plot.\n",
      " |      sort_columns : boolean, default False\n",
      " |          Sort column names to determine plot ordering\n",
      " |      secondary_y : boolean or sequence, default False\n",
      " |          Whether to plot on the secondary y-axis\n",
      " |          If a list/tuple, which columns to plot on secondary y-axis\n",
      " |      mark_right : boolean, default True\n",
      " |          When using a secondary_y axis, automatically mark the column\n",
      " |          labels with \"(right)\" in the legend\n",
      " |      kwds : keywords\n",
      " |          Options to pass to matplotlib plotting method\n",
      " |      \n",
      " |      Returns\n",
      " |      -------\n",
      " |      axes : matplotlib.AxesSubplot or np.array of them\n",
      " |      \n",
      " |      Notes\n",
      " |      -----\n",
      " |      \n",
      " |      - See matplotlib documentation online for more on this subject\n",
      " |      - If `kind` = 'bar' or 'barh', you can specify relative alignments\n",
      " |        for bar plot layout by `position` keyword.\n",
      " |        From 0 (left/bottom-end) to 1 (right/top-end). Default is 0.5 (center)\n",
      " |      - If `kind` = 'scatter' and the argument `c` is the name of a dataframe\n",
      " |        column, the values of that column are used to color each point.\n",
      " |      - If `kind` = 'hexbin', you can control the size of the bins with the\n",
      " |        `gridsize` argument. By default, a histogram of the counts around each\n",
      " |        `(x, y)` point is computed. You can specify alternative aggregations\n",
      " |        by passing values to the `C` and `reduce_C_function` arguments.\n",
      " |        `C` specifies the value at each `(x, y)` point and `reduce_C_function`\n",
      " |        is a function of one argument that reduces all the values in a bin to\n",
      " |        a single number (e.g. `mean`, `max`, `sum`, `std`).\n",
      " |  \n",
      " |  area(self, x=None, y=None, **kwds)\n",
      " |      Area plot\n",
      " |      \n",
      " |      .. versionadded:: 0.17.0\n",
      " |      \n",
      " |      Parameters\n",
      " |      ----------\n",
      " |      x, y : label or position, optional\n",
      " |          Coordinates for each point.\n",
      " |      **kwds : optional\n",
      " |          Keyword arguments to pass on to :py:meth:`pandas.DataFrame.plot`.\n",
      " |      \n",
      " |      Returns\n",
      " |      -------\n",
      " |      axes : matplotlib.AxesSubplot or np.array of them\n",
      " |  \n",
      " |  bar(self, x=None, y=None, **kwds)\n",
      " |      Vertical bar plot\n",
      " |      \n",
      " |      .. versionadded:: 0.17.0\n",
      " |      \n",
      " |      Parameters\n",
      " |      ----------\n",
      " |      x, y : label or position, optional\n",
      " |          Coordinates for each point.\n",
      " |      **kwds : optional\n",
      " |          Keyword arguments to pass on to :py:meth:`pandas.DataFrame.plot`.\n",
      " |      \n",
      " |      Returns\n",
      " |      -------\n",
      " |      axes : matplotlib.AxesSubplot or np.array of them\n",
      " |  \n",
      " |  barh(self, x=None, y=None, **kwds)\n",
      " |      Horizontal bar plot\n",
      " |      \n",
      " |      .. versionadded:: 0.17.0\n",
      " |      \n",
      " |      Parameters\n",
      " |      ----------\n",
      " |      x, y : label or position, optional\n",
      " |          Coordinates for each point.\n",
      " |      **kwds : optional\n",
      " |          Keyword arguments to pass on to :py:meth:`pandas.DataFrame.plot`.\n",
      " |      \n",
      " |      Returns\n",
      " |      -------\n",
      " |      axes : matplotlib.AxesSubplot or np.array of them\n",
      " |  \n",
      " |  box(self, by=None, **kwds)\n",
      " |      Boxplot\n",
      " |      \n",
      " |      .. versionadded:: 0.17.0\n",
      " |      \n",
      " |      Parameters\n",
      " |      ----------\n",
      " |      by : string or sequence\n",
      " |          Column in the DataFrame to group by.\n",
      " |      \\*\\*kwds : optional\n",
      " |          Keyword arguments to pass on to :py:meth:`pandas.DataFrame.plot`.\n",
      " |      \n",
      " |      Returns\n",
      " |      -------\n",
      " |      axes : matplotlib.AxesSubplot or np.array of them\n",
      " |  \n",
      " |  density = kde(self, **kwds)\n",
      " |  \n",
      " |  hexbin(self, x, y, C=None, reduce_C_function=None, gridsize=None, **kwds)\n",
      " |      Hexbin plot\n",
      " |      \n",
      " |      .. versionadded:: 0.17.0\n",
      " |      \n",
      " |      Parameters\n",
      " |      ----------\n",
      " |      x, y : label or position, optional\n",
      " |          Coordinates for each point.\n",
      " |      C : label or position, optional\n",
      " |          The value at each `(x, y)` point.\n",
      " |      reduce_C_function : callable, optional\n",
      " |          Function of one argument that reduces all the values in a bin to\n",
      " |          a single number (e.g. `mean`, `max`, `sum`, `std`).\n",
      " |      gridsize : int, optional\n",
      " |          Number of bins.\n",
      " |      **kwds : optional\n",
      " |          Keyword arguments to pass on to :py:meth:`pandas.DataFrame.plot`.\n",
      " |      \n",
      " |      Returns\n",
      " |      -------\n",
      " |      axes : matplotlib.AxesSubplot or np.array of them\n",
      " |  \n",
      " |  hist(self, by=None, bins=10, **kwds)\n",
      " |      Histogram\n",
      " |      \n",
      " |      .. versionadded:: 0.17.0\n",
      " |      \n",
      " |      Parameters\n",
      " |      ----------\n",
      " |      by : string or sequence\n",
      " |          Column in the DataFrame to group by.\n",
      " |      bins: integer, default 10\n",
      " |          Number of histogram bins to be used\n",
      " |      **kwds : optional\n",
      " |          Keyword arguments to pass on to :py:meth:`pandas.DataFrame.plot`.\n",
      " |      \n",
      " |      Returns\n",
      " |      -------\n",
      " |      axes : matplotlib.AxesSubplot or np.array of them\n",
      " |  \n",
      " |  kde(self, **kwds)\n",
      " |      Kernel Density Estimate plot\n",
      " |      \n",
      " |      .. versionadded:: 0.17.0\n",
      " |      \n",
      " |      Parameters\n",
      " |      ----------\n",
      " |      **kwds : optional\n",
      " |          Keyword arguments to pass on to :py:meth:`pandas.DataFrame.plot`.\n",
      " |      \n",
      " |      Returns\n",
      " |      -------\n",
      " |      axes : matplotlib.AxesSubplot or np.array of them\n",
      " |  \n",
      " |  line(self, x=None, y=None, **kwds)\n",
      " |      Line plot\n",
      " |      \n",
      " |      .. versionadded:: 0.17.0\n",
      " |      \n",
      " |      Parameters\n",
      " |      ----------\n",
      " |      x, y : label or position, optional\n",
      " |          Coordinates for each point.\n",
      " |      **kwds : optional\n",
      " |          Keyword arguments to pass on to :py:meth:`pandas.DataFrame.plot`.\n",
      " |      \n",
      " |      Returns\n",
      " |      -------\n",
      " |      axes : matplotlib.AxesSubplot or np.array of them\n",
      " |  \n",
      " |  pie(self, y=None, **kwds)\n",
      " |      Pie chart\n",
      " |      \n",
      " |      .. versionadded:: 0.17.0\n",
      " |      \n",
      " |      Parameters\n",
      " |      ----------\n",
      " |      y : label or position, optional\n",
      " |          Column to plot.\n",
      " |      **kwds : optional\n",
      " |          Keyword arguments to pass on to :py:meth:`pandas.DataFrame.plot`.\n",
      " |      \n",
      " |      Returns\n",
      " |      -------\n",
      " |      axes : matplotlib.AxesSubplot or np.array of them\n",
      " |  \n",
      " |  scatter(self, x, y, s=None, c=None, **kwds)\n",
      " |      Scatter plot\n",
      " |      \n",
      " |      .. versionadded:: 0.17.0\n",
      " |      \n",
      " |      Parameters\n",
      " |      ----------\n",
      " |      x, y : label or position, optional\n",
      " |          Coordinates for each point.\n",
      " |      s : scalar or array_like, optional\n",
      " |          Size of each point.\n",
      " |      c : label or position, optional\n",
      " |          Color of each point.\n",
      " |      **kwds : optional\n",
      " |          Keyword arguments to pass on to :py:meth:`pandas.DataFrame.plot`.\n",
      " |      \n",
      " |      Returns\n",
      " |      -------\n",
      " |      axes : matplotlib.AxesSubplot or np.array of them\n",
      " |  \n",
      " |  ----------------------------------------------------------------------\n",
      " |  Methods inherited from BasePlotMethods:\n",
      " |  \n",
      " |  __init__(self, data)\n",
      " |  \n",
      " |  ----------------------------------------------------------------------\n",
      " |  Methods inherited from pandas.core.base.PandasObject:\n",
      " |  \n",
      " |  __dir__(self)\n",
      " |      Provide method name lookup and completion\n",
      " |      Only provide 'public' methods\n",
      " |  \n",
      " |  __sizeof__(self)\n",
      " |      Generates the total memory usage for a object that returns\n",
      " |      either a value or Series of values\n",
      " |  \n",
      " |  __unicode__(self)\n",
      " |      Return a string representation for a particular object.\n",
      " |      \n",
      " |      Invoked by unicode(obj) in py2 only. Yields a Unicode String in both\n",
      " |      py2/py3.\n",
      " |  \n",
      " |  ----------------------------------------------------------------------\n",
      " |  Methods inherited from pandas.core.base.StringMixin:\n",
      " |  \n",
      " |  __bytes__(self)\n",
      " |      Return a string representation for a particular object.\n",
      " |      \n",
      " |      Invoked by bytes(obj) in py3 only.\n",
      " |      Yields a bytestring in both py2/py3.\n",
      " |  \n",
      " |  __repr__(self)\n",
      " |      Return a string representation for a particular object.\n",
      " |      \n",
      " |      Yields Bytestring in Py2, Unicode String in py3.\n",
      " |  \n",
      " |  __str__(self)\n",
      " |      Return a string representation for a particular Object\n",
      " |      \n",
      " |      Invoked by str(df) in both py2/py3.\n",
      " |      Yields Bytestring in Py2, Unicode String in py3.\n",
      " |  \n",
      " |  ----------------------------------------------------------------------\n",
      " |  Data descriptors inherited from pandas.core.base.StringMixin:\n",
      " |  \n",
      " |  __dict__\n",
      " |      dictionary for instance variables (if defined)\n",
      " |  \n",
      " |  __weakref__\n",
      " |      list of weak references to the object (if defined)\n",
      "\n"
     ]
    }
   ],
   "source": [
    "help(pd.DataFrame.plot)"
   ]
  },
  {
   "cell_type": "code",
   "execution_count": 29,
   "metadata": {
    "collapsed": false
   },
   "outputs": [],
   "source": [
    "def giveme():\n",
    "    for i in range(2,10):\n",
    "        return i"
   ]
  },
  {
   "cell_type": "code",
   "execution_count": 30,
   "metadata": {
    "collapsed": false
   },
   "outputs": [],
   "source": [
    "x=giveme()"
   ]
  },
  {
   "cell_type": "code",
   "execution_count": 31,
   "metadata": {
    "collapsed": false
   },
   "outputs": [
    {
     "data": {
      "text/plain": [
       "2"
      ]
     },
     "execution_count": 31,
     "metadata": {},
     "output_type": "execute_result"
    }
   ],
   "source": [
    "x"
   ]
  },
  {
   "cell_type": "code",
   "execution_count": 23,
   "metadata": {
    "collapsed": false
   },
   "outputs": [
    {
     "data": {
      "text/plain": [
       "array([ 0.,  0.,  0.,  0.,  0.])"
      ]
     },
     "execution_count": 23,
     "metadata": {},
     "output_type": "execute_result"
    }
   ],
   "source": [
    "import numpy as np\n",
    "from scipy import stats\n",
    "np.zeros(5)"
   ]
  },
  {
   "cell_type": "code",
   "execution_count": 24,
   "metadata": {
    "collapsed": false
   },
   "outputs": [
    {
     "data": {
      "text/plain": [
       "array([ 0.5,  0.5,  0.5,  0.5,  0.5])"
      ]
     },
     "execution_count": 24,
     "metadata": {},
     "output_type": "execute_result"
    }
   ],
   "source": [
    "1 - stats.t.cdf(np.zeros(5),2)"
   ]
  },
  {
   "cell_type": "code",
   "execution_count": 33,
   "metadata": {
    "collapsed": false
   },
   "outputs": [],
   "source": [
    "mystr='-------------------- ----------------- ---------------- ------------ -------- --------------- --------------- ---------- --------- ----------- ------------------------------ --------------- --------------------------------------- ---------- --------------------------------------- --------------------------------------- --------------------------------------- --------------------------------------- --------------------------------------- --------------------------------------- --------------------------------------- --------------------------------------- ------------------ --------------- ------------------- ----------------- ------------ ------------------ -------- ------------------ ---------------- ---------------- ------------------- ---------------- ---------- ---------------- ----------- ------ --------------------------------------- ---------- --------------------- --------------- ------------ ---------- -------- --------- --------------------------------------- --------------------------------------- --------------------------------------- --------------------------------------- ---------------- -------------------------- --------------------- ------------------- --------- ---------- ----------------------- ------------------- --------------------------------------- --------- ------------------ -------------------- ------------------------------ ------------------------------ ----------------- ---------- ------------ -------------------- -------------------- ------------- ----------------- ----------------- ----------------- ----------- --------------- -------------- ---------- ------------ --------- ---- -------------------- --------------------------------------------------------------------------- --------------- ------------------------ --------------- -------------- ------------ --------------- ---------------- ------------------ ----------------- --------------------- ----------- -------------- --------------- ------------------------------ ----------------------- ------------------------------ ----------------- ------------- --------------------------------------- ----------- ----------------------- --------------------- --------------- ------------ --------------------------------------- --------------------------------------- ------------- --------------------------------------- ----------------- ------------ -------------------- --------------------------------------- ------------- -------------- ------------------- --------------- ------------------- -------------------- ----------------- ------------------ --------------------------------------- ---------- ------------------------ ------------- --------------------------------------- --------------------------------------- ----------------- ------------------ ----------------- ------- ------- -------- ------------------ ------------------ ----------------- --------------------------------------- -------- ------------------------ ------------------ ---------------------- ----------------- ------------------- --------------------------------------- ---------------- -------------- ------------ --------------------------------------- --------------------------------------- --------------------- --------------------------------------- --------------------------------------- --------------------------------------- --------------------------------------- ----------------- ---------------- --------------------------------------- ----------------- ---------------------- ----------------------- --------------------------------------- ----------------------- --------------------------------------- --------------------------------------- ------------------------------- -------------------------- --------------------------------------- ------------- ---------- ----------------- ---------------- --------------------------------------- ------------------ --------------------------------------- --------------------------------------- --------------------------------------- --------------------------------------- --------------------------------------- --------------------------------------- --------------------------------------- ------------------ ------------------ ------------------ ------------------- -------------------- -------------- ------------------- ----------------------- ---------- ----------- ------------------ ---------------- --------------- ----------- ----------'\n",
    "for each in mystr.split():\n",
    "    print len(each)"
   ]
  },
  {
   "cell_type": "code",
   "execution_count": 2,
   "metadata": {
    "collapsed": false
   },
   "outputs": [],
   "source": [
    "#API\n",
    "import requests\n",
    "response=requests.get(\"http://api.open-notify.org/iss-now.json\")"
   ]
  },
  {
   "cell_type": "code",
   "execution_count": 3,
   "metadata": {
    "collapsed": false
   },
   "outputs": [
    {
     "data": {
      "text/plain": [
       "200"
      ]
     },
     "execution_count": 3,
     "metadata": {},
     "output_type": "execute_result"
    }
   ],
   "source": [
    "response.status_code"
   ]
  },
  {
   "cell_type": "code",
   "execution_count": 4,
   "metadata": {
    "collapsed": false
   },
   "outputs": [
    {
     "data": {
      "text/plain": [
       "'{\"message\": \"success\", \"timestamp\": 1493235399, \"iss_position\": {\"latitude\": \"-13.9620\", \"longitude\": \"-23.4479\"}}'"
      ]
     },
     "execution_count": 4,
     "metadata": {},
     "output_type": "execute_result"
    }
   ],
   "source": [
    "response.content"
   ]
  },
  {
   "cell_type": "code",
   "execution_count": 10,
   "metadata": {
    "collapsed": true
   },
   "outputs": [],
   "source": [
    "response=requests.get(\"http://api.quora.com/api\")"
   ]
  },
  {
   "cell_type": "code",
   "execution_count": 11,
   "metadata": {
    "collapsed": false
   },
   "outputs": [
    {
     "data": {
      "text/plain": [
       "404"
      ]
     },
     "execution_count": 11,
     "metadata": {},
     "output_type": "execute_result"
    }
   ],
   "source": [
    "response.status_code"
   ]
  },
  {
   "cell_type": "code",
   "execution_count": 9,
   "metadata": {
    "collapsed": false
   },
   "outputs": [
    {
     "data": {
      "text/plain": [
       "'{}'"
      ]
     },
     "execution_count": 9,
     "metadata": {},
     "output_type": "execute_result"
    }
   ],
   "source": [
    "response.content"
   ]
  },
  {
   "cell_type": "code",
   "execution_count": 14,
   "metadata": {
    "collapsed": false
   },
   "outputs": [],
   "source": [
    "from bs4 import BeautifulSoup as bs4"
   ]
  },
  {
   "cell_type": "code",
   "execution_count": 15,
   "metadata": {
    "collapsed": true
   },
   "outputs": [],
   "source": [
    "url='https://www.google.com/search?q=samsung+galaxy+s4+issues&oq=samsung+galaxy+s4+issues&aqs=chrome.0.0l6.9158j0j8&sourceid=chrome&ie=UTF-8'\n",
    "response=requests.get(url)\n",
    "soup=bs4(response.text,'lxml')"
   ]
  },
  {
   "cell_type": "code",
   "execution_count": 18,
   "metadata": {
    "collapsed": false
   },
   "outputs": [],
   "source": [
    "alldivswlinks=soup.find_all('div',attrs={'class':'g'})"
   ]
  },
  {
   "cell_type": "code",
   "execution_count": 26,
   "metadata": {
    "collapsed": true
   },
   "outputs": [],
   "source": [
    "alllinks=[]\n",
    "for div in alldivswlinks:\n",
    "    for each in div.find_all('a'):\n",
    "        #Also remove the /url?q in the beginning\n",
    "        alllinks.append(each.get('href')[7:])"
   ]
  },
  {
   "cell_type": "code",
   "execution_count": 27,
   "metadata": {
    "collapsed": true
   },
   "outputs": [
    {
     "data": {
      "text/plain": [
       "['http://thedroidguy.com/samsung-galaxy-s4-troubleshooting&sa=U&ved=0ahUKEwjcnvfj88LTAhXDOSYKHVHYB_0QqoUBCBkwAA&usg=AFQjCNEc7BYl1AKdsFUxY4kahVzXw484Jg',\n",
       " 'http://thedroidguy.com/samsung-galaxy-s4-troubleshooting&sa=U&ved=0ahUKEwjcnvfj88LTAhXDOSYKHVHYB_0QMAgbMAE&usg=AFQjCNEc7BYl1AKdsFUxY4kahVzXw484Jg',\n",
       " 'http://thedroidguy.com/samsung-galaxy-s4-troubleshooting&sa=U&ved=0ahUKEwjcnvfj88LTAhXDOSYKHVHYB_0QFggdMAI&usg=AFQjCNEc7BYl1AKdsFUxY4kahVzXw484Jg',\n",
       " 'http://thedroidguy.com/samsung-galaxy-s4-troubleshooting&sa=U&ved=0ahUKEwjcnvfj88LTAhXDOSYKHVHYB_0QFgghMAM&usg=AFQjCNEc7BYl1AKdsFUxY4kahVzXw484Jg',\n",
       " 'http://webcache.googleusercontent.com/search%3Fq%3Dcache:VxnrT9IqeSYJ:http://thedroidguy.com/samsung-galaxy-s4-troubleshooting%252Bsamsung%2Bgalaxy%2Bs4%2Bissues%26hl%3Den%26ct%3Dclnk&sa=U&ved=0ahUKEwjcnvfj88LTAhXDOSYKHVHYB_0QIAgkMAM&usg=AFQjCNGX_UhjTiu6U-mXgzrkAnb0WUcANg',\n",
       " '?ie=UTF-8&q=related:thedroidguy.com/samsung-galaxy-s4-troubleshooting+samsung+galaxy+s4+issues&tbo=1&sa=X&ved=0ahUKEwjcnvfj88LTAhXDOSYKHVHYB_0QHwglMAM',\n",
       " 'http://www.gottabemobile.com/galaxy-s4-problems-fixes/&sa=U&ved=0ahUKEwjcnvfj88LTAhXDOSYKHVHYB_0QFggnMAQ&usg=AFQjCNFSPEC1eqmWdgMYv8qnibok_llK4Q',\n",
       " 'http://webcache.googleusercontent.com/search%3Fq%3Dcache:pHsGxOYb8LoJ:http://www.gottabemobile.com/galaxy-s4-problems-fixes/%252Bsamsung%2Bgalaxy%2Bs4%2Bissues%26hl%3Den%26ct%3Dclnk&sa=U&ved=0ahUKEwjcnvfj88LTAhXDOSYKHVHYB_0QIAgqMAQ&usg=AFQjCNFHOsUy-oh2MI_fRjkqGDDI40RfHA',\n",
       " 'http://www.digitaltrends.com/mobile/samsung-galaxy-s4-problems/&sa=U&ved=0ahUKEwjcnvfj88LTAhXDOSYKHVHYB_0QFggtMAU&usg=AFQjCNG6CwhlENoTzqxzOHYtVXO1-ylWcQ',\n",
       " 'http://webcache.googleusercontent.com/search%3Fq%3Dcache:gVkLpgs1X-sJ:http://www.digitaltrends.com/mobile/samsung-galaxy-s4-problems/%252Bsamsung%2Bgalaxy%2Bs4%2Bissues%26hl%3Den%26ct%3Dclnk&sa=U&ved=0ahUKEwjcnvfj88LTAhXDOSYKHVHYB_0QIAgwMAU&usg=AFQjCNEzMmW-FSFwe11fwcjHe5OA9LxZuw',\n",
       " '?ie=UTF-8&q=related:www.digitaltrends.com/mobile/samsung-galaxy-s4-problems/+samsung+galaxy+s4+issues&tbo=1&sa=X&ved=0ahUKEwjcnvfj88LTAhXDOSYKHVHYB_0QHwgxMAU',\n",
       " 'https://www.androidpit.com/how-to-fix-galaxy-s4-problems&sa=U&ved=0ahUKEwjcnvfj88LTAhXDOSYKHVHYB_0QFgg0MAY&usg=AFQjCNEiTiy8PLQCyKZ4GFcbYwNAHRDI6g',\n",
       " 'http://webcache.googleusercontent.com/search%3Fq%3Dcache:6MBBHSZPposJ:https://www.androidpit.com/how-to-fix-galaxy-s4-problems%252Bsamsung%2Bgalaxy%2Bs4%2Bissues%26hl%3Den%26ct%3Dclnk&sa=U&ved=0ahUKEwjcnvfj88LTAhXDOSYKHVHYB_0QIAg3MAY&usg=AFQjCNGaeP-oIauKWYEpRYQkbfnZsxiWIg',\n",
       " '?ie=UTF-8&q=related:https://www.androidpit.com/how-to-fix-galaxy-s4-problems+samsung+galaxy+s4+issues&tbo=1&sa=X&ved=0ahUKEwjcnvfj88LTAhXDOSYKHVHYB_0QHwg4MAY',\n",
       " 'https://www.ifixit.com/Wiki/Samsung_Galaxy_S4&sa=U&ved=0ahUKEwjcnvfj88LTAhXDOSYKHVHYB_0QFgg7MAc&usg=AFQjCNH_M--HpJyJ2xgaVwVfmngTG-MQXQ',\n",
       " 'http://webcache.googleusercontent.com/search%3Fq%3Dcache:L51NxsN2fYQJ:https://www.ifixit.com/Wiki/Samsung_Galaxy_S4%252Bsamsung%2Bgalaxy%2Bs4%2Bissues%26hl%3Den%26ct%3Dclnk&sa=U&ved=0ahUKEwjcnvfj88LTAhXDOSYKHVHYB_0QIAg-MAc&usg=AFQjCNGV2BmtdafyY9CGpsXz2VsOCaN0Eg',\n",
       " '?ie=UTF-8&q=related:https://www.ifixit.com/Wiki/Samsung_Galaxy_S4+samsung+galaxy+s4+issues&tbo=1&sa=X&ved=0ahUKEwjcnvfj88LTAhXDOSYKHVHYB_0QHwg_MAc',\n",
       " 'https://www.verizonwireless.com/support/galaxy-s-4-troubleshooting/&sa=U&ved=0ahUKEwjcnvfj88LTAhXDOSYKHVHYB_0QFghBMAg&usg=AFQjCNFOydHdHG0eUPmTMFiHC6TdOMJNow',\n",
       " 'http://webcache.googleusercontent.com/search%3Fq%3Dcache:bEz60LIsfHwJ:https://www.verizonwireless.com/support/galaxy-s-4-troubleshooting/%252Bsamsung%2Bgalaxy%2Bs4%2Bissues%26hl%3Den%26ct%3Dclnk&sa=U&ved=0ahUKEwjcnvfj88LTAhXDOSYKHVHYB_0QIAhEMAg&usg=AFQjCNE8IR32dPt_3DJJhhB8HPBIvPzSEw',\n",
       " 'https://www.technobezz.com/topics/threads/samsung-galaxy-s4-common-issues.1658/&sa=U&ved=0ahUKEwjcnvfj88LTAhXDOSYKHVHYB_0QFghGMAk&usg=AFQjCNEyHI-O5kwEq3x-0L8otZWqaKwJ8A',\n",
       " 'http://webcache.googleusercontent.com/search%3Fq%3Dcache:8SfjIESAGhQJ:https://www.technobezz.com/topics/threads/samsung-galaxy-s4-common-issues.1658/%252Bsamsung%2Bgalaxy%2Bs4%2Bissues%26hl%3Den%26ct%3Dclnk&sa=U&ved=0ahUKEwjcnvfj88LTAhXDOSYKHVHYB_0QIAhJMAk&usg=AFQjCNGTKmT_xfr-VjWndrs1D7che9ygaA',\n",
       " 'https://www.technobezz.com/topics/threads/wifi-not-connecting-problem-samsung-galaxy-s4-active.1646/&sa=U&ved=0ahUKEwjcnvfj88LTAhXDOSYKHVHYB_0QrAIITCgAMAk&usg=AFQjCNHlGa1qp5Vb0hAK0Jxj8G4vocKJnw',\n",
       " 'https://www.technobezz.com/topics/threads/syncing-problem-on-samsung-galaxy-s4-active.1647/&sa=U&ved=0ahUKEwjcnvfj88LTAhXDOSYKHVHYB_0QrAIITSgBMAk&usg=AFQjCNFxQej4ss2ml7osJZUQEGFiG3jGbw',\n",
       " '?q=samsung+galaxy+s4+issues+site:www.technobezz.com&hl=en&sa=X&ved=0ahUKEwjcnvfj88LTAhXDOSYKHVHYB_0QrQIITjAJ',\n",
       " 'https://support.sprint.com/support/article/Troubleshoot-when-your-Samsung-Galaxy-S-4-slows-freezes-or-turns-off-unexpectedly/WTroubleshootingGuide_542_GKB51912-dvc7300002prd&sa=U&ved=0ahUKEwjcnvfj88LTAhXDOSYKHVHYB_0QFghQMAo&usg=AFQjCNGIpCak_BXxaTltLGVVyeow9vTfzw',\n",
       " 'http://webcache.googleusercontent.com/search%3Fq%3Dcache:R1FytH6ruq0J:https://support.sprint.com/support/article/Troubleshoot-when-your-Samsung-Galaxy-S-4-slows-freezes-or-turns-off-unexpectedly/WTroubleshootingGuide_542_GKB51912-dvc7300002prd%252Bsamsung%2Bgalaxy%2Bs4%2Bissues%26hl%3Den%26ct%3Dclnk&sa=U&ved=0ahUKEwjcnvfj88LTAhXDOSYKHVHYB_0QIAhTMAo&usg=AFQjCNFULhO4MMO7S2CdKZLGUlohEhP6YA',\n",
       " 'http://joyofandroid.com/samsung-galaxy-s4-problems-and-troubleshooting/&sa=U&ved=0ahUKEwjcnvfj88LTAhXDOSYKHVHYB_0QFghWMAs&usg=AFQjCNENKa6uSsx96Fx13Y92wFFzQgbRXA',\n",
       " 'http://webcache.googleusercontent.com/search%3Fq%3Dcache:HYlmUL4HlrsJ:http://joyofandroid.com/samsung-galaxy-s4-problems-and-troubleshooting/%252Bsamsung%2Bgalaxy%2Bs4%2Bissues%26hl%3Den%26ct%3Dclnk&sa=U&ved=0ahUKEwjcnvfj88LTAhXDOSYKHVHYB_0QIAhZMAs&usg=AFQjCNGALY4AJig6sEDuISP7qOe1MUPZrw',\n",
       " '?ie=UTF-8&q=related:joyofandroid.com/samsung-galaxy-s4-problems-and-troubleshooting/+samsung+galaxy+s4+issues&tbo=1&sa=X&ved=0ahUKEwjcnvfj88LTAhXDOSYKHVHYB_0QHwhaMAs',\n",
       " 'http://www.ibtimes.co.uk/how-fix-common-bugs-problems-galaxy-s4-1485829&sa=U&ved=0ahUKEwjcnvfj88LTAhXDOSYKHVHYB_0QFghdMAw&usg=AFQjCNGrKYbVtAqGyoad74nNwFEj6WjUHA',\n",
       " 'http://webcache.googleusercontent.com/search%3Fq%3Dcache:vDzNRk9eOzcJ:http://www.ibtimes.co.uk/how-fix-common-bugs-problems-galaxy-s4-1485829%252Bsamsung%2Bgalaxy%2Bs4%2Bissues%26hl%3Den%26ct%3Dclnk&sa=U&ved=0ahUKEwjcnvfj88LTAhXDOSYKHVHYB_0QIAhgMAw&usg=AFQjCNHBkkdq3CBfW4q-BaSvXQYF1TTloA',\n",
       " '?ie=UTF-8&q=related:www.ibtimes.co.uk/how-fix-common-bugs-problems-galaxy-s4-1485829+samsung+galaxy+s4+issues&tbo=1&sa=X&ved=0ahUKEwjcnvfj88LTAhXDOSYKHVHYB_0QHwhhMAw']"
      ]
     },
     "execution_count": 27,
     "metadata": {},
     "output_type": "execute_result"
    }
   ],
   "source": [
    "alllinks"
   ]
  },
  {
   "cell_type": "code",
   "execution_count": 28,
   "metadata": {
    "collapsed": false
   },
   "outputs": [
    {
     "data": {
      "text/plain": [
       "{'?ie=UTF-8&q=related:https://www.androidpit.com/how-to-fix-galaxy-s4-problems+samsung+galaxy+s4+issues&tbo=1&sa=X&ved=0ahUKEwjcnvfj88LTAhXDOSYKHVHYB_0QHwg4MAY',\n",
       " '?ie=UTF-8&q=related:https://www.ifixit.com/Wiki/Samsung_Galaxy_S4+samsung+galaxy+s4+issues&tbo=1&sa=X&ved=0ahUKEwjcnvfj88LTAhXDOSYKHVHYB_0QHwg_MAc',\n",
       " '?ie=UTF-8&q=related:joyofandroid.com/samsung-galaxy-s4-problems-and-troubleshooting/+samsung+galaxy+s4+issues&tbo=1&sa=X&ved=0ahUKEwjcnvfj88LTAhXDOSYKHVHYB_0QHwhaMAs',\n",
       " '?ie=UTF-8&q=related:thedroidguy.com/samsung-galaxy-s4-troubleshooting+samsung+galaxy+s4+issues&tbo=1&sa=X&ved=0ahUKEwjcnvfj88LTAhXDOSYKHVHYB_0QHwglMAM',\n",
       " '?ie=UTF-8&q=related:www.digitaltrends.com/mobile/samsung-galaxy-s4-problems/+samsung+galaxy+s4+issues&tbo=1&sa=X&ved=0ahUKEwjcnvfj88LTAhXDOSYKHVHYB_0QHwgxMAU',\n",
       " '?ie=UTF-8&q=related:www.ibtimes.co.uk/how-fix-common-bugs-problems-galaxy-s4-1485829+samsung+galaxy+s4+issues&tbo=1&sa=X&ved=0ahUKEwjcnvfj88LTAhXDOSYKHVHYB_0QHwhhMAw',\n",
       " '?q=samsung+galaxy+s4+issues+site:www.technobezz.com&hl=en&sa=X&ved=0ahUKEwjcnvfj88LTAhXDOSYKHVHYB_0QrQIITjAJ',\n",
       " 'http://joyofandroid.com/samsung-galaxy-s4-problems-and-troubleshooting/&sa=U&ved=0ahUKEwjcnvfj88LTAhXDOSYKHVHYB_0QFghWMAs&usg=AFQjCNENKa6uSsx96Fx13Y92wFFzQgbRXA',\n",
       " 'http://thedroidguy.com/samsung-galaxy-s4-troubleshooting&sa=U&ved=0ahUKEwjcnvfj88LTAhXDOSYKHVHYB_0QFggdMAI&usg=AFQjCNEc7BYl1AKdsFUxY4kahVzXw484Jg',\n",
       " 'http://thedroidguy.com/samsung-galaxy-s4-troubleshooting&sa=U&ved=0ahUKEwjcnvfj88LTAhXDOSYKHVHYB_0QFgghMAM&usg=AFQjCNEc7BYl1AKdsFUxY4kahVzXw484Jg',\n",
       " 'http://thedroidguy.com/samsung-galaxy-s4-troubleshooting&sa=U&ved=0ahUKEwjcnvfj88LTAhXDOSYKHVHYB_0QMAgbMAE&usg=AFQjCNEc7BYl1AKdsFUxY4kahVzXw484Jg',\n",
       " 'http://thedroidguy.com/samsung-galaxy-s4-troubleshooting&sa=U&ved=0ahUKEwjcnvfj88LTAhXDOSYKHVHYB_0QqoUBCBkwAA&usg=AFQjCNEc7BYl1AKdsFUxY4kahVzXw484Jg',\n",
       " 'http://webcache.googleusercontent.com/search%3Fq%3Dcache:6MBBHSZPposJ:https://www.androidpit.com/how-to-fix-galaxy-s4-problems%252Bsamsung%2Bgalaxy%2Bs4%2Bissues%26hl%3Den%26ct%3Dclnk&sa=U&ved=0ahUKEwjcnvfj88LTAhXDOSYKHVHYB_0QIAg3MAY&usg=AFQjCNGaeP-oIauKWYEpRYQkbfnZsxiWIg',\n",
       " 'http://webcache.googleusercontent.com/search%3Fq%3Dcache:8SfjIESAGhQJ:https://www.technobezz.com/topics/threads/samsung-galaxy-s4-common-issues.1658/%252Bsamsung%2Bgalaxy%2Bs4%2Bissues%26hl%3Den%26ct%3Dclnk&sa=U&ved=0ahUKEwjcnvfj88LTAhXDOSYKHVHYB_0QIAhJMAk&usg=AFQjCNGTKmT_xfr-VjWndrs1D7che9ygaA',\n",
       " 'http://webcache.googleusercontent.com/search%3Fq%3Dcache:HYlmUL4HlrsJ:http://joyofandroid.com/samsung-galaxy-s4-problems-and-troubleshooting/%252Bsamsung%2Bgalaxy%2Bs4%2Bissues%26hl%3Den%26ct%3Dclnk&sa=U&ved=0ahUKEwjcnvfj88LTAhXDOSYKHVHYB_0QIAhZMAs&usg=AFQjCNGALY4AJig6sEDuISP7qOe1MUPZrw',\n",
       " 'http://webcache.googleusercontent.com/search%3Fq%3Dcache:L51NxsN2fYQJ:https://www.ifixit.com/Wiki/Samsung_Galaxy_S4%252Bsamsung%2Bgalaxy%2Bs4%2Bissues%26hl%3Den%26ct%3Dclnk&sa=U&ved=0ahUKEwjcnvfj88LTAhXDOSYKHVHYB_0QIAg-MAc&usg=AFQjCNGV2BmtdafyY9CGpsXz2VsOCaN0Eg',\n",
       " 'http://webcache.googleusercontent.com/search%3Fq%3Dcache:R1FytH6ruq0J:https://support.sprint.com/support/article/Troubleshoot-when-your-Samsung-Galaxy-S-4-slows-freezes-or-turns-off-unexpectedly/WTroubleshootingGuide_542_GKB51912-dvc7300002prd%252Bsamsung%2Bgalaxy%2Bs4%2Bissues%26hl%3Den%26ct%3Dclnk&sa=U&ved=0ahUKEwjcnvfj88LTAhXDOSYKHVHYB_0QIAhTMAo&usg=AFQjCNFULhO4MMO7S2CdKZLGUlohEhP6YA',\n",
       " 'http://webcache.googleusercontent.com/search%3Fq%3Dcache:VxnrT9IqeSYJ:http://thedroidguy.com/samsung-galaxy-s4-troubleshooting%252Bsamsung%2Bgalaxy%2Bs4%2Bissues%26hl%3Den%26ct%3Dclnk&sa=U&ved=0ahUKEwjcnvfj88LTAhXDOSYKHVHYB_0QIAgkMAM&usg=AFQjCNGX_UhjTiu6U-mXgzrkAnb0WUcANg',\n",
       " 'http://webcache.googleusercontent.com/search%3Fq%3Dcache:bEz60LIsfHwJ:https://www.verizonwireless.com/support/galaxy-s-4-troubleshooting/%252Bsamsung%2Bgalaxy%2Bs4%2Bissues%26hl%3Den%26ct%3Dclnk&sa=U&ved=0ahUKEwjcnvfj88LTAhXDOSYKHVHYB_0QIAhEMAg&usg=AFQjCNE8IR32dPt_3DJJhhB8HPBIvPzSEw',\n",
       " 'http://webcache.googleusercontent.com/search%3Fq%3Dcache:gVkLpgs1X-sJ:http://www.digitaltrends.com/mobile/samsung-galaxy-s4-problems/%252Bsamsung%2Bgalaxy%2Bs4%2Bissues%26hl%3Den%26ct%3Dclnk&sa=U&ved=0ahUKEwjcnvfj88LTAhXDOSYKHVHYB_0QIAgwMAU&usg=AFQjCNEzMmW-FSFwe11fwcjHe5OA9LxZuw',\n",
       " 'http://webcache.googleusercontent.com/search%3Fq%3Dcache:pHsGxOYb8LoJ:http://www.gottabemobile.com/galaxy-s4-problems-fixes/%252Bsamsung%2Bgalaxy%2Bs4%2Bissues%26hl%3Den%26ct%3Dclnk&sa=U&ved=0ahUKEwjcnvfj88LTAhXDOSYKHVHYB_0QIAgqMAQ&usg=AFQjCNFHOsUy-oh2MI_fRjkqGDDI40RfHA',\n",
       " 'http://webcache.googleusercontent.com/search%3Fq%3Dcache:vDzNRk9eOzcJ:http://www.ibtimes.co.uk/how-fix-common-bugs-problems-galaxy-s4-1485829%252Bsamsung%2Bgalaxy%2Bs4%2Bissues%26hl%3Den%26ct%3Dclnk&sa=U&ved=0ahUKEwjcnvfj88LTAhXDOSYKHVHYB_0QIAhgMAw&usg=AFQjCNHBkkdq3CBfW4q-BaSvXQYF1TTloA',\n",
       " 'http://www.digitaltrends.com/mobile/samsung-galaxy-s4-problems/&sa=U&ved=0ahUKEwjcnvfj88LTAhXDOSYKHVHYB_0QFggtMAU&usg=AFQjCNG6CwhlENoTzqxzOHYtVXO1-ylWcQ',\n",
       " 'http://www.gottabemobile.com/galaxy-s4-problems-fixes/&sa=U&ved=0ahUKEwjcnvfj88LTAhXDOSYKHVHYB_0QFggnMAQ&usg=AFQjCNFSPEC1eqmWdgMYv8qnibok_llK4Q',\n",
       " 'http://www.ibtimes.co.uk/how-fix-common-bugs-problems-galaxy-s4-1485829&sa=U&ved=0ahUKEwjcnvfj88LTAhXDOSYKHVHYB_0QFghdMAw&usg=AFQjCNGrKYbVtAqGyoad74nNwFEj6WjUHA',\n",
       " 'https://support.sprint.com/support/article/Troubleshoot-when-your-Samsung-Galaxy-S-4-slows-freezes-or-turns-off-unexpectedly/WTroubleshootingGuide_542_GKB51912-dvc7300002prd&sa=U&ved=0ahUKEwjcnvfj88LTAhXDOSYKHVHYB_0QFghQMAo&usg=AFQjCNGIpCak_BXxaTltLGVVyeow9vTfzw',\n",
       " 'https://www.androidpit.com/how-to-fix-galaxy-s4-problems&sa=U&ved=0ahUKEwjcnvfj88LTAhXDOSYKHVHYB_0QFgg0MAY&usg=AFQjCNEiTiy8PLQCyKZ4GFcbYwNAHRDI6g',\n",
       " 'https://www.ifixit.com/Wiki/Samsung_Galaxy_S4&sa=U&ved=0ahUKEwjcnvfj88LTAhXDOSYKHVHYB_0QFgg7MAc&usg=AFQjCNH_M--HpJyJ2xgaVwVfmngTG-MQXQ',\n",
       " 'https://www.technobezz.com/topics/threads/samsung-galaxy-s4-common-issues.1658/&sa=U&ved=0ahUKEwjcnvfj88LTAhXDOSYKHVHYB_0QFghGMAk&usg=AFQjCNEyHI-O5kwEq3x-0L8otZWqaKwJ8A',\n",
       " 'https://www.technobezz.com/topics/threads/syncing-problem-on-samsung-galaxy-s4-active.1647/&sa=U&ved=0ahUKEwjcnvfj88LTAhXDOSYKHVHYB_0QrAIITSgBMAk&usg=AFQjCNFxQej4ss2ml7osJZUQEGFiG3jGbw',\n",
       " 'https://www.technobezz.com/topics/threads/wifi-not-connecting-problem-samsung-galaxy-s4-active.1646/&sa=U&ved=0ahUKEwjcnvfj88LTAhXDOSYKHVHYB_0QrAIITCgAMAk&usg=AFQjCNHlGa1qp5Vb0hAK0Jxj8G4vocKJnw',\n",
       " 'https://www.verizonwireless.com/support/galaxy-s-4-troubleshooting/&sa=U&ved=0ahUKEwjcnvfj88LTAhXDOSYKHVHYB_0QFghBMAg&usg=AFQjCNFOydHdHG0eUPmTMFiHC6TdOMJNow'}"
      ]
     },
     "execution_count": 28,
     "metadata": {},
     "output_type": "execute_result"
    }
   ],
   "source": [
    "set(alllinks)"
   ]
  },
  {
   "cell_type": "code",
   "execution_count": null,
   "metadata": {
    "collapsed": true
   },
   "outputs": [],
   "source": []
  }
 ],
 "metadata": {
  "kernelspec": {
   "display_name": "Python 2.7",
   "language": "python",
   "name": "python2.7"
  },
  "language_info": {
   "codemirror_mode": {
    "name": "ipython",
    "version": 2
   },
   "file_extension": ".py",
   "mimetype": "text/x-python",
   "name": "python",
   "nbconvert_exporter": "python",
   "pygments_lexer": "ipython2",
   "version": "2.7.6"
  }
 },
 "nbformat": 4,
 "nbformat_minor": 0
}
