{
 "cells": [
  {
   "cell_type": "code",
   "execution_count": 91,
   "metadata": {
    "collapsed": false
   },
   "outputs": [
    {
     "name": "stdout",
     "output_type": "stream",
     "text": [
      "\n"
     ]
    }
   ],
   "source": [
    "import matplotlib.pyplot as plt\n",
    "import pandas as pd\n",
    "import numpy as np\n",
    "import seaborn as sns\n",
    "from scipy import stats\n",
    "%matplotlib inline"
   ]
  },
  {
   "cell_type": "code",
   "execution_count": 84,
   "metadata": {
    "collapsed": true
   },
   "outputs": [
    {
     "name": "stdout",
     "output_type": "stream",
     "text": [
      "Help on function distplot in module seaborn.distributions:\n",
      "\n",
      "distplot(a, bins=None, hist=True, kde=True, rug=False, fit=None, hist_kws=None, kde_kws=None, rug_kws=None, fit_kws=None, color=None, vertical=False, norm_hist=False, axlabel=None, label=None, ax=None)\n",
      "    Flexibly plot a univariate distribution of observations.\n",
      "    \n",
      "    This function combines the matplotlib ``hist`` function (with automatic\n",
      "    calculation of a good default bin size) with the seaborn :func:`kdeplot`\n",
      "    and :func:`rugplot` functions. It can also fit ``scipy.stats``\n",
      "    distributions and plot the estimated PDF over the data.\n",
      "    \n",
      "    Parameters\n",
      "    ----------\n",
      "    \n",
      "    a : Series, 1d-array, or list.\n",
      "        Observed data. If this is a Series object with a ``name`` attribute,\n",
      "        the name will be used to label the data axis.\n",
      "    bins : argument for matplotlib hist(), or None, optional\n",
      "        Specification of hist bins, or None to use Freedman-Diaconis rule.\n",
      "    hist : bool, optional\n",
      "        Whether to plot a (normed) histogram.\n",
      "    kde : bool, optional\n",
      "        Whether to plot a gaussian kernel density estimate.\n",
      "    rug : bool, optional\n",
      "        Whether to draw a rugplot on the support axis.\n",
      "    fit : random variable object, optional\n",
      "        An object with `fit` method, returning a tuple that can be passed to a\n",
      "        `pdf` method a positional arguments following an grid of values to\n",
      "        evaluate the pdf on.\n",
      "    {hist, kde, rug, fit}_kws : dictionaries, optional\n",
      "        Keyword arguments for underlying plotting functions.\n",
      "    color : matplotlib color, optional\n",
      "        Color to plot everything but the fitted curve in.\n",
      "    vertical : bool, optional\n",
      "        If True, oberved values are on y-axis.\n",
      "    norm_hist : bool, optional\n",
      "        If True, the histogram height shows a density rather than a count.\n",
      "        This is implied if a KDE or fitted density is plotted.\n",
      "    axlabel : string, False, or None, optional\n",
      "        Name for the support axis label. If None, will try to get it\n",
      "        from a.namel if False, do not set a label.\n",
      "    label : string, optional\n",
      "        Legend label for the relevent component of the plot\n",
      "    ax : matplotlib axis, optional\n",
      "        if provided, plot on this axis\n",
      "    \n",
      "    Returns\n",
      "    -------\n",
      "    ax : matplotlib Axes\n",
      "        Returns the Axes object with the plot for further tweaking.\n",
      "    \n",
      "    See Also\n",
      "    --------\n",
      "    kdeplot : Show a univariate or bivariate distribution with a kernel\n",
      "              density estimate.\n",
      "    rugplot : Draw small vertical lines to show each observation in a\n",
      "              distribution.\n",
      "    \n",
      "    Examples\n",
      "    --------\n",
      "    \n",
      "    Show a default plot with a kernel density estimate and histogram with bin\n",
      "    size determined automatically with a reference rule:\n",
      "    \n",
      "    .. plot::\n",
      "        :context: close-figs\n",
      "    \n",
      "        >>> import seaborn as sns, numpy as np\n",
      "        >>> sns.set(rc={\"figure.figsize\": (8, 4)}); np.random.seed(0)\n",
      "        >>> x = np.random.randn(100)\n",
      "        >>> ax = sns.distplot(x)\n",
      "    \n",
      "    Use Pandas objects to get an informative axis label:\n",
      "    \n",
      "    .. plot::\n",
      "        :context: close-figs\n",
      "    \n",
      "        >>> import pandas as pd\n",
      "        >>> x = pd.Series(x, name=\"x variable\")\n",
      "        >>> ax = sns.distplot(x)\n",
      "    \n",
      "    Plot the distribution with a kenel density estimate and rug plot:\n",
      "    \n",
      "    .. plot::\n",
      "        :context: close-figs\n",
      "    \n",
      "        >>> ax = sns.distplot(x, rug=True, hist=False)\n",
      "    \n",
      "    Plot the distribution with a histogram and maximum likelihood gaussian\n",
      "    distribution fit:\n",
      "    \n",
      "    .. plot::\n",
      "        :context: close-figs\n",
      "    \n",
      "        >>> from scipy.stats import norm\n",
      "        >>> ax = sns.distplot(x, fit=norm, kde=False)\n",
      "    \n",
      "    Plot the distribution on the vertical axis:\n",
      "    \n",
      "    .. plot::\n",
      "        :context: close-figs\n",
      "    \n",
      "        >>> ax = sns.distplot(x, vertical=True)\n",
      "    \n",
      "    Change the color of all the plot elements:\n",
      "    \n",
      "    .. plot::\n",
      "        :context: close-figs\n",
      "    \n",
      "        >>> sns.set_color_codes()\n",
      "        >>> ax = sns.distplot(x, color=\"y\")\n",
      "    \n",
      "    Pass specific parameters to the underlying plot functions:\n",
      "    \n",
      "    .. plot::\n",
      "        :context: close-figs\n",
      "    \n",
      "        >>> ax = sns.distplot(x, rug=True, rug_kws={\"color\": \"g\"},\n",
      "        ...                   kde_kws={\"color\": \"k\", \"lw\": 3, \"label\": \"KDE\"},\n",
      "        ...                   hist_kws={\"histtype\": \"step\", \"linewidth\": 3,\n",
      "        ...                             \"alpha\": 1, \"color\": \"g\"})\n",
      "\n"
     ]
    }
   ],
   "source": [
    "help(sns.distplot)"
   ]
  },
  {
   "cell_type": "code",
   "execution_count": 85,
   "metadata": {
    "collapsed": false
   },
   "outputs": [],
   "source": [
    "d=np.random.randn(1000).tolist()"
   ]
  },
  {
   "cell_type": "code",
   "execution_count": 86,
   "metadata": {
    "collapsed": false
   },
   "outputs": [
    {
     "data": {
      "image/png": "[encoded data removed]",
      "text/plain": [
       "<matplotlib.figure.Figure at 0x7f1455ef61d0>"
      ]
     },
     "metadata": {},
     "output_type": "display_data"
    }
   ],
   "source": [
    "#Set background and color pallete\n",
    "sns.set(style='white',palette='muted',color_codes=True)\n",
    "\n",
    "#Set up the matplotlib figure\n",
    "f,axes=plt.subplots(2,2,figsize=(7,7),sharex=True)\n",
    "\n",
    "#plot a simple histogram with bin size determined automatically\n",
    "sns.distplot(d, kde=False, color='b', ax=axes[0,0])\n",
    "\n",
    "#plot a kernel density estimate and rug plot\n",
    "sns.distplot(d, hist=False, rug=True, color='r', ax=axes[0,1])\n",
    "\n",
    "#plot a filled kernel density estimate \n",
    "sns.distplot(d, hist=False, color='g', kde_kws={'shade': True},ax=axes[1,0])\n",
    "\n",
    "#plot a histogram and kernel density estimate\n",
    "sns.distplot(d, hist=True, kde=True, color='r',ax=axes[1,1])\n",
    "\n",
    "plt.setp(axes, yticks=[])\n",
    "plt.tight_layout()\n"
   ]
  },
  {
   "cell_type": "code",
   "execution_count": 87,
   "metadata": {
    "collapsed": false
   },
   "outputs": [],
   "source": [
    "rs=np.random.RandomState(10)\n",
    "\n",
    "pd.DataFrame(rs.normal(loc=10,scale=10,size=100)).to_csv('NormalRandom100.csv')\n",
    "pd.DataFrame(rs.normal(loc=10,scale=10,size=10000)).to_csv('NormalRandom10000.csv')\n",
    "\n",
    "pd.DataFrame(rs.uniform(low=-10, high=10, size=100)).to_csv('UniformRandom100.csv')\n",
    "pd.DataFrame(rs.uniform(low=-1, high=3, size=10000)).to_csv('UniformRandom10000.csv')\n",
    "\n",
    "pd.DataFrame(rs.beta(a=2, b=1, size=100)).to_csv('BetaRandom100.csv') # goes from least to the highest prbablity\n",
    "pd.DataFrame(rs.beta(a=2, b=1, size=10000)).to_csv('BetaRandom10000.csv')\n",
    "\n",
    "pd.DataFrame(rs.binomial(n=10, p=0.5, size=100)).to_csv('BinomialRandom100.csv')   # coin flips(probablity that sum of dice thrown is 5,6,)  or categorical distributions\n",
    "pd.DataFrame(rs.binomial(n=10, p=0.5, size=10000)).to_csv('BinomialRandom10000.csv')\n",
    "\n",
    "pd.DataFrame(rs.poisson(size=100)).to_csv('PoissonRandom100.csv')  # .ike normal but only available at integer values\n",
    "pd.DataFrame(rs.poisson(size=10000)).to_csv('PoissonRandom10000.csv')"
   ]
  },
  {
   "cell_type": "markdown",
   "metadata": {
    "collapsed": true
   },
   "source": [
    "# Elementary Data Analysis"
   ]
  },
  {
   "cell_type": "markdown",
   "metadata": {},
   "source": [
    "# Univariate Analysis"
   ]
  },
  {
   "cell_type": "code",
   "execution_count": 92,
   "metadata": {
    "collapsed": false
   },
   "outputs": [
    {
     "name": "stdout",
     "output_type": "stream",
     "text": [
      "mean: -0.295680213784 stddev: 1.28802142496\n",
      "skew: -0.0400081051017\n",
      "Kurtosis: -0.508818064289\n"
     ]
    }
   ],
   "source": [
    "#Simple - Mean and Standard Deviation\n",
    "myvalues=np.random.randn(10)\n",
    "mean=np.mean(myvalues)  # Average \n",
    "stddev=np.std(myvalues)  # what is the spread of the data? higher std dev means values can deviate a lot from mean\n",
    "print 'mean:',mean,'stddev:',stddev\n",
    "\n",
    "#Advanced - Skewness and Kurtosis\n",
    "# Skew tells us how uniformly would the distribution be. if skew is low, std dev would be uniform through out dta, \n",
    "#across left and right. If skew is 0 , one should expect a mirror image. -ve means left or + means right\n",
    "print 'skew:',stats.skew(myvalues)\n",
    "# Kurtosis goes beyond skew. large skew means data on left and right not equally distributed. kurtosis tells us within \n",
    "#one of the sides- left or right is data uniformly distributed.is it increasing smoothly or do we see jagged edges\n",
    "print 'Kurtosis:',stats.kurtosis(myvalues)\n"
   ]
  },
  {
   "cell_type": "markdown",
   "metadata": {},
   "source": [
    "# Sampling"
   ]
  },
  {
   "cell_type": "code",
   "execution_count": 117,
   "metadata": {
    "collapsed": true
   },
   "outputs": [],
   "source": [
    "#Random Sampling\n",
    "anyrandom1000=np.random.randn(1000)"
   ]
  },
  {
   "cell_type": "code",
   "execution_count": 143,
   "metadata": {
    "collapsed": false
   },
   "outputs": [
    {
     "data": {
      "text/plain": [
       "array([ 0.41917487, -0.90590721,  0.22334982, -0.88276307, -0.07580703,\n",
       "       -0.65725583,  0.59280823, -0.36051326,  0.58879244, -0.80861942])"
      ]
     },
     "execution_count": 143,
     "metadata": {},
     "output_type": "execute_result"
    }
   ],
   "source": [
    "rs=np.random.RandomState(10)   #seed value allows same numbers to be picked. random generator takes seed value, sys time and randomize,\n",
    "#next value is created based on previous value\n",
    "rs.choice(anyrandom1000,size=10)"
   ]
  },
  {
   "cell_type": "code",
   "execution_count": 142,
   "metadata": {
    "collapsed": false
   },
   "outputs": [
    {
     "name": "stdout",
     "output_type": "stream",
     "text": [
      "[-0.07061883  1.25354256 -0.73515195 -0.88178527  0.24397427 -0.15290346\n",
      " -0.52429799 -0.01107939 -0.76232858 -0.77608846]\n"
     ]
    },
    {
     "data": {
      "text/plain": [
       "-0.24167371088508616"
      ]
     },
     "execution_count": 142,
     "metadata": {},
     "output_type": "execute_result"
    }
   ],
   "source": [
    "# np.random.choice(anyrandom1000,size=10)\n",
    "sample1=rs.choice(anyrandom1000,size=10)\n",
    "print sample1\n",
    "np.mean(sample1)"
   ]
  },
  {
   "cell_type": "code",
   "execution_count": 137,
   "metadata": {
    "collapsed": false
   },
   "outputs": [
    {
     "data": {
      "text/plain": [
       "-0.14435458306354512"
      ]
     },
     "execution_count": 137,
     "metadata": {},
     "output_type": "execute_result"
    }
   ],
   "source": [
    "sample2=rs.choice(anyrandom1000,size=100)\n",
    "np.mean(sample2)"
   ]
  },
  {
   "cell_type": "code",
   "execution_count": 129,
   "metadata": {
    "collapsed": false
   },
   "outputs": [
    {
     "data": {
      "text/plain": [
       "-0.039877552241692094"
      ]
     },
     "execution_count": 129,
     "metadata": {},
     "output_type": "execute_result"
    }
   ],
   "source": [
    "np.mean(anyrandom1000)"
   ]
  },
  {
   "cell_type": "code",
   "execution_count": null,
   "metadata": {
    "collapsed": true
   },
   "outputs": [],
   "source": [
    "# Important \n",
    "#Means always form a normal distribution\n",
    "#Central limit theorem that means of all samples of a sufficiently large dataset with finite variance equals mean of population"
   ]
  },
  {
   "cell_type": "code",
   "execution_count": 144,
   "metadata": {
    "collapsed": true
   },
   "outputs": [],
   "source": [
    "#Check if means of uniform distribution form normal distribution"
   ]
  },
  {
   "cell_type": "code",
   "execution_count": 146,
   "metadata": {
    "collapsed": false
   },
   "outputs": [
    {
     "data": {
      "text/plain": [
       "<matplotlib.axes._subplots.AxesSubplot at 0x7f144fbc3e90>"
      ]
     },
     "execution_count": 146,
     "metadata": {},
     "output_type": "execute_result"
    },
    {
     "data": {
      "image/png": "[encoded data removed]",
      "text/plain": [
       "<matplotlib.figure.Figure at 0x7f144fdb6650>"
      ]
     },
     "metadata": {},
     "output_type": "display_data"
    }
   ],
   "source": [
    "myunifrand1000=np.random.rand(1000)\n",
    "sns.distplot(myunifrand1000)"
   ]
  },
  {
   "cell_type": "code",
   "execution_count": 155,
   "metadata": {
    "collapsed": false
   },
   "outputs": [
    {
     "name": "stdout",
     "output_type": "stream",
     "text": [
      "[0.48877943585486261, 0.46991423104427127, 0.51325447412837022, 0.43569555762467765, 0.50685663712171791, 0.55797736539520415, 0.49967675576892639, 0.64830944469516516, 0.55838539683953536, 0.58755076120231009, 0.47751666129060383, 0.4661123424803823, 0.49973741036897018, 0.50418929047547845, 0.5462946999282744, 0.45142978294088998, 0.44531670193483508, 0.56905796708389955, 0.46822107553373887, 0.64813697575396867, 0.44456890661946191, 0.5220715327181652, 0.48548620267237769, 0.53474292356394115, 0.57469289654509481, 0.50757941560907693, 0.53760568182884771, 0.5051833573518334, 0.37887017035845061, 0.50865583789845048, 0.46925072681916441, 0.48343186610465771, 0.41875222819122548, 0.57326721353697208, 0.51939492513855989, 0.52925451240724675, 0.5093812978726715, 0.53622157025743256, 0.53441751047811414, 0.53827026828220115, 0.48849954097515258, 0.53121057014058881, 0.43754472248293769, 0.57819947187330278, 0.5688680569345016, 0.4095743966114952, 0.57550273619126691, 0.56026934810807372, 0.5264274006218288, 0.55864814557509657, 0.58839366323229636, 0.55305705316456555, 0.51406967708395668, 0.4350954283301337, 0.55694579425126933, 0.56209626344489405, 0.53873797785663424, 0.39552540779810952, 0.44733767131717289, 0.5595790772270488, 0.46132971730081118, 0.48195070904331166, 0.54492856961927716, 0.46883845520540274, 0.61656873807690282, 0.53603609596216995, 0.47319937127946643, 0.44549851633571597, 0.52359412016502138, 0.53334984137262331, 0.32171310883819287, 0.44257067409663986, 0.48764119473569467, 0.48836594406452993, 0.52719706765456587, 0.60318616341857567, 0.42140324062306622, 0.5290640764379323, 0.51274635068406549, 0.46943227170088997, 0.56166005858298074, 0.55357403266375882, 0.52159656221318618, 0.53666580277971776, 0.5211035728715645, 0.51979321973891923, 0.40125656499680973, 0.44848200606807992, 0.47052820235121084, 0.46364600071379447, 0.51764301956914693, 0.47782373087820174, 0.43311307123678022, 0.45376071856389688, 0.54119733441182993, 0.54289693081455748, 0.39889973963736747, 0.55609600127567083, 0.50085700694658453, 0.56065466577608902]\n"
     ]
    },
    {
     "data": {
      "text/plain": [
       "<matplotlib.axes._subplots.AxesSubplot at 0x7f14546c9a50>"
      ]
     },
     "execution_count": 155,
     "metadata": {},
     "output_type": "execute_result"
    },
    {
     "data": {
      "image/png": "[encoded data removed]",
      "text/plain": [
       "<matplotlib.figure.Figure at 0x7f14560f6dd0>"
      ]
     },
     "metadata": {},
     "output_type": "display_data"
    }
   ],
   "source": [
    "mylist=[np.mean(np.random.choice(myunifrand1000,size=20)) for i in xrange(100)]\n",
    "print(mylist)\n",
    "sns.distplot(mylist)"
   ]
  },
  {
   "cell_type": "code",
   "execution_count": null,
   "metadata": {
    "collapsed": true
   },
   "outputs": [],
   "source": []
  }
 ],
 "metadata": {
  "kernelspec": {
   "display_name": "Python 2.7",
   "language": "python",
   "name": "python2.7"
  },
  "language_info": {
   "codemirror_mode": {
    "name": "ipython",
    "version": 2
   },
   "file_extension": ".py",
   "mimetype": "text/x-python",
   "name": "python",
   "nbconvert_exporter": "python",
   "pygments_lexer": "ipython2",
   "version": "2.7.6"
  }
 },
 "nbformat": 4,
 "nbformat_minor": 0
}
