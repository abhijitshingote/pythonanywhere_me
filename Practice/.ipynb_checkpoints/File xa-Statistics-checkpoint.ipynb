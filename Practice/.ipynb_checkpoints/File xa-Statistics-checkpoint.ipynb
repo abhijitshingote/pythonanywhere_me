{
 "cells": [
  {
   "cell_type": "code",
   "execution_count": 3,
   "metadata": {
    "collapsed": false
   },
   "outputs": [],
   "source": [
    "import pandas as pd\n",
    "import numpy as np\n",
    "import scipy.stats as stats\n",
    "import seaborn as sns\n",
    "%matplotlib inline"
   ]
  },
  {
   "cell_type": "markdown",
   "metadata": {},
   "source": [
    "### Distribution Types"
   ]
  },
  {
   "cell_type": "markdown",
   "metadata": {},
   "source": [
    "###### There are 4 types of distribution we are interested in\n",
    "1. Normal Distribution(Gaussian) is for continuous values and we use cdf and pdf to evaluate probability\n",
    "2. Poisson - is just like normal except it is only available at integer values\n",
    "3. Binomial - coin flips or categorical - example - 7 successes out of 10 coin flips, 6 successes\n",
    "4. Uniform - Each outcome is equally likely"
   ]
  },
  {
   "cell_type": "markdown",
   "metadata": {},
   "source": [
    "#### 1a. Normal Distribution"
   ]
  },
  {
   "cell_type": "code",
   "execution_count": 11,
   "metadata": {
    "collapsed": false
   },
   "outputs": [
    {
     "data": {
      "text/plain": [
       "(0.021326645563329614, 1.0000844733735303)"
      ]
     },
     "execution_count": 11,
     "metadata": {},
     "output_type": "execute_result"
    }
   ],
   "source": [
    "#Generate random variables\n",
    "mylist=np.random.randn(10000)\n",
    "mylist.mean(),mylist.std()"
   ]
  },
  {
   "cell_type": "code",
   "execution_count": 9,
   "metadata": {
    "collapsed": false
   },
   "outputs": [
    {
     "data": {
      "text/plain": [
       "<matplotlib.axes._subplots.AxesSubplot at 0x7f285dca21d0>"
      ]
     },
     "execution_count": 9,
     "metadata": {},
     "output_type": "execute_result"
    },
    {
     "data": {
      "image/png": "[encoded data removed]",
      "text/plain": [
       "<matplotlib.figure.Figure at 0x7f28605cda10>"
      ]
     },
     "metadata": {},
     "output_type": "display_data"
    }
   ],
   "source": [
    "#Plot random variables\n",
    "sns.distplot(mylist)"
   ]
  },
  {
   "cell_type": "code",
   "execution_count": 13,
   "metadata": {
    "collapsed": false
   },
   "outputs": [
    {
     "data": {
      "text/plain": [
       "0.49149326277613792"
      ]
     },
     "execution_count": 13,
     "metadata": {},
     "output_type": "execute_result"
    }
   ],
   "source": [
    "stats.norm.cdf(0,loc=mylist.mean(),scale=mylist.std())"
   ]
  },
  {
   "cell_type": "code",
   "execution_count": 14,
   "metadata": {
    "collapsed": false
   },
   "outputs": [
    {
     "data": {
      "text/plain": [
       "0.39881789192296457"
      ]
     },
     "execution_count": 14,
     "metadata": {},
     "output_type": "execute_result"
    }
   ],
   "source": [
    "stats.norm.pdf(0,loc=mylist.mean(),scale=mylist.std())"
   ]
  },
  {
   "cell_type": "markdown",
   "metadata": {},
   "source": [
    "#### 2a. Poisson Distribution"
   ]
  },
  {
   "cell_type": "code",
   "execution_count": 16,
   "metadata": {
    "collapsed": false
   },
   "outputs": [
    {
     "data": {
      "text/plain": [
       "89"
      ]
     },
     "execution_count": 16,
     "metadata": {},
     "output_type": "execute_result"
    }
   ],
   "source": [
    "np.random.r(100)"
   ]
  },
  {
   "cell_type": "code",
   "execution_count": 19,
   "metadata": {
    "collapsed": false
   },
   "outputs": [
    {
     "data": {
      "text/plain": [
       "array([1, 2, 3, 2, 0, 0, 2, 1, 1, 0, 2, 1, 0, 1, 0, 2, 1, 1, 0, 2, 2, 1, 0,\n",
       "       1, 2, 1, 0, 2, 1, 1, 1, 1, 4, 0, 0, 2, 1, 1, 1, 0, 0, 0, 2, 0, 1, 0,\n",
       "       0, 3, 2, 0, 0, 1, 1, 0, 1, 1, 0, 2, 2, 1, 1, 0, 2, 0, 1, 0, 0, 0, 1,\n",
       "       0, 1, 0, 1, 0, 0, 1, 1, 0, 0, 2, 0, 1, 1, 1, 2, 0, 4, 0, 2, 1, 1, 0,\n",
       "       0, 1, 1, 2, 1, 1, 0, 0])"
      ]
     },
     "execution_count": 19,
     "metadata": {},
     "output_type": "execute_result"
    }
   ],
   "source": [
    "np.random.poisson(size=100)"
   ]
  },
  {
   "cell_type": "code",
   "execution_count": 90,
   "metadata": {
    "collapsed": false
   },
   "outputs": [],
   "source": [
    "binomlist=np.random.binomial(n=10,p=0.4,size=10)   # n is number of experiments & p is probability of success .\n",
    "#.. k which is no of successes"
   ]
  },
  {
   "cell_type": "code",
   "execution_count": 72,
   "metadata": {
    "collapsed": false
   },
   "outputs": [
    {
     "data": {
      "text/plain": [
       "array([4, 5, 6, 4, 4, 4, 5, 4, 7, 6])"
      ]
     },
     "execution_count": 72,
     "metadata": {},
     "output_type": "execute_result"
    }
   ],
   "source": [
    "binomlist"
   ]
  },
  {
   "cell_type": "code",
   "execution_count": 79,
   "metadata": {
    "collapsed": true
   },
   "outputs": [
    {
     "data": {
      "text/plain": [
       "array([  7.88860905e-31,   7.88860905e-29,   3.90486148e-27,\n",
       "         1.27558808e-25,   3.09330110e-24,   5.93913812e-23,\n",
       "         9.40363535e-22,   1.26277389e-20,   1.46797465e-19,\n",
       "         1.50059631e-18,   1.36554264e-17,   1.11726216e-16,\n",
       "         8.28636101e-16,   5.60922899e-15,   3.48573516e-14,\n",
       "         1.99848816e-13,   1.06169683e-12,   5.24603142e-12,\n",
       "         2.41900338e-11,   1.04399093e-10,   4.22816327e-10,\n",
       "         1.61072886e-09,   5.78398092e-09,   1.96152396e-08,\n",
       "         6.29322272e-08,   1.91313971e-07,   5.51867223e-07,\n",
       "         1.51252498e-06,   3.94336870e-06,   9.79043264e-06,\n",
       "         2.31706906e-05,   5.23209142e-05,   1.12816971e-04,\n",
       "         2.32471335e-04,   4.58105277e-04,   8.63855666e-04,\n",
       "         1.55973940e-03,   2.69792760e-03,   4.47287998e-03,\n",
       "         7.11073227e-03,   1.08438667e-02,   1.58690732e-02,\n",
       "         2.22922695e-02,   3.00686426e-02,   3.89525598e-02,\n",
       "         4.84742966e-02,   5.79583981e-02,   6.65905000e-02,\n",
       "         7.35270104e-02,   7.80286641e-02,   7.95892374e-02,\n",
       "         7.80286641e-02,   7.35270104e-02,   6.65905000e-02,\n",
       "         5.79583981e-02,   4.84742966e-02,   3.89525598e-02,\n",
       "         3.00686426e-02,   2.22922695e-02,   1.58690732e-02,\n",
       "         1.08438667e-02,   7.11073227e-03,   4.47287998e-03,\n",
       "         2.69792760e-03,   1.55973940e-03,   8.63855666e-04,\n",
       "         4.58105277e-04,   2.32471335e-04,   1.12816971e-04,\n",
       "         5.23209142e-05,   2.31706906e-05,   9.79043264e-06,\n",
       "         3.94336870e-06,   1.51252498e-06,   5.51867223e-07,\n",
       "         1.91313971e-07,   6.29322272e-08,   1.96152396e-08,\n",
       "         5.78398092e-09,   1.61072886e-09,   4.22816327e-10,\n",
       "         1.04399093e-10,   2.41900338e-11,   5.24603142e-12,\n",
       "         1.06169683e-12,   1.99848816e-13,   3.48573516e-14,\n",
       "         5.60922899e-15,   8.28636101e-16,   1.11726216e-16,\n",
       "         1.36554264e-17,   1.50059631e-18,   1.46797465e-19,\n",
       "         1.26277389e-20,   9.40363535e-22,   5.93913812e-23,\n",
       "         3.09330110e-24,   1.27558808e-25,   3.90486148e-27,\n",
       "         7.88860905e-29])"
      ]
     },
     "execution_count": 79,
     "metadata": {},
     "output_type": "execute_result"
    }
   ],
   "source": [
    "#This is the important one\n",
    "stats.binom.pmf(xrange(100),n=100,p=0.5) # We will plot k which is defined by xrange(100)"
   ]
  },
  {
   "cell_type": "code",
   "execution_count": 87,
   "metadata": {
    "collapsed": false
   },
   "outputs": [
    {
     "data": {
      "text/plain": [
       "<matplotlib.axes._subplots.AxesSubplot at 0x7f2857369750>"
      ]
     },
     "execution_count": 87,
     "metadata": {},
     "output_type": "execute_result"
    },
    {
     "data": {
      "image/png": "[encoded data removed]",
      "text/plain": [
       "<matplotlib.figure.Figure at 0x7f28572d0190>"
      ]
     },
     "metadata": {},
     "output_type": "display_data"
    }
   ],
   "source": [
    "a=pd.Series(stats.binom.pmf(xrange(50),n=50,p=0.5))\n",
    "a.plot()"
   ]
  },
  {
   "cell_type": "code",
   "execution_count": 91,
   "metadata": {
    "collapsed": false
   },
   "outputs": [
    {
     "data": {
      "text/plain": [
       "<matplotlib.axes._subplots.AxesSubplot at 0x7f2857b64d90>"
      ]
     },
     "execution_count": 91,
     "metadata": {},
     "output_type": "execute_result"
    },
    {
     "data": {
      "image/png": "[encoded data removed]",
      "text/plain": [
       "<matplotlib.figure.Figure at 0x7f285739e410>"
      ]
     },
     "metadata": {},
     "output_type": "display_data"
    }
   ],
   "source": [
    "a=pd.Series(stats.binom.cdf(xrange(50),n=50,p=0.5))\n",
    "a.plot()"
   ]
  },
  {
   "cell_type": "markdown",
   "metadata": {},
   "source": [
    "## Statistical Tests"
   ]
  },
  {
   "cell_type": "markdown",
   "metadata": {
    "collapsed": true
   },
   "source": [
    "#### 1.T test"
   ]
  },
  {
   "cell_type": "code",
   "execution_count": 92,
   "metadata": {
    "collapsed": false
   },
   "outputs": [
    {
     "data": {
      "text/plain": [
       "Ttest_1sampResult(statistic=-2.0102828441296667, pvalue=0.11476192246455903)"
      ]
     },
     "execution_count": 92,
     "metadata": {},
     "output_type": "execute_result"
    }
   ],
   "source": [
    "stats.ttest_1samp([50,40,70,75,45],popmean=70) # Probability of a sample occuring with the given values where population mean-70\n",
    "# Since pvalue > 0.05, it is likely to get such a sample where mean is 70, in other words\n",
    "# occurence of mean 56 for sample in population  of mean 70, likelihood is 0.11 which is >0.05\n",
    "# So it is likely, in other words we accept the Null hypotheisis that Sample mean 56 equals Population  mean 70"
   ]
  },
  {
   "cell_type": "code",
   "execution_count": 70,
   "metadata": {
    "collapsed": true
   },
   "outputs": [
    {
     "name": "stdout",
     "output_type": "stream",
     "text": [
      "Help on function ttest_rel in module scipy.stats.stats:\n",
      "\n",
      "ttest_rel(a, b, axis=0, nan_policy='propagate')\n",
      "    Calculates the T-test on TWO RELATED samples of scores, a and b.\n",
      "    \n",
      "    This is a two-sided test for the null hypothesis that 2 related or\n",
      "    repeated samples have identical average (expected) values.\n",
      "    \n",
      "    Parameters\n",
      "    ----------\n",
      "    a, b : array_like\n",
      "        The arrays must have the same shape.\n",
      "    axis : int or None, optional\n",
      "        Axis along which to compute test. If None, compute over the whole\n",
      "        arrays, `a`, and `b`.\n",
      "    nan_policy : {'propagate', 'raise', 'omit'}, optional\n",
      "        Defines how to handle when input contains nan. 'propagate' returns nan,\n",
      "        'raise' throws an error, 'omit' performs the calculations ignoring nan\n",
      "        values. Default is 'propagate'.\n",
      "    \n",
      "    Returns\n",
      "    -------\n",
      "    statistic : float or array\n",
      "        t-statistic\n",
      "    pvalue : float or array\n",
      "        two-tailed p-value\n",
      "    \n",
      "    Notes\n",
      "    -----\n",
      "    Examples for the use are scores of the same set of student in\n",
      "    different exams, or repeated sampling from the same units. The\n",
      "    test measures whether the average score differs significantly\n",
      "    across samples (e.g. exams). If we observe a large p-value, for\n",
      "    example greater than 0.05 or 0.1 then we cannot reject the null\n",
      "    hypothesis of identical average scores. If the p-value is smaller\n",
      "    than the threshold, e.g. 1%, 5% or 10%, then we reject the null\n",
      "    hypothesis of equal averages. Small p-values are associated with\n",
      "    large t-statistics.\n",
      "    \n",
      "    References\n",
      "    ----------\n",
      "    http://en.wikipedia.org/wiki/T-test#Dependent_t-test\n",
      "    \n",
      "    Examples\n",
      "    --------\n",
      "    >>> from scipy import stats\n",
      "    >>> np.random.seed(12345678) # fix random seed to get same numbers\n",
      "    \n",
      "    >>> rvs1 = stats.norm.rvs(loc=5,scale=10,size=500)\n",
      "    >>> rvs2 = (stats.norm.rvs(loc=5,scale=10,size=500) +\n",
      "    ...         stats.norm.rvs(scale=0.2,size=500))\n",
      "    >>> stats.ttest_rel(rvs1,rvs2)\n",
      "    (0.24101764965300962, 0.80964043445811562)\n",
      "    >>> rvs3 = (stats.norm.rvs(loc=8,scale=10,size=500) +\n",
      "    ...         stats.norm.rvs(scale=0.2,size=500))\n",
      "    >>> stats.ttest_rel(rvs1,rvs3)\n",
      "    (-3.9995108708727933, 7.3082402191726459e-005)\n",
      "\n"
     ]
    }
   ],
   "source": [
    "help(stats.ttest_rel)"
   ]
  },
  {
   "cell_type": "code",
   "execution_count": null,
   "metadata": {
    "collapsed": true
   },
   "outputs": [],
   "source": []
  }
 ],
 "metadata": {
  "kernelspec": {
   "display_name": "Python 2.7",
   "language": "python",
   "name": "python2.7"
  },
  "language_info": {
   "codemirror_mode": {
    "name": "ipython",
    "version": 2
   },
   "file_extension": ".py",
   "mimetype": "text/x-python",
   "name": "python",
   "nbconvert_exporter": "python",
   "pygments_lexer": "ipython2",
   "version": "2.7.6"
  }
 },
 "nbformat": 4,
 "nbformat_minor": 0
}
