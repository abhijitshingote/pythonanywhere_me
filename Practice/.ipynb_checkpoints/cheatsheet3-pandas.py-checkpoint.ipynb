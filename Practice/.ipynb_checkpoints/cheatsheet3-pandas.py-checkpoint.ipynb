{
 "cells": [
  {
   "cell_type": "code",
   "execution_count": 4,
   "metadata": {
    "collapsed": false
   },
   "outputs": [],
   "source": [
    "import pandas as pd\n",
    "import numpy as np\n",
    "import matplotlib.pyplot as plt"
   ]
  },
  {
   "cell_type": "code",
   "execution_count": 9,
   "metadata": {
    "collapsed": false
   },
   "outputs": [
    {
     "data": {
      "text/plain": [
       "0    1.0\n",
       "1    2.0\n",
       "2    3.0\n",
       "3    4.0\n",
       "4    5.0\n",
       "5    6.0\n",
       "6    NaN\n",
       "dtype: float64"
      ]
     },
     "execution_count": 9,
     "metadata": {},
     "output_type": "execute_result"
    }
   ],
   "source": [
    "#Series Creation\n",
    "a=pd.Series([1,2,3,4,5,6,np.nan])\n",
    "a"
   ]
  },
  {
   "cell_type": "code",
   "execution_count": 16,
   "metadata": {
    "collapsed": false
   },
   "outputs": [
    {
     "data": {
      "text/plain": [
       "DatetimeIndex(['2016-01-01', '2016-01-02', '2016-01-03', '2016-01-04',\n",
       "               '2016-01-05', '2016-01-06', '2016-01-07'],\n",
       "              dtype='datetime64[ns]', freq='D')"
      ]
     },
     "execution_count": 16,
     "metadata": {},
     "output_type": "execute_result"
    }
   ],
   "source": [
    "#Datetime index creation\n",
    "dates=pd.date_range('20160101',periods=7)\n",
    "dates"
   ]
  },
  {
   "cell_type": "code",
   "execution_count": 22,
   "metadata": {
    "collapsed": false
   },
   "outputs": [
    {
     "data": {
      "text/html": [
       "<div>\n",
       "<table border=\"1\" class=\"dataframe\">\n",
       "  <thead>\n",
       "    <tr style=\"text-align: right;\">\n",
       "      <th></th>\n",
       "      <th>A</th>\n",
       "      <th>B</th>\n",
       "      <th>C</th>\n",
       "      <th>D</th>\n",
       "      <th>E</th>\n",
       "    </tr>\n",
       "  </thead>\n",
       "  <tbody>\n",
       "    <tr>\n",
       "      <th>2016-01-01</th>\n",
       "      <td>0.015455</td>\n",
       "      <td>0.445907</td>\n",
       "      <td>0.786486</td>\n",
       "      <td>0.414243</td>\n",
       "      <td>0.474962</td>\n",
       "    </tr>\n",
       "    <tr>\n",
       "      <th>2016-01-02</th>\n",
       "      <td>0.633936</td>\n",
       "      <td>0.982161</td>\n",
       "      <td>0.149022</td>\n",
       "      <td>0.696939</td>\n",
       "      <td>0.310232</td>\n",
       "    </tr>\n",
       "    <tr>\n",
       "      <th>2016-01-03</th>\n",
       "      <td>0.525241</td>\n",
       "      <td>0.254573</td>\n",
       "      <td>0.828252</td>\n",
       "      <td>0.332340</td>\n",
       "      <td>0.323074</td>\n",
       "    </tr>\n",
       "    <tr>\n",
       "      <th>2016-01-04</th>\n",
       "      <td>0.301161</td>\n",
       "      <td>0.922625</td>\n",
       "      <td>0.909905</td>\n",
       "      <td>0.633204</td>\n",
       "      <td>0.338244</td>\n",
       "    </tr>\n",
       "    <tr>\n",
       "      <th>2016-01-05</th>\n",
       "      <td>0.386795</td>\n",
       "      <td>0.858804</td>\n",
       "      <td>0.622667</td>\n",
       "      <td>0.589780</td>\n",
       "      <td>0.778469</td>\n",
       "    </tr>\n",
       "    <tr>\n",
       "      <th>2016-01-06</th>\n",
       "      <td>0.422340</td>\n",
       "      <td>0.565341</td>\n",
       "      <td>0.891654</td>\n",
       "      <td>0.297841</td>\n",
       "      <td>0.180148</td>\n",
       "    </tr>\n",
       "    <tr>\n",
       "      <th>2016-01-07</th>\n",
       "      <td>0.698572</td>\n",
       "      <td>0.845523</td>\n",
       "      <td>0.348846</td>\n",
       "      <td>0.339041</td>\n",
       "      <td>0.351467</td>\n",
       "    </tr>\n",
       "  </tbody>\n",
       "</table>\n",
       "</div>"
      ],
      "text/plain": [
       "                   A         B         C         D         E\n",
       "2016-01-01  0.015455  0.445907  0.786486  0.414243  0.474962\n",
       "2016-01-02  0.633936  0.982161  0.149022  0.696939  0.310232\n",
       "2016-01-03  0.525241  0.254573  0.828252  0.332340  0.323074\n",
       "2016-01-04  0.301161  0.922625  0.909905  0.633204  0.338244\n",
       "2016-01-05  0.386795  0.858804  0.622667  0.589780  0.778469\n",
       "2016-01-06  0.422340  0.565341  0.891654  0.297841  0.180148\n",
       "2016-01-07  0.698572  0.845523  0.348846  0.339041  0.351467"
      ]
     },
     "execution_count": 22,
     "metadata": {},
     "output_type": "execute_result"
    }
   ],
   "source": [
    "#DataFrame Creation by passing numpy array\n",
    "df=pd.DataFrame(np.random.random((7,5)),index=dates,columns=list('ABCDE'))\n",
    "df"
   ]
  },
  {
   "cell_type": "code",
   "execution_count": 30,
   "metadata": {
    "collapsed": false
   },
   "outputs": [
    {
     "data": {
      "text/html": [
       "<div>\n",
       "<table border=\"1\" class=\"dataframe\">\n",
       "  <thead>\n",
       "    <tr style=\"text-align: right;\">\n",
       "      <th></th>\n",
       "      <th>A</th>\n",
       "      <th>B</th>\n",
       "      <th>C</th>\n",
       "      <th>D</th>\n",
       "      <th>E</th>\n",
       "      <th>F</th>\n",
       "    </tr>\n",
       "  </thead>\n",
       "  <tbody>\n",
       "    <tr>\n",
       "      <th>0</th>\n",
       "      <td>1.0</td>\n",
       "      <td>2016-01-02</td>\n",
       "      <td>1.0</td>\n",
       "      <td>3</td>\n",
       "      <td>test</td>\n",
       "      <td>foo</td>\n",
       "    </tr>\n",
       "    <tr>\n",
       "      <th>1</th>\n",
       "      <td>1.0</td>\n",
       "      <td>2016-01-02</td>\n",
       "      <td>1.0</td>\n",
       "      <td>3</td>\n",
       "      <td>train</td>\n",
       "      <td>foo</td>\n",
       "    </tr>\n",
       "    <tr>\n",
       "      <th>2</th>\n",
       "      <td>1.0</td>\n",
       "      <td>2016-01-02</td>\n",
       "      <td>1.0</td>\n",
       "      <td>3</td>\n",
       "      <td>test</td>\n",
       "      <td>foo</td>\n",
       "    </tr>\n",
       "    <tr>\n",
       "      <th>3</th>\n",
       "      <td>1.0</td>\n",
       "      <td>2016-01-02</td>\n",
       "      <td>1.0</td>\n",
       "      <td>3</td>\n",
       "      <td>train</td>\n",
       "      <td>foo</td>\n",
       "    </tr>\n",
       "  </tbody>\n",
       "</table>\n",
       "</div>"
      ],
      "text/plain": [
       "     A          B    C  D      E    F\n",
       "0  1.0 2016-01-02  1.0  3   test  foo\n",
       "1  1.0 2016-01-02  1.0  3  train  foo\n",
       "2  1.0 2016-01-02  1.0  3   test  foo\n",
       "3  1.0 2016-01-02  1.0  3  train  foo"
      ]
     },
     "execution_count": 30,
     "metadata": {},
     "output_type": "execute_result"
    }
   ],
   "source": [
    "#Create data frame by passing a dict\n",
    "df2 = pd.DataFrame({ \n",
    "        'A' : 1.,\n",
    "        'B' : pd.Timestamp('20160102'),\n",
    "        'C' : pd.Series(1,index=list(range(4)),dtype='float32'),\n",
    "        'D' : np.array([3] * 4,dtype='int32'),\n",
    "        'E' : pd.Categorical([\"test\",\"train\",\"test\",\"train\"]),\n",
    "        'F' : 'foo' })\n",
    "df2"
   ]
  },
  {
   "cell_type": "code",
   "execution_count": 29,
   "metadata": {
    "collapsed": false
   },
   "outputs": [
    {
     "data": {
      "text/plain": [
       "A           float64\n",
       "B    datetime64[ns]\n",
       "C           float32\n",
       "D             int32\n",
       "E          category\n",
       "F            object\n",
       "dtype: object"
      ]
     },
     "execution_count": 29,
     "metadata": {},
     "output_type": "execute_result"
    }
   ],
   "source": [
    "df2.dtypes"
   ]
  },
  {
   "cell_type": "markdown",
   "metadata": {},
   "source": [
    "# Viewing the Data"
   ]
  },
  {
   "cell_type": "code",
   "execution_count": 31,
   "metadata": {
    "collapsed": false
   },
   "outputs": [
    {
     "data": {
      "text/html": [
       "<div>\n",
       "<table border=\"1\" class=\"dataframe\">\n",
       "  <thead>\n",
       "    <tr style=\"text-align: right;\">\n",
       "      <th></th>\n",
       "      <th>A</th>\n",
       "      <th>B</th>\n",
       "      <th>C</th>\n",
       "      <th>D</th>\n",
       "      <th>E</th>\n",
       "    </tr>\n",
       "  </thead>\n",
       "  <tbody>\n",
       "    <tr>\n",
       "      <th>2016-01-01</th>\n",
       "      <td>0.015455</td>\n",
       "      <td>0.445907</td>\n",
       "      <td>0.786486</td>\n",
       "      <td>0.414243</td>\n",
       "      <td>0.474962</td>\n",
       "    </tr>\n",
       "    <tr>\n",
       "      <th>2016-01-02</th>\n",
       "      <td>0.633936</td>\n",
       "      <td>0.982161</td>\n",
       "      <td>0.149022</td>\n",
       "      <td>0.696939</td>\n",
       "      <td>0.310232</td>\n",
       "    </tr>\n",
       "    <tr>\n",
       "      <th>2016-01-03</th>\n",
       "      <td>0.525241</td>\n",
       "      <td>0.254573</td>\n",
       "      <td>0.828252</td>\n",
       "      <td>0.332340</td>\n",
       "      <td>0.323074</td>\n",
       "    </tr>\n",
       "    <tr>\n",
       "      <th>2016-01-04</th>\n",
       "      <td>0.301161</td>\n",
       "      <td>0.922625</td>\n",
       "      <td>0.909905</td>\n",
       "      <td>0.633204</td>\n",
       "      <td>0.338244</td>\n",
       "    </tr>\n",
       "    <tr>\n",
       "      <th>2016-01-05</th>\n",
       "      <td>0.386795</td>\n",
       "      <td>0.858804</td>\n",
       "      <td>0.622667</td>\n",
       "      <td>0.589780</td>\n",
       "      <td>0.778469</td>\n",
       "    </tr>\n",
       "  </tbody>\n",
       "</table>\n",
       "</div>"
      ],
      "text/plain": [
       "                   A         B         C         D         E\n",
       "2016-01-01  0.015455  0.445907  0.786486  0.414243  0.474962\n",
       "2016-01-02  0.633936  0.982161  0.149022  0.696939  0.310232\n",
       "2016-01-03  0.525241  0.254573  0.828252  0.332340  0.323074\n",
       "2016-01-04  0.301161  0.922625  0.909905  0.633204  0.338244\n",
       "2016-01-05  0.386795  0.858804  0.622667  0.589780  0.778469"
      ]
     },
     "execution_count": 31,
     "metadata": {},
     "output_type": "execute_result"
    }
   ],
   "source": [
    "df.head()"
   ]
  },
  {
   "cell_type": "code",
   "execution_count": 32,
   "metadata": {
    "collapsed": false
   },
   "outputs": [
    {
     "data": {
      "text/html": [
       "<div>\n",
       "<table border=\"1\" class=\"dataframe\">\n",
       "  <thead>\n",
       "    <tr style=\"text-align: right;\">\n",
       "      <th></th>\n",
       "      <th>A</th>\n",
       "      <th>B</th>\n",
       "      <th>C</th>\n",
       "      <th>D</th>\n",
       "      <th>E</th>\n",
       "    </tr>\n",
       "  </thead>\n",
       "  <tbody>\n",
       "    <tr>\n",
       "      <th>2016-01-05</th>\n",
       "      <td>0.386795</td>\n",
       "      <td>0.858804</td>\n",
       "      <td>0.622667</td>\n",
       "      <td>0.589780</td>\n",
       "      <td>0.778469</td>\n",
       "    </tr>\n",
       "    <tr>\n",
       "      <th>2016-01-06</th>\n",
       "      <td>0.422340</td>\n",
       "      <td>0.565341</td>\n",
       "      <td>0.891654</td>\n",
       "      <td>0.297841</td>\n",
       "      <td>0.180148</td>\n",
       "    </tr>\n",
       "    <tr>\n",
       "      <th>2016-01-07</th>\n",
       "      <td>0.698572</td>\n",
       "      <td>0.845523</td>\n",
       "      <td>0.348846</td>\n",
       "      <td>0.339041</td>\n",
       "      <td>0.351467</td>\n",
       "    </tr>\n",
       "  </tbody>\n",
       "</table>\n",
       "</div>"
      ],
      "text/plain": [
       "                   A         B         C         D         E\n",
       "2016-01-05  0.386795  0.858804  0.622667  0.589780  0.778469\n",
       "2016-01-06  0.422340  0.565341  0.891654  0.297841  0.180148\n",
       "2016-01-07  0.698572  0.845523  0.348846  0.339041  0.351467"
      ]
     },
     "execution_count": 32,
     "metadata": {},
     "output_type": "execute_result"
    }
   ],
   "source": [
    "df.tail(1)\n",
    "df.tail(3)"
   ]
  },
  {
   "cell_type": "code",
   "execution_count": 34,
   "metadata": {
    "collapsed": false
   },
   "outputs": [
    {
     "data": {
      "text/plain": [
       "DatetimeIndex(['2016-01-01', '2016-01-02', '2016-01-03', '2016-01-04',\n",
       "               '2016-01-05', '2016-01-06', '2016-01-07'],\n",
       "              dtype='datetime64[ns]', freq='D')"
      ]
     },
     "execution_count": 34,
     "metadata": {},
     "output_type": "execute_result"
    }
   ],
   "source": [
    "df.index"
   ]
  },
  {
   "cell_type": "code",
   "execution_count": 36,
   "metadata": {
    "collapsed": false
   },
   "outputs": [
    {
     "data": {
      "text/plain": [
       "Index(['A', 'B', 'C', 'D', 'E'], dtype='object')"
      ]
     },
     "execution_count": 36,
     "metadata": {},
     "output_type": "execute_result"
    }
   ],
   "source": [
    "df.columns"
   ]
  },
  {
   "cell_type": "code",
   "execution_count": 37,
   "metadata": {
    "collapsed": false
   },
   "outputs": [
    {
     "data": {
      "text/plain": [
       "array([[ 0.01545518,  0.44590669,  0.78648612,  0.41424281,  0.47496197],\n",
       "       [ 0.63393605,  0.98216098,  0.1490221 ,  0.69693936,  0.31023246],\n",
       "       [ 0.52524145,  0.25457342,  0.82825221,  0.33234019,  0.323074  ],\n",
       "       [ 0.30116136,  0.92262484,  0.90990457,  0.63320406,  0.33824421],\n",
       "       [ 0.3867951 ,  0.85880434,  0.62266665,  0.58977983,  0.77846883],\n",
       "       [ 0.42234038,  0.56534098,  0.89165356,  0.29784055,  0.18014775],\n",
       "       [ 0.69857181,  0.84552291,  0.34884566,  0.3390407 ,  0.35146668]])"
      ]
     },
     "execution_count": 37,
     "metadata": {},
     "output_type": "execute_result"
    }
   ],
   "source": [
    "df.values"
   ]
  },
  {
   "cell_type": "code",
   "execution_count": 38,
   "metadata": {
    "collapsed": false
   },
   "outputs": [
    {
     "data": {
      "text/html": [
       "<div>\n",
       "<table border=\"1\" class=\"dataframe\">\n",
       "  <thead>\n",
       "    <tr style=\"text-align: right;\">\n",
       "      <th></th>\n",
       "      <th>A</th>\n",
       "      <th>B</th>\n",
       "      <th>C</th>\n",
       "      <th>D</th>\n",
       "      <th>E</th>\n",
       "    </tr>\n",
       "  </thead>\n",
       "  <tbody>\n",
       "    <tr>\n",
       "      <th>count</th>\n",
       "      <td>7.000000</td>\n",
       "      <td>7.000000</td>\n",
       "      <td>7.000000</td>\n",
       "      <td>7.000000</td>\n",
       "      <td>7.000000</td>\n",
       "    </tr>\n",
       "    <tr>\n",
       "      <th>mean</th>\n",
       "      <td>0.426214</td>\n",
       "      <td>0.696419</td>\n",
       "      <td>0.648119</td>\n",
       "      <td>0.471913</td>\n",
       "      <td>0.393799</td>\n",
       "    </tr>\n",
       "    <tr>\n",
       "      <th>std</th>\n",
       "      <td>0.228423</td>\n",
       "      <td>0.275857</td>\n",
       "      <td>0.294036</td>\n",
       "      <td>0.163965</td>\n",
       "      <td>0.190206</td>\n",
       "    </tr>\n",
       "    <tr>\n",
       "      <th>min</th>\n",
       "      <td>0.015455</td>\n",
       "      <td>0.254573</td>\n",
       "      <td>0.149022</td>\n",
       "      <td>0.297841</td>\n",
       "      <td>0.180148</td>\n",
       "    </tr>\n",
       "    <tr>\n",
       "      <th>25%</th>\n",
       "      <td>0.343978</td>\n",
       "      <td>0.505624</td>\n",
       "      <td>0.485756</td>\n",
       "      <td>0.335690</td>\n",
       "      <td>0.316653</td>\n",
       "    </tr>\n",
       "    <tr>\n",
       "      <th>50%</th>\n",
       "      <td>0.422340</td>\n",
       "      <td>0.845523</td>\n",
       "      <td>0.786486</td>\n",
       "      <td>0.414243</td>\n",
       "      <td>0.338244</td>\n",
       "    </tr>\n",
       "    <tr>\n",
       "      <th>75%</th>\n",
       "      <td>0.579589</td>\n",
       "      <td>0.890715</td>\n",
       "      <td>0.859953</td>\n",
       "      <td>0.611492</td>\n",
       "      <td>0.413214</td>\n",
       "    </tr>\n",
       "    <tr>\n",
       "      <th>max</th>\n",
       "      <td>0.698572</td>\n",
       "      <td>0.982161</td>\n",
       "      <td>0.909905</td>\n",
       "      <td>0.696939</td>\n",
       "      <td>0.778469</td>\n",
       "    </tr>\n",
       "  </tbody>\n",
       "</table>\n",
       "</div>"
      ],
      "text/plain": [
       "              A         B         C         D         E\n",
       "count  7.000000  7.000000  7.000000  7.000000  7.000000\n",
       "mean   0.426214  0.696419  0.648119  0.471913  0.393799\n",
       "std    0.228423  0.275857  0.294036  0.163965  0.190206\n",
       "min    0.015455  0.254573  0.149022  0.297841  0.180148\n",
       "25%    0.343978  0.505624  0.485756  0.335690  0.316653\n",
       "50%    0.422340  0.845523  0.786486  0.414243  0.338244\n",
       "75%    0.579589  0.890715  0.859953  0.611492  0.413214\n",
       "max    0.698572  0.982161  0.909905  0.696939  0.778469"
      ]
     },
     "execution_count": 38,
     "metadata": {},
     "output_type": "execute_result"
    }
   ],
   "source": [
    "df.describe()"
   ]
  },
  {
   "cell_type": "code",
   "execution_count": 41,
   "metadata": {
    "collapsed": false
   },
   "outputs": [
    {
     "data": {
      "text/html": [
       "<div>\n",
       "<table border=\"1\" class=\"dataframe\">\n",
       "  <thead>\n",
       "    <tr style=\"text-align: right;\">\n",
       "      <th></th>\n",
       "      <th>2016-01-01 00:00:00</th>\n",
       "      <th>2016-01-02 00:00:00</th>\n",
       "      <th>2016-01-03 00:00:00</th>\n",
       "      <th>2016-01-04 00:00:00</th>\n",
       "      <th>2016-01-05 00:00:00</th>\n",
       "      <th>2016-01-06 00:00:00</th>\n",
       "      <th>2016-01-07 00:00:00</th>\n",
       "    </tr>\n",
       "  </thead>\n",
       "  <tbody>\n",
       "    <tr>\n",
       "      <th>A</th>\n",
       "      <td>0.015455</td>\n",
       "      <td>0.633936</td>\n",
       "      <td>0.525241</td>\n",
       "      <td>0.301161</td>\n",
       "      <td>0.386795</td>\n",
       "      <td>0.422340</td>\n",
       "      <td>0.698572</td>\n",
       "    </tr>\n",
       "    <tr>\n",
       "      <th>B</th>\n",
       "      <td>0.445907</td>\n",
       "      <td>0.982161</td>\n",
       "      <td>0.254573</td>\n",
       "      <td>0.922625</td>\n",
       "      <td>0.858804</td>\n",
       "      <td>0.565341</td>\n",
       "      <td>0.845523</td>\n",
       "    </tr>\n",
       "    <tr>\n",
       "      <th>C</th>\n",
       "      <td>0.786486</td>\n",
       "      <td>0.149022</td>\n",
       "      <td>0.828252</td>\n",
       "      <td>0.909905</td>\n",
       "      <td>0.622667</td>\n",
       "      <td>0.891654</td>\n",
       "      <td>0.348846</td>\n",
       "    </tr>\n",
       "    <tr>\n",
       "      <th>D</th>\n",
       "      <td>0.414243</td>\n",
       "      <td>0.696939</td>\n",
       "      <td>0.332340</td>\n",
       "      <td>0.633204</td>\n",
       "      <td>0.589780</td>\n",
       "      <td>0.297841</td>\n",
       "      <td>0.339041</td>\n",
       "    </tr>\n",
       "    <tr>\n",
       "      <th>E</th>\n",
       "      <td>0.474962</td>\n",
       "      <td>0.310232</td>\n",
       "      <td>0.323074</td>\n",
       "      <td>0.338244</td>\n",
       "      <td>0.778469</td>\n",
       "      <td>0.180148</td>\n",
       "      <td>0.351467</td>\n",
       "    </tr>\n",
       "  </tbody>\n",
       "</table>\n",
       "</div>"
      ],
      "text/plain": [
       "   2016-01-01  2016-01-02  2016-01-03  2016-01-04  2016-01-05  2016-01-06  \\\n",
       "A    0.015455    0.633936    0.525241    0.301161    0.386795    0.422340   \n",
       "B    0.445907    0.982161    0.254573    0.922625    0.858804    0.565341   \n",
       "C    0.786486    0.149022    0.828252    0.909905    0.622667    0.891654   \n",
       "D    0.414243    0.696939    0.332340    0.633204    0.589780    0.297841   \n",
       "E    0.474962    0.310232    0.323074    0.338244    0.778469    0.180148   \n",
       "\n",
       "   2016-01-07  \n",
       "A    0.698572  \n",
       "B    0.845523  \n",
       "C    0.348846  \n",
       "D    0.339041  \n",
       "E    0.351467  "
      ]
     },
     "execution_count": 41,
     "metadata": {},
     "output_type": "execute_result"
    }
   ],
   "source": [
    "# Transposing data\n",
    "df.T\n"
   ]
  },
  {
   "cell_type": "code",
   "execution_count": 45,
   "metadata": {
    "collapsed": false
   },
   "outputs": [
    {
     "data": {
      "text/html": [
       "<div>\n",
       "<table border=\"1\" class=\"dataframe\">\n",
       "  <thead>\n",
       "    <tr style=\"text-align: right;\">\n",
       "      <th></th>\n",
       "      <th>E</th>\n",
       "      <th>D</th>\n",
       "      <th>C</th>\n",
       "      <th>B</th>\n",
       "      <th>A</th>\n",
       "    </tr>\n",
       "  </thead>\n",
       "  <tbody>\n",
       "    <tr>\n",
       "      <th>2016-01-01</th>\n",
       "      <td>0.474962</td>\n",
       "      <td>0.414243</td>\n",
       "      <td>0.786486</td>\n",
       "      <td>0.445907</td>\n",
       "      <td>0.015455</td>\n",
       "    </tr>\n",
       "    <tr>\n",
       "      <th>2016-01-02</th>\n",
       "      <td>0.310232</td>\n",
       "      <td>0.696939</td>\n",
       "      <td>0.149022</td>\n",
       "      <td>0.982161</td>\n",
       "      <td>0.633936</td>\n",
       "    </tr>\n",
       "    <tr>\n",
       "      <th>2016-01-03</th>\n",
       "      <td>0.323074</td>\n",
       "      <td>0.332340</td>\n",
       "      <td>0.828252</td>\n",
       "      <td>0.254573</td>\n",
       "      <td>0.525241</td>\n",
       "    </tr>\n",
       "    <tr>\n",
       "      <th>2016-01-04</th>\n",
       "      <td>0.338244</td>\n",
       "      <td>0.633204</td>\n",
       "      <td>0.909905</td>\n",
       "      <td>0.922625</td>\n",
       "      <td>0.301161</td>\n",
       "    </tr>\n",
       "    <tr>\n",
       "      <th>2016-01-05</th>\n",
       "      <td>0.778469</td>\n",
       "      <td>0.589780</td>\n",
       "      <td>0.622667</td>\n",
       "      <td>0.858804</td>\n",
       "      <td>0.386795</td>\n",
       "    </tr>\n",
       "    <tr>\n",
       "      <th>2016-01-06</th>\n",
       "      <td>0.180148</td>\n",
       "      <td>0.297841</td>\n",
       "      <td>0.891654</td>\n",
       "      <td>0.565341</td>\n",
       "      <td>0.422340</td>\n",
       "    </tr>\n",
       "    <tr>\n",
       "      <th>2016-01-07</th>\n",
       "      <td>0.351467</td>\n",
       "      <td>0.339041</td>\n",
       "      <td>0.348846</td>\n",
       "      <td>0.845523</td>\n",
       "      <td>0.698572</td>\n",
       "    </tr>\n",
       "  </tbody>\n",
       "</table>\n",
       "</div>"
      ],
      "text/plain": [
       "                   E         D         C         B         A\n",
       "2016-01-01  0.474962  0.414243  0.786486  0.445907  0.015455\n",
       "2016-01-02  0.310232  0.696939  0.149022  0.982161  0.633936\n",
       "2016-01-03  0.323074  0.332340  0.828252  0.254573  0.525241\n",
       "2016-01-04  0.338244  0.633204  0.909905  0.922625  0.301161\n",
       "2016-01-05  0.778469  0.589780  0.622667  0.858804  0.386795\n",
       "2016-01-06  0.180148  0.297841  0.891654  0.565341  0.422340\n",
       "2016-01-07  0.351467  0.339041  0.348846  0.845523  0.698572"
      ]
     },
     "execution_count": 45,
     "metadata": {},
     "output_type": "execute_result"
    }
   ],
   "source": [
    "#Sorting by an axis\n",
    "df.sort_index(axis=1,ascending=False)"
   ]
  },
  {
   "cell_type": "code",
   "execution_count": 46,
   "metadata": {
    "collapsed": false
   },
   "outputs": [
    {
     "data": {
      "text/html": [
       "<div>\n",
       "<table border=\"1\" class=\"dataframe\">\n",
       "  <thead>\n",
       "    <tr style=\"text-align: right;\">\n",
       "      <th></th>\n",
       "      <th>A</th>\n",
       "      <th>B</th>\n",
       "      <th>C</th>\n",
       "      <th>D</th>\n",
       "      <th>E</th>\n",
       "    </tr>\n",
       "  </thead>\n",
       "  <tbody>\n",
       "    <tr>\n",
       "      <th>2016-01-01</th>\n",
       "      <td>0.015455</td>\n",
       "      <td>0.445907</td>\n",
       "      <td>0.786486</td>\n",
       "      <td>0.414243</td>\n",
       "      <td>0.474962</td>\n",
       "    </tr>\n",
       "    <tr>\n",
       "      <th>2016-01-04</th>\n",
       "      <td>0.301161</td>\n",
       "      <td>0.922625</td>\n",
       "      <td>0.909905</td>\n",
       "      <td>0.633204</td>\n",
       "      <td>0.338244</td>\n",
       "    </tr>\n",
       "    <tr>\n",
       "      <th>2016-01-05</th>\n",
       "      <td>0.386795</td>\n",
       "      <td>0.858804</td>\n",
       "      <td>0.622667</td>\n",
       "      <td>0.589780</td>\n",
       "      <td>0.778469</td>\n",
       "    </tr>\n",
       "    <tr>\n",
       "      <th>2016-01-06</th>\n",
       "      <td>0.422340</td>\n",
       "      <td>0.565341</td>\n",
       "      <td>0.891654</td>\n",
       "      <td>0.297841</td>\n",
       "      <td>0.180148</td>\n",
       "    </tr>\n",
       "    <tr>\n",
       "      <th>2016-01-03</th>\n",
       "      <td>0.525241</td>\n",
       "      <td>0.254573</td>\n",
       "      <td>0.828252</td>\n",
       "      <td>0.332340</td>\n",
       "      <td>0.323074</td>\n",
       "    </tr>\n",
       "    <tr>\n",
       "      <th>2016-01-02</th>\n",
       "      <td>0.633936</td>\n",
       "      <td>0.982161</td>\n",
       "      <td>0.149022</td>\n",
       "      <td>0.696939</td>\n",
       "      <td>0.310232</td>\n",
       "    </tr>\n",
       "    <tr>\n",
       "      <th>2016-01-07</th>\n",
       "      <td>0.698572</td>\n",
       "      <td>0.845523</td>\n",
       "      <td>0.348846</td>\n",
       "      <td>0.339041</td>\n",
       "      <td>0.351467</td>\n",
       "    </tr>\n",
       "  </tbody>\n",
       "</table>\n",
       "</div>"
      ],
      "text/plain": [
       "                   A         B         C         D         E\n",
       "2016-01-01  0.015455  0.445907  0.786486  0.414243  0.474962\n",
       "2016-01-04  0.301161  0.922625  0.909905  0.633204  0.338244\n",
       "2016-01-05  0.386795  0.858804  0.622667  0.589780  0.778469\n",
       "2016-01-06  0.422340  0.565341  0.891654  0.297841  0.180148\n",
       "2016-01-03  0.525241  0.254573  0.828252  0.332340  0.323074\n",
       "2016-01-02  0.633936  0.982161  0.149022  0.696939  0.310232\n",
       "2016-01-07  0.698572  0.845523  0.348846  0.339041  0.351467"
      ]
     },
     "execution_count": 46,
     "metadata": {},
     "output_type": "execute_result"
    }
   ],
   "source": [
    "# Sort by values\n",
    "df.sort_values(by='A')"
   ]
  },
  {
   "cell_type": "markdown",
   "metadata": {
    "collapsed": true
   },
   "source": [
    "# Selecting "
   ]
  },
  {
   "cell_type": "code",
   "execution_count": 48,
   "metadata": {
    "collapsed": false
   },
   "outputs": [
    {
     "data": {
      "text/plain": [
       "2016-01-01    0.015455\n",
       "2016-01-02    0.633936\n",
       "2016-01-03    0.525241\n",
       "2016-01-04    0.301161\n",
       "2016-01-05    0.386795\n",
       "2016-01-06    0.422340\n",
       "2016-01-07    0.698572\n",
       "Freq: D, Name: A, dtype: float64"
      ]
     },
     "execution_count": 48,
     "metadata": {},
     "output_type": "execute_result"
    }
   ],
   "source": [
    "df['A']  # Selecting a singlge column will output a dataseries , same as df.A\n",
    "df.A"
   ]
  },
  {
   "cell_type": "code",
   "execution_count": 67,
   "metadata": {
    "collapsed": false
   },
   "outputs": [
    {
     "data": {
      "text/html": [
       "<div>\n",
       "<table border=\"1\" class=\"dataframe\">\n",
       "  <thead>\n",
       "    <tr style=\"text-align: right;\">\n",
       "      <th></th>\n",
       "      <th>A</th>\n",
       "      <th>B</th>\n",
       "      <th>C</th>\n",
       "      <th>D</th>\n",
       "      <th>E</th>\n",
       "    </tr>\n",
       "  </thead>\n",
       "  <tbody>\n",
       "    <tr>\n",
       "      <th>2016-01-02</th>\n",
       "      <td>0.633936</td>\n",
       "      <td>0.982161</td>\n",
       "      <td>0.149022</td>\n",
       "      <td>0.696939</td>\n",
       "      <td>0.310232</td>\n",
       "    </tr>\n",
       "    <tr>\n",
       "      <th>2016-01-03</th>\n",
       "      <td>0.525241</td>\n",
       "      <td>0.254573</td>\n",
       "      <td>0.828252</td>\n",
       "      <td>0.332340</td>\n",
       "      <td>0.323074</td>\n",
       "    </tr>\n",
       "    <tr>\n",
       "      <th>2016-01-04</th>\n",
       "      <td>0.301161</td>\n",
       "      <td>0.922625</td>\n",
       "      <td>0.909905</td>\n",
       "      <td>0.633204</td>\n",
       "      <td>0.338244</td>\n",
       "    </tr>\n",
       "    <tr>\n",
       "      <th>2016-01-05</th>\n",
       "      <td>0.386795</td>\n",
       "      <td>0.858804</td>\n",
       "      <td>0.622667</td>\n",
       "      <td>0.589780</td>\n",
       "      <td>0.778469</td>\n",
       "    </tr>\n",
       "  </tbody>\n",
       "</table>\n",
       "</div>"
      ],
      "text/plain": [
       "                   A         B         C         D         E\n",
       "2016-01-02  0.633936  0.982161  0.149022  0.696939  0.310232\n",
       "2016-01-03  0.525241  0.254573  0.828252  0.332340  0.323074\n",
       "2016-01-04  0.301161  0.922625  0.909905  0.633204  0.338244\n",
       "2016-01-05  0.386795  0.858804  0.622667  0.589780  0.778469"
      ]
     },
     "execution_count": 67,
     "metadata": {},
     "output_type": "execute_result"
    }
   ],
   "source": [
    "#Selecting via [] slices the ROWS\n",
    "df[0:3]\n",
    "df['20160102':'20160105']"
   ]
  },
  {
   "cell_type": "code",
   "execution_count": 73,
   "metadata": {
    "collapsed": false
   },
   "outputs": [
    {
     "data": {
      "text/html": [
       "<div>\n",
       "<table border=\"1\" class=\"dataframe\">\n",
       "  <thead>\n",
       "    <tr style=\"text-align: right;\">\n",
       "      <th></th>\n",
       "      <th>A</th>\n",
       "      <th>B</th>\n",
       "      <th>C</th>\n",
       "      <th>D</th>\n",
       "      <th>E</th>\n",
       "    </tr>\n",
       "  </thead>\n",
       "  <tbody>\n",
       "    <tr>\n",
       "      <th>2016-01-01</th>\n",
       "      <td>0.015455</td>\n",
       "      <td>0.445907</td>\n",
       "      <td>0.786486</td>\n",
       "      <td>0.414243</td>\n",
       "      <td>0.474962</td>\n",
       "    </tr>\n",
       "    <tr>\n",
       "      <th>2016-01-02</th>\n",
       "      <td>0.633936</td>\n",
       "      <td>0.982161</td>\n",
       "      <td>0.149022</td>\n",
       "      <td>0.696939</td>\n",
       "      <td>0.310232</td>\n",
       "    </tr>\n",
       "  </tbody>\n",
       "</table>\n",
       "</div>"
      ],
      "text/plain": [
       "                   A         B         C         D         E\n",
       "2016-01-01  0.015455  0.445907  0.786486  0.414243  0.474962\n",
       "2016-01-02  0.633936  0.982161  0.149022  0.696939  0.310232"
      ]
     },
     "execution_count": 73,
     "metadata": {},
     "output_type": "execute_result"
    }
   ],
   "source": [
    "# Three ways to Select data\n",
    "# label .loc,.at\n",
    "# Position .iloc, .iat\n",
    "# Boolean Indexing\n",
    "df.loc[:'20160102',['A','B']]"
   ]
  },
  {
   "cell_type": "code",
   "execution_count": 74,
   "metadata": {
    "collapsed": false
   },
   "outputs": [
    {
     "data": {
      "text/plain": [
       "0.98216098206919411"
      ]
     },
     "execution_count": 74,
     "metadata": {},
     "output_type": "execute_result"
    }
   ],
   "source": [
    "# scalar value\n",
    "df.loc['20160102','B']"
   ]
  },
  {
   "cell_type": "code",
   "execution_count": 79,
   "metadata": {
    "collapsed": false
   },
   "outputs": [
    {
     "name": "stdout",
     "output_type": "stream",
     "text": [
      "0.254573417351\n"
     ]
    }
   ],
   "source": [
    "# fast scalar value -- note a label cannot be used directly if using .at\n",
    "print(df.at[dates[2],'B'])"
   ]
  },
  {
   "cell_type": "code",
   "execution_count": 86,
   "metadata": {
    "collapsed": false
   },
   "outputs": [
    {
     "data": {
      "text/html": [
       "<div>\n",
       "<table border=\"1\" class=\"dataframe\">\n",
       "  <thead>\n",
       "    <tr style=\"text-align: right;\">\n",
       "      <th></th>\n",
       "      <th>B</th>\n",
       "      <th>D</th>\n",
       "      <th>E</th>\n",
       "    </tr>\n",
       "  </thead>\n",
       "  <tbody>\n",
       "    <tr>\n",
       "      <th>2016-01-01</th>\n",
       "      <td>0.445907</td>\n",
       "      <td>0.414243</td>\n",
       "      <td>0.474962</td>\n",
       "    </tr>\n",
       "    <tr>\n",
       "      <th>2016-01-02</th>\n",
       "      <td>0.982161</td>\n",
       "      <td>0.696939</td>\n",
       "      <td>0.310232</td>\n",
       "    </tr>\n",
       "  </tbody>\n",
       "</table>\n",
       "</div>"
      ],
      "text/plain": [
       "                   B         D         E\n",
       "2016-01-01  0.445907  0.414243  0.474962\n",
       "2016-01-02  0.982161  0.696939  0.310232"
      ]
     },
     "execution_count": 86,
     "metadata": {},
     "output_type": "execute_result"
    }
   ],
   "source": [
    "# by position .iloc\n",
    "df.iloc[0:2,[1,3,4]]"
   ]
  },
  {
   "cell_type": "code",
   "execution_count": 87,
   "metadata": {
    "collapsed": false
   },
   "outputs": [
    {
     "data": {
      "text/html": [
       "<div>\n",
       "<table border=\"1\" class=\"dataframe\">\n",
       "  <thead>\n",
       "    <tr style=\"text-align: right;\">\n",
       "      <th></th>\n",
       "      <th>C</th>\n",
       "      <th>E</th>\n",
       "    </tr>\n",
       "  </thead>\n",
       "  <tbody>\n",
       "    <tr>\n",
       "      <th>2016-01-02</th>\n",
       "      <td>0.149022</td>\n",
       "      <td>0.310232</td>\n",
       "    </tr>\n",
       "    <tr>\n",
       "      <th>2016-01-03</th>\n",
       "      <td>0.828252</td>\n",
       "      <td>0.323074</td>\n",
       "    </tr>\n",
       "    <tr>\n",
       "      <th>2016-01-05</th>\n",
       "      <td>0.622667</td>\n",
       "      <td>0.778469</td>\n",
       "    </tr>\n",
       "  </tbody>\n",
       "</table>\n",
       "</div>"
      ],
      "text/plain": [
       "                   C         E\n",
       "2016-01-02  0.149022  0.310232\n",
       "2016-01-03  0.828252  0.323074\n",
       "2016-01-05  0.622667  0.778469"
      ]
     },
     "execution_count": 87,
     "metadata": {},
     "output_type": "execute_result"
    }
   ],
   "source": [
    "df.iloc[[1,2,4],[2,4]]"
   ]
  },
  {
   "cell_type": "code",
   "execution_count": 91,
   "metadata": {
    "collapsed": false
   },
   "outputs": [
    {
     "data": {
      "text/plain": [
       "0.98216098206919411"
      ]
     },
     "execution_count": 91,
     "metadata": {},
     "output_type": "execute_result"
    }
   ],
   "source": [
    "df.iat[1,1]"
   ]
  },
  {
   "cell_type": "code",
   "execution_count": 93,
   "metadata": {
    "collapsed": false
   },
   "outputs": [
    {
     "data": {
      "text/html": [
       "<div>\n",
       "<table border=\"1\" class=\"dataframe\">\n",
       "  <thead>\n",
       "    <tr style=\"text-align: right;\">\n",
       "      <th></th>\n",
       "      <th>A</th>\n",
       "      <th>B</th>\n",
       "      <th>C</th>\n",
       "      <th>D</th>\n",
       "      <th>E</th>\n",
       "    </tr>\n",
       "  </thead>\n",
       "  <tbody>\n",
       "    <tr>\n",
       "      <th>2016-01-02</th>\n",
       "      <td>0.633936</td>\n",
       "      <td>0.982161</td>\n",
       "      <td>0.149022</td>\n",
       "      <td>0.696939</td>\n",
       "      <td>0.310232</td>\n",
       "    </tr>\n",
       "    <tr>\n",
       "      <th>2016-01-03</th>\n",
       "      <td>0.525241</td>\n",
       "      <td>0.254573</td>\n",
       "      <td>0.828252</td>\n",
       "      <td>0.332340</td>\n",
       "      <td>0.323074</td>\n",
       "    </tr>\n",
       "    <tr>\n",
       "      <th>2016-01-07</th>\n",
       "      <td>0.698572</td>\n",
       "      <td>0.845523</td>\n",
       "      <td>0.348846</td>\n",
       "      <td>0.339041</td>\n",
       "      <td>0.351467</td>\n",
       "    </tr>\n",
       "  </tbody>\n",
       "</table>\n",
       "</div>"
      ],
      "text/plain": [
       "                   A         B         C         D         E\n",
       "2016-01-02  0.633936  0.982161  0.149022  0.696939  0.310232\n",
       "2016-01-03  0.525241  0.254573  0.828252  0.332340  0.323074\n",
       "2016-01-07  0.698572  0.845523  0.348846  0.339041  0.351467"
      ]
     },
     "execution_count": 93,
     "metadata": {},
     "output_type": "execute_result"
    }
   ],
   "source": [
    "#boolean indexing\n",
    "df[df.A > 0.5]"
   ]
  },
  {
   "cell_type": "code",
   "execution_count": 94,
   "metadata": {
    "collapsed": false
   },
   "outputs": [
    {
     "data": {
      "text/html": [
       "<div>\n",
       "<table border=\"1\" class=\"dataframe\">\n",
       "  <thead>\n",
       "    <tr style=\"text-align: right;\">\n",
       "      <th></th>\n",
       "      <th>A</th>\n",
       "      <th>B</th>\n",
       "      <th>C</th>\n",
       "      <th>D</th>\n",
       "      <th>E</th>\n",
       "    </tr>\n",
       "  </thead>\n",
       "  <tbody>\n",
       "    <tr>\n",
       "      <th>2016-01-01</th>\n",
       "      <td>NaN</td>\n",
       "      <td>NaN</td>\n",
       "      <td>0.786486</td>\n",
       "      <td>NaN</td>\n",
       "      <td>NaN</td>\n",
       "    </tr>\n",
       "    <tr>\n",
       "      <th>2016-01-02</th>\n",
       "      <td>0.633936</td>\n",
       "      <td>0.982161</td>\n",
       "      <td>NaN</td>\n",
       "      <td>0.696939</td>\n",
       "      <td>NaN</td>\n",
       "    </tr>\n",
       "    <tr>\n",
       "      <th>2016-01-03</th>\n",
       "      <td>0.525241</td>\n",
       "      <td>NaN</td>\n",
       "      <td>0.828252</td>\n",
       "      <td>NaN</td>\n",
       "      <td>NaN</td>\n",
       "    </tr>\n",
       "    <tr>\n",
       "      <th>2016-01-04</th>\n",
       "      <td>NaN</td>\n",
       "      <td>0.922625</td>\n",
       "      <td>0.909905</td>\n",
       "      <td>0.633204</td>\n",
       "      <td>NaN</td>\n",
       "    </tr>\n",
       "    <tr>\n",
       "      <th>2016-01-05</th>\n",
       "      <td>NaN</td>\n",
       "      <td>0.858804</td>\n",
       "      <td>0.622667</td>\n",
       "      <td>0.589780</td>\n",
       "      <td>0.778469</td>\n",
       "    </tr>\n",
       "    <tr>\n",
       "      <th>2016-01-06</th>\n",
       "      <td>NaN</td>\n",
       "      <td>0.565341</td>\n",
       "      <td>0.891654</td>\n",
       "      <td>NaN</td>\n",
       "      <td>NaN</td>\n",
       "    </tr>\n",
       "    <tr>\n",
       "      <th>2016-01-07</th>\n",
       "      <td>0.698572</td>\n",
       "      <td>0.845523</td>\n",
       "      <td>NaN</td>\n",
       "      <td>NaN</td>\n",
       "      <td>NaN</td>\n",
       "    </tr>\n",
       "  </tbody>\n",
       "</table>\n",
       "</div>"
      ],
      "text/plain": [
       "                   A         B         C         D         E\n",
       "2016-01-01       NaN       NaN  0.786486       NaN       NaN\n",
       "2016-01-02  0.633936  0.982161       NaN  0.696939       NaN\n",
       "2016-01-03  0.525241       NaN  0.828252       NaN       NaN\n",
       "2016-01-04       NaN  0.922625  0.909905  0.633204       NaN\n",
       "2016-01-05       NaN  0.858804  0.622667  0.589780  0.778469\n",
       "2016-01-06       NaN  0.565341  0.891654       NaN       NaN\n",
       "2016-01-07  0.698572  0.845523       NaN       NaN       NaN"
      ]
     },
     "execution_count": 94,
     "metadata": {},
     "output_type": "execute_result"
    }
   ],
   "source": [
    "df[df>0.5]"
   ]
  },
  {
   "cell_type": "code",
   "execution_count": 95,
   "metadata": {
    "collapsed": true
   },
   "outputs": [],
   "source": [
    "df2=df.copy()\n",
    "df2['E']=['one','two','three','four','five','six','seven']"
   ]
  },
  {
   "cell_type": "code",
   "execution_count": 96,
   "metadata": {
    "collapsed": false
   },
   "outputs": [
    {
     "data": {
      "text/html": [
       "<div>\n",
       "<table border=\"1\" class=\"dataframe\">\n",
       "  <thead>\n",
       "    <tr style=\"text-align: right;\">\n",
       "      <th></th>\n",
       "      <th>A</th>\n",
       "      <th>B</th>\n",
       "      <th>C</th>\n",
       "      <th>D</th>\n",
       "      <th>E</th>\n",
       "    </tr>\n",
       "  </thead>\n",
       "  <tbody>\n",
       "    <tr>\n",
       "      <th>2016-01-01</th>\n",
       "      <td>0.015455</td>\n",
       "      <td>0.445907</td>\n",
       "      <td>0.786486</td>\n",
       "      <td>0.414243</td>\n",
       "      <td>one</td>\n",
       "    </tr>\n",
       "    <tr>\n",
       "      <th>2016-01-02</th>\n",
       "      <td>0.633936</td>\n",
       "      <td>0.982161</td>\n",
       "      <td>0.149022</td>\n",
       "      <td>0.696939</td>\n",
       "      <td>two</td>\n",
       "    </tr>\n",
       "    <tr>\n",
       "      <th>2016-01-03</th>\n",
       "      <td>0.525241</td>\n",
       "      <td>0.254573</td>\n",
       "      <td>0.828252</td>\n",
       "      <td>0.332340</td>\n",
       "      <td>three</td>\n",
       "    </tr>\n",
       "    <tr>\n",
       "      <th>2016-01-04</th>\n",
       "      <td>0.301161</td>\n",
       "      <td>0.922625</td>\n",
       "      <td>0.909905</td>\n",
       "      <td>0.633204</td>\n",
       "      <td>four</td>\n",
       "    </tr>\n",
       "    <tr>\n",
       "      <th>2016-01-05</th>\n",
       "      <td>0.386795</td>\n",
       "      <td>0.858804</td>\n",
       "      <td>0.622667</td>\n",
       "      <td>0.589780</td>\n",
       "      <td>five</td>\n",
       "    </tr>\n",
       "    <tr>\n",
       "      <th>2016-01-06</th>\n",
       "      <td>0.422340</td>\n",
       "      <td>0.565341</td>\n",
       "      <td>0.891654</td>\n",
       "      <td>0.297841</td>\n",
       "      <td>six</td>\n",
       "    </tr>\n",
       "    <tr>\n",
       "      <th>2016-01-07</th>\n",
       "      <td>0.698572</td>\n",
       "      <td>0.845523</td>\n",
       "      <td>0.348846</td>\n",
       "      <td>0.339041</td>\n",
       "      <td>seven</td>\n",
       "    </tr>\n",
       "  </tbody>\n",
       "</table>\n",
       "</div>"
      ],
      "text/plain": [
       "                   A         B         C         D      E\n",
       "2016-01-01  0.015455  0.445907  0.786486  0.414243    one\n",
       "2016-01-02  0.633936  0.982161  0.149022  0.696939    two\n",
       "2016-01-03  0.525241  0.254573  0.828252  0.332340  three\n",
       "2016-01-04  0.301161  0.922625  0.909905  0.633204   four\n",
       "2016-01-05  0.386795  0.858804  0.622667  0.589780   five\n",
       "2016-01-06  0.422340  0.565341  0.891654  0.297841    six\n",
       "2016-01-07  0.698572  0.845523  0.348846  0.339041  seven"
      ]
     },
     "execution_count": 96,
     "metadata": {},
     "output_type": "execute_result"
    }
   ],
   "source": [
    "df2"
   ]
  },
  {
   "cell_type": "code",
   "execution_count": 98,
   "metadata": {
    "collapsed": false
   },
   "outputs": [
    {
     "data": {
      "text/html": [
       "<div>\n",
       "<table border=\"1\" class=\"dataframe\">\n",
       "  <thead>\n",
       "    <tr style=\"text-align: right;\">\n",
       "      <th></th>\n",
       "      <th>A</th>\n",
       "      <th>B</th>\n",
       "      <th>C</th>\n",
       "      <th>D</th>\n",
       "      <th>E</th>\n",
       "    </tr>\n",
       "  </thead>\n",
       "  <tbody>\n",
       "    <tr>\n",
       "      <th>2016-01-01</th>\n",
       "      <td>0.015455</td>\n",
       "      <td>0.445907</td>\n",
       "      <td>0.786486</td>\n",
       "      <td>0.414243</td>\n",
       "      <td>one</td>\n",
       "    </tr>\n",
       "    <tr>\n",
       "      <th>2016-01-03</th>\n",
       "      <td>0.525241</td>\n",
       "      <td>0.254573</td>\n",
       "      <td>0.828252</td>\n",
       "      <td>0.332340</td>\n",
       "      <td>three</td>\n",
       "    </tr>\n",
       "  </tbody>\n",
       "</table>\n",
       "</div>"
      ],
      "text/plain": [
       "                   A         B         C         D      E\n",
       "2016-01-01  0.015455  0.445907  0.786486  0.414243    one\n",
       "2016-01-03  0.525241  0.254573  0.828252  0.332340  three"
      ]
     },
     "execution_count": 98,
     "metadata": {},
     "output_type": "execute_result"
    }
   ],
   "source": [
    "df2[df2['E'].isin(['one','three'])]"
   ]
  },
  {
   "cell_type": "markdown",
   "metadata": {
    "collapsed": true
   },
   "source": [
    "# Setting"
   ]
  },
  {
   "cell_type": "code",
   "execution_count": 106,
   "metadata": {
    "collapsed": true
   },
   "outputs": [],
   "source": [
    "s1=pd.Series([1,2,3,4,5,6],index=pd.date_range('20160102',periods=6))"
   ]
  },
  {
   "cell_type": "code",
   "execution_count": 102,
   "metadata": {
    "collapsed": false
   },
   "outputs": [
    {
     "data": {
      "text/plain": [
       "2013-01-02    1\n",
       "2013-01-03    2\n",
       "2013-01-04    3\n",
       "2013-01-05    4\n",
       "2013-01-06    5\n",
       "2013-01-07    6\n",
       "Freq: D, dtype: int64"
      ]
     },
     "execution_count": 102,
     "metadata": {},
     "output_type": "execute_result"
    }
   ],
   "source": [
    "s1"
   ]
  },
  {
   "cell_type": "code",
   "execution_count": 103,
   "metadata": {
    "collapsed": false
   },
   "outputs": [
    {
     "data": {
      "text/html": [
       "<div>\n",
       "<table border=\"1\" class=\"dataframe\">\n",
       "  <thead>\n",
       "    <tr style=\"text-align: right;\">\n",
       "      <th></th>\n",
       "      <th>A</th>\n",
       "      <th>B</th>\n",
       "      <th>C</th>\n",
       "      <th>D</th>\n",
       "      <th>E</th>\n",
       "    </tr>\n",
       "  </thead>\n",
       "  <tbody>\n",
       "    <tr>\n",
       "      <th>2016-01-01</th>\n",
       "      <td>0.015455</td>\n",
       "      <td>0.445907</td>\n",
       "      <td>0.786486</td>\n",
       "      <td>0.414243</td>\n",
       "      <td>0.474962</td>\n",
       "    </tr>\n",
       "    <tr>\n",
       "      <th>2016-01-02</th>\n",
       "      <td>0.633936</td>\n",
       "      <td>0.982161</td>\n",
       "      <td>0.149022</td>\n",
       "      <td>0.696939</td>\n",
       "      <td>0.310232</td>\n",
       "    </tr>\n",
       "    <tr>\n",
       "      <th>2016-01-03</th>\n",
       "      <td>0.525241</td>\n",
       "      <td>0.254573</td>\n",
       "      <td>0.828252</td>\n",
       "      <td>0.332340</td>\n",
       "      <td>0.323074</td>\n",
       "    </tr>\n",
       "    <tr>\n",
       "      <th>2016-01-04</th>\n",
       "      <td>0.301161</td>\n",
       "      <td>0.922625</td>\n",
       "      <td>0.909905</td>\n",
       "      <td>0.633204</td>\n",
       "      <td>0.338244</td>\n",
       "    </tr>\n",
       "    <tr>\n",
       "      <th>2016-01-05</th>\n",
       "      <td>0.386795</td>\n",
       "      <td>0.858804</td>\n",
       "      <td>0.622667</td>\n",
       "      <td>0.589780</td>\n",
       "      <td>0.778469</td>\n",
       "    </tr>\n",
       "    <tr>\n",
       "      <th>2016-01-06</th>\n",
       "      <td>0.422340</td>\n",
       "      <td>0.565341</td>\n",
       "      <td>0.891654</td>\n",
       "      <td>0.297841</td>\n",
       "      <td>0.180148</td>\n",
       "    </tr>\n",
       "    <tr>\n",
       "      <th>2016-01-07</th>\n",
       "      <td>0.698572</td>\n",
       "      <td>0.845523</td>\n",
       "      <td>0.348846</td>\n",
       "      <td>0.339041</td>\n",
       "      <td>0.351467</td>\n",
       "    </tr>\n",
       "  </tbody>\n",
       "</table>\n",
       "</div>"
      ],
      "text/plain": [
       "                   A         B         C         D         E\n",
       "2016-01-01  0.015455  0.445907  0.786486  0.414243  0.474962\n",
       "2016-01-02  0.633936  0.982161  0.149022  0.696939  0.310232\n",
       "2016-01-03  0.525241  0.254573  0.828252  0.332340  0.323074\n",
       "2016-01-04  0.301161  0.922625  0.909905  0.633204  0.338244\n",
       "2016-01-05  0.386795  0.858804  0.622667  0.589780  0.778469\n",
       "2016-01-06  0.422340  0.565341  0.891654  0.297841  0.180148\n",
       "2016-01-07  0.698572  0.845523  0.348846  0.339041  0.351467"
      ]
     },
     "execution_count": 103,
     "metadata": {},
     "output_type": "execute_result"
    }
   ],
   "source": [
    "df"
   ]
  },
  {
   "cell_type": "code",
   "execution_count": 107,
   "metadata": {
    "collapsed": true
   },
   "outputs": [],
   "source": [
    "df['F']=s1"
   ]
  },
  {
   "cell_type": "code",
   "execution_count": 114,
   "metadata": {
    "collapsed": false
   },
   "outputs": [],
   "source": [
    "del df['G']"
   ]
  },
  {
   "cell_type": "code",
   "execution_count": 115,
   "metadata": {
    "collapsed": false
   },
   "outputs": [
    {
     "data": {
      "text/html": [
       "<div>\n",
       "<table border=\"1\" class=\"dataframe\">\n",
       "  <thead>\n",
       "    <tr style=\"text-align: right;\">\n",
       "      <th></th>\n",
       "      <th>A</th>\n",
       "      <th>B</th>\n",
       "      <th>C</th>\n",
       "      <th>D</th>\n",
       "      <th>E</th>\n",
       "      <th>F</th>\n",
       "    </tr>\n",
       "  </thead>\n",
       "  <tbody>\n",
       "    <tr>\n",
       "      <th>2016-01-01</th>\n",
       "      <td>0.015455</td>\n",
       "      <td>0.445907</td>\n",
       "      <td>0.786486</td>\n",
       "      <td>0.414243</td>\n",
       "      <td>0.474962</td>\n",
       "      <td>NaN</td>\n",
       "    </tr>\n",
       "    <tr>\n",
       "      <th>2016-01-02</th>\n",
       "      <td>0.633936</td>\n",
       "      <td>0.982161</td>\n",
       "      <td>0.149022</td>\n",
       "      <td>0.696939</td>\n",
       "      <td>0.310232</td>\n",
       "      <td>1.0</td>\n",
       "    </tr>\n",
       "    <tr>\n",
       "      <th>2016-01-03</th>\n",
       "      <td>0.525241</td>\n",
       "      <td>0.254573</td>\n",
       "      <td>0.828252</td>\n",
       "      <td>0.332340</td>\n",
       "      <td>0.323074</td>\n",
       "      <td>2.0</td>\n",
       "    </tr>\n",
       "    <tr>\n",
       "      <th>2016-01-04</th>\n",
       "      <td>0.301161</td>\n",
       "      <td>0.922625</td>\n",
       "      <td>0.909905</td>\n",
       "      <td>0.633204</td>\n",
       "      <td>0.338244</td>\n",
       "      <td>3.0</td>\n",
       "    </tr>\n",
       "    <tr>\n",
       "      <th>2016-01-05</th>\n",
       "      <td>0.386795</td>\n",
       "      <td>0.858804</td>\n",
       "      <td>0.622667</td>\n",
       "      <td>0.589780</td>\n",
       "      <td>0.778469</td>\n",
       "      <td>4.0</td>\n",
       "    </tr>\n",
       "    <tr>\n",
       "      <th>2016-01-06</th>\n",
       "      <td>0.422340</td>\n",
       "      <td>0.565341</td>\n",
       "      <td>0.891654</td>\n",
       "      <td>0.297841</td>\n",
       "      <td>0.180148</td>\n",
       "      <td>5.0</td>\n",
       "    </tr>\n",
       "    <tr>\n",
       "      <th>2016-01-07</th>\n",
       "      <td>0.698572</td>\n",
       "      <td>0.845523</td>\n",
       "      <td>0.348846</td>\n",
       "      <td>0.339041</td>\n",
       "      <td>0.351467</td>\n",
       "      <td>6.0</td>\n",
       "    </tr>\n",
       "  </tbody>\n",
       "</table>\n",
       "</div>"
      ],
      "text/plain": [
       "                   A         B         C         D         E    F\n",
       "2016-01-01  0.015455  0.445907  0.786486  0.414243  0.474962  NaN\n",
       "2016-01-02  0.633936  0.982161  0.149022  0.696939  0.310232  1.0\n",
       "2016-01-03  0.525241  0.254573  0.828252  0.332340  0.323074  2.0\n",
       "2016-01-04  0.301161  0.922625  0.909905  0.633204  0.338244  3.0\n",
       "2016-01-05  0.386795  0.858804  0.622667  0.589780  0.778469  4.0\n",
       "2016-01-06  0.422340  0.565341  0.891654  0.297841  0.180148  5.0\n",
       "2016-01-07  0.698572  0.845523  0.348846  0.339041  0.351467  6.0"
      ]
     },
     "execution_count": 115,
     "metadata": {},
     "output_type": "execute_result"
    }
   ],
   "source": [
    "df"
   ]
  },
  {
   "cell_type": "code",
   "execution_count": null,
   "metadata": {
    "collapsed": true
   },
   "outputs": [],
   "source": [
    "#Setting by label\n",
    "df.at[dates[0],'A']=1\n",
    "#Setting by position\n",
    "df.iat[0,1]=1\n",
    "#By assigning a numpy array\n",
    "df.loc[:,'D']=np.array([5]*len(df))"
   ]
  },
  {
   "cell_type": "code",
   "execution_count": 116,
   "metadata": {
    "collapsed": true
   },
   "outputs": [],
   "source": [
    "#Where operation with setting\n",
    "df[df>0]=3"
   ]
  },
  {
   "cell_type": "code",
   "execution_count": 117,
   "metadata": {
    "collapsed": true
   },
   "outputs": [],
   "source": [
    "mylist=[]"
   ]
  },
  {
   "cell_type": "code",
   "execution_count": 120,
   "metadata": {
    "collapsed": false
   },
   "outputs": [
    {
     "data": {
      "text/plain": [
       "[1, 1]"
      ]
     },
     "execution_count": 120,
     "metadata": {},
     "output_type": "execute_result"
    }
   ],
   "source": [
    "mylist.insert(0,1)\n",
    "mylist"
   ]
  },
  {
   "cell_type": "markdown",
   "metadata": {
    "collapsed": true
   },
   "source": [
    "# Merge,Concat,Append,Join"
   ]
  },
  {
   "cell_type": "code",
   "execution_count": 6,
   "metadata": {
    "collapsed": false
   },
   "outputs": [],
   "source": [
    "import numpy as np\n",
    "import pandas as pd"
   ]
  },
  {
   "cell_type": "code",
   "execution_count": 10,
   "metadata": {
    "collapsed": false
   },
   "outputs": [],
   "source": [
    "df=pd.DataFrame(np.random.randn(10,5))"
   ]
  },
  {
   "cell_type": "code",
   "execution_count": 19,
   "metadata": {
    "collapsed": false
   },
   "outputs": [
    {
     "ename": "SyntaxError",
     "evalue": "invalid syntax (<ipython-input-19-da5077c6087d>, line 1)",
     "output_type": "error",
     "traceback": [
      "\u001b[1;36m  File \u001b[1;32m\"<ipython-input-19-da5077c6087d>\"\u001b[1;36m, line \u001b[1;32m1\u001b[0m\n\u001b[1;33m    df[0:2,axis=1]\u001b[0m\n\u001b[1;37m               ^\u001b[0m\n\u001b[1;31mSyntaxError\u001b[0m\u001b[1;31m:\u001b[0m invalid syntax\n"
     ]
    }
   ],
   "source": [
    "df[0:2]"
   ]
  },
  {
   "cell_type": "code",
   "execution_count": 45,
   "metadata": {
    "collapsed": false
   },
   "outputs": [
    {
     "name": "stdout",
     "output_type": "stream",
     "text": [
      "     A   B\n",
      "K0  A0  B0\n",
      "K1  A1  B1\n",
      "K2  A2  B2\n",
      "     C   D\n",
      "K0  C0  D0\n",
      "K2  C2  D2\n",
      "K3  C3  D3\n"
     ]
    }
   ],
   "source": [
    "left = pd.DataFrame({'A': ['A0', 'A1', 'A2'],\n",
    "                     'B': ['B0', 'B1', 'B2'],\n",
    "                    },\n",
    "                    index=['K0', 'K1', 'K2'])\n",
    "right = pd.DataFrame({'C': ['C0', 'C2', 'C3'],\n",
    "                      'D': ['D0', 'D2', 'D3'],\n",
    "                     },\n",
    "                     index=['K0', 'K2', 'K3'])\n",
    "print(left)\n",
    "print(right)"
   ]
  },
  {
   "cell_type": "markdown",
   "metadata": {},
   "source": [
    "# Join"
   ]
  },
  {
   "cell_type": "code",
   "execution_count": 46,
   "metadata": {
    "collapsed": false
   },
   "outputs": [
    {
     "data": {
      "text/html": [
       "<div>\n",
       "<table border=\"1\" class=\"dataframe\">\n",
       "  <thead>\n",
       "    <tr style=\"text-align: right;\">\n",
       "      <th></th>\n",
       "      <th>A</th>\n",
       "      <th>B</th>\n",
       "      <th>C</th>\n",
       "      <th>D</th>\n",
       "    </tr>\n",
       "  </thead>\n",
       "  <tbody>\n",
       "    <tr>\n",
       "      <th>K0</th>\n",
       "      <td>A0</td>\n",
       "      <td>B0</td>\n",
       "      <td>C0</td>\n",
       "      <td>D0</td>\n",
       "    </tr>\n",
       "    <tr>\n",
       "      <th>K1</th>\n",
       "      <td>A1</td>\n",
       "      <td>B1</td>\n",
       "      <td>NaN</td>\n",
       "      <td>NaN</td>\n",
       "    </tr>\n",
       "    <tr>\n",
       "      <th>K2</th>\n",
       "      <td>A2</td>\n",
       "      <td>B2</td>\n",
       "      <td>C2</td>\n",
       "      <td>D2</td>\n",
       "    </tr>\n",
       "  </tbody>\n",
       "</table>\n",
       "</div>"
      ],
      "text/plain": [
       "     A   B    C    D\n",
       "K0  A0  B0   C0   D0\n",
       "K1  A1  B1  NaN  NaN\n",
       "K2  A2  B2   C2   D2"
      ]
     },
     "execution_count": 46,
     "metadata": {},
     "output_type": "execute_result"
    }
   ],
   "source": [
    "result = left.join(right) # by default its a left join\n",
    "result"
   ]
  },
  {
   "cell_type": "code",
   "execution_count": 27,
   "metadata": {
    "collapsed": false
   },
   "outputs": [
    {
     "data": {
      "text/html": [
       "<div>\n",
       "<table border=\"1\" class=\"dataframe\">\n",
       "  <thead>\n",
       "    <tr style=\"text-align: right;\">\n",
       "      <th></th>\n",
       "      <th>A</th>\n",
       "      <th>B</th>\n",
       "      <th>C</th>\n",
       "      <th>D</th>\n",
       "    </tr>\n",
       "  </thead>\n",
       "  <tbody>\n",
       "    <tr>\n",
       "      <th>K0</th>\n",
       "      <td>A0</td>\n",
       "      <td>B0</td>\n",
       "      <td>C0</td>\n",
       "      <td>D0</td>\n",
       "    </tr>\n",
       "    <tr>\n",
       "      <th>K2</th>\n",
       "      <td>A2</td>\n",
       "      <td>B2</td>\n",
       "      <td>C2</td>\n",
       "      <td>D2</td>\n",
       "    </tr>\n",
       "  </tbody>\n",
       "</table>\n",
       "</div>"
      ],
      "text/plain": [
       "     A   B   C   D\n",
       "K0  A0  B0  C0  D0\n",
       "K2  A2  B2  C2  D2"
      ]
     },
     "execution_count": 27,
     "metadata": {},
     "output_type": "execute_result"
    }
   ],
   "source": [
    "left.join(right,how='inner') # You can specify type of join by using how"
   ]
  },
  {
   "cell_type": "markdown",
   "metadata": {},
   "source": [
    "# Merge"
   ]
  },
  {
   "cell_type": "code",
   "execution_count": 42,
   "metadata": {
    "collapsed": false
   },
   "outputs": [
    {
     "name": "stdout",
     "output_type": "stream",
     "text": [
      "     A   B  type\n",
      "K0  A0  B0   car\n",
      "K1  A1  B1  jack\n",
      "K2  A2  B2  wolf\n",
      "     C   D   type\n",
      "K0  C0  D0  tiger\n",
      "K1  C2  D2   wolf\n",
      "K2  C3  D3   jack\n"
     ]
    }
   ],
   "source": [
    "left = pd.DataFrame({'A': ['A0', 'A1', 'A2'],\n",
    "                     'B': ['B0', 'B1', 'B2'],\n",
    "                    'type':['car','jack','wolf']},\n",
    "                    index=['K0', 'K1', 'K2'])\n",
    "right = pd.DataFrame({'C': ['C0', 'C2', 'C3'],\n",
    "                      'D': ['D0', 'D2', 'D3'],\n",
    "                     'type':['tiger','wolf','jack']},\n",
    "                     index=['K0', 'K1', 'K2'])\n",
    "print(left)\n",
    "print(right)"
   ]
  },
  {
   "cell_type": "code",
   "execution_count": 43,
   "metadata": {
    "collapsed": false
   },
   "outputs": [
    {
     "data": {
      "text/html": [
       "<div>\n",
       "<table border=\"1\" class=\"dataframe\">\n",
       "  <thead>\n",
       "    <tr style=\"text-align: right;\">\n",
       "      <th></th>\n",
       "      <th>A</th>\n",
       "      <th>B</th>\n",
       "      <th>type</th>\n",
       "      <th>C</th>\n",
       "      <th>D</th>\n",
       "    </tr>\n",
       "  </thead>\n",
       "  <tbody>\n",
       "    <tr>\n",
       "      <th>0</th>\n",
       "      <td>A1</td>\n",
       "      <td>B1</td>\n",
       "      <td>jack</td>\n",
       "      <td>C3</td>\n",
       "      <td>D3</td>\n",
       "    </tr>\n",
       "    <tr>\n",
       "      <th>1</th>\n",
       "      <td>A2</td>\n",
       "      <td>B2</td>\n",
       "      <td>wolf</td>\n",
       "      <td>C2</td>\n",
       "      <td>D2</td>\n",
       "    </tr>\n",
       "  </tbody>\n",
       "</table>\n",
       "</div>"
      ],
      "text/plain": [
       "    A   B  type   C   D\n",
       "0  A1  B1  jack  C3  D3\n",
       "1  A2  B2  wolf  C2  D2"
      ]
     },
     "execution_count": 43,
     "metadata": {},
     "output_type": "execute_result"
    }
   ],
   "source": [
    "left.merge(right,how='inner',on='type')"
   ]
  },
  {
   "cell_type": "markdown",
   "metadata": {},
   "source": [
    "# Append"
   ]
  },
  {
   "cell_type": "code",
   "execution_count": 49,
   "metadata": {
    "collapsed": false
   },
   "outputs": [
    {
     "data": {
      "text/html": [
       "<div>\n",
       "<table border=\"1\" class=\"dataframe\">\n",
       "  <thead>\n",
       "    <tr style=\"text-align: right;\">\n",
       "      <th></th>\n",
       "      <th>A</th>\n",
       "      <th>B</th>\n",
       "      <th>C</th>\n",
       "      <th>D</th>\n",
       "    </tr>\n",
       "  </thead>\n",
       "  <tbody>\n",
       "    <tr>\n",
       "      <th>K0</th>\n",
       "      <td>A0</td>\n",
       "      <td>B0</td>\n",
       "      <td>NaN</td>\n",
       "      <td>NaN</td>\n",
       "    </tr>\n",
       "    <tr>\n",
       "      <th>K1</th>\n",
       "      <td>A1</td>\n",
       "      <td>B1</td>\n",
       "      <td>NaN</td>\n",
       "      <td>NaN</td>\n",
       "    </tr>\n",
       "    <tr>\n",
       "      <th>K2</th>\n",
       "      <td>A2</td>\n",
       "      <td>B2</td>\n",
       "      <td>NaN</td>\n",
       "      <td>NaN</td>\n",
       "    </tr>\n",
       "    <tr>\n",
       "      <th>K0</th>\n",
       "      <td>NaN</td>\n",
       "      <td>NaN</td>\n",
       "      <td>C0</td>\n",
       "      <td>D0</td>\n",
       "    </tr>\n",
       "    <tr>\n",
       "      <th>K2</th>\n",
       "      <td>NaN</td>\n",
       "      <td>NaN</td>\n",
       "      <td>C2</td>\n",
       "      <td>D2</td>\n",
       "    </tr>\n",
       "    <tr>\n",
       "      <th>K3</th>\n",
       "      <td>NaN</td>\n",
       "      <td>NaN</td>\n",
       "      <td>C3</td>\n",
       "      <td>D3</td>\n",
       "    </tr>\n",
       "  </tbody>\n",
       "</table>\n",
       "</div>"
      ],
      "text/plain": [
       "      A    B    C    D\n",
       "K0   A0   B0  NaN  NaN\n",
       "K1   A1   B1  NaN  NaN\n",
       "K2   A2   B2  NaN  NaN\n",
       "K0  NaN  NaN   C0   D0\n",
       "K2  NaN  NaN   C2   D2\n",
       "K3  NaN  NaN   C3   D3"
      ]
     },
     "execution_count": 49,
     "metadata": {},
     "output_type": "execute_result"
    }
   ],
   "source": [
    "left.append(right)"
   ]
  },
  {
   "cell_type": "markdown",
   "metadata": {},
   "source": [
    "# Concat"
   ]
  },
  {
   "cell_type": "code",
   "execution_count": 52,
   "metadata": {
    "collapsed": false
   },
   "outputs": [
    {
     "data": {
      "text/html": [
       "<div>\n",
       "<table border=\"1\" class=\"dataframe\">\n",
       "  <thead>\n",
       "    <tr style=\"text-align: right;\">\n",
       "      <th></th>\n",
       "      <th>A</th>\n",
       "      <th>B</th>\n",
       "      <th>C</th>\n",
       "      <th>D</th>\n",
       "    </tr>\n",
       "  </thead>\n",
       "  <tbody>\n",
       "    <tr>\n",
       "      <th>K0</th>\n",
       "      <td>A0</td>\n",
       "      <td>B0</td>\n",
       "      <td>NaN</td>\n",
       "      <td>NaN</td>\n",
       "    </tr>\n",
       "    <tr>\n",
       "      <th>K1</th>\n",
       "      <td>A1</td>\n",
       "      <td>B1</td>\n",
       "      <td>NaN</td>\n",
       "      <td>NaN</td>\n",
       "    </tr>\n",
       "    <tr>\n",
       "      <th>K2</th>\n",
       "      <td>A2</td>\n",
       "      <td>B2</td>\n",
       "      <td>NaN</td>\n",
       "      <td>NaN</td>\n",
       "    </tr>\n",
       "    <tr>\n",
       "      <th>K0</th>\n",
       "      <td>NaN</td>\n",
       "      <td>NaN</td>\n",
       "      <td>C0</td>\n",
       "      <td>D0</td>\n",
       "    </tr>\n",
       "    <tr>\n",
       "      <th>K2</th>\n",
       "      <td>NaN</td>\n",
       "      <td>NaN</td>\n",
       "      <td>C2</td>\n",
       "      <td>D2</td>\n",
       "    </tr>\n",
       "    <tr>\n",
       "      <th>K3</th>\n",
       "      <td>NaN</td>\n",
       "      <td>NaN</td>\n",
       "      <td>C3</td>\n",
       "      <td>D3</td>\n",
       "    </tr>\n",
       "  </tbody>\n",
       "</table>\n",
       "</div>"
      ],
      "text/plain": [
       "      A    B    C    D\n",
       "K0   A0   B0  NaN  NaN\n",
       "K1   A1   B1  NaN  NaN\n",
       "K2   A2   B2  NaN  NaN\n",
       "K0  NaN  NaN   C0   D0\n",
       "K2  NaN  NaN   C2   D2\n",
       "K3  NaN  NaN   C3   D3"
      ]
     },
     "execution_count": 52,
     "metadata": {},
     "output_type": "execute_result"
    }
   ],
   "source": [
    "mylist=[left,right]\n",
    "pd.concat(mylist)"
   ]
  },
  {
   "cell_type": "code",
   "execution_count": null,
   "metadata": {
    "collapsed": true
   },
   "outputs": [],
   "source": []
  }
 ],
 "metadata": {
  "kernelspec": {
   "display_name": "Python 3.5",
   "language": "python",
   "name": "python3.5"
  }
 },
 "nbformat": 4,
 "nbformat_minor": 0
}
