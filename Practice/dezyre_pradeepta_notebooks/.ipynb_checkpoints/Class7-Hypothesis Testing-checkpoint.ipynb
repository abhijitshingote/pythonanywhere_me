{
 "cells": [
  {
   "cell_type": "code",
   "execution_count": 3,
   "metadata": {
    "collapsed": true
   },
   "outputs": [],
   "source": [
    "# Hypothesis Testing\n",
    "\n",
    "# Set up hypothesis:\n",
    "    # Null: average income of all employees is 40K$  \n",
    "    # Alt: less than\n",
    "    #     More than\n",
    "    #      not equal to\n",
    "\n",
    "# select significance level (alpha)\n",
    "    # 5%- generic, all situations\n",
    "    #10% - where less accuracy required and constraint of small samples\n",
    "    #1%- where a great degree of accuracy required \n",
    "\n",
    "# select test statistics\n",
    "    # t-test\n",
    "    # z-test\n",
    "    # ANOVA\n",
    "    # paired t-test\n",
    "    # independent t-test\n",
    "    # chi-squared test\n",
    "\n",
    "# decision boundary\n",
    "    # based on type of alternate hypothesis and alpha value\n",
    "\n",
    "# make inferences\n",
    "    # conclusion based on the p-value derived from the test statistics"
   ]
  },
  {
   "cell_type": "code",
   "execution_count": 4,
   "metadata": {
    "collapsed": false
   },
   "outputs": [],
   "source": [
    "import math\n",
    "import pandas as pd\n",
    "import numpy as np\n",
    "import matplotlib.pyplot as plt\n",
    "%matplotlib inline\n",
    "import scipy.stats as stats"
   ]
  },
  {
   "cell_type": "code",
   "execution_count": 5,
   "metadata": {
    "collapsed": false
   },
   "outputs": [
    {
     "name": "stdout",
     "output_type": "stream",
     "text": [
      "[48 56 50 ..., 62 49 60]\n",
      "[31 35 29 ..., 30 28 23]\n"
     ]
    },
    {
     "data": {
      "text/plain": [
       "43.004924000000003"
      ]
     },
     "execution_count": 5,
     "metadata": {},
     "output_type": "execute_result"
    }
   ],
   "source": [
    "# generate random sample data for population of india\n",
    "pop_ages1 = stats.poisson.rvs(loc=18, mu=35, size=150000)\n",
    "print pop_ages1\n",
    "pop_ages2 = stats.poisson.rvs(loc=18, mu=10, size=100000)\n",
    "print pop_ages2\n",
    "\n",
    "pop = np.concatenate((pop_ages1,pop_ages2))\n",
    "pop.mean()"
   ]
  },
  {
   "cell_type": "code",
   "execution_count": 6,
   "metadata": {
    "collapsed": false
   },
   "outputs": [
    {
     "data": {
      "text/plain": [
       "Ttest_1sampResult(statistic=0.64012828124008547, pvalue=0.52208979067429584)"
      ]
     },
     "execution_count": 6,
     "metadata": {},
     "output_type": "execute_result"
    }
   ],
   "source": [
    "# single sample t-test\n",
    "stats.ttest_1samp(a=pop, popmean=42.988)\n",
    "# if the p-value < 0.05, reject the null"
   ]
  },
  {
   "cell_type": "code",
   "execution_count": 7,
   "metadata": {
    "collapsed": false
   },
   "outputs": [
    {
     "name": "stdout",
     "output_type": "stream",
     "text": [
      "[35 39 44 36 38 43 38 40 38 31 49 38 37 47 45 43 39 30 41 37 33 41 37 40 38\n",
      " 33 44 40 36 39]\n",
      "[46 56 50 51 49 40 47 47 48 36 52 52 62 44 46 54 44 55 52 43 44 37 44 54 41\n",
      " 44 38 51 48 43]\n"
     ]
    }
   ],
   "source": [
    "# Two sample t-test\n",
    "np.random.seed(1234)\n",
    "\n",
    "maths = stats.poisson.rvs(loc=15, mu=25, size=30)\n",
    "print maths\n",
    "\n",
    "stat = stats.poisson.rvs(loc=18,mu=29, size=30)\n",
    "print stat\n",
    "\n",
    "#NULL: average marks scored by student in math and stats are same\n",
    "#ALT: average marks scored by student in math and stats are different"
   ]
  },
  {
   "cell_type": "code",
   "execution_count": 8,
   "metadata": {
    "collapsed": false
   },
   "outputs": [
    {
     "data": {
      "text/plain": [
       "43.116666666666667"
      ]
     },
     "execution_count": 8,
     "metadata": {},
     "output_type": "execute_result"
    }
   ],
   "source": [
    "subject = np.concatenate((maths,stat))\n",
    "subject.mean()"
   ]
  },
  {
   "cell_type": "code",
   "execution_count": 9,
   "metadata": {
    "collapsed": false
   },
   "outputs": [
    {
     "data": {
      "text/plain": [
       "Ttest_indResult(statistic=-6.0921959828866532, pvalue=1.286403433169436e-07)"
      ]
     },
     "execution_count": 9,
     "metadata": {},
     "output_type": "execute_result"
    }
   ],
   "source": [
    "# two sample ttest\n",
    "stats.ttest_ind(a=maths,b=stat,equal_var=False)"
   ]
  },
  {
   "cell_type": "code",
   "execution_count": 10,
   "metadata": {
    "collapsed": true
   },
   "outputs": [],
   "source": [
    "#conclusion: since the p-value is less than 0.05 we can reject the null hypothesis that the average of scores\n",
    "# secured by students in math and stats are same, conclude that they are significantly different."
   ]
  },
  {
   "cell_type": "code",
   "execution_count": 11,
   "metadata": {
    "collapsed": false
   },
   "outputs": [
    {
     "name": "stdout",
     "output_type": "stream",
     "text": [
      "[  94.71435164   78.09024305  104.32706968   86.87348104   82.79411267\n",
      "   98.8716294    98.59588414   83.63476496   90.15696372   67.57315046\n",
      "  101.50035725   99.91946022   99.53324128   69.7874518    86.65922634\n",
      "   90.02118365   94.05453412   92.89091941  103.21158192   74.53094447\n",
      "   87.97353675   83.44030656   91.93421376   95.53438911  103.18151554\n",
      "   85.30694715   96.75554085   71.82972773   88.1689146   100.58969188\n",
      "   86.02159772   93.37437654  100.47578573  100.45938256   98.63717292\n",
      "   88.77908425   91.24712954   86.77205194   98.41674713  113.90960515\n",
      "   90.76199588   84.3355407    90.36141937   69.25022399   92.477922\n",
      "   81.02843216   88.63205167   90.18289191   97.55413982   92.15268581\n",
      "   98.41008795   75.54189923   75.98026718   88.990818     84.51757551\n",
      "   88.55380492   93.54020332   89.64486975   95.65738306  105.45658805\n",
      "   80.25763666   89.29655123   93.07968855   87.91501237  100.33800733\n",
      "   65.99546366  110.30603621   78.57368711   92.11883387   97.04720624\n",
      "   82.14564788   94.62059737   97.04228225   95.23507968   80.73745686\n",
      "  110.07842951   92.26962542   78.47340891   96.31979446   90.39512687\n",
      "   94.64392325   54.36483339  103.21105615   91.52630552   91.64529543\n",
      "   85.69904309   97.67368736   99.84919842   92.70835849  103.91986193\n",
      "   90.79842313   86.00035419   79.72149441   84.15281789   98.16593927\n",
      "   89.18052948   86.55233986   95.28288145   79.31011217   84.88118691\n",
      "   92.9120536    95.66533696   95.03591759   92.85295685   94.84288113\n",
      "  103.63481512   82.18894716   85.31982334  102.24574355   77.18891725\n",
      "   98.75475504   72.89284676   85.49234897   97.49163806   87.96067134\n",
      "   88.17824588   96.80656004   71.8150101    90.47071635   93.94844209\n",
      "   87.51567946   83.82293352   83.17116004   94.36257604   72.96987226\n",
      "   93.93710599   85.20675996   87.00983707   96.94103288   96.78629674\n",
      "   92.39555995   91.51226629   98.16127233  108.93534468   96.39632763\n",
      "   80.37971168   69.14734358  109.30246767   72.64651126  102.10383705\n",
      "   97.97435419   86.20189216   97.02562224   81.49653728  101.7681245\n",
      "   84.75663897   97.00907731   99.84188071   88.78271591  113.65768629\n",
      "   94.96142926   97.96594867   85.2597911    89.43304284  103.57797258\n",
      "   81.95166276   68.76379751   86.6649756    81.13280648   93.34197931\n",
      "   95.36783825   82.56169632   86.79796118   80.83801139   81.403317\n",
      "   92.25985487   96.28775827   91.86494349   99.52478345   99.88137583\n",
      "   89.27391686   84.49397076   80.61847386   77.60928437   91.39683274\n",
      "   87.76981018  111.23691889   91.22273434   75.9056826   104.22985953\n",
      "   68.52144962   76.52467487   93.63564557   89.85247888  102.72395079\n",
      "   75.50433391   78.04476258   84.08137027   85.85495156   75.74205267\n",
      "   92.09394788   84.07113996   75.26883587   81.03419385  101.0435157\n",
      "   85.68450484   88.38863092   98.89157494   92.88376848   79.48461062]\n",
      "[  91.86654464   73.74027761  103.86206157   82.76620428   86.83227858\n",
      "   93.66418536   94.72274741   82.74415515   98.46076086   70.26297387\n",
      "  102.81576797   95.93737882  103.50296456   79.07637756   92.70886375\n",
      "   93.84821094   96.55045712   88.26331202  104.16291388   76.72580375\n",
      "   85.34030612   91.81297316   92.74023387   98.73821389  103.06333168\n",
      "   73.66385768   93.56610969   70.14419288   92.55084371  100.57525046\n",
      "   85.37745674   93.61929621   98.44029004   95.50703744   91.1489083\n",
      "   88.77636033   92.90249614   99.34127234   99.16337431  116.002046\n",
      "   88.13312724   85.5879552    93.42674367   62.7420847    84.26765161\n",
      "   85.54804336   93.2917722    90.88974916   91.89890436   92.37808561\n",
      "  106.47909326   65.73052961   67.69484446   88.37472393   83.28637475\n",
      "   80.95883364   88.09598871   91.164476     91.88716947  100.26438712\n",
      "   86.65464003   89.0738255    93.3947542    90.99761593  100.58335997\n",
      "   70.12816688  110.87192295   86.79208624   88.44007015   97.73557852\n",
      "   81.01343593   90.06944986   94.19885761   90.37176871   80.37439046\n",
      "  113.74599315   91.13714835   79.9922938    96.83864093   87.7671587\n",
      "   90.94150529   51.24265039   89.97353627   97.98145544   90.71071812\n",
      "   83.02683967   90.09568467  107.53909658   89.68581495  102.14605632\n",
      "   91.47969158   88.86423106   75.0525453    88.18883454   97.07533913\n",
      "   94.64644177   85.04964141   92.21283167   70.29340047   82.0346979\n",
      "   94.29728585   97.97089896   92.69819019  104.7919129    84.88219297\n",
      "  101.91264109   88.09486593   87.03361557  101.84722803   67.18038751\n",
      "   98.94766165   68.92994918   85.10036088  101.15572721   86.58392683\n",
      "   85.49048364  100.17877438   70.2587786    85.56554964   87.58457357\n",
      "   91.24564431   87.35072318   85.49036389   93.77943085   67.68468072\n",
      "   90.97705208   93.50065825   86.53945338   99.48929554   93.4212656\n",
      "   92.05392368   91.63472915   97.25083412  107.5004306    94.29232248\n",
      "   80.46457784   74.81232982  107.94016331   72.05348809  103.02602297\n",
      "   98.04702454   87.78018388   98.70104364   79.37504652   95.16128114\n",
      "   83.26433646   91.53262536  100.6673835    89.66036887  107.5040645\n",
      "   91.57229871  104.20879844   82.20900824   85.89184089   95.63813057\n",
      "   80.49473006   71.61903729   95.9039795    86.29747271   93.44366894\n",
      "   99.13354006   86.70506408   87.2517246    78.59763659   92.56060911\n",
      "   97.93612925   89.26475344   84.27459824  101.31409438   93.23089341\n",
      "   84.96750849   83.75414633   72.18560418   77.41286964   85.66231189\n",
      "   77.89784479  118.94861487   83.40917081   77.43506973   99.570453\n",
      "   75.13516335   74.75141699  101.63763458   86.93572675  102.44127195\n",
      "   71.77060922   81.95837866   74.13235128   80.82564069   70.086494\n",
      "   92.81340919   78.07101229   75.68136898   82.42891589   94.19091073\n",
      "   84.67582588   87.44857317   92.50399657   90.44209165   87.89550147]\n"
     ]
    }
   ],
   "source": [
    "# two sample dependent ttest\n",
    "# some people are undergoing some weight reduction program\n",
    "np.random.seed(1234)\n",
    "\n",
    "before = stats.norm.rvs(scale=10, loc=90,size=200)\n",
    "print before\n",
    "\n",
    "after = before + stats.norm.rvs(scale=5, loc=-1.25,size=200)\n",
    "print after\n"
   ]
  },
  {
   "cell_type": "code",
   "execution_count": 12,
   "metadata": {
    "collapsed": true
   },
   "outputs": [],
   "source": [
    "weight_df = pd.DataFrame({\"weight_before\":before,\n",
    "                         \"weight_after\":after,\n",
    "                         \"change_weight\":after-before})"
   ]
  },
  {
   "cell_type": "code",
   "execution_count": 13,
   "metadata": {
    "collapsed": false
   },
   "outputs": [
    {
     "data": {
      "text/html": [
       "<div>\n",
       "<table border=\"1\" class=\"dataframe\">\n",
       "  <thead>\n",
       "    <tr style=\"text-align: right;\">\n",
       "      <th></th>\n",
       "      <th>change_weight</th>\n",
       "      <th>weight_after</th>\n",
       "      <th>weight_before</th>\n",
       "    </tr>\n",
       "  </thead>\n",
       "  <tbody>\n",
       "    <tr>\n",
       "      <th>0</th>\n",
       "      <td>-2.847807</td>\n",
       "      <td>91.866545</td>\n",
       "      <td>94.714352</td>\n",
       "    </tr>\n",
       "    <tr>\n",
       "      <th>1</th>\n",
       "      <td>-4.349965</td>\n",
       "      <td>73.740278</td>\n",
       "      <td>78.090243</td>\n",
       "    </tr>\n",
       "    <tr>\n",
       "      <th>2</th>\n",
       "      <td>-0.465008</td>\n",
       "      <td>103.862062</td>\n",
       "      <td>104.327070</td>\n",
       "    </tr>\n",
       "    <tr>\n",
       "      <th>3</th>\n",
       "      <td>-4.107277</td>\n",
       "      <td>82.766204</td>\n",
       "      <td>86.873481</td>\n",
       "    </tr>\n",
       "    <tr>\n",
       "      <th>4</th>\n",
       "      <td>4.038166</td>\n",
       "      <td>86.832279</td>\n",
       "      <td>82.794113</td>\n",
       "    </tr>\n",
       "    <tr>\n",
       "      <th>5</th>\n",
       "      <td>-5.207444</td>\n",
       "      <td>93.664185</td>\n",
       "      <td>98.871629</td>\n",
       "    </tr>\n",
       "    <tr>\n",
       "      <th>6</th>\n",
       "      <td>-3.873137</td>\n",
       "      <td>94.722747</td>\n",
       "      <td>98.595884</td>\n",
       "    </tr>\n",
       "    <tr>\n",
       "      <th>7</th>\n",
       "      <td>-0.890610</td>\n",
       "      <td>82.744155</td>\n",
       "      <td>83.634765</td>\n",
       "    </tr>\n",
       "    <tr>\n",
       "      <th>8</th>\n",
       "      <td>8.303797</td>\n",
       "      <td>98.460761</td>\n",
       "      <td>90.156964</td>\n",
       "    </tr>\n",
       "    <tr>\n",
       "      <th>9</th>\n",
       "      <td>2.689823</td>\n",
       "      <td>70.262974</td>\n",
       "      <td>67.573150</td>\n",
       "    </tr>\n",
       "  </tbody>\n",
       "</table>\n",
       "</div>"
      ],
      "text/plain": [
       "   change_weight  weight_after  weight_before\n",
       "0      -2.847807     91.866545      94.714352\n",
       "1      -4.349965     73.740278      78.090243\n",
       "2      -0.465008    103.862062     104.327070\n",
       "3      -4.107277     82.766204      86.873481\n",
       "4       4.038166     86.832279      82.794113\n",
       "5      -5.207444     93.664185      98.871629\n",
       "6      -3.873137     94.722747      98.595884\n",
       "7      -0.890610     82.744155      83.634765\n",
       "8       8.303797     98.460761      90.156964\n",
       "9       2.689823     70.262974      67.573150"
      ]
     },
     "execution_count": 13,
     "metadata": {},
     "output_type": "execute_result"
    }
   ],
   "source": [
    "weight_df.head(10)"
   ]
  },
  {
   "cell_type": "code",
   "execution_count": 14,
   "metadata": {
    "collapsed": false
   },
   "outputs": [
    {
     "data": {
      "text/html": [
       "<div>\n",
       "<table border=\"1\" class=\"dataframe\">\n",
       "  <thead>\n",
       "    <tr style=\"text-align: right;\">\n",
       "      <th></th>\n",
       "      <th>change_weight</th>\n",
       "      <th>weight_after</th>\n",
       "      <th>weight_before</th>\n",
       "    </tr>\n",
       "  </thead>\n",
       "  <tbody>\n",
       "    <tr>\n",
       "      <th>count</th>\n",
       "      <td>200.000000</td>\n",
       "      <td>200.000000</td>\n",
       "      <td>200.000000</td>\n",
       "    </tr>\n",
       "    <tr>\n",
       "      <th>mean</th>\n",
       "      <td>-0.610619</td>\n",
       "      <td>89.314172</td>\n",
       "      <td>89.924791</td>\n",
       "    </tr>\n",
       "    <tr>\n",
       "      <th>std</th>\n",
       "      <td>4.745098</td>\n",
       "      <td>10.521237</td>\n",
       "      <td>9.905585</td>\n",
       "    </tr>\n",
       "    <tr>\n",
       "      <th>min</th>\n",
       "      <td>-13.237520</td>\n",
       "      <td>51.242650</td>\n",
       "      <td>54.364833</td>\n",
       "    </tr>\n",
       "    <tr>\n",
       "      <th>25%</th>\n",
       "      <td>-3.710245</td>\n",
       "      <td>83.667902</td>\n",
       "      <td>84.078813</td>\n",
       "    </tr>\n",
       "    <tr>\n",
       "      <th>50%</th>\n",
       "      <td>-0.588084</td>\n",
       "      <td>90.406930</td>\n",
       "      <td>90.616356</td>\n",
       "    </tr>\n",
       "    <tr>\n",
       "      <th>75%</th>\n",
       "      <td>2.222535</td>\n",
       "      <td>95.704593</td>\n",
       "      <td>96.958044</td>\n",
       "    </tr>\n",
       "    <tr>\n",
       "      <th>max</th>\n",
       "      <td>12.569220</td>\n",
       "      <td>118.948615</td>\n",
       "      <td>113.909605</td>\n",
       "    </tr>\n",
       "  </tbody>\n",
       "</table>\n",
       "</div>"
      ],
      "text/plain": [
       "       change_weight  weight_after  weight_before\n",
       "count     200.000000    200.000000     200.000000\n",
       "mean       -0.610619     89.314172      89.924791\n",
       "std         4.745098     10.521237       9.905585\n",
       "min       -13.237520     51.242650      54.364833\n",
       "25%        -3.710245     83.667902      84.078813\n",
       "50%        -0.588084     90.406930      90.616356\n",
       "75%         2.222535     95.704593      96.958044\n",
       "max        12.569220    118.948615     113.909605"
      ]
     },
     "execution_count": 14,
     "metadata": {},
     "output_type": "execute_result"
    }
   ],
   "source": [
    "weight_df.describe()"
   ]
  },
  {
   "cell_type": "code",
   "execution_count": 15,
   "metadata": {
    "collapsed": false
   },
   "outputs": [
    {
     "data": {
      "text/plain": [
       "Ttest_relResult(statistic=1.8198677128639968, pvalue=0.070281672194742378)"
      ]
     },
     "execution_count": 15,
     "metadata": {},
     "output_type": "execute_result"
    }
   ],
   "source": [
    "#ttest related sample\n",
    "stats.ttest_rel(before,after)"
   ]
  },
  {
   "cell_type": "code",
   "execution_count": 16,
   "metadata": {
    "collapsed": false
   },
   "outputs": [
    {
     "data": {
      "text/plain": [
       "89.924790799969202"
      ]
     },
     "execution_count": 16,
     "metadata": {},
     "output_type": "execute_result"
    }
   ],
   "source": [
    "before.mean()"
   ]
  },
  {
   "cell_type": "code",
   "execution_count": 17,
   "metadata": {
    "collapsed": false
   },
   "outputs": [
    {
     "data": {
      "text/plain": [
       "89.314172237564748"
      ]
     },
     "execution_count": 17,
     "metadata": {},
     "output_type": "execute_result"
    }
   ],
   "source": [
    "after.mean()"
   ]
  },
  {
   "cell_type": "code",
   "execution_count": 18,
   "metadata": {
    "collapsed": true
   },
   "outputs": [],
   "source": [
    "# since the p-value > 0.05 we will not reject the null hypothesis\n",
    "# NULL: mean before = mean after\n",
    "# Alt: mean before != mean after\n",
    "# the weight reduction program is not effective in reducing the weight of people in the sample"
   ]
  },
  {
   "cell_type": "code",
   "execution_count": 19,
   "metadata": {
    "collapsed": true
   },
   "outputs": [],
   "source": [
    "# Types of error in statistical hypothesis testing\n",
    "# Type I error: null hypothesis is true, your test rejects it \n",
    "# Type II error: null hypothesis is false, your test accepts it"
   ]
  },
  {
   "cell_type": "code",
   "execution_count": 20,
   "metadata": {
    "collapsed": true
   },
   "outputs": [],
   "source": [
    "# Tradeoff between type 1 and type 2 error"
   ]
  },
  {
   "cell_type": "code",
   "execution_count": 21,
   "metadata": {
    "collapsed": false
   },
   "outputs": [
    {
     "data": {
      "text/plain": [
       "<matplotlib.figure.Figure at 0x7f6dfcf72850>"
      ]
     },
     "execution_count": 21,
     "metadata": {},
     "output_type": "execute_result"
    },
    {
     "data": {
      "text/plain": [
       "<matplotlib.figure.Figure at 0x7f6dfcf72850>"
      ]
     },
     "metadata": {},
     "output_type": "display_data"
    }
   ],
   "source": [
    "plt.figure(figsize=(15,7))"
   ]
  },
  {
   "cell_type": "code",
   "execution_count": 22,
   "metadata": {
    "collapsed": false
   },
   "outputs": [
    {
     "data": {
      "text/plain": [
       "<matplotlib.text.Text at 0x7f6dfca271d0>"
      ]
     },
     "execution_count": 22,
     "metadata": {},
     "output_type": "execute_result"
    },
    {
     "data": {
      "image/png": "[encoded data removed]",
      "text/plain": [
       "<matplotlib.figure.Figure at 0x7f6dfcd639d0>"
      ]
     },
     "metadata": {},
     "output_type": "display_data"
    }
   ],
   "source": [
    "plt.figure(figsize=(15,7))\n",
    "plt.fill_between(x=np.arange(-4,-2,0.01),\n",
    "                y1=stats.norm.pdf(np.arange(-4,-2,0.01)),\n",
    "                facecolor='red',\n",
    "                alpha=0.35)\n",
    "plt.fill_between(x=np.arange(-2,2,0.01),\n",
    "                y1=stats.norm.pdf(np.arange(-2,2,0.01)),\n",
    "                facecolor='white',\n",
    "                alpha=0.35)\n",
    "plt.fill_between(x=np.arange(2,4,0.01),\n",
    "                y1=stats.norm.pdf(np.arange(2,4,0.01)),\n",
    "                facecolor='red',\n",
    "                alpha=0.35)\n",
    "\n",
    "plt.fill_between(x=np.arange(-4,-2,0.01),\n",
    "                y1=stats.norm.pdf(np.arange(-4,-2,0.01),loc=3,scale=2),\n",
    "                facecolor='white',\n",
    "                alpha=0.35)\n",
    "plt.fill_between(x=np.arange(-2,2,0.01),\n",
    "                y1=stats.norm.pdf(np.arange(-2,2,0.01),loc=3,scale=2),\n",
    "                facecolor='blue',\n",
    "                alpha=0.35)\n",
    "plt.fill_between(x=np.arange(2,10,0.01),\n",
    "                y1=stats.norm.pdf(np.arange(2,10,0.01),loc=3,scale=2),\n",
    "                facecolor='white',\n",
    "                alpha=0.35)\n",
    "\n",
    "plt.text(x=-0.8,y=0.15,s='Null Hypothesis')\n",
    "plt.text(x=2.5,y=0.12,s='Alt Hypothesis')\n",
    "plt.text(x=2.1,y=0.01,s='Type I Error')\n",
    "plt.text(x=-3.2,y=0.01,s='Type I Error')\n",
    "plt.text(x=0,y=0.02,s='Type II Error')"
   ]
  },
  {
   "cell_type": "code",
   "execution_count": 23,
   "metadata": {
    "collapsed": true
   },
   "outputs": [],
   "source": [
    "# to compare the means of more than 2 groups we can use ANOVA\n",
    "np.random.seed(1234)"
   ]
  },
  {
   "cell_type": "code",
   "execution_count": 24,
   "metadata": {
    "collapsed": true
   },
   "outputs": [],
   "source": [
    "races = ['asian','black','white','hispanic','others']"
   ]
  },
  {
   "cell_type": "code",
   "execution_count": 25,
   "metadata": {
    "collapsed": false
   },
   "outputs": [],
   "source": [
    "voter_race = np.random.choice(a=races,\n",
    "                             p=[0.05,0.15,0.25,0.05,0.5],\n",
    "                             size=1000)"
   ]
  },
  {
   "cell_type": "code",
   "execution_count": 26,
   "metadata": {
    "collapsed": false
   },
   "outputs": [
    {
     "data": {
      "text/plain": [
       "array(['black', 'others', 'white', 'others', 'others', 'white', 'white',\n",
       "       'others', 'others', 'others', 'white', 'others', 'others', 'others',\n",
       "       'white', 'others', 'others', 'asian', 'others', 'others', 'white',\n",
       "       'others', 'black', 'white', 'others', 'others', 'white', 'others',\n",
       "       'white', 'others', 'others', 'white', 'others', 'black', 'others',\n",
       "       'others', 'white', 'others', 'white', 'others', 'black', 'black',\n",
       "       'asian', 'others', 'others', 'others', 'asian', 'others', 'white',\n",
       "       'others', 'black', 'others', 'others', 'asian', 'others', 'others',\n",
       "       'others', 'others', 'others', 'others', 'white', 'others',\n",
       "       'hispanic', 'black', 'white', 'black', 'hispanic', 'others',\n",
       "       'black', 'black', 'others', 'others', 'hispanic', 'black', 'white',\n",
       "       'others', 'white', 'others', 'asian', 'white', 'white', 'others',\n",
       "       'others', 'others', 'others', 'black', 'others', 'others', 'others',\n",
       "       'white', 'black', 'others', 'others', 'others', 'hispanic',\n",
       "       'others', 'others', 'others', 'black', 'others', 'others', 'others',\n",
       "       'others', 'others', 'others', 'black', 'asian', 'others', 'black',\n",
       "       'others', 'white', 'black', 'hispanic', 'others', 'others', 'white',\n",
       "       'white', 'black', 'others', 'others', 'others', 'others', 'others',\n",
       "       'others', 'white', 'black', 'white', 'others', 'black', 'black',\n",
       "       'white', 'others', 'others', 'white', 'black', 'black', 'others',\n",
       "       'black', 'white', 'others', 'asian', 'others', 'others', 'others',\n",
       "       'black', 'white', 'others', 'black', 'others', 'white', 'others',\n",
       "       'others', 'white', 'black', 'others', 'others', 'others', 'others',\n",
       "       'others', 'others', 'white', 'others', 'others', 'others', 'others',\n",
       "       'others', 'others', 'hispanic', 'others', 'others', 'others',\n",
       "       'white', 'white', 'others', 'white', 'others', 'white', 'others',\n",
       "       'others', 'others', 'others', 'hispanic', 'others', 'others',\n",
       "       'white', 'asian', 'white', 'others', 'hispanic', 'white', 'others',\n",
       "       'black', 'black', 'others', 'black', 'white', 'others', 'black',\n",
       "       'others', 'others', 'others', 'others', 'others', 'others',\n",
       "       'others', 'others', 'asian', 'white', 'white', 'white', 'black',\n",
       "       'others', 'others', 'others', 'others', 'white', 'white', 'white',\n",
       "       'hispanic', 'others', 'white', 'asian', 'others', 'others', 'white',\n",
       "       'others', 'white', 'white', 'white', 'white', 'black', 'others',\n",
       "       'others', 'others', 'white', 'white', 'white', 'others', 'others',\n",
       "       'white', 'asian', 'asian', 'black', 'others', 'black', 'white',\n",
       "       'black', 'others', 'asian', 'others', 'white', 'others', 'others',\n",
       "       'asian', 'others', 'others', 'black', 'others', 'others', 'others',\n",
       "       'others', 'others', 'white', 'others', 'others', 'others', 'others',\n",
       "       'hispanic', 'others', 'others', 'white', 'others', 'white', 'asian',\n",
       "       'others', 'others', 'others', 'others', 'black', 'white', 'asian',\n",
       "       'black', 'others', 'black', 'others', 'others', 'others', 'others',\n",
       "       'others', 'white', 'white', 'others', 'others', 'others', 'others',\n",
       "       'white', 'others', 'others', 'others', 'black', 'white', 'others',\n",
       "       'white', 'others', 'others', 'black', 'black', 'others', 'others',\n",
       "       'white', 'others', 'black', 'black', 'black', 'black', 'white',\n",
       "       'others', 'others', 'others', 'others', 'others', 'others',\n",
       "       'others', 'others', 'others', 'black', 'others', 'black', 'black',\n",
       "       'black', 'black', 'others', 'white', 'others', 'black', 'white',\n",
       "       'others', 'white', 'others', 'others', 'others', 'others', 'others',\n",
       "       'asian', 'others', 'others', 'white', 'others', 'white', 'black',\n",
       "       'others', 'others', 'others', 'white', 'asian', 'others', 'others',\n",
       "       'others', 'others', 'black', 'others', 'white', 'white', 'asian',\n",
       "       'others', 'others', 'black', 'others', 'others', 'white', 'others',\n",
       "       'others', 'asian', 'white', 'white', 'white', 'others', 'others',\n",
       "       'others', 'hispanic', 'hispanic', 'white', 'others', 'others',\n",
       "       'white', 'others', 'black', 'others', 'others', 'others', 'others',\n",
       "       'black', 'asian', 'hispanic', 'others', 'others', 'hispanic',\n",
       "       'others', 'white', 'white', 'others', 'others', 'asian', 'white',\n",
       "       'others', 'others', 'white', 'black', 'others', 'others', 'white',\n",
       "       'others', 'others', 'others', 'white', 'others', 'others', 'others',\n",
       "       'others', 'white', 'hispanic', 'others', 'others', 'others',\n",
       "       'others', 'others', 'asian', 'others', 'white', 'others',\n",
       "       'hispanic', 'black', 'others', 'asian', 'others', 'black', 'black',\n",
       "       'others', 'others', 'others', 'others', 'white', 'black', 'white',\n",
       "       'others', 'black', 'hispanic', 'black', 'others', 'others',\n",
       "       'others', 'others', 'others', 'black', 'others', 'others', 'white',\n",
       "       'others', 'others', 'others', 'white', 'white', 'white', 'others',\n",
       "       'white', 'others', 'others', 'black', 'others', 'white', 'black',\n",
       "       'others', 'asian', 'others', 'white', 'white', 'black', 'black',\n",
       "       'white', 'others', 'black', 'others', 'black', 'others', 'hispanic',\n",
       "       'others', 'white', 'asian', 'hispanic', 'others', 'black', 'others',\n",
       "       'white', 'others', 'white', 'white', 'others', 'others', 'black',\n",
       "       'others', 'others', 'others', 'others', 'black', 'asian', 'others',\n",
       "       'black', 'others', 'others', 'asian', 'others', 'hispanic', 'black',\n",
       "       'black', 'asian', 'white', 'black', 'white', 'asian', 'others',\n",
       "       'others', 'others', 'black', 'others', 'others', 'others', 'black',\n",
       "       'white', 'others', 'others', 'others', 'others', 'others', 'white',\n",
       "       'black', 'others', 'white', 'black', 'others', 'others', 'asian',\n",
       "       'black', 'white', 'white', 'asian', 'black', 'white', 'black',\n",
       "       'others', 'others', 'black', 'black', 'white', 'others', 'others',\n",
       "       'black', 'others', 'others', 'white', 'black', 'black', 'black',\n",
       "       'others', 'black', 'white', 'others', 'others', 'white', 'white',\n",
       "       'black', 'white', 'others', 'others', 'black', 'others', 'asian',\n",
       "       'others', 'white', 'black', 'white', 'others', 'others', 'white',\n",
       "       'white', 'others', 'white', 'asian', 'others', 'others', 'asian',\n",
       "       'others', 'others', 'others', 'white', 'white', 'white', 'white',\n",
       "       'others', 'others', 'black', 'others', 'others', 'black', 'others',\n",
       "       'asian', 'others', 'black', 'white', 'white', 'asian', 'white',\n",
       "       'others', 'others', 'others', 'others', 'asian', 'others', 'others',\n",
       "       'white', 'others', 'others', 'others', 'white', 'white', 'others',\n",
       "       'white', 'white', 'black', 'hispanic', 'white', 'others', 'black',\n",
       "       'white', 'hispanic', 'others', 'others', 'white', 'asian', 'white',\n",
       "       'white', 'asian', 'hispanic', 'others', 'others', 'white', 'others',\n",
       "       'asian', 'white', 'others', 'black', 'white', 'white', 'others',\n",
       "       'others', 'white', 'asian', 'others', 'white', 'others', 'others',\n",
       "       'others', 'others', 'hispanic', 'asian', 'black', 'white', 'others',\n",
       "       'others', 'others', 'black', 'others', 'others', 'white', 'others',\n",
       "       'black', 'black', 'others', 'others', 'black', 'others', 'black',\n",
       "       'black', 'black', 'others', 'white', 'black', 'others', 'others',\n",
       "       'white', 'others', 'black', 'white', 'white', 'white', 'black',\n",
       "       'hispanic', 'others', 'black', 'black', 'white', 'others', 'white',\n",
       "       'white', 'others', 'black', 'white', 'others', 'others', 'white',\n",
       "       'others', 'others', 'others', 'others', 'others', 'white', 'asian',\n",
       "       'white', 'asian', 'others', 'others', 'others', 'hispanic',\n",
       "       'others', 'white', 'black', 'others', 'black', 'others', 'others',\n",
       "       'hispanic', 'others', 'white', 'white', 'others', 'white', 'others',\n",
       "       'white', 'others', 'others', 'others', 'others', 'black', 'asian',\n",
       "       'others', 'others', 'others', 'others', 'others', 'others', 'white',\n",
       "       'others', 'white', 'others', 'others', 'white', 'black', 'white',\n",
       "       'others', 'others', 'black', 'others', 'black', 'others', 'others',\n",
       "       'others', 'white', 'white', 'others', 'white', 'others', 'hispanic',\n",
       "       'asian', 'black', 'others', 'others', 'others', 'white', 'white',\n",
       "       'others', 'others', 'others', 'others', 'black', 'others', 'others',\n",
       "       'black', 'others', 'asian', 'others', 'others', 'others', 'others',\n",
       "       'white', 'others', 'white', 'others', 'black', 'white', 'others',\n",
       "       'white', 'others', 'white', 'others', 'others', 'hispanic', 'white',\n",
       "       'others', 'black', 'white', 'white', 'others', 'others', 'others',\n",
       "       'black', 'others', 'black', 'white', 'others', 'black', 'white',\n",
       "       'others', 'others', 'black', 'others', 'white', 'others', 'black',\n",
       "       'black', 'black', 'white', 'black', 'asian', 'black', 'black',\n",
       "       'others', 'white', 'others', 'white', 'others', 'white', 'white',\n",
       "       'others', 'others', 'white', 'white', 'white', 'white', 'hispanic',\n",
       "       'white', 'others', 'others', 'others', 'white', 'white', 'others',\n",
       "       'black', 'others', 'others', 'others', 'white', 'black', 'others',\n",
       "       'others', 'others', 'others', 'white', 'others', 'others', 'others',\n",
       "       'others', 'asian', 'others', 'others', 'white', 'others', 'others',\n",
       "       'white', 'others', 'others', 'white', 'hispanic', 'others',\n",
       "       'others', 'white', 'black', 'white', 'others', 'others', 'white',\n",
       "       'others', 'asian', 'others', 'others', 'others', 'others', 'white',\n",
       "       'others', 'others', 'others', 'others', 'others', 'white', 'white',\n",
       "       'others', 'others', 'white', 'asian', 'others', 'others', 'asian',\n",
       "       'hispanic', 'others', 'white', 'hispanic', 'hispanic', 'others',\n",
       "       'others', 'others', 'others', 'others', 'others', 'others',\n",
       "       'others', 'others', 'others', 'others', 'others', 'black',\n",
       "       'hispanic', 'white', 'black', 'others', 'black', 'black', 'others',\n",
       "       'others', 'white', 'white', 'asian', 'white', 'white', 'asian',\n",
       "       'others', 'white', 'others', 'others', 'others', 'others', 'others',\n",
       "       'white', 'others', 'black', 'white', 'white', 'white', 'others',\n",
       "       'others', 'black', 'others', 'others', 'black', 'others', 'black',\n",
       "       'others', 'others', 'white', 'white', 'others', 'others', 'others',\n",
       "       'white', 'asian', 'black', 'others', 'white', 'white', 'white',\n",
       "       'others', 'others', 'others', 'others', 'black', 'others', 'others',\n",
       "       'white', 'others', 'white', 'others', 'asian', 'white', 'white',\n",
       "       'black', 'asian', 'white', 'white', 'others', 'others', 'black',\n",
       "       'others', 'hispanic'], \n",
       "      dtype='|S8')"
      ]
     },
     "execution_count": 26,
     "metadata": {},
     "output_type": "execute_result"
    }
   ],
   "source": [
    "voter_race"
   ]
  },
  {
   "cell_type": "code",
   "execution_count": 27,
   "metadata": {
    "collapsed": true
   },
   "outputs": [],
   "source": [
    "voter_age = stats.poisson.rvs(loc=18,\n",
    "                             mu=30,\n",
    "                             size=1000)"
   ]
  },
  {
   "cell_type": "code",
   "execution_count": 28,
   "metadata": {
    "collapsed": false
   },
   "outputs": [
    {
     "data": {
      "text/plain": [
       "array([46, 48, 47, 47, 43, 46, 47, 52, 39, 47, 42, 49, 47, 41, 41, 37, 50,\n",
       "       56, 58, 48, 44, 48, 43, 47, 58, 41, 45, 54, 49, 45, 52, 52, 45, 65,\n",
       "       42, 48, 45, 51, 48, 48, 54, 39, 52, 37, 51, 42, 61, 47, 48, 41, 55,\n",
       "       39, 40, 51, 54, 37, 46, 47, 40, 56, 44, 45, 36, 44, 41, 47, 54, 44,\n",
       "       47, 55, 42, 53, 48, 51, 42, 54, 49, 47, 47, 42, 50, 40, 42, 48, 50,\n",
       "       44, 51, 53, 49, 47, 40, 53, 49, 52, 52, 46, 44, 44, 52, 47, 46, 53,\n",
       "       51, 43, 49, 43, 52, 44, 43, 45, 51, 50, 43, 46, 44, 42, 46, 48, 42,\n",
       "       55, 57, 44, 44, 41, 53, 52, 46, 46, 47, 47, 39, 50, 41, 45, 49, 37,\n",
       "       48, 53, 49, 53, 54, 47, 40, 54, 56, 54, 54, 50, 49, 52, 44, 48, 47,\n",
       "       50, 38, 41, 41, 49, 49, 53, 46, 53, 46, 48, 40, 41, 54, 55, 41, 47,\n",
       "       46, 52, 52, 49, 49, 54, 41, 44, 49, 39, 43, 44, 56, 47, 52, 56, 47,\n",
       "       46, 47, 50, 53, 45, 39, 51, 45, 51, 47, 52, 54, 39, 46, 45, 42, 32,\n",
       "       45, 50, 50, 51, 52, 48, 50, 38, 48, 40, 49, 42, 36, 48, 39, 40, 53,\n",
       "       45, 53, 41, 45, 48, 43, 49, 43, 49, 47, 38, 47, 58, 41, 50, 53, 46,\n",
       "       47, 57, 56, 58, 46, 47, 41, 39, 52, 54, 54, 44, 58, 54, 47, 48, 48,\n",
       "       47, 62, 41, 49, 44, 37, 57, 53, 46, 47, 44, 43, 50, 53, 39, 50, 41,\n",
       "       40, 42, 53, 48, 55, 44, 53, 60, 51, 47, 46, 47, 42, 49, 50, 45, 49,\n",
       "       45, 58, 39, 50, 49, 43, 59, 38, 51, 43, 49, 53, 40, 53, 39, 54, 57,\n",
       "       41, 53, 51, 53, 48, 41, 51, 52, 51, 58, 50, 44, 39, 37, 52, 51, 44,\n",
       "       37, 44, 47, 43, 50, 45, 52, 45, 51, 40, 55, 44, 53, 55, 43, 55, 38,\n",
       "       43, 47, 51, 58, 54, 62, 44, 41, 39, 58, 39, 55, 42, 48, 50, 45, 45,\n",
       "       42, 41, 39, 55, 45, 50, 55, 49, 45, 50, 54, 51, 38, 55, 40, 44, 46,\n",
       "       47, 55, 49, 33, 52, 44, 55, 55, 50, 52, 47, 50, 40, 46, 45, 65, 51,\n",
       "       60, 47, 51, 62, 52, 43, 51, 46, 39, 42, 43, 50, 53, 47, 54, 39, 52,\n",
       "       55, 51, 42, 53, 52, 56, 56, 51, 52, 55, 42, 61, 50, 43, 47, 46, 41,\n",
       "       48, 47, 49, 49, 50, 49, 44, 56, 47, 51, 54, 50, 52, 43, 38, 46, 55,\n",
       "       52, 50, 53, 51, 53, 55, 49, 50, 45, 44, 50, 47, 55, 49, 57, 45, 56,\n",
       "       44, 48, 47, 52, 43, 41, 48, 36, 49, 56, 57, 52, 54, 58, 47, 52, 48,\n",
       "       46, 47, 41, 48, 53, 52, 52, 50, 52, 48, 51, 46, 51, 53, 38, 46, 48,\n",
       "       45, 45, 42, 47, 40, 50, 39, 47, 50, 57, 38, 47, 52, 45, 34, 46, 43,\n",
       "       59, 55, 51, 50, 49, 39, 60, 47, 44, 54, 46, 40, 45, 52, 46, 50, 46,\n",
       "       46, 40, 56, 45, 51, 58, 51, 37, 50, 43, 50, 50, 56, 58, 50, 43, 39,\n",
       "       45, 52, 55, 48, 48, 49, 59, 49, 55, 53, 44, 38, 50, 53, 44, 50, 37,\n",
       "       51, 53, 45, 50, 43, 55, 54, 36, 50, 52, 50, 42, 44, 45, 41, 47, 43,\n",
       "       48, 51, 45, 42, 38, 50, 49, 42, 49, 44, 44, 49, 46, 55, 50, 36, 43,\n",
       "       43, 60, 49, 36, 48, 44, 39, 51, 39, 49, 40, 52, 48, 54, 50, 51, 50,\n",
       "       49, 35, 57, 52, 52, 57, 50, 49, 49, 49, 62, 54, 41, 42, 41, 40, 53,\n",
       "       50, 59, 45, 53, 48, 52, 42, 56, 36, 49, 47, 49, 46, 53, 53, 48, 40,\n",
       "       48, 41, 50, 48, 52, 49, 54, 42, 56, 49, 56, 47, 50, 49, 50, 54, 44,\n",
       "       54, 44, 50, 44, 42, 60, 46, 47, 52, 46, 51, 54, 40, 47, 55, 56, 40,\n",
       "       42, 48, 50, 51, 49, 46, 47, 42, 47, 57, 51, 53, 51, 55, 40, 46, 45,\n",
       "       53, 44, 50, 47, 50, 46, 45, 49, 51, 50, 44, 39, 56, 48, 54, 48, 46,\n",
       "       40, 38, 54, 46, 47, 46, 54, 40, 46, 50, 48, 45, 49, 43, 44, 36, 56,\n",
       "       42, 50, 49, 50, 43, 39, 44, 49, 42, 55, 45, 46, 50, 52, 41, 42, 43,\n",
       "       51, 48, 54, 43, 48, 53, 52, 49, 45, 51, 47, 57, 49, 51, 47, 49, 53,\n",
       "       42, 58, 57, 48, 53, 44, 57, 44, 38, 33, 49, 48, 55, 40, 43, 42, 41,\n",
       "       57, 46, 47, 50, 40, 47, 45, 54, 45, 59, 53, 45, 37, 48, 58, 61, 49,\n",
       "       48, 54, 45, 46, 51, 47, 49, 54, 42, 45, 47, 46, 54, 59, 58, 36, 43,\n",
       "       47, 51, 50, 51, 62, 52, 51, 51, 48, 49, 37, 41, 40, 49, 55, 47, 34,\n",
       "       46, 45, 50, 42, 47, 49, 40, 41, 50, 49, 48, 47, 38, 44, 42, 45, 46,\n",
       "       52, 45, 47, 46, 48, 56, 48, 57, 50, 51, 47, 47, 56, 44, 54, 44, 50,\n",
       "       49, 44, 41, 48, 40, 48, 52, 47, 45, 50, 48, 50, 44, 39, 52, 46, 51,\n",
       "       51, 50, 48, 54, 51, 57, 53, 51, 39, 54, 56, 51, 45, 52, 52, 39, 50,\n",
       "       48, 55, 45, 45, 38, 44, 51, 51, 52, 41, 42, 50, 52, 51, 56, 45, 51,\n",
       "       50, 43, 52, 54, 38, 42, 51, 49, 45, 48, 48, 47, 49, 51, 42, 47, 53,\n",
       "       57, 46, 41, 49, 42, 58, 43, 49, 50, 51, 53, 44, 51, 54, 52, 43, 44,\n",
       "       43, 46, 48, 46, 46, 46, 38, 56, 46, 49, 59, 50, 50, 47, 51, 47, 53,\n",
       "       51, 44, 44, 47, 39, 43, 49, 41, 49, 52, 57, 48, 49, 56, 49, 50, 69,\n",
       "       43, 42, 50, 50, 55, 54, 60, 43, 54, 49, 46, 50, 56, 45])"
      ]
     },
     "execution_count": 28,
     "metadata": {},
     "output_type": "execute_result"
    }
   ],
   "source": [
    "voter_age"
   ]
  },
  {
   "cell_type": "code",
   "execution_count": 29,
   "metadata": {
    "collapsed": true
   },
   "outputs": [],
   "source": [
    "voter_df = pd.DataFrame({'race':voter_race,'age':voter_age})\n",
    "groups = voter_df.groupby('race').groups"
   ]
  },
  {
   "cell_type": "code",
   "execution_count": 30,
   "metadata": {
    "collapsed": false
   },
   "outputs": [
    {
     "data": {
      "text/html": [
       "<div>\n",
       "<table border=\"1\" class=\"dataframe\">\n",
       "  <thead>\n",
       "    <tr style=\"text-align: right;\">\n",
       "      <th></th>\n",
       "      <th>age</th>\n",
       "      <th>race</th>\n",
       "    </tr>\n",
       "  </thead>\n",
       "  <tbody>\n",
       "    <tr>\n",
       "      <th>0</th>\n",
       "      <td>46</td>\n",
       "      <td>black</td>\n",
       "    </tr>\n",
       "    <tr>\n",
       "      <th>1</th>\n",
       "      <td>48</td>\n",
       "      <td>others</td>\n",
       "    </tr>\n",
       "    <tr>\n",
       "      <th>2</th>\n",
       "      <td>47</td>\n",
       "      <td>white</td>\n",
       "    </tr>\n",
       "    <tr>\n",
       "      <th>3</th>\n",
       "      <td>47</td>\n",
       "      <td>others</td>\n",
       "    </tr>\n",
       "    <tr>\n",
       "      <th>4</th>\n",
       "      <td>43</td>\n",
       "      <td>others</td>\n",
       "    </tr>\n",
       "  </tbody>\n",
       "</table>\n",
       "</div>"
      ],
      "text/plain": [
       "   age    race\n",
       "0   46   black\n",
       "1   48  others\n",
       "2   47   white\n",
       "3   47  others\n",
       "4   43  others"
      ]
     },
     "execution_count": 30,
     "metadata": {},
     "output_type": "execute_result"
    }
   ],
   "source": [
    "voter_df.head()"
   ]
  },
  {
   "cell_type": "code",
   "execution_count": 31,
   "metadata": {
    "collapsed": false
   },
   "outputs": [],
   "source": [
    "asian = voter_age[groups['asian']]\n",
    "black = voter_age[groups['black']]\n",
    "hispanic = voter_age[groups['hispanic']]\n",
    "white = voter_age[groups['white']]\n",
    "others = voter_age[groups['others']]\n"
   ]
  },
  {
   "cell_type": "code",
   "execution_count": 33,
   "metadata": {
    "collapsed": false
   },
   "outputs": [
    {
     "data": {
      "text/plain": [
       "F_onewayResult(statistic=1.5392843178293896, pvalue=0.18862594006262309)"
      ]
     },
     "execution_count": 33,
     "metadata": {},
     "output_type": "execute_result"
    }
   ],
   "source": [
    "# ANOVA\n",
    "stats.f_oneway(asian,black,hispanic,white,others)"
   ]
  },
  {
   "cell_type": "code",
   "execution_count": 34,
   "metadata": {
    "collapsed": true
   },
   "outputs": [],
   "source": [
    "# one way means - one variable \"Age\"\n",
    "# One factor means- races\n"
   ]
  },
  {
   "cell_type": "code",
   "execution_count": 35,
   "metadata": {
    "collapsed": true
   },
   "outputs": [],
   "source": [
    "# if the p-value is greater than 0.05, you will fail to reject the null hypothesis\n",
    "# no further investigation required"
   ]
  },
  {
   "cell_type": "code",
   "execution_count": 36,
   "metadata": {
    "collapsed": true
   },
   "outputs": [],
   "source": [
    "# if the p-value is less than 0.05, you will reject the null hypothesis"
   ]
  },
  {
   "cell_type": "code",
   "execution_count": 37,
   "metadata": {
    "collapsed": true
   },
   "outputs": [],
   "source": [
    "# to test out which group is different , post-hoc test on the ANOVA results"
   ]
  },
  {
   "cell_type": "code",
   "execution_count": 38,
   "metadata": {
    "collapsed": true
   },
   "outputs": [],
   "source": [
    "# TukeyHSD- honest significance difference in the means of the groups"
   ]
  },
  {
   "cell_type": "code",
   "execution_count": 39,
   "metadata": {
    "collapsed": false
   },
   "outputs": [
    {
     "name": "stdout",
     "output_type": "stream",
     "text": [
      "Multiple Comparison of Means - Tukey HSD,FWER=0.05\n",
      "================================================\n",
      " group1   group2  meandiff  lower  upper  reject\n",
      "------------------------------------------------\n",
      " asian    black   -1.2961  -3.6346 1.0425 False \n",
      " asian   hispanic -2.4722  -5.6871 0.7427 False \n",
      " asian    others  -1.6731  -3.7707 0.4245 False \n",
      " asian    white   -1.6368  -3.8592 0.5857 False \n",
      " black   hispanic -1.1762  -3.9847 1.6323 False \n",
      " black    others   -0.377  -1.7741 1.0201 False \n",
      " black    white   -0.3407  -1.9192 1.2378 False \n",
      "hispanic  others   0.7991  -1.8121 3.4104 False \n",
      "hispanic  white    0.8355  -1.8772 3.5481 False \n",
      " others   white    0.0363  -1.1564 1.2291 False \n",
      "------------------------------------------------\n"
     ]
    }
   ],
   "source": [
    "from statsmodels.stats.multicomp import pairwise_tukeyhsd\n",
    "print pairwise_tukeyhsd(voter_df.age, voter_df.race)"
   ]
  },
  {
   "cell_type": "markdown",
   "metadata": {
    "collapsed": true
   },
   "source": [
    "# Assignment:\n",
    "# Read the automobile dataset from UCI library\n",
    "#1- Is there any difference between mileage per gallon on highway by feul type\n",
    "#2- Is there any difference between city mileage and highway mileage\n"
   ]
  },
  {
   "cell_type": "code",
   "execution_count": 53,
   "metadata": {
    "collapsed": true
   },
   "outputs": [],
   "source": [
    "import pandas as pd\n",
    "import numpy as np\n",
    "from scipy import stats\n",
    "%matplotlib inline"
   ]
  },
  {
   "cell_type": "code",
   "execution_count": 54,
   "metadata": {
    "collapsed": false
   },
   "outputs": [],
   "source": [
    "autom=pd.read_csv('https://archive.ics.uci.edu/ml/machine-learning-databases/autos/imports-85.data',header=None)"
   ]
  },
  {
   "cell_type": "code",
   "execution_count": 6,
   "metadata": {
    "collapsed": true
   },
   "outputs": [
    {
     "data": {
      "text/html": [
       "<div>\n",
       "<table border=\"1\" class=\"dataframe\">\n",
       "  <thead>\n",
       "    <tr style=\"text-align: right;\">\n",
       "      <th></th>\n",
       "      <th>0</th>\n",
       "      <th>1</th>\n",
       "      <th>2</th>\n",
       "      <th>3</th>\n",
       "      <th>4</th>\n",
       "      <th>5</th>\n",
       "      <th>6</th>\n",
       "      <th>7</th>\n",
       "      <th>8</th>\n",
       "      <th>9</th>\n",
       "      <th>...</th>\n",
       "      <th>16</th>\n",
       "      <th>17</th>\n",
       "      <th>18</th>\n",
       "      <th>19</th>\n",
       "      <th>20</th>\n",
       "      <th>21</th>\n",
       "      <th>22</th>\n",
       "      <th>23</th>\n",
       "      <th>24</th>\n",
       "      <th>25</th>\n",
       "    </tr>\n",
       "  </thead>\n",
       "  <tbody>\n",
       "    <tr>\n",
       "      <th>0</th>\n",
       "      <td>3</td>\n",
       "      <td>?</td>\n",
       "      <td>alfa-romero</td>\n",
       "      <td>gas</td>\n",
       "      <td>std</td>\n",
       "      <td>two</td>\n",
       "      <td>convertible</td>\n",
       "      <td>rwd</td>\n",
       "      <td>front</td>\n",
       "      <td>88.6</td>\n",
       "      <td>...</td>\n",
       "      <td>130</td>\n",
       "      <td>mpfi</td>\n",
       "      <td>3.47</td>\n",
       "      <td>2.68</td>\n",
       "      <td>9.0</td>\n",
       "      <td>111</td>\n",
       "      <td>5000</td>\n",
       "      <td>21</td>\n",
       "      <td>27</td>\n",
       "      <td>13495</td>\n",
       "    </tr>\n",
       "    <tr>\n",
       "      <th>1</th>\n",
       "      <td>3</td>\n",
       "      <td>?</td>\n",
       "      <td>alfa-romero</td>\n",
       "      <td>gas</td>\n",
       "      <td>std</td>\n",
       "      <td>two</td>\n",
       "      <td>convertible</td>\n",
       "      <td>rwd</td>\n",
       "      <td>front</td>\n",
       "      <td>88.6</td>\n",
       "      <td>...</td>\n",
       "      <td>130</td>\n",
       "      <td>mpfi</td>\n",
       "      <td>3.47</td>\n",
       "      <td>2.68</td>\n",
       "      <td>9.0</td>\n",
       "      <td>111</td>\n",
       "      <td>5000</td>\n",
       "      <td>21</td>\n",
       "      <td>27</td>\n",
       "      <td>16500</td>\n",
       "    </tr>\n",
       "    <tr>\n",
       "      <th>2</th>\n",
       "      <td>1</td>\n",
       "      <td>?</td>\n",
       "      <td>alfa-romero</td>\n",
       "      <td>gas</td>\n",
       "      <td>std</td>\n",
       "      <td>two</td>\n",
       "      <td>hatchback</td>\n",
       "      <td>rwd</td>\n",
       "      <td>front</td>\n",
       "      <td>94.5</td>\n",
       "      <td>...</td>\n",
       "      <td>152</td>\n",
       "      <td>mpfi</td>\n",
       "      <td>2.68</td>\n",
       "      <td>3.47</td>\n",
       "      <td>9.0</td>\n",
       "      <td>154</td>\n",
       "      <td>5000</td>\n",
       "      <td>19</td>\n",
       "      <td>26</td>\n",
       "      <td>16500</td>\n",
       "    </tr>\n",
       "    <tr>\n",
       "      <th>3</th>\n",
       "      <td>2</td>\n",
       "      <td>164</td>\n",
       "      <td>audi</td>\n",
       "      <td>gas</td>\n",
       "      <td>std</td>\n",
       "      <td>four</td>\n",
       "      <td>sedan</td>\n",
       "      <td>fwd</td>\n",
       "      <td>front</td>\n",
       "      <td>99.8</td>\n",
       "      <td>...</td>\n",
       "      <td>109</td>\n",
       "      <td>mpfi</td>\n",
       "      <td>3.19</td>\n",
       "      <td>3.40</td>\n",
       "      <td>10.0</td>\n",
       "      <td>102</td>\n",
       "      <td>5500</td>\n",
       "      <td>24</td>\n",
       "      <td>30</td>\n",
       "      <td>13950</td>\n",
       "    </tr>\n",
       "    <tr>\n",
       "      <th>4</th>\n",
       "      <td>2</td>\n",
       "      <td>164</td>\n",
       "      <td>audi</td>\n",
       "      <td>gas</td>\n",
       "      <td>std</td>\n",
       "      <td>four</td>\n",
       "      <td>sedan</td>\n",
       "      <td>4wd</td>\n",
       "      <td>front</td>\n",
       "      <td>99.4</td>\n",
       "      <td>...</td>\n",
       "      <td>136</td>\n",
       "      <td>mpfi</td>\n",
       "      <td>3.19</td>\n",
       "      <td>3.40</td>\n",
       "      <td>8.0</td>\n",
       "      <td>115</td>\n",
       "      <td>5500</td>\n",
       "      <td>18</td>\n",
       "      <td>22</td>\n",
       "      <td>17450</td>\n",
       "    </tr>\n",
       "  </tbody>\n",
       "</table>\n",
       "<p>5 rows × 26 columns</p>\n",
       "</div>"
      ],
      "text/plain": [
       "   0    1            2    3    4     5            6    7      8     9   ...    \\\n",
       "0   3    ?  alfa-romero  gas  std   two  convertible  rwd  front  88.6  ...     \n",
       "1   3    ?  alfa-romero  gas  std   two  convertible  rwd  front  88.6  ...     \n",
       "2   1    ?  alfa-romero  gas  std   two    hatchback  rwd  front  94.5  ...     \n",
       "3   2  164         audi  gas  std  four        sedan  fwd  front  99.8  ...     \n",
       "4   2  164         audi  gas  std  four        sedan  4wd  front  99.4  ...     \n",
       "\n",
       "    16    17    18    19    20   21    22  23  24     25  \n",
       "0  130  mpfi  3.47  2.68   9.0  111  5000  21  27  13495  \n",
       "1  130  mpfi  3.47  2.68   9.0  111  5000  21  27  16500  \n",
       "2  152  mpfi  2.68  3.47   9.0  154  5000  19  26  16500  \n",
       "3  109  mpfi  3.19  3.40  10.0  102  5500  24  30  13950  \n",
       "4  136  mpfi  3.19  3.40   8.0  115  5500  18  22  17450  \n",
       "\n",
       "[5 rows x 26 columns]"
      ]
     },
     "execution_count": 6,
     "metadata": {},
     "output_type": "execute_result"
    }
   ],
   "source": [
    "autom.head()"
   ]
  },
  {
   "cell_type": "code",
   "execution_count": 55,
   "metadata": {
    "collapsed": true
   },
   "outputs": [],
   "source": [
    "autom.columns=[    'symboling','normalized-losses','make','fuel-type','aspiration','num-of-doors','body-style','drive-wheels','engine-location',\n",
    "    'wheel-base','length','width','height','curb-weight','engine-type','num-of-cylinders','engine-size','fuel-system','bore',\n",
    "    'stroke','compression-ratio','horsepower','peak-rpm','city-mpg','highway-mpg','price']\n"
   ]
  },
  {
   "cell_type": "code",
   "execution_count": 15,
   "metadata": {
    "collapsed": false,
    "scrolled": true
   },
   "outputs": [
    {
     "data": {
      "text/html": [
       "<div>\n",
       "<table border=\"1\" class=\"dataframe\">\n",
       "  <thead>\n",
       "    <tr style=\"text-align: right;\">\n",
       "      <th></th>\n",
       "      <th>symboling</th>\n",
       "      <th>normalized-losses</th>\n",
       "      <th>make</th>\n",
       "      <th>fuel-type</th>\n",
       "      <th>aspiration</th>\n",
       "      <th>num-of-doors</th>\n",
       "      <th>body-style</th>\n",
       "      <th>drive-wheels</th>\n",
       "      <th>engine-location</th>\n",
       "      <th>wheel-base</th>\n",
       "      <th>...</th>\n",
       "      <th>engine-size</th>\n",
       "      <th>fuel-system</th>\n",
       "      <th>bore</th>\n",
       "      <th>stroke</th>\n",
       "      <th>compression-ratio</th>\n",
       "      <th>horsepower</th>\n",
       "      <th>peak-rpm</th>\n",
       "      <th>city-mpg</th>\n",
       "      <th>highway-mpg</th>\n",
       "      <th>price</th>\n",
       "    </tr>\n",
       "  </thead>\n",
       "  <tbody>\n",
       "    <tr>\n",
       "      <th>0</th>\n",
       "      <td>3</td>\n",
       "      <td>?</td>\n",
       "      <td>alfa-romero</td>\n",
       "      <td>gas</td>\n",
       "      <td>std</td>\n",
       "      <td>two</td>\n",
       "      <td>convertible</td>\n",
       "      <td>rwd</td>\n",
       "      <td>front</td>\n",
       "      <td>88.6</td>\n",
       "      <td>...</td>\n",
       "      <td>130</td>\n",
       "      <td>mpfi</td>\n",
       "      <td>3.47</td>\n",
       "      <td>2.68</td>\n",
       "      <td>9.0</td>\n",
       "      <td>111</td>\n",
       "      <td>5000</td>\n",
       "      <td>21</td>\n",
       "      <td>27</td>\n",
       "      <td>13495</td>\n",
       "    </tr>\n",
       "    <tr>\n",
       "      <th>1</th>\n",
       "      <td>3</td>\n",
       "      <td>?</td>\n",
       "      <td>alfa-romero</td>\n",
       "      <td>gas</td>\n",
       "      <td>std</td>\n",
       "      <td>two</td>\n",
       "      <td>convertible</td>\n",
       "      <td>rwd</td>\n",
       "      <td>front</td>\n",
       "      <td>88.6</td>\n",
       "      <td>...</td>\n",
       "      <td>130</td>\n",
       "      <td>mpfi</td>\n",
       "      <td>3.47</td>\n",
       "      <td>2.68</td>\n",
       "      <td>9.0</td>\n",
       "      <td>111</td>\n",
       "      <td>5000</td>\n",
       "      <td>21</td>\n",
       "      <td>27</td>\n",
       "      <td>16500</td>\n",
       "    </tr>\n",
       "    <tr>\n",
       "      <th>2</th>\n",
       "      <td>1</td>\n",
       "      <td>?</td>\n",
       "      <td>alfa-romero</td>\n",
       "      <td>gas</td>\n",
       "      <td>std</td>\n",
       "      <td>two</td>\n",
       "      <td>hatchback</td>\n",
       "      <td>rwd</td>\n",
       "      <td>front</td>\n",
       "      <td>94.5</td>\n",
       "      <td>...</td>\n",
       "      <td>152</td>\n",
       "      <td>mpfi</td>\n",
       "      <td>2.68</td>\n",
       "      <td>3.47</td>\n",
       "      <td>9.0</td>\n",
       "      <td>154</td>\n",
       "      <td>5000</td>\n",
       "      <td>19</td>\n",
       "      <td>26</td>\n",
       "      <td>16500</td>\n",
       "    </tr>\n",
       "    <tr>\n",
       "      <th>3</th>\n",
       "      <td>2</td>\n",
       "      <td>164</td>\n",
       "      <td>audi</td>\n",
       "      <td>gas</td>\n",
       "      <td>std</td>\n",
       "      <td>four</td>\n",
       "      <td>sedan</td>\n",
       "      <td>fwd</td>\n",
       "      <td>front</td>\n",
       "      <td>99.8</td>\n",
       "      <td>...</td>\n",
       "      <td>109</td>\n",
       "      <td>mpfi</td>\n",
       "      <td>3.19</td>\n",
       "      <td>3.40</td>\n",
       "      <td>10.0</td>\n",
       "      <td>102</td>\n",
       "      <td>5500</td>\n",
       "      <td>24</td>\n",
       "      <td>30</td>\n",
       "      <td>13950</td>\n",
       "    </tr>\n",
       "    <tr>\n",
       "      <th>4</th>\n",
       "      <td>2</td>\n",
       "      <td>164</td>\n",
       "      <td>audi</td>\n",
       "      <td>gas</td>\n",
       "      <td>std</td>\n",
       "      <td>four</td>\n",
       "      <td>sedan</td>\n",
       "      <td>4wd</td>\n",
       "      <td>front</td>\n",
       "      <td>99.4</td>\n",
       "      <td>...</td>\n",
       "      <td>136</td>\n",
       "      <td>mpfi</td>\n",
       "      <td>3.19</td>\n",
       "      <td>3.40</td>\n",
       "      <td>8.0</td>\n",
       "      <td>115</td>\n",
       "      <td>5500</td>\n",
       "      <td>18</td>\n",
       "      <td>22</td>\n",
       "      <td>17450</td>\n",
       "    </tr>\n",
       "    <tr>\n",
       "      <th>5</th>\n",
       "      <td>2</td>\n",
       "      <td>?</td>\n",
       "      <td>audi</td>\n",
       "      <td>gas</td>\n",
       "      <td>std</td>\n",
       "      <td>two</td>\n",
       "      <td>sedan</td>\n",
       "      <td>fwd</td>\n",
       "      <td>front</td>\n",
       "      <td>99.8</td>\n",
       "      <td>...</td>\n",
       "      <td>136</td>\n",
       "      <td>mpfi</td>\n",
       "      <td>3.19</td>\n",
       "      <td>3.40</td>\n",
       "      <td>8.5</td>\n",
       "      <td>110</td>\n",
       "      <td>5500</td>\n",
       "      <td>19</td>\n",
       "      <td>25</td>\n",
       "      <td>15250</td>\n",
       "    </tr>\n",
       "    <tr>\n",
       "      <th>6</th>\n",
       "      <td>1</td>\n",
       "      <td>158</td>\n",
       "      <td>audi</td>\n",
       "      <td>gas</td>\n",
       "      <td>std</td>\n",
       "      <td>four</td>\n",
       "      <td>sedan</td>\n",
       "      <td>fwd</td>\n",
       "      <td>front</td>\n",
       "      <td>105.8</td>\n",
       "      <td>...</td>\n",
       "      <td>136</td>\n",
       "      <td>mpfi</td>\n",
       "      <td>3.19</td>\n",
       "      <td>3.40</td>\n",
       "      <td>8.5</td>\n",
       "      <td>110</td>\n",
       "      <td>5500</td>\n",
       "      <td>19</td>\n",
       "      <td>25</td>\n",
       "      <td>17710</td>\n",
       "    </tr>\n",
       "    <tr>\n",
       "      <th>7</th>\n",
       "      <td>1</td>\n",
       "      <td>?</td>\n",
       "      <td>audi</td>\n",
       "      <td>gas</td>\n",
       "      <td>std</td>\n",
       "      <td>four</td>\n",
       "      <td>wagon</td>\n",
       "      <td>fwd</td>\n",
       "      <td>front</td>\n",
       "      <td>105.8</td>\n",
       "      <td>...</td>\n",
       "      <td>136</td>\n",
       "      <td>mpfi</td>\n",
       "      <td>3.19</td>\n",
       "      <td>3.40</td>\n",
       "      <td>8.5</td>\n",
       "      <td>110</td>\n",
       "      <td>5500</td>\n",
       "      <td>19</td>\n",
       "      <td>25</td>\n",
       "      <td>18920</td>\n",
       "    </tr>\n",
       "    <tr>\n",
       "      <th>8</th>\n",
       "      <td>1</td>\n",
       "      <td>158</td>\n",
       "      <td>audi</td>\n",
       "      <td>gas</td>\n",
       "      <td>turbo</td>\n",
       "      <td>four</td>\n",
       "      <td>sedan</td>\n",
       "      <td>fwd</td>\n",
       "      <td>front</td>\n",
       "      <td>105.8</td>\n",
       "      <td>...</td>\n",
       "      <td>131</td>\n",
       "      <td>mpfi</td>\n",
       "      <td>3.13</td>\n",
       "      <td>3.40</td>\n",
       "      <td>8.3</td>\n",
       "      <td>140</td>\n",
       "      <td>5500</td>\n",
       "      <td>17</td>\n",
       "      <td>20</td>\n",
       "      <td>23875</td>\n",
       "    </tr>\n",
       "    <tr>\n",
       "      <th>9</th>\n",
       "      <td>0</td>\n",
       "      <td>?</td>\n",
       "      <td>audi</td>\n",
       "      <td>gas</td>\n",
       "      <td>turbo</td>\n",
       "      <td>two</td>\n",
       "      <td>hatchback</td>\n",
       "      <td>4wd</td>\n",
       "      <td>front</td>\n",
       "      <td>99.5</td>\n",
       "      <td>...</td>\n",
       "      <td>131</td>\n",
       "      <td>mpfi</td>\n",
       "      <td>3.13</td>\n",
       "      <td>3.40</td>\n",
       "      <td>7.0</td>\n",
       "      <td>160</td>\n",
       "      <td>5500</td>\n",
       "      <td>16</td>\n",
       "      <td>22</td>\n",
       "      <td>?</td>\n",
       "    </tr>\n",
       "    <tr>\n",
       "      <th>10</th>\n",
       "      <td>2</td>\n",
       "      <td>192</td>\n",
       "      <td>bmw</td>\n",
       "      <td>gas</td>\n",
       "      <td>std</td>\n",
       "      <td>two</td>\n",
       "      <td>sedan</td>\n",
       "      <td>rwd</td>\n",
       "      <td>front</td>\n",
       "      <td>101.2</td>\n",
       "      <td>...</td>\n",
       "      <td>108</td>\n",
       "      <td>mpfi</td>\n",
       "      <td>3.50</td>\n",
       "      <td>2.80</td>\n",
       "      <td>8.8</td>\n",
       "      <td>101</td>\n",
       "      <td>5800</td>\n",
       "      <td>23</td>\n",
       "      <td>29</td>\n",
       "      <td>16430</td>\n",
       "    </tr>\n",
       "    <tr>\n",
       "      <th>11</th>\n",
       "      <td>0</td>\n",
       "      <td>192</td>\n",
       "      <td>bmw</td>\n",
       "      <td>gas</td>\n",
       "      <td>std</td>\n",
       "      <td>four</td>\n",
       "      <td>sedan</td>\n",
       "      <td>rwd</td>\n",
       "      <td>front</td>\n",
       "      <td>101.2</td>\n",
       "      <td>...</td>\n",
       "      <td>108</td>\n",
       "      <td>mpfi</td>\n",
       "      <td>3.50</td>\n",
       "      <td>2.80</td>\n",
       "      <td>8.8</td>\n",
       "      <td>101</td>\n",
       "      <td>5800</td>\n",
       "      <td>23</td>\n",
       "      <td>29</td>\n",
       "      <td>16925</td>\n",
       "    </tr>\n",
       "    <tr>\n",
       "      <th>12</th>\n",
       "      <td>0</td>\n",
       "      <td>188</td>\n",
       "      <td>bmw</td>\n",
       "      <td>gas</td>\n",
       "      <td>std</td>\n",
       "      <td>two</td>\n",
       "      <td>sedan</td>\n",
       "      <td>rwd</td>\n",
       "      <td>front</td>\n",
       "      <td>101.2</td>\n",
       "      <td>...</td>\n",
       "      <td>164</td>\n",
       "      <td>mpfi</td>\n",
       "      <td>3.31</td>\n",
       "      <td>3.19</td>\n",
       "      <td>9.0</td>\n",
       "      <td>121</td>\n",
       "      <td>4250</td>\n",
       "      <td>21</td>\n",
       "      <td>28</td>\n",
       "      <td>20970</td>\n",
       "    </tr>\n",
       "    <tr>\n",
       "      <th>13</th>\n",
       "      <td>0</td>\n",
       "      <td>188</td>\n",
       "      <td>bmw</td>\n",
       "      <td>gas</td>\n",
       "      <td>std</td>\n",
       "      <td>four</td>\n",
       "      <td>sedan</td>\n",
       "      <td>rwd</td>\n",
       "      <td>front</td>\n",
       "      <td>101.2</td>\n",
       "      <td>...</td>\n",
       "      <td>164</td>\n",
       "      <td>mpfi</td>\n",
       "      <td>3.31</td>\n",
       "      <td>3.19</td>\n",
       "      <td>9.0</td>\n",
       "      <td>121</td>\n",
       "      <td>4250</td>\n",
       "      <td>21</td>\n",
       "      <td>28</td>\n",
       "      <td>21105</td>\n",
       "    </tr>\n",
       "    <tr>\n",
       "      <th>14</th>\n",
       "      <td>1</td>\n",
       "      <td>?</td>\n",
       "      <td>bmw</td>\n",
       "      <td>gas</td>\n",
       "      <td>std</td>\n",
       "      <td>four</td>\n",
       "      <td>sedan</td>\n",
       "      <td>rwd</td>\n",
       "      <td>front</td>\n",
       "      <td>103.5</td>\n",
       "      <td>...</td>\n",
       "      <td>164</td>\n",
       "      <td>mpfi</td>\n",
       "      <td>3.31</td>\n",
       "      <td>3.19</td>\n",
       "      <td>9.0</td>\n",
       "      <td>121</td>\n",
       "      <td>4250</td>\n",
       "      <td>20</td>\n",
       "      <td>25</td>\n",
       "      <td>24565</td>\n",
       "    </tr>\n",
       "    <tr>\n",
       "      <th>15</th>\n",
       "      <td>0</td>\n",
       "      <td>?</td>\n",
       "      <td>bmw</td>\n",
       "      <td>gas</td>\n",
       "      <td>std</td>\n",
       "      <td>four</td>\n",
       "      <td>sedan</td>\n",
       "      <td>rwd</td>\n",
       "      <td>front</td>\n",
       "      <td>103.5</td>\n",
       "      <td>...</td>\n",
       "      <td>209</td>\n",
       "      <td>mpfi</td>\n",
       "      <td>3.62</td>\n",
       "      <td>3.39</td>\n",
       "      <td>8.0</td>\n",
       "      <td>182</td>\n",
       "      <td>5400</td>\n",
       "      <td>16</td>\n",
       "      <td>22</td>\n",
       "      <td>30760</td>\n",
       "    </tr>\n",
       "    <tr>\n",
       "      <th>16</th>\n",
       "      <td>0</td>\n",
       "      <td>?</td>\n",
       "      <td>bmw</td>\n",
       "      <td>gas</td>\n",
       "      <td>std</td>\n",
       "      <td>two</td>\n",
       "      <td>sedan</td>\n",
       "      <td>rwd</td>\n",
       "      <td>front</td>\n",
       "      <td>103.5</td>\n",
       "      <td>...</td>\n",
       "      <td>209</td>\n",
       "      <td>mpfi</td>\n",
       "      <td>3.62</td>\n",
       "      <td>3.39</td>\n",
       "      <td>8.0</td>\n",
       "      <td>182</td>\n",
       "      <td>5400</td>\n",
       "      <td>16</td>\n",
       "      <td>22</td>\n",
       "      <td>41315</td>\n",
       "    </tr>\n",
       "    <tr>\n",
       "      <th>17</th>\n",
       "      <td>0</td>\n",
       "      <td>?</td>\n",
       "      <td>bmw</td>\n",
       "      <td>gas</td>\n",
       "      <td>std</td>\n",
       "      <td>four</td>\n",
       "      <td>sedan</td>\n",
       "      <td>rwd</td>\n",
       "      <td>front</td>\n",
       "      <td>110.0</td>\n",
       "      <td>...</td>\n",
       "      <td>209</td>\n",
       "      <td>mpfi</td>\n",
       "      <td>3.62</td>\n",
       "      <td>3.39</td>\n",
       "      <td>8.0</td>\n",
       "      <td>182</td>\n",
       "      <td>5400</td>\n",
       "      <td>15</td>\n",
       "      <td>20</td>\n",
       "      <td>36880</td>\n",
       "    </tr>\n",
       "    <tr>\n",
       "      <th>18</th>\n",
       "      <td>2</td>\n",
       "      <td>121</td>\n",
       "      <td>chevrolet</td>\n",
       "      <td>gas</td>\n",
       "      <td>std</td>\n",
       "      <td>two</td>\n",
       "      <td>hatchback</td>\n",
       "      <td>fwd</td>\n",
       "      <td>front</td>\n",
       "      <td>88.4</td>\n",
       "      <td>...</td>\n",
       "      <td>61</td>\n",
       "      <td>2bbl</td>\n",
       "      <td>2.91</td>\n",
       "      <td>3.03</td>\n",
       "      <td>9.5</td>\n",
       "      <td>48</td>\n",
       "      <td>5100</td>\n",
       "      <td>47</td>\n",
       "      <td>53</td>\n",
       "      <td>5151</td>\n",
       "    </tr>\n",
       "  </tbody>\n",
       "</table>\n",
       "<p>19 rows × 26 columns</p>\n",
       "</div>"
      ],
      "text/plain": [
       "    symboling normalized-losses         make fuel-type aspiration  \\\n",
       "0           3                 ?  alfa-romero       gas        std   \n",
       "1           3                 ?  alfa-romero       gas        std   \n",
       "2           1                 ?  alfa-romero       gas        std   \n",
       "3           2               164         audi       gas        std   \n",
       "4           2               164         audi       gas        std   \n",
       "5           2                 ?         audi       gas        std   \n",
       "6           1               158         audi       gas        std   \n",
       "7           1                 ?         audi       gas        std   \n",
       "8           1               158         audi       gas      turbo   \n",
       "9           0                 ?         audi       gas      turbo   \n",
       "10          2               192          bmw       gas        std   \n",
       "11          0               192          bmw       gas        std   \n",
       "12          0               188          bmw       gas        std   \n",
       "13          0               188          bmw       gas        std   \n",
       "14          1                 ?          bmw       gas        std   \n",
       "15          0                 ?          bmw       gas        std   \n",
       "16          0                 ?          bmw       gas        std   \n",
       "17          0                 ?          bmw       gas        std   \n",
       "18          2               121    chevrolet       gas        std   \n",
       "\n",
       "   num-of-doors   body-style drive-wheels engine-location  wheel-base  ...    \\\n",
       "0           two  convertible          rwd           front        88.6  ...     \n",
       "1           two  convertible          rwd           front        88.6  ...     \n",
       "2           two    hatchback          rwd           front        94.5  ...     \n",
       "3          four        sedan          fwd           front        99.8  ...     \n",
       "4          four        sedan          4wd           front        99.4  ...     \n",
       "5           two        sedan          fwd           front        99.8  ...     \n",
       "6          four        sedan          fwd           front       105.8  ...     \n",
       "7          four        wagon          fwd           front       105.8  ...     \n",
       "8          four        sedan          fwd           front       105.8  ...     \n",
       "9           two    hatchback          4wd           front        99.5  ...     \n",
       "10          two        sedan          rwd           front       101.2  ...     \n",
       "11         four        sedan          rwd           front       101.2  ...     \n",
       "12          two        sedan          rwd           front       101.2  ...     \n",
       "13         four        sedan          rwd           front       101.2  ...     \n",
       "14         four        sedan          rwd           front       103.5  ...     \n",
       "15         four        sedan          rwd           front       103.5  ...     \n",
       "16          two        sedan          rwd           front       103.5  ...     \n",
       "17         four        sedan          rwd           front       110.0  ...     \n",
       "18          two    hatchback          fwd           front        88.4  ...     \n",
       "\n",
       "    engine-size  fuel-system  bore  stroke compression-ratio horsepower  \\\n",
       "0           130         mpfi  3.47    2.68               9.0        111   \n",
       "1           130         mpfi  3.47    2.68               9.0        111   \n",
       "2           152         mpfi  2.68    3.47               9.0        154   \n",
       "3           109         mpfi  3.19    3.40              10.0        102   \n",
       "4           136         mpfi  3.19    3.40               8.0        115   \n",
       "5           136         mpfi  3.19    3.40               8.5        110   \n",
       "6           136         mpfi  3.19    3.40               8.5        110   \n",
       "7           136         mpfi  3.19    3.40               8.5        110   \n",
       "8           131         mpfi  3.13    3.40               8.3        140   \n",
       "9           131         mpfi  3.13    3.40               7.0        160   \n",
       "10          108         mpfi  3.50    2.80               8.8        101   \n",
       "11          108         mpfi  3.50    2.80               8.8        101   \n",
       "12          164         mpfi  3.31    3.19               9.0        121   \n",
       "13          164         mpfi  3.31    3.19               9.0        121   \n",
       "14          164         mpfi  3.31    3.19               9.0        121   \n",
       "15          209         mpfi  3.62    3.39               8.0        182   \n",
       "16          209         mpfi  3.62    3.39               8.0        182   \n",
       "17          209         mpfi  3.62    3.39               8.0        182   \n",
       "18           61         2bbl  2.91    3.03               9.5         48   \n",
       "\n",
       "    peak-rpm city-mpg highway-mpg  price  \n",
       "0       5000       21          27  13495  \n",
       "1       5000       21          27  16500  \n",
       "2       5000       19          26  16500  \n",
       "3       5500       24          30  13950  \n",
       "4       5500       18          22  17450  \n",
       "5       5500       19          25  15250  \n",
       "6       5500       19          25  17710  \n",
       "7       5500       19          25  18920  \n",
       "8       5500       17          20  23875  \n",
       "9       5500       16          22      ?  \n",
       "10      5800       23          29  16430  \n",
       "11      5800       23          29  16925  \n",
       "12      4250       21          28  20970  \n",
       "13      4250       21          28  21105  \n",
       "14      4250       20          25  24565  \n",
       "15      5400       16          22  30760  \n",
       "16      5400       16          22  41315  \n",
       "17      5400       15          20  36880  \n",
       "18      5100       47          53   5151  \n",
       "\n",
       "[19 rows x 26 columns]"
      ]
     },
     "execution_count": 15,
     "metadata": {},
     "output_type": "execute_result"
    }
   ],
   "source": [
    "autom.head(19)"
   ]
  },
  {
   "cell_type": "code",
   "execution_count": 25,
   "metadata": {
    "collapsed": false
   },
   "outputs": [
    {
     "data": {
      "text/plain": [
       "gas       185\n",
       "diesel     20\n",
       "Name: fuel-type, dtype: int64"
      ]
     },
     "execution_count": 25,
     "metadata": {},
     "output_type": "execute_result"
    }
   ],
   "source": [
    "autom['fuel-type'].value_counts()"
   ]
  },
  {
   "cell_type": "code",
   "execution_count": 56,
   "metadata": {
    "collapsed": false
   },
   "outputs": [
    {
     "name": "stdout",
     "output_type": "stream",
     "text": [
      "Reject Null Hypo of Same Means  - Therefore Differnt means\n"
     ]
    }
   ],
   "source": [
    "#1- Is there any difference between mileage per gallon on highway by feul type\n",
    "x,p=stats.ttest_ind(a=autom['highway-mpg'][autom['fuel-type']=='gas'],b=autom['highway-mpg'][autom['fuel-type']=='diesel'],\n",
    "                    equal_var=False)\n",
    "if p<0.05:\n",
    "    print 'Reject Null Hypo of Same Means  - Therefore Differnt means'\n",
    "else:\n",
    "    print 'Null Hypo Accpeted - Same Means'"
   ]
  },
  {
   "cell_type": "code",
   "execution_count": 42,
   "metadata": {
    "collapsed": false
   },
   "outputs": [
    {
     "name": "stdout",
     "output_type": "stream",
     "text": [
      "30.3189189189\n",
      "34.75\n"
     ]
    }
   ],
   "source": [
    "print autom['highway-mpg'][autom['fuel-type']=='gas'].mean()\n",
    "print autom['highway-mpg'][autom['fuel-type']=='diesel'].mean()"
   ]
  },
  {
   "cell_type": "code",
   "execution_count": 41,
   "metadata": {
    "collapsed": false
   },
   "outputs": [
    {
     "data": {
      "text/plain": [
       "34.75"
      ]
     },
     "execution_count": 41,
     "metadata": {},
     "output_type": "execute_result"
    }
   ],
   "source": [
    "#Assignment 2nd Part"
   ]
  },
  {
   "cell_type": "code",
   "execution_count": 46,
   "metadata": {
    "collapsed": false
   },
   "outputs": [
    {
     "data": {
      "text/plain": [
       "city-mpg       0\n",
       "highway-mpg    0\n",
       "dtype: int64"
      ]
     },
     "execution_count": 46,
     "metadata": {},
     "output_type": "execute_result"
    }
   ],
   "source": [
    "autom[['city-mpg','highway-mpg']].isnull().sum()"
   ]
  },
  {
   "cell_type": "code",
   "execution_count": 57,
   "metadata": {
    "collapsed": false
   },
   "outputs": [
    {
     "name": "stdout",
     "output_type": "stream",
     "text": [
      "Reject Null Hypo of Same Means  - Therefore Differnt means\n"
     ]
    }
   ],
   "source": [
    "#2- Is there any difference between city mileage and highway mileage\n",
    "x,p=stats.ttest_rel(a=autom['highway-mpg'],b=autom['city-mpg'])\n",
    "if p<0.05:\n",
    "    print 'Reject Null Hypo of Same Means  - Therefore Differnt means'\n",
    "else:\n",
    "    print 'Null Hypo Accpeted - Same Means'"
   ]
  },
  {
   "cell_type": "code",
   "execution_count": 58,
   "metadata": {
    "collapsed": false
   },
   "outputs": [
    {
     "name": "stdout",
     "output_type": "stream",
     "text": [
      "Reject Null Hypo of Same Means  - Therefore Differnt means\n"
     ]
    }
   ],
   "source": [
    "x,p=stats.ttest_ind(a=autom['highway-mpg'],b=autom['city-mpg'],equal_var=False)\n",
    "if p<0.05:\n",
    "    print 'Reject Null Hypo of Same Means  - Therefore Differnt means'\n",
    "else:\n",
    "    print 'Null Hypo Accpeted - Same Means'"
   ]
  },
  {
   "cell_type": "code",
   "execution_count": 52,
   "metadata": {
    "collapsed": false
   },
   "outputs": [
    {
     "name": "stdout",
     "output_type": "stream",
     "text": [
      "30.7512195122\n",
      "25.2195121951\n"
     ]
    }
   ],
   "source": [
    "print autom['highway-mpg'].mean()\n",
    "print autom['city-mpg'].mean()"
   ]
  },
  {
   "cell_type": "code",
   "execution_count": null,
   "metadata": {
    "collapsed": true
   },
   "outputs": [],
   "source": [
    "#For Pradeepta Review\n",
    "#1- Is there any difference between mileage per gallon on highway by feul type\n",
    "x,p=stats.ttest_ind(a=autom['highway-mpg'][autom['fuel-type']=='gas'],b=autom['highway-mpg'][autom['fuel-type']=='diesel'],\n",
    "                    equal_var=False)\n",
    "#2- Is there any difference between city mileage and highway mileage\n",
    "x,p=stats.ttest_rel(a=autom['highway-mpg'],b=autom['city-mpg'])\n",
    "if p<0.05:\n",
    "    print 'Reject Null Hypo of Same Means  - Therefore Different means'\n",
    "else:\n",
    "    print 'Null Hypotheis Accpeted - Same Means'"
   ]
  }
 ],
 "metadata": {
  "kernelspec": {
   "display_name": "Python 2.7",
   "language": "python",
   "name": "python2.7"
  },
  "language_info": {
   "codemirror_mode": {
    "name": "ipython",
    "version": 2
   },
   "file_extension": ".py",
   "mimetype": "text/x-python",
   "name": "python",
   "nbconvert_exporter": "python",
   "pygments_lexer": "ipython2",
   "version": "2.7.6"
  }
 },
 "nbformat": 4,
 "nbformat_minor": 0
}
