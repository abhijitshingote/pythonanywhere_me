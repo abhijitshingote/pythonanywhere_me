{
 "cells": [
  {
   "cell_type": "code",
   "execution_count": 1,
   "metadata": {
    "collapsed": true
   },
   "outputs": [],
   "source": [
    "import os\n",
    "import numpy as np\n",
    "import pandas as pd\n",
    "\n",
    "from sklearn import tree"
   ]
  },
  {
   "cell_type": "code",
   "execution_count": 2,
   "metadata": {
    "collapsed": true
   },
   "outputs": [],
   "source": [
    "from sklearn.datasets import load_iris\n",
    "from sklearn import tree"
   ]
  },
  {
   "cell_type": "code",
   "execution_count": 3,
   "metadata": {
    "collapsed": true
   },
   "outputs": [],
   "source": [
    "iris = load_iris()"
   ]
  },
  {
   "cell_type": "code",
   "execution_count": 4,
   "metadata": {
    "collapsed": false
   },
   "outputs": [
    {
     "data": {
      "text/plain": [
       "(150, 4)"
      ]
     },
     "execution_count": 4,
     "metadata": {},
     "output_type": "execute_result"
    }
   ],
   "source": [
    "iris.data.shape # input data"
   ]
  },
  {
   "cell_type": "code",
   "execution_count": 5,
   "metadata": {
    "collapsed": false
   },
   "outputs": [
    {
     "name": "stdout",
     "output_type": "stream",
     "text": [
      "Iris Plants Database\n",
      "\n",
      "Notes\n",
      "-----\n",
      "Data Set Characteristics:\n",
      "    :Number of Instances: 150 (50 in each of three classes)\n",
      "    :Number of Attributes: 4 numeric, predictive attributes and the class\n",
      "    :Attribute Information:\n",
      "        - sepal length in cm\n",
      "        - sepal width in cm\n",
      "        - petal length in cm\n",
      "        - petal width in cm\n",
      "        - class:\n",
      "                - Iris-Setosa\n",
      "                - Iris-Versicolour\n",
      "                - Iris-Virginica\n",
      "    :Summary Statistics:\n",
      "    ============== ==== ==== ======= ===== ====================\n",
      "                    Min  Max   Mean    SD   Class Correlation\n",
      "    ============== ==== ==== ======= ===== ====================\n",
      "    sepal length:   4.3  7.9   5.84   0.83    0.7826\n",
      "    sepal width:    2.0  4.4   3.05   0.43   -0.4194\n",
      "    petal length:   1.0  6.9   3.76   1.76    0.9490  (high!)\n",
      "    petal width:    0.1  2.5   1.20  0.76     0.9565  (high!)\n",
      "    ============== ==== ==== ======= ===== ====================\n",
      "    :Missing Attribute Values: None\n",
      "    :Class Distribution: 33.3% for each of 3 classes.\n",
      "    :Creator: R.A. Fisher\n",
      "    :Donor: Michael Marshall (MARSHALL%PLU@io.arc.nasa.gov)\n",
      "    :Date: July, 1988\n",
      "\n",
      "This is a copy of UCI ML iris datasets.\n",
      "http://archive.ics.uci.edu/ml/datasets/Iris\n",
      "\n",
      "The famous Iris database, first used by Sir R.A Fisher\n",
      "\n",
      "This is perhaps the best known database to be found in the\n",
      "pattern recognition literature.  Fisher's paper is a classic in the field and\n",
      "is referenced frequently to this day.  (See Duda & Hart, for example.)  The\n",
      "data set contains 3 classes of 50 instances each, where each class refers to a\n",
      "type of iris plant.  One class is linearly separable from the other 2; the\n",
      "latter are NOT linearly separable from each other.\n",
      "\n",
      "References\n",
      "----------\n",
      "   - Fisher,R.A. \"The use of multiple measurements in taxonomic problems\"\n",
      "     Annual Eugenics, 7, Part II, 179-188 (1936); also in \"Contributions to\n",
      "     Mathematical Statistics\" (John Wiley, NY, 1950).\n",
      "   - Duda,R.O., & Hart,P.E. (1973) Pattern Classification and Scene Analysis.\n",
      "     (Q327.D83) John Wiley & Sons.  ISBN 0-471-22361-1.  See page 218.\n",
      "   - Dasarathy, B.V. (1980) \"Nosing Around the Neighborhood: A New System\n",
      "     Structure and Classification Rule for Recognition in Partially Exposed\n",
      "     Environments\".  IEEE Transactions on Pattern Analysis and Machine\n",
      "     Intelligence, Vol. PAMI-2, No. 1, 67-71.\n",
      "   - Gates, G.W. (1972) \"The Reduced Nearest Neighbor Rule\".  IEEE Transactions\n",
      "     on Information Theory, May 1972, 431-433.\n",
      "   - See also: 1988 MLC Proceedings, 54-64.  Cheeseman et al\"s AUTOCLASS II\n",
      "     conceptual clustering system finds 3 classes in the data.\n",
      "   - Many, many more ...\n",
      "\n"
     ]
    }
   ],
   "source": [
    "print iris.DESCR"
   ]
  },
  {
   "cell_type": "code",
   "execution_count": 6,
   "metadata": {
    "collapsed": false
   },
   "outputs": [
    {
     "data": {
      "text/plain": [
       "['sepal length (cm)',\n",
       " 'sepal width (cm)',\n",
       " 'petal length (cm)',\n",
       " 'petal width (cm)']"
      ]
     },
     "execution_count": 6,
     "metadata": {},
     "output_type": "execute_result"
    }
   ],
   "source": [
    "iris.feature_names # getting the feature names"
   ]
  },
  {
   "cell_type": "code",
   "execution_count": 7,
   "metadata": {
    "collapsed": false
   },
   "outputs": [
    {
     "data": {
      "text/plain": [
       "(150,)"
      ]
     },
     "execution_count": 7,
     "metadata": {},
     "output_type": "execute_result"
    }
   ],
   "source": [
    "iris.target.shape # target variable or dependent variable"
   ]
  },
  {
   "cell_type": "code",
   "execution_count": 8,
   "metadata": {
    "collapsed": false
   },
   "outputs": [
    {
     "data": {
      "text/plain": [
       "DecisionTreeClassifier(class_weight=None, criterion='gini', max_depth=None,\n",
       "            max_features=None, max_leaf_nodes=None, min_samples_leaf=1,\n",
       "            min_samples_split=2, min_weight_fraction_leaf=0.0,\n",
       "            random_state=None, splitter='best')"
      ]
     },
     "execution_count": 8,
     "metadata": {},
     "output_type": "execute_result"
    }
   ],
   "source": [
    "mytree = tree.DecisionTreeClassifier()\n",
    "mytree"
   ]
  },
  {
   "cell_type": "code",
   "execution_count": 9,
   "metadata": {
    "collapsed": false
   },
   "outputs": [
    {
     "data": {
      "text/plain": [
       "DecisionTreeClassifier(class_weight=None, criterion='entropy', max_depth=None,\n",
       "            max_features=None, max_leaf_nodes=None, min_samples_leaf=1,\n",
       "            min_samples_split=2, min_weight_fraction_leaf=0.0,\n",
       "            random_state=None, splitter='best')"
      ]
     },
     "execution_count": 9,
     "metadata": {},
     "output_type": "execute_result"
    }
   ],
   "source": [
    "mytree = tree.DecisionTreeClassifier(criterion='entropy')\n",
    "mytree"
   ]
  },
  {
   "cell_type": "code",
   "execution_count": 10,
   "metadata": {
    "collapsed": false
   },
   "outputs": [
    {
     "data": {
      "text/plain": [
       "DecisionTreeClassifier(class_weight=None, criterion='entropy', max_depth=None,\n",
       "            max_features=None, max_leaf_nodes=None, min_samples_leaf=1,\n",
       "            min_samples_split=2, min_weight_fraction_leaf=0.0,\n",
       "            random_state=None, splitter='best')"
      ]
     },
     "execution_count": 10,
     "metadata": {},
     "output_type": "execute_result"
    }
   ],
   "source": [
    "dt1 = mytree.fit(iris.data, iris.target)\n",
    "dt1"
   ]
  },
  {
   "cell_type": "code",
   "execution_count": 11,
   "metadata": {
    "collapsed": false
   },
   "outputs": [
    {
     "data": {
      "text/plain": [
       "array([ 0.02317521,  0.        ,  0.64544598,  0.33137881])"
      ]
     },
     "execution_count": 11,
     "metadata": {},
     "output_type": "execute_result"
    }
   ],
   "source": [
    "dt1.feature_importances_"
   ]
  },
  {
   "cell_type": "code",
   "execution_count": 63,
   "metadata": {
    "collapsed": true
   },
   "outputs": [],
   "source": [
    "# three methods determine the importance of features\n",
    "# 1. mean decrease in gini coefficient\n",
    "# 2. informtion gain -cross entropy\n",
    "# 3. variance based approach"
   ]
  },
  {
   "cell_type": "code",
   "execution_count": 64,
   "metadata": {
    "collapsed": false
   },
   "outputs": [
    {
     "data": {
      "text/plain": [
       "1.0"
      ]
     },
     "execution_count": 64,
     "metadata": {},
     "output_type": "execute_result"
    }
   ],
   "source": [
    "dt1.score(iris.data,iris.target)"
   ]
  },
  {
   "cell_type": "code",
   "execution_count": 12,
   "metadata": {
    "collapsed": true
   },
   "outputs": [],
   "source": [
    "# decision tree for regression based problems\n",
    "from sklearn.datasets import load_boston\n",
    "from sklearn.cross_validation import cross_val_score\n",
    "from sklearn.tree import DecisionTreeRegressor\n"
   ]
  },
  {
   "cell_type": "code",
   "execution_count": 13,
   "metadata": {
    "collapsed": false
   },
   "outputs": [
    {
     "data": {
      "text/plain": [
       "array([ 0.43406909,  0.55245341, -1.55948714,  0.3800447 ,  0.78608642,\n",
       "        0.509715  ,  0.12765843,  0.35462482, -2.39361224,  0.12732401])"
      ]
     },
     "execution_count": 13,
     "metadata": {},
     "output_type": "execute_result"
    }
   ],
   "source": [
    "boston = load_boston()\n",
    "regressor = DecisionTreeRegressor(random_state=0)\n",
    "cross_val_score(regressor, boston.data, boston.target, cv=10)"
   ]
  },
  {
   "cell_type": "code",
   "execution_count": 14,
   "metadata": {
    "collapsed": true
   },
   "outputs": [],
   "source": [
    "from sklearn.grid_search import GridSearchCV\n",
    "from time import time\n",
    "from operator import itemgetter"
   ]
  },
  {
   "cell_type": "code",
   "execution_count": 15,
   "metadata": {
    "collapsed": true
   },
   "outputs": [],
   "source": [
    "# create a function to perform grid search with cross validation and returns the accuracy values\n",
    "def GridSearch_BestParam(X, y, clf, param_grid,cv=10):\n",
    "    grid_search = GridSearchCV(clf,\n",
    "                              param_grid=param_grid,\n",
    "                              cv=cv)\n",
    "    start= time()\n",
    "    grid_search.fit(X,y)\n",
    "    top_params=grid_search.grid_scores_\n",
    "    return top_params"
   ]
  },
  {
   "cell_type": "code",
   "execution_count": 16,
   "metadata": {
    "collapsed": true
   },
   "outputs": [],
   "source": [
    "param_grid = {\"criterion\": [\"gini\",\"entropy\"],\n",
    "             \"min_samples_split\": [2,10,20],\n",
    "             \"max_depth\": [2,5,10],\n",
    "             \"min_samples_leaf\":[1,2,10]}"
   ]
  },
  {
   "cell_type": "code",
   "execution_count": 17,
   "metadata": {
    "collapsed": false
   },
   "outputs": [],
   "source": [
    "cvDT = tree.DecisionTreeClassifier()"
   ]
  },
  {
   "cell_type": "code",
   "execution_count": 18,
   "metadata": {
    "collapsed": false
   },
   "outputs": [
    {
     "name": "stdout",
     "output_type": "stream",
     "text": [
      "[mean: 0.95333, std: 0.05207, params: {'min_samples_split': 2, 'criterion': 'gini', 'max_depth': 2, 'min_samples_leaf': 1}, mean: 0.95333, std: 0.05207, params: {'min_samples_split': 10, 'criterion': 'gini', 'max_depth': 2, 'min_samples_leaf': 1}, mean: 0.95333, std: 0.05207, params: {'min_samples_split': 20, 'criterion': 'gini', 'max_depth': 2, 'min_samples_leaf': 1}, mean: 0.95333, std: 0.05207, params: {'min_samples_split': 2, 'criterion': 'gini', 'max_depth': 2, 'min_samples_leaf': 2}, mean: 0.95333, std: 0.05207, params: {'min_samples_split': 10, 'criterion': 'gini', 'max_depth': 2, 'min_samples_leaf': 2}, mean: 0.94667, std: 0.04989, params: {'min_samples_split': 20, 'criterion': 'gini', 'max_depth': 2, 'min_samples_leaf': 2}, mean: 0.94667, std: 0.04989, params: {'min_samples_split': 2, 'criterion': 'gini', 'max_depth': 2, 'min_samples_leaf': 10}, mean: 0.95333, std: 0.05207, params: {'min_samples_split': 10, 'criterion': 'gini', 'max_depth': 2, 'min_samples_leaf': 10}, mean: 0.94667, std: 0.04989, params: {'min_samples_split': 20, 'criterion': 'gini', 'max_depth': 2, 'min_samples_leaf': 10}, mean: 0.96000, std: 0.04422, params: {'min_samples_split': 2, 'criterion': 'gini', 'max_depth': 5, 'min_samples_leaf': 1}, mean: 0.96000, std: 0.03266, params: {'min_samples_split': 10, 'criterion': 'gini', 'max_depth': 5, 'min_samples_leaf': 1}, mean: 0.96000, std: 0.03266, params: {'min_samples_split': 20, 'criterion': 'gini', 'max_depth': 5, 'min_samples_leaf': 1}, mean: 0.96000, std: 0.03266, params: {'min_samples_split': 2, 'criterion': 'gini', 'max_depth': 5, 'min_samples_leaf': 2}, mean: 0.96000, std: 0.03266, params: {'min_samples_split': 10, 'criterion': 'gini', 'max_depth': 5, 'min_samples_leaf': 2}, mean: 0.96000, std: 0.03266, params: {'min_samples_split': 20, 'criterion': 'gini', 'max_depth': 5, 'min_samples_leaf': 2}, mean: 0.95333, std: 0.05207, params: {'min_samples_split': 2, 'criterion': 'gini', 'max_depth': 5, 'min_samples_leaf': 10}, mean: 0.94667, std: 0.04989, params: {'min_samples_split': 10, 'criterion': 'gini', 'max_depth': 5, 'min_samples_leaf': 10}, mean: 0.94667, std: 0.04989, params: {'min_samples_split': 20, 'criterion': 'gini', 'max_depth': 5, 'min_samples_leaf': 10}, mean: 0.95333, std: 0.04269, params: {'min_samples_split': 2, 'criterion': 'gini', 'max_depth': 10, 'min_samples_leaf': 1}, mean: 0.96000, std: 0.03266, params: {'min_samples_split': 10, 'criterion': 'gini', 'max_depth': 10, 'min_samples_leaf': 1}, mean: 0.96000, std: 0.03266, params: {'min_samples_split': 20, 'criterion': 'gini', 'max_depth': 10, 'min_samples_leaf': 1}, mean: 0.95333, std: 0.04269, params: {'min_samples_split': 2, 'criterion': 'gini', 'max_depth': 10, 'min_samples_leaf': 2}, mean: 0.96000, std: 0.03266, params: {'min_samples_split': 10, 'criterion': 'gini', 'max_depth': 10, 'min_samples_leaf': 2}, mean: 0.96000, std: 0.03266, params: {'min_samples_split': 20, 'criterion': 'gini', 'max_depth': 10, 'min_samples_leaf': 2}, mean: 0.95333, std: 0.05207, params: {'min_samples_split': 2, 'criterion': 'gini', 'max_depth': 10, 'min_samples_leaf': 10}, mean: 0.95333, std: 0.05207, params: {'min_samples_split': 10, 'criterion': 'gini', 'max_depth': 10, 'min_samples_leaf': 10}, mean: 0.95333, std: 0.05207, params: {'min_samples_split': 20, 'criterion': 'gini', 'max_depth': 10, 'min_samples_leaf': 10}, mean: 0.94667, std: 0.04989, params: {'min_samples_split': 2, 'criterion': 'entropy', 'max_depth': 2, 'min_samples_leaf': 1}, mean: 0.94667, std: 0.04989, params: {'min_samples_split': 10, 'criterion': 'entropy', 'max_depth': 2, 'min_samples_leaf': 1}, mean: 0.95333, std: 0.05207, params: {'min_samples_split': 20, 'criterion': 'entropy', 'max_depth': 2, 'min_samples_leaf': 1}, mean: 0.94667, std: 0.04989, params: {'min_samples_split': 2, 'criterion': 'entropy', 'max_depth': 2, 'min_samples_leaf': 2}, mean: 0.94667, std: 0.04989, params: {'min_samples_split': 10, 'criterion': 'entropy', 'max_depth': 2, 'min_samples_leaf': 2}, mean: 0.94667, std: 0.04989, params: {'min_samples_split': 20, 'criterion': 'entropy', 'max_depth': 2, 'min_samples_leaf': 2}, mean: 0.94667, std: 0.04989, params: {'min_samples_split': 2, 'criterion': 'entropy', 'max_depth': 2, 'min_samples_leaf': 10}, mean: 0.94667, std: 0.04989, params: {'min_samples_split': 10, 'criterion': 'entropy', 'max_depth': 2, 'min_samples_leaf': 10}, mean: 0.95333, std: 0.05207, params: {'min_samples_split': 20, 'criterion': 'entropy', 'max_depth': 2, 'min_samples_leaf': 10}, mean: 0.96000, std: 0.04422, params: {'min_samples_split': 2, 'criterion': 'entropy', 'max_depth': 5, 'min_samples_leaf': 1}, mean: 0.96000, std: 0.03266, params: {'min_samples_split': 10, 'criterion': 'entropy', 'max_depth': 5, 'min_samples_leaf': 1}, mean: 0.96000, std: 0.03266, params: {'min_samples_split': 20, 'criterion': 'entropy', 'max_depth': 5, 'min_samples_leaf': 1}, mean: 0.95333, std: 0.04269, params: {'min_samples_split': 2, 'criterion': 'entropy', 'max_depth': 5, 'min_samples_leaf': 2}, mean: 0.96000, std: 0.03266, params: {'min_samples_split': 10, 'criterion': 'entropy', 'max_depth': 5, 'min_samples_leaf': 2}, mean: 0.96000, std: 0.03266, params: {'min_samples_split': 20, 'criterion': 'entropy', 'max_depth': 5, 'min_samples_leaf': 2}, mean: 0.94667, std: 0.04989, params: {'min_samples_split': 2, 'criterion': 'entropy', 'max_depth': 5, 'min_samples_leaf': 10}, mean: 0.95333, std: 0.05207, params: {'min_samples_split': 10, 'criterion': 'entropy', 'max_depth': 5, 'min_samples_leaf': 10}, mean: 0.94667, std: 0.04989, params: {'min_samples_split': 20, 'criterion': 'entropy', 'max_depth': 5, 'min_samples_leaf': 10}, mean: 0.96000, std: 0.04422, params: {'min_samples_split': 2, 'criterion': 'entropy', 'max_depth': 10, 'min_samples_leaf': 1}, mean: 0.96000, std: 0.03266, params: {'min_samples_split': 10, 'criterion': 'entropy', 'max_depth': 10, 'min_samples_leaf': 1}, mean: 0.96000, std: 0.03266, params: {'min_samples_split': 20, 'criterion': 'entropy', 'max_depth': 10, 'min_samples_leaf': 1}, mean: 0.96000, std: 0.03266, params: {'min_samples_split': 2, 'criterion': 'entropy', 'max_depth': 10, 'min_samples_leaf': 2}, mean: 0.96000, std: 0.03266, params: {'min_samples_split': 10, 'criterion': 'entropy', 'max_depth': 10, 'min_samples_leaf': 2}, mean: 0.96000, std: 0.03266, params: {'min_samples_split': 20, 'criterion': 'entropy', 'max_depth': 10, 'min_samples_leaf': 2}, mean: 0.95333, std: 0.05207, params: {'min_samples_split': 2, 'criterion': 'entropy', 'max_depth': 10, 'min_samples_leaf': 10}, mean: 0.94667, std: 0.04989, params: {'min_samples_split': 10, 'criterion': 'entropy', 'max_depth': 10, 'min_samples_leaf': 10}, mean: 0.94667, std: 0.04989, params: {'min_samples_split': 20, 'criterion': 'entropy', 'max_depth': 10, 'min_samples_leaf': 10}]\n"
     ]
    }
   ],
   "source": [
    "top_para = GridSearch_BestParam(iris.data, iris.target, cvDT, param_grid, cv=10)\n",
    "print top_para"
   ]
  },
  {
   "cell_type": "code",
   "execution_count": 19,
   "metadata": {
    "collapsed": false
   },
   "outputs": [
    {
     "data": {
      "text/plain": [
       "[mean: 0.96000, std: 0.04422, params: {'min_samples_split': 2, 'criterion': 'gini', 'max_depth': 5, 'min_samples_leaf': 1},\n",
       " mean: 0.96000, std: 0.03266, params: {'min_samples_split': 10, 'criterion': 'gini', 'max_depth': 5, 'min_samples_leaf': 1},\n",
       " mean: 0.96000, std: 0.03266, params: {'min_samples_split': 20, 'criterion': 'gini', 'max_depth': 5, 'min_samples_leaf': 1},\n",
       " mean: 0.96000, std: 0.03266, params: {'min_samples_split': 2, 'criterion': 'gini', 'max_depth': 5, 'min_samples_leaf': 2},\n",
       " mean: 0.96000, std: 0.03266, params: {'min_samples_split': 10, 'criterion': 'gini', 'max_depth': 5, 'min_samples_leaf': 2},\n",
       " mean: 0.96000, std: 0.03266, params: {'min_samples_split': 20, 'criterion': 'gini', 'max_depth': 5, 'min_samples_leaf': 2},\n",
       " mean: 0.96000, std: 0.03266, params: {'min_samples_split': 10, 'criterion': 'gini', 'max_depth': 10, 'min_samples_leaf': 1},\n",
       " mean: 0.96000, std: 0.03266, params: {'min_samples_split': 20, 'criterion': 'gini', 'max_depth': 10, 'min_samples_leaf': 1},\n",
       " mean: 0.96000, std: 0.03266, params: {'min_samples_split': 10, 'criterion': 'gini', 'max_depth': 10, 'min_samples_leaf': 2},\n",
       " mean: 0.96000, std: 0.03266, params: {'min_samples_split': 20, 'criterion': 'gini', 'max_depth': 10, 'min_samples_leaf': 2},\n",
       " mean: 0.96000, std: 0.04422, params: {'min_samples_split': 2, 'criterion': 'entropy', 'max_depth': 5, 'min_samples_leaf': 1},\n",
       " mean: 0.96000, std: 0.03266, params: {'min_samples_split': 10, 'criterion': 'entropy', 'max_depth': 5, 'min_samples_leaf': 1},\n",
       " mean: 0.96000, std: 0.03266, params: {'min_samples_split': 20, 'criterion': 'entropy', 'max_depth': 5, 'min_samples_leaf': 1},\n",
       " mean: 0.96000, std: 0.03266, params: {'min_samples_split': 10, 'criterion': 'entropy', 'max_depth': 5, 'min_samples_leaf': 2},\n",
       " mean: 0.96000, std: 0.03266, params: {'min_samples_split': 20, 'criterion': 'entropy', 'max_depth': 5, 'min_samples_leaf': 2},\n",
       " mean: 0.96000, std: 0.04422, params: {'min_samples_split': 2, 'criterion': 'entropy', 'max_depth': 10, 'min_samples_leaf': 1},\n",
       " mean: 0.96000, std: 0.03266, params: {'min_samples_split': 10, 'criterion': 'entropy', 'max_depth': 10, 'min_samples_leaf': 1},\n",
       " mean: 0.96000, std: 0.03266, params: {'min_samples_split': 20, 'criterion': 'entropy', 'max_depth': 10, 'min_samples_leaf': 1},\n",
       " mean: 0.96000, std: 0.03266, params: {'min_samples_split': 2, 'criterion': 'entropy', 'max_depth': 10, 'min_samples_leaf': 2},\n",
       " mean: 0.96000, std: 0.03266, params: {'min_samples_split': 10, 'criterion': 'entropy', 'max_depth': 10, 'min_samples_leaf': 2},\n",
       " mean: 0.96000, std: 0.03266, params: {'min_samples_split': 20, 'criterion': 'entropy', 'max_depth': 10, 'min_samples_leaf': 2},\n",
       " mean: 0.95333, std: 0.05207, params: {'min_samples_split': 2, 'criterion': 'gini', 'max_depth': 2, 'min_samples_leaf': 1},\n",
       " mean: 0.95333, std: 0.05207, params: {'min_samples_split': 10, 'criterion': 'gini', 'max_depth': 2, 'min_samples_leaf': 1},\n",
       " mean: 0.95333, std: 0.05207, params: {'min_samples_split': 20, 'criterion': 'gini', 'max_depth': 2, 'min_samples_leaf': 1},\n",
       " mean: 0.95333, std: 0.05207, params: {'min_samples_split': 2, 'criterion': 'gini', 'max_depth': 2, 'min_samples_leaf': 2},\n",
       " mean: 0.95333, std: 0.05207, params: {'min_samples_split': 10, 'criterion': 'gini', 'max_depth': 2, 'min_samples_leaf': 2},\n",
       " mean: 0.95333, std: 0.05207, params: {'min_samples_split': 10, 'criterion': 'gini', 'max_depth': 2, 'min_samples_leaf': 10},\n",
       " mean: 0.95333, std: 0.05207, params: {'min_samples_split': 2, 'criterion': 'gini', 'max_depth': 5, 'min_samples_leaf': 10},\n",
       " mean: 0.95333, std: 0.04269, params: {'min_samples_split': 2, 'criterion': 'gini', 'max_depth': 10, 'min_samples_leaf': 1},\n",
       " mean: 0.95333, std: 0.04269, params: {'min_samples_split': 2, 'criterion': 'gini', 'max_depth': 10, 'min_samples_leaf': 2},\n",
       " mean: 0.95333, std: 0.05207, params: {'min_samples_split': 2, 'criterion': 'gini', 'max_depth': 10, 'min_samples_leaf': 10},\n",
       " mean: 0.95333, std: 0.05207, params: {'min_samples_split': 10, 'criterion': 'gini', 'max_depth': 10, 'min_samples_leaf': 10},\n",
       " mean: 0.95333, std: 0.05207, params: {'min_samples_split': 20, 'criterion': 'gini', 'max_depth': 10, 'min_samples_leaf': 10},\n",
       " mean: 0.95333, std: 0.05207, params: {'min_samples_split': 20, 'criterion': 'entropy', 'max_depth': 2, 'min_samples_leaf': 1},\n",
       " mean: 0.95333, std: 0.05207, params: {'min_samples_split': 20, 'criterion': 'entropy', 'max_depth': 2, 'min_samples_leaf': 10},\n",
       " mean: 0.95333, std: 0.04269, params: {'min_samples_split': 2, 'criterion': 'entropy', 'max_depth': 5, 'min_samples_leaf': 2},\n",
       " mean: 0.95333, std: 0.05207, params: {'min_samples_split': 10, 'criterion': 'entropy', 'max_depth': 5, 'min_samples_leaf': 10},\n",
       " mean: 0.95333, std: 0.05207, params: {'min_samples_split': 2, 'criterion': 'entropy', 'max_depth': 10, 'min_samples_leaf': 10},\n",
       " mean: 0.94667, std: 0.04989, params: {'min_samples_split': 20, 'criterion': 'gini', 'max_depth': 2, 'min_samples_leaf': 2},\n",
       " mean: 0.94667, std: 0.04989, params: {'min_samples_split': 2, 'criterion': 'gini', 'max_depth': 2, 'min_samples_leaf': 10},\n",
       " mean: 0.94667, std: 0.04989, params: {'min_samples_split': 20, 'criterion': 'gini', 'max_depth': 2, 'min_samples_leaf': 10},\n",
       " mean: 0.94667, std: 0.04989, params: {'min_samples_split': 10, 'criterion': 'gini', 'max_depth': 5, 'min_samples_leaf': 10},\n",
       " mean: 0.94667, std: 0.04989, params: {'min_samples_split': 20, 'criterion': 'gini', 'max_depth': 5, 'min_samples_leaf': 10},\n",
       " mean: 0.94667, std: 0.04989, params: {'min_samples_split': 2, 'criterion': 'entropy', 'max_depth': 2, 'min_samples_leaf': 1},\n",
       " mean: 0.94667, std: 0.04989, params: {'min_samples_split': 10, 'criterion': 'entropy', 'max_depth': 2, 'min_samples_leaf': 1},\n",
       " mean: 0.94667, std: 0.04989, params: {'min_samples_split': 2, 'criterion': 'entropy', 'max_depth': 2, 'min_samples_leaf': 2},\n",
       " mean: 0.94667, std: 0.04989, params: {'min_samples_split': 10, 'criterion': 'entropy', 'max_depth': 2, 'min_samples_leaf': 2},\n",
       " mean: 0.94667, std: 0.04989, params: {'min_samples_split': 20, 'criterion': 'entropy', 'max_depth': 2, 'min_samples_leaf': 2},\n",
       " mean: 0.94667, std: 0.04989, params: {'min_samples_split': 2, 'criterion': 'entropy', 'max_depth': 2, 'min_samples_leaf': 10},\n",
       " mean: 0.94667, std: 0.04989, params: {'min_samples_split': 10, 'criterion': 'entropy', 'max_depth': 2, 'min_samples_leaf': 10},\n",
       " mean: 0.94667, std: 0.04989, params: {'min_samples_split': 2, 'criterion': 'entropy', 'max_depth': 5, 'min_samples_leaf': 10},\n",
       " mean: 0.94667, std: 0.04989, params: {'min_samples_split': 20, 'criterion': 'entropy', 'max_depth': 5, 'min_samples_leaf': 10},\n",
       " mean: 0.94667, std: 0.04989, params: {'min_samples_split': 10, 'criterion': 'entropy', 'max_depth': 10, 'min_samples_leaf': 10},\n",
       " mean: 0.94667, std: 0.04989, params: {'min_samples_split': 20, 'criterion': 'entropy', 'max_depth': 10, 'min_samples_leaf': 10}]"
      ]
     },
     "execution_count": 19,
     "metadata": {},
     "output_type": "execute_result"
    }
   ],
   "source": [
    "top_score = sorted(top_para,key=itemgetter(1), reverse=True)\n",
    "top_score"
   ]
  },
  {
   "cell_type": "code",
   "execution_count": 20,
   "metadata": {
    "collapsed": false
   },
   "outputs": [
    {
     "data": {
      "text/plain": [
       "{'criterion': 'gini',\n",
       " 'max_depth': 5,\n",
       " 'min_samples_leaf': 1,\n",
       " 'min_samples_split': 2}"
      ]
     },
     "execution_count": 20,
     "metadata": {},
     "output_type": "execute_result"
    }
   ],
   "source": [
    "paramCV = top_score[0].parameters\n",
    "paramCV"
   ]
  },
  {
   "cell_type": "code",
   "execution_count": 21,
   "metadata": {
    "collapsed": false
   },
   "outputs": [
    {
     "data": {
      "text/plain": [
       "DecisionTreeClassifier(class_weight=None, criterion='gini', max_depth=5,\n",
       "            max_features=None, max_leaf_nodes=None, min_samples_leaf=1,\n",
       "            min_samples_split=2, min_weight_fraction_leaf=0.0,\n",
       "            random_state=None, splitter='best')"
      ]
     },
     "execution_count": 21,
     "metadata": {},
     "output_type": "execute_result"
    }
   ],
   "source": [
    "best_model = tree.DecisionTreeClassifier(max_depth=5,min_samples_split=2,min_samples_leaf=1,criterion='gini')\n",
    "best_model"
   ]
  },
  {
   "cell_type": "code",
   "execution_count": 22,
   "metadata": {
    "collapsed": false
   },
   "outputs": [
    {
     "data": {
      "text/plain": [
       "DecisionTreeClassifier(class_weight=None, criterion='gini', max_depth=5,\n",
       "            max_features=None, max_leaf_nodes=None, min_samples_leaf=1,\n",
       "            min_samples_split=2, min_weight_fraction_leaf=0.0,\n",
       "            random_state=None, splitter='best')"
      ]
     },
     "execution_count": 22,
     "metadata": {},
     "output_type": "execute_result"
    }
   ],
   "source": [
    "best_model = tree.DecisionTreeClassifier(max_depth=paramCV['max_depth'], min_samples_split=paramCV['min_samples_split'],\n",
    "                                    min_samples_leaf=paramCV['min_samples_leaf'],\n",
    "                                   criterion=paramCV['criterion'])\n",
    "best_model"
   ]
  },
  {
   "cell_type": "code",
   "execution_count": 23,
   "metadata": {
    "collapsed": false
   },
   "outputs": [
    {
     "data": {
      "text/plain": [
       "DecisionTreeClassifier(class_weight=None, criterion='gini', max_depth=5,\n",
       "            max_features=None, max_leaf_nodes=None, min_samples_leaf=1,\n",
       "            min_samples_split=2, min_weight_fraction_leaf=0.0,\n",
       "            random_state=None, splitter='best')"
      ]
     },
     "execution_count": 23,
     "metadata": {},
     "output_type": "execute_result"
    }
   ],
   "source": [
    "best_model.fit(iris.data, iris.target)"
   ]
  },
  {
   "cell_type": "code",
   "execution_count": 24,
   "metadata": {
    "collapsed": false
   },
   "outputs": [
    {
     "data": {
      "text/plain": [
       "array([0, 0, 0, 0, 0, 0, 0, 0, 0, 0, 0, 0, 0, 0, 0, 0, 0, 0, 0, 0, 0, 0, 0,\n",
       "       0, 0, 0, 0, 0, 0, 0, 0, 0, 0, 0, 0, 0, 0, 0, 0, 0, 0, 0, 0, 0, 0, 0,\n",
       "       0, 0, 0, 0, 1, 1, 1, 1, 1, 1, 1, 1, 1, 1, 1, 1, 1, 1, 1, 1, 1, 1, 1,\n",
       "       1, 1, 1, 1, 1, 1, 1, 1, 1, 1, 1, 1, 1, 1, 1, 1, 1, 1, 1, 1, 1, 1, 1,\n",
       "       1, 1, 1, 1, 1, 1, 1, 1, 2, 2, 2, 2, 2, 2, 2, 2, 2, 2, 2, 2, 2, 2, 2,\n",
       "       2, 2, 2, 2, 2, 2, 2, 2, 2, 2, 2, 2, 2, 2, 2, 2, 2, 2, 2, 2, 2, 2, 2,\n",
       "       2, 2, 2, 2, 2, 2, 2, 2, 2, 2, 2, 2])"
      ]
     },
     "execution_count": 24,
     "metadata": {},
     "output_type": "execute_result"
    }
   ],
   "source": [
    "YValid_Pred = best_model.predict(iris.data) # use XTest, XValid to generate prediction\n",
    "YValid_Pred"
   ]
  },
  {
   "cell_type": "code",
   "execution_count": 25,
   "metadata": {
    "collapsed": false
   },
   "outputs": [
    {
     "name": "stdout",
     "output_type": "stream",
     "text": [
      "[[50  0  0]\n",
      " [ 0 50  0]\n",
      " [ 0  0 50]]\n"
     ]
    }
   ],
   "source": [
    "from sklearn import metrics\n",
    "print metrics.confusion_matrix(iris.target,YValid_Pred)"
   ]
  },
  {
   "cell_type": "code",
   "execution_count": 26,
   "metadata": {
    "collapsed": false
   },
   "outputs": [
    {
     "data": {
      "text/plain": [
       "array([ 0.01333333,  0.        ,  0.56405596,  0.42261071])"
      ]
     },
     "execution_count": 26,
     "metadata": {},
     "output_type": "execute_result"
    }
   ],
   "source": [
    "best_model.feature_importances_"
   ]
  },
  {
   "cell_type": "code",
   "execution_count": 29,
   "metadata": {
    "collapsed": false
   },
   "outputs": [
    {
     "data": {
      "text/plain": [
       "RandomForestClassifier(bootstrap=True, class_weight=None, criterion='gini',\n",
       "            max_depth=None, max_features='sqrt', max_leaf_nodes=None,\n",
       "            min_samples_leaf=1, min_samples_split=2,\n",
       "            min_weight_fraction_leaf=0.0, n_estimators=100, n_jobs=1,\n",
       "            oob_score=False, random_state=None, verbose=0,\n",
       "            warm_start=False)"
      ]
     },
     "execution_count": 29,
     "metadata": {},
     "output_type": "execute_result"
    }
   ],
   "source": [
    "################Random Forest Model########################\n",
    "import sklearn.ensemble as ske\n",
    "irisRF = ske.RandomForestClassifier(n_estimators=100, max_features='sqrt').fit(iris.data,iris.target)\n",
    "irisRF"
   ]
  },
  {
   "cell_type": "code",
   "execution_count": 30,
   "metadata": {
    "collapsed": false
   },
   "outputs": [
    {
     "name": "stdout",
     "output_type": "stream",
     "text": [
      "[[50  0  0]\n",
      " [ 0 50  0]\n",
      " [ 0  0 50]]\n",
      "             precision    recall  f1-score   support\n",
      "\n",
      "          0       1.00      1.00      1.00        50\n",
      "          1       1.00      1.00      1.00        50\n",
      "          2       1.00      1.00      1.00        50\n",
      "\n",
      "avg / total       1.00      1.00      1.00       150\n",
      "\n"
     ]
    }
   ],
   "source": [
    "YTestProb = irisRF.predict_proba(iris.data)\n",
    "\n",
    "YPred = irisRF.predict(iris.data)\n",
    "\n",
    "print metrics.confusion_matrix(YPred,iris.target)\n",
    "\n",
    "print metrics.classification_report(YPred,iris.target)"
   ]
  },
  {
   "cell_type": "code",
   "execution_count": 31,
   "metadata": {
    "collapsed": false
   },
   "outputs": [
    {
     "data": {
      "text/plain": [
       "1.0"
      ]
     },
     "execution_count": 31,
     "metadata": {},
     "output_type": "execute_result"
    }
   ],
   "source": [
    "irisRF.score(iris.data,iris.target)\n"
   ]
  },
  {
   "cell_type": "code",
   "execution_count": 32,
   "metadata": {
    "collapsed": true
   },
   "outputs": [],
   "source": [
    "param_grid = {'criterion':['gini','entropy'],\n",
    "             'min_samples_split':[2,10,15],\n",
    "             'max_depth': [None,2, 5, 10],\n",
    "             'min_samples_leaf':[1,2],\n",
    "             'max_features': [2,3]\n",
    "             }"
   ]
  },
  {
   "cell_type": "code",
   "execution_count": 33,
   "metadata": {
    "collapsed": true
   },
   "outputs": [],
   "source": [
    "cvRF = ske.RandomForestClassifier(n_estimators=10)"
   ]
  },
  {
   "cell_type": "code",
   "execution_count": 35,
   "metadata": {
    "collapsed": false
   },
   "outputs": [],
   "source": [
    "cvRF_Param = GridSearch_BestParam(iris.data,iris.target,cvRF, param_grid,cv=10)\n"
   ]
  },
  {
   "cell_type": "code",
   "execution_count": 36,
   "metadata": {
    "collapsed": false
   },
   "outputs": [
    {
     "data": {
      "text/plain": [
       "[mean: 0.95333, std: 0.04269, params: {'max_features': 2, 'min_samples_split': 2, 'criterion': 'gini', 'max_depth': None, 'min_samples_leaf': 1},\n",
       " mean: 0.96667, std: 0.03333, params: {'max_features': 2, 'min_samples_split': 10, 'criterion': 'gini', 'max_depth': None, 'min_samples_leaf': 1},\n",
       " mean: 0.96667, std: 0.03333, params: {'max_features': 2, 'min_samples_split': 15, 'criterion': 'gini', 'max_depth': None, 'min_samples_leaf': 1},\n",
       " mean: 0.94667, std: 0.06532, params: {'max_features': 2, 'min_samples_split': 2, 'criterion': 'gini', 'max_depth': None, 'min_samples_leaf': 2},\n",
       " mean: 0.96667, std: 0.03333, params: {'max_features': 2, 'min_samples_split': 10, 'criterion': 'gini', 'max_depth': None, 'min_samples_leaf': 2},\n",
       " mean: 0.95333, std: 0.06000, params: {'max_features': 2, 'min_samples_split': 15, 'criterion': 'gini', 'max_depth': None, 'min_samples_leaf': 2},\n",
       " mean: 0.97333, std: 0.03266, params: {'max_features': 3, 'min_samples_split': 2, 'criterion': 'gini', 'max_depth': None, 'min_samples_leaf': 1},\n",
       " mean: 0.96000, std: 0.03266, params: {'max_features': 3, 'min_samples_split': 10, 'criterion': 'gini', 'max_depth': None, 'min_samples_leaf': 1},\n",
       " mean: 0.96667, std: 0.03333, params: {'max_features': 3, 'min_samples_split': 15, 'criterion': 'gini', 'max_depth': None, 'min_samples_leaf': 1},\n",
       " mean: 0.96667, std: 0.03333, params: {'max_features': 3, 'min_samples_split': 2, 'criterion': 'gini', 'max_depth': None, 'min_samples_leaf': 2},\n",
       " mean: 0.96000, std: 0.04422, params: {'max_features': 3, 'min_samples_split': 10, 'criterion': 'gini', 'max_depth': None, 'min_samples_leaf': 2},\n",
       " mean: 0.95333, std: 0.06000, params: {'max_features': 3, 'min_samples_split': 15, 'criterion': 'gini', 'max_depth': None, 'min_samples_leaf': 2},\n",
       " mean: 0.94000, std: 0.05538, params: {'max_features': 2, 'min_samples_split': 2, 'criterion': 'gini', 'max_depth': 2, 'min_samples_leaf': 1},\n",
       " mean: 0.93333, std: 0.06667, params: {'max_features': 2, 'min_samples_split': 10, 'criterion': 'gini', 'max_depth': 2, 'min_samples_leaf': 1},\n",
       " mean: 0.94000, std: 0.05538, params: {'max_features': 2, 'min_samples_split': 15, 'criterion': 'gini', 'max_depth': 2, 'min_samples_leaf': 1},\n",
       " mean: 0.95333, std: 0.06000, params: {'max_features': 2, 'min_samples_split': 2, 'criterion': 'gini', 'max_depth': 2, 'min_samples_leaf': 2},\n",
       " mean: 0.94667, std: 0.04989, params: {'max_features': 2, 'min_samples_split': 10, 'criterion': 'gini', 'max_depth': 2, 'min_samples_leaf': 2},\n",
       " mean: 0.96000, std: 0.04422, params: {'max_features': 2, 'min_samples_split': 15, 'criterion': 'gini', 'max_depth': 2, 'min_samples_leaf': 2},\n",
       " mean: 0.96000, std: 0.04422, params: {'max_features': 3, 'min_samples_split': 2, 'criterion': 'gini', 'max_depth': 2, 'min_samples_leaf': 1},\n",
       " mean: 0.94667, std: 0.05812, params: {'max_features': 3, 'min_samples_split': 10, 'criterion': 'gini', 'max_depth': 2, 'min_samples_leaf': 1},\n",
       " mean: 0.94667, std: 0.04989, params: {'max_features': 3, 'min_samples_split': 15, 'criterion': 'gini', 'max_depth': 2, 'min_samples_leaf': 1},\n",
       " mean: 0.96000, std: 0.04422, params: {'max_features': 3, 'min_samples_split': 2, 'criterion': 'gini', 'max_depth': 2, 'min_samples_leaf': 2},\n",
       " mean: 0.95333, std: 0.05207, params: {'max_features': 3, 'min_samples_split': 10, 'criterion': 'gini', 'max_depth': 2, 'min_samples_leaf': 2},\n",
       " mean: 0.94667, std: 0.05812, params: {'max_features': 3, 'min_samples_split': 15, 'criterion': 'gini', 'max_depth': 2, 'min_samples_leaf': 2},\n",
       " mean: 0.95333, std: 0.06000, params: {'max_features': 2, 'min_samples_split': 2, 'criterion': 'gini', 'max_depth': 5, 'min_samples_leaf': 1},\n",
       " mean: 0.95333, std: 0.04269, params: {'max_features': 2, 'min_samples_split': 10, 'criterion': 'gini', 'max_depth': 5, 'min_samples_leaf': 1},\n",
       " mean: 0.96667, std: 0.03333, params: {'max_features': 2, 'min_samples_split': 15, 'criterion': 'gini', 'max_depth': 5, 'min_samples_leaf': 1},\n",
       " mean: 0.96000, std: 0.04422, params: {'max_features': 2, 'min_samples_split': 2, 'criterion': 'gini', 'max_depth': 5, 'min_samples_leaf': 2},\n",
       " mean: 0.96667, std: 0.03333, params: {'max_features': 2, 'min_samples_split': 10, 'criterion': 'gini', 'max_depth': 5, 'min_samples_leaf': 2},\n",
       " mean: 0.95333, std: 0.05207, params: {'max_features': 2, 'min_samples_split': 15, 'criterion': 'gini', 'max_depth': 5, 'min_samples_leaf': 2},\n",
       " mean: 0.96000, std: 0.04422, params: {'max_features': 3, 'min_samples_split': 2, 'criterion': 'gini', 'max_depth': 5, 'min_samples_leaf': 1},\n",
       " mean: 0.96000, std: 0.04422, params: {'max_features': 3, 'min_samples_split': 10, 'criterion': 'gini', 'max_depth': 5, 'min_samples_leaf': 1},\n",
       " mean: 0.96667, std: 0.03333, params: {'max_features': 3, 'min_samples_split': 15, 'criterion': 'gini', 'max_depth': 5, 'min_samples_leaf': 1},\n",
       " mean: 0.96000, std: 0.04422, params: {'max_features': 3, 'min_samples_split': 2, 'criterion': 'gini', 'max_depth': 5, 'min_samples_leaf': 2},\n",
       " mean: 0.94667, std: 0.05812, params: {'max_features': 3, 'min_samples_split': 10, 'criterion': 'gini', 'max_depth': 5, 'min_samples_leaf': 2},\n",
       " mean: 0.95333, std: 0.06000, params: {'max_features': 3, 'min_samples_split': 15, 'criterion': 'gini', 'max_depth': 5, 'min_samples_leaf': 2},\n",
       " mean: 0.96667, std: 0.03333, params: {'max_features': 2, 'min_samples_split': 2, 'criterion': 'gini', 'max_depth': 10, 'min_samples_leaf': 1},\n",
       " mean: 0.96000, std: 0.04422, params: {'max_features': 2, 'min_samples_split': 10, 'criterion': 'gini', 'max_depth': 10, 'min_samples_leaf': 1},\n",
       " mean: 0.96000, std: 0.04422, params: {'max_features': 2, 'min_samples_split': 15, 'criterion': 'gini', 'max_depth': 10, 'min_samples_leaf': 1},\n",
       " mean: 0.95333, std: 0.04269, params: {'max_features': 2, 'min_samples_split': 2, 'criterion': 'gini', 'max_depth': 10, 'min_samples_leaf': 2},\n",
       " mean: 0.96000, std: 0.03266, params: {'max_features': 2, 'min_samples_split': 10, 'criterion': 'gini', 'max_depth': 10, 'min_samples_leaf': 2},\n",
       " mean: 0.95333, std: 0.06000, params: {'max_features': 2, 'min_samples_split': 15, 'criterion': 'gini', 'max_depth': 10, 'min_samples_leaf': 2},\n",
       " mean: 0.96000, std: 0.04422, params: {'max_features': 3, 'min_samples_split': 2, 'criterion': 'gini', 'max_depth': 10, 'min_samples_leaf': 1},\n",
       " mean: 0.95333, std: 0.06000, params: {'max_features': 3, 'min_samples_split': 10, 'criterion': 'gini', 'max_depth': 10, 'min_samples_leaf': 1},\n",
       " mean: 0.96667, std: 0.03333, params: {'max_features': 3, 'min_samples_split': 15, 'criterion': 'gini', 'max_depth': 10, 'min_samples_leaf': 1},\n",
       " mean: 0.95333, std: 0.06000, params: {'max_features': 3, 'min_samples_split': 2, 'criterion': 'gini', 'max_depth': 10, 'min_samples_leaf': 2},\n",
       " mean: 0.94667, std: 0.06532, params: {'max_features': 3, 'min_samples_split': 10, 'criterion': 'gini', 'max_depth': 10, 'min_samples_leaf': 2},\n",
       " mean: 0.96000, std: 0.04422, params: {'max_features': 3, 'min_samples_split': 15, 'criterion': 'gini', 'max_depth': 10, 'min_samples_leaf': 2},\n",
       " mean: 0.94667, std: 0.04989, params: {'max_features': 2, 'min_samples_split': 2, 'criterion': 'entropy', 'max_depth': None, 'min_samples_leaf': 1},\n",
       " mean: 0.96667, std: 0.03333, params: {'max_features': 2, 'min_samples_split': 10, 'criterion': 'entropy', 'max_depth': None, 'min_samples_leaf': 1},\n",
       " mean: 0.96000, std: 0.03266, params: {'max_features': 2, 'min_samples_split': 15, 'criterion': 'entropy', 'max_depth': None, 'min_samples_leaf': 1},\n",
       " mean: 0.96000, std: 0.03266, params: {'max_features': 2, 'min_samples_split': 2, 'criterion': 'entropy', 'max_depth': None, 'min_samples_leaf': 2},\n",
       " mean: 0.96667, std: 0.03333, params: {'max_features': 2, 'min_samples_split': 10, 'criterion': 'entropy', 'max_depth': None, 'min_samples_leaf': 2},\n",
       " mean: 0.96000, std: 0.04422, params: {'max_features': 2, 'min_samples_split': 15, 'criterion': 'entropy', 'max_depth': None, 'min_samples_leaf': 2},\n",
       " mean: 0.95333, std: 0.04269, params: {'max_features': 3, 'min_samples_split': 2, 'criterion': 'entropy', 'max_depth': None, 'min_samples_leaf': 1},\n",
       " mean: 0.96667, std: 0.03333, params: {'max_features': 3, 'min_samples_split': 10, 'criterion': 'entropy', 'max_depth': None, 'min_samples_leaf': 1},\n",
       " mean: 0.96667, std: 0.03333, params: {'max_features': 3, 'min_samples_split': 15, 'criterion': 'entropy', 'max_depth': None, 'min_samples_leaf': 1},\n",
       " mean: 0.96000, std: 0.04422, params: {'max_features': 3, 'min_samples_split': 2, 'criterion': 'entropy', 'max_depth': None, 'min_samples_leaf': 2},\n",
       " mean: 0.96000, std: 0.04422, params: {'max_features': 3, 'min_samples_split': 10, 'criterion': 'entropy', 'max_depth': None, 'min_samples_leaf': 2},\n",
       " mean: 0.96000, std: 0.04422, params: {'max_features': 3, 'min_samples_split': 15, 'criterion': 'entropy', 'max_depth': None, 'min_samples_leaf': 2},\n",
       " mean: 0.95333, std: 0.06000, params: {'max_features': 2, 'min_samples_split': 2, 'criterion': 'entropy', 'max_depth': 2, 'min_samples_leaf': 1},\n",
       " mean: 0.93333, std: 0.07303, params: {'max_features': 2, 'min_samples_split': 10, 'criterion': 'entropy', 'max_depth': 2, 'min_samples_leaf': 1},\n",
       " mean: 0.94667, std: 0.06532, params: {'max_features': 2, 'min_samples_split': 15, 'criterion': 'entropy', 'max_depth': 2, 'min_samples_leaf': 1},\n",
       " mean: 0.95333, std: 0.04269, params: {'max_features': 2, 'min_samples_split': 2, 'criterion': 'entropy', 'max_depth': 2, 'min_samples_leaf': 2},\n",
       " mean: 0.95333, std: 0.06000, params: {'max_features': 2, 'min_samples_split': 10, 'criterion': 'entropy', 'max_depth': 2, 'min_samples_leaf': 2},\n",
       " mean: 0.93333, std: 0.06667, params: {'max_features': 2, 'min_samples_split': 15, 'criterion': 'entropy', 'max_depth': 2, 'min_samples_leaf': 2},\n",
       " mean: 0.94667, std: 0.05812, params: {'max_features': 3, 'min_samples_split': 2, 'criterion': 'entropy', 'max_depth': 2, 'min_samples_leaf': 1},\n",
       " mean: 0.96000, std: 0.04422, params: {'max_features': 3, 'min_samples_split': 10, 'criterion': 'entropy', 'max_depth': 2, 'min_samples_leaf': 1},\n",
       " mean: 0.95333, std: 0.05207, params: {'max_features': 3, 'min_samples_split': 15, 'criterion': 'entropy', 'max_depth': 2, 'min_samples_leaf': 1},\n",
       " mean: 0.96000, std: 0.04422, params: {'max_features': 3, 'min_samples_split': 2, 'criterion': 'entropy', 'max_depth': 2, 'min_samples_leaf': 2},\n",
       " mean: 0.94667, std: 0.04989, params: {'max_features': 3, 'min_samples_split': 10, 'criterion': 'entropy', 'max_depth': 2, 'min_samples_leaf': 2},\n",
       " mean: 0.96000, std: 0.06110, params: {'max_features': 3, 'min_samples_split': 15, 'criterion': 'entropy', 'max_depth': 2, 'min_samples_leaf': 2},\n",
       " mean: 0.94667, std: 0.04989, params: {'max_features': 2, 'min_samples_split': 2, 'criterion': 'entropy', 'max_depth': 5, 'min_samples_leaf': 1},\n",
       " mean: 0.97333, std: 0.03266, params: {'max_features': 2, 'min_samples_split': 10, 'criterion': 'entropy', 'max_depth': 5, 'min_samples_leaf': 1},\n",
       " mean: 0.94667, std: 0.04989, params: {'max_features': 2, 'min_samples_split': 15, 'criterion': 'entropy', 'max_depth': 5, 'min_samples_leaf': 1},\n",
       " mean: 0.96000, std: 0.03266, params: {'max_features': 2, 'min_samples_split': 2, 'criterion': 'entropy', 'max_depth': 5, 'min_samples_leaf': 2},\n",
       " mean: 0.96667, std: 0.03333, params: {'max_features': 2, 'min_samples_split': 10, 'criterion': 'entropy', 'max_depth': 5, 'min_samples_leaf': 2},\n",
       " mean: 0.96667, std: 0.03333, params: {'max_features': 2, 'min_samples_split': 15, 'criterion': 'entropy', 'max_depth': 5, 'min_samples_leaf': 2},\n",
       " mean: 0.96000, std: 0.04422, params: {'max_features': 3, 'min_samples_split': 2, 'criterion': 'entropy', 'max_depth': 5, 'min_samples_leaf': 1},\n",
       " mean: 0.96000, std: 0.04422, params: {'max_features': 3, 'min_samples_split': 10, 'criterion': 'entropy', 'max_depth': 5, 'min_samples_leaf': 1},\n",
       " mean: 0.96667, std: 0.03333, params: {'max_features': 3, 'min_samples_split': 15, 'criterion': 'entropy', 'max_depth': 5, 'min_samples_leaf': 1},\n",
       " mean: 0.95333, std: 0.06000, params: {'max_features': 3, 'min_samples_split': 2, 'criterion': 'entropy', 'max_depth': 5, 'min_samples_leaf': 2},\n",
       " mean: 0.96667, std: 0.03333, params: {'max_features': 3, 'min_samples_split': 10, 'criterion': 'entropy', 'max_depth': 5, 'min_samples_leaf': 2},\n",
       " mean: 0.95333, std: 0.06000, params: {'max_features': 3, 'min_samples_split': 15, 'criterion': 'entropy', 'max_depth': 5, 'min_samples_leaf': 2},\n",
       " mean: 0.94667, std: 0.04000, params: {'max_features': 2, 'min_samples_split': 2, 'criterion': 'entropy', 'max_depth': 10, 'min_samples_leaf': 1},\n",
       " mean: 0.96667, std: 0.03333, params: {'max_features': 2, 'min_samples_split': 10, 'criterion': 'entropy', 'max_depth': 10, 'min_samples_leaf': 1},\n",
       " mean: 0.96000, std: 0.04422, params: {'max_features': 2, 'min_samples_split': 15, 'criterion': 'entropy', 'max_depth': 10, 'min_samples_leaf': 1},\n",
       " mean: 0.96667, std: 0.03333, params: {'max_features': 2, 'min_samples_split': 2, 'criterion': 'entropy', 'max_depth': 10, 'min_samples_leaf': 2},\n",
       " mean: 0.94000, std: 0.06289, params: {'max_features': 2, 'min_samples_split': 10, 'criterion': 'entropy', 'max_depth': 10, 'min_samples_leaf': 2},\n",
       " mean: 0.96000, std: 0.04422, params: {'max_features': 2, 'min_samples_split': 15, 'criterion': 'entropy', 'max_depth': 10, 'min_samples_leaf': 2},\n",
       " mean: 0.94667, std: 0.05812, params: {'max_features': 3, 'min_samples_split': 2, 'criterion': 'entropy', 'max_depth': 10, 'min_samples_leaf': 1},\n",
       " mean: 0.96000, std: 0.04422, params: {'max_features': 3, 'min_samples_split': 10, 'criterion': 'entropy', 'max_depth': 10, 'min_samples_leaf': 1},\n",
       " mean: 0.96667, std: 0.03333, params: {'max_features': 3, 'min_samples_split': 15, 'criterion': 'entropy', 'max_depth': 10, 'min_samples_leaf': 1},\n",
       " mean: 0.94667, std: 0.04989, params: {'max_features': 3, 'min_samples_split': 2, 'criterion': 'entropy', 'max_depth': 10, 'min_samples_leaf': 2},\n",
       " mean: 0.96667, std: 0.03333, params: {'max_features': 3, 'min_samples_split': 10, 'criterion': 'entropy', 'max_depth': 10, 'min_samples_leaf': 2},\n",
       " mean: 0.96000, std: 0.04422, params: {'max_features': 3, 'min_samples_split': 15, 'criterion': 'entropy', 'max_depth': 10, 'min_samples_leaf': 2}]"
      ]
     },
     "execution_count": 36,
     "metadata": {},
     "output_type": "execute_result"
    }
   ],
   "source": [
    "cvRF_Param"
   ]
  },
  {
   "cell_type": "code",
   "execution_count": 37,
   "metadata": {
    "collapsed": true
   },
   "outputs": [],
   "source": [
    "paramCV = sorted(cvRF_Param,key=itemgetter(1), reverse=True)"
   ]
  },
  {
   "cell_type": "code",
   "execution_count": 38,
   "metadata": {
    "collapsed": true
   },
   "outputs": [],
   "source": [
    "paramCV = paramCV[0].parameters"
   ]
  },
  {
   "cell_type": "code",
   "execution_count": 40,
   "metadata": {
    "collapsed": false
   },
   "outputs": [
    {
     "data": {
      "text/plain": [
       "{'criterion': 'gini',\n",
       " 'max_depth': None,\n",
       " 'max_features': 3,\n",
       " 'min_samples_leaf': 1,\n",
       " 'min_samples_split': 2}"
      ]
     },
     "execution_count": 40,
     "metadata": {},
     "output_type": "execute_result"
    }
   ],
   "source": [
    "paramCV"
   ]
  },
  {
   "cell_type": "code",
   "execution_count": 41,
   "metadata": {
    "collapsed": false
   },
   "outputs": [
    {
     "data": {
      "text/plain": [
       "RandomForestClassifier(bootstrap=True, class_weight=None, criterion='gini',\n",
       "            max_depth=None, max_features=3, max_leaf_nodes=None,\n",
       "            min_samples_leaf=1, min_samples_split=2,\n",
       "            min_weight_fraction_leaf=0.0, n_estimators=100, n_jobs=1,\n",
       "            oob_score=False, random_state=None, verbose=0,\n",
       "            warm_start=False)"
      ]
     },
     "execution_count": 41,
     "metadata": {},
     "output_type": "execute_result"
    }
   ],
   "source": [
    "cvRF = ske.RandomForestClassifier(n_estimators=100,criterion=paramCV[\"criterion\"],max_depth=paramCV[\"max_depth\"],\n",
    "                                  max_features=paramCV[\"max_features\"],\n",
    "                                min_samples_split=paramCV[\"min_samples_split\"],\n",
    "                                  min_samples_leaf=paramCV[\"min_samples_leaf\"])\n",
    "\n",
    "cvRF.fit(iris.data, iris.target)"
   ]
  },
  {
   "cell_type": "code",
   "execution_count": 42,
   "metadata": {
    "collapsed": false
   },
   "outputs": [
    {
     "name": "stdout",
     "output_type": "stream",
     "text": [
      "[[50  0  0]\n",
      " [ 0 50  0]\n",
      " [ 0  0 50]]\n"
     ]
    }
   ],
   "source": [
    "YValidRF = cvRF.predict(iris.data)\n",
    "\n",
    "print metrics.confusion_matrix(iris.target,YValidRF)"
   ]
  },
  {
   "cell_type": "code",
   "execution_count": 43,
   "metadata": {
    "collapsed": false
   },
   "outputs": [
    {
     "data": {
      "text/plain": [
       "1.0"
      ]
     },
     "execution_count": 43,
     "metadata": {},
     "output_type": "execute_result"
    }
   ],
   "source": [
    "cvRF.score(iris.data, iris.target)"
   ]
  },
  {
   "cell_type": "code",
   "execution_count": 44,
   "metadata": {
    "collapsed": false
   },
   "outputs": [
    {
     "data": {
      "text/plain": [
       "array([ 0.01574406,  0.0133037 ,  0.51013893,  0.46081331])"
      ]
     },
     "execution_count": 44,
     "metadata": {},
     "output_type": "execute_result"
    }
   ],
   "source": [
    "cvRF.feature_importances_"
   ]
  },
  {
   "cell_type": "code",
   "execution_count": 45,
   "metadata": {
    "collapsed": false
   },
   "outputs": [
    {
     "data": {
      "text/plain": [
       "array([ 0.01333333,  0.        ,  0.56405596,  0.42261071])"
      ]
     },
     "execution_count": 45,
     "metadata": {},
     "output_type": "execute_result"
    }
   ],
   "source": [
    "best_model.feature_importances_"
   ]
  },
  {
   "cell_type": "code",
   "execution_count": null,
   "metadata": {
    "collapsed": true
   },
   "outputs": [],
   "source": [
    "# How the GB model works:\n",
    "# a loss function\n",
    "# a weak learner to make predictions/classifications\n",
    "# an additive model to add weak learners to minimize the loss function"
   ]
  },
  {
   "cell_type": "code",
   "execution_count": null,
   "metadata": {
    "collapsed": true
   },
   "outputs": [],
   "source": [
    "# Loss functions: it should be differentiable\n",
    "# for regression based tasks the loss function should be squared error\n",
    "# for classification based tasks the loss function should be logarithimic loss"
   ]
  },
  {
   "cell_type": "code",
   "execution_count": null,
   "metadata": {
    "collapsed": true
   },
   "outputs": [],
   "source": [
    "# learner\n",
    "# consider all the features are weak learners, greedy manner\n",
    "# "
   ]
  },
  {
   "cell_type": "code",
   "execution_count": 46,
   "metadata": {
    "collapsed": false
   },
   "outputs": [
    {
     "data": {
      "text/plain": [
       "GradientBoostingClassifier(init=None, learning_rate=0.1, loss='deviance',\n",
       "              max_depth=3, max_features=None, max_leaf_nodes=None,\n",
       "              min_samples_leaf=1, min_samples_split=2,\n",
       "              min_weight_fraction_leaf=0.0, n_estimators=100,\n",
       "              random_state=None, subsample=1.0, verbose=0,\n",
       "              warm_start=False)"
      ]
     },
     "execution_count": 46,
     "metadata": {},
     "output_type": "execute_result"
    }
   ],
   "source": [
    "##########Gradient Boosting model############\n",
    "import sklearn.ensemble as ske\n",
    "irisRF = ske.GradientBoostingClassifier(n_estimators=100).fit(iris.data,iris.target)\n",
    "irisRF"
   ]
  },
  {
   "cell_type": "code",
   "execution_count": 47,
   "metadata": {
    "collapsed": false
   },
   "outputs": [
    {
     "data": {
      "text/plain": [
       "1.0"
      ]
     },
     "execution_count": 47,
     "metadata": {},
     "output_type": "execute_result"
    }
   ],
   "source": [
    "irisRF.score(iris.data,iris.target)"
   ]
  },
  {
   "cell_type": "code",
   "execution_count": 48,
   "metadata": {
    "collapsed": true
   },
   "outputs": [],
   "source": [
    "param_grid = {'loss' : ['deviance'],\n",
    "             'learning_rate':[0.1,0.2,0.3]\n",
    "             }"
   ]
  },
  {
   "cell_type": "code",
   "execution_count": 49,
   "metadata": {
    "collapsed": true
   },
   "outputs": [],
   "source": [
    "cvGB = ske.GradientBoostingClassifier(n_estimators=50)"
   ]
  },
  {
   "cell_type": "code",
   "execution_count": 50,
   "metadata": {
    "collapsed": false
   },
   "outputs": [],
   "source": [
    "cvGB_Param = GridSearch_BestParam(iris.data,iris.target,cvGB, param_grid,cv=10)"
   ]
  },
  {
   "cell_type": "code",
   "execution_count": 51,
   "metadata": {
    "collapsed": false
   },
   "outputs": [
    {
     "data": {
      "text/plain": [
       "[mean: 0.96000, std: 0.04422, params: {'loss': 'deviance', 'learning_rate': 0.1},\n",
       " mean: 0.96000, std: 0.04422, params: {'loss': 'deviance', 'learning_rate': 0.2},\n",
       " mean: 0.96000, std: 0.04422, params: {'loss': 'deviance', 'learning_rate': 0.3}]"
      ]
     },
     "execution_count": 51,
     "metadata": {},
     "output_type": "execute_result"
    }
   ],
   "source": [
    "paramCV = sorted(cvGB_Param,key=itemgetter(1), reverse=True)\n",
    "paramCV"
   ]
  },
  {
   "cell_type": "code",
   "execution_count": 52,
   "metadata": {
    "collapsed": false
   },
   "outputs": [
    {
     "data": {
      "text/plain": [
       "GradientBoostingClassifier(init=None, learning_rate=0.1, loss='deviance',\n",
       "              max_depth=3, max_features=None, max_leaf_nodes=None,\n",
       "              min_samples_leaf=1, min_samples_split=2,\n",
       "              min_weight_fraction_leaf=0.0, n_estimators=50,\n",
       "              random_state=None, subsample=1.0, verbose=0,\n",
       "              warm_start=False)"
      ]
     },
     "execution_count": 52,
     "metadata": {},
     "output_type": "execute_result"
    }
   ],
   "source": [
    "cvGB.fit(iris.data,iris.target)"
   ]
  },
  {
   "cell_type": "code",
   "execution_count": 53,
   "metadata": {
    "collapsed": true
   },
   "outputs": [],
   "source": [
    "YValidGB = cvGB.predict(iris.data)"
   ]
  },
  {
   "cell_type": "code",
   "execution_count": null,
   "metadata": {
    "collapsed": true
   },
   "outputs": [],
   "source": []
  },
  {
   "cell_type": "code",
   "execution_count": 56,
   "metadata": {
    "collapsed": false
   },
   "outputs": [
    {
     "name": "stdout",
     "output_type": "stream",
     "text": [
      "[[50  0  0]\n",
      " [ 0 50  0]\n",
      " [ 0  0 50]]\n"
     ]
    }
   ],
   "source": [
    "print metrics.confusion_matrix(iris.target,YValidGB)"
   ]
  },
  {
   "cell_type": "code",
   "execution_count": 54,
   "metadata": {
    "collapsed": false
   },
   "outputs": [
    {
     "data": {
      "text/plain": [
       "array([ 0.02893437,  0.11650088,  0.37281977,  0.48174497])"
      ]
     },
     "execution_count": 54,
     "metadata": {},
     "output_type": "execute_result"
    }
   ],
   "source": [
    "cvGB.feature_importances_"
   ]
  },
  {
   "cell_type": "code",
   "execution_count": null,
   "metadata": {
    "collapsed": true
   },
   "outputs": [],
   "source": [
    "# improvement in basic gradient boosting model\n",
    "# penalized learning\n",
    "# shrinkage (SGD Model)\n",
    "# tree constraints"
   ]
  },
  {
   "cell_type": "code",
   "execution_count": 57,
   "metadata": {
    "collapsed": true
   },
   "outputs": [],
   "source": [
    "#######Support vector Machine################\n",
    "X = iris.data\n",
    "Y = iris.target"
   ]
  },
  {
   "cell_type": "code",
   "execution_count": 59,
   "metadata": {
    "collapsed": true
   },
   "outputs": [],
   "source": [
    "from sklearn.svm import SVC"
   ]
  },
  {
   "cell_type": "code",
   "execution_count": 60,
   "metadata": {
    "collapsed": true
   },
   "outputs": [],
   "source": [
    "model = SVC()"
   ]
  },
  {
   "cell_type": "code",
   "execution_count": 61,
   "metadata": {
    "collapsed": true
   },
   "outputs": [],
   "source": [
    "from sklearn.cross_validation import train_test_split"
   ]
  },
  {
   "cell_type": "code",
   "execution_count": 62,
   "metadata": {
    "collapsed": true
   },
   "outputs": [],
   "source": [
    "X_Train, X_Test, Y_Train, Y_Test = train_test_split(X, Y, test_size=0.4, random_state=1234)"
   ]
  },
  {
   "cell_type": "code",
   "execution_count": 63,
   "metadata": {
    "collapsed": false
   },
   "outputs": [
    {
     "data": {
      "text/plain": [
       "SVC(C=1.0, cache_size=200, class_weight=None, coef0=0.0, degree=3, gamma=0.0,\n",
       "  kernel='rbf', max_iter=-1, probability=False, random_state=None,\n",
       "  shrinking=True, tol=0.001, verbose=False)"
      ]
     },
     "execution_count": 63,
     "metadata": {},
     "output_type": "execute_result"
    }
   ],
   "source": [
    "model.fit(X_Train,Y_Train)"
   ]
  },
  {
   "cell_type": "code",
   "execution_count": 64,
   "metadata": {
    "collapsed": true
   },
   "outputs": [],
   "source": [
    "pred = model.predict(X_Test)"
   ]
  },
  {
   "cell_type": "code",
   "execution_count": 65,
   "metadata": {
    "collapsed": false
   },
   "outputs": [
    {
     "name": "stdout",
     "output_type": "stream",
     "text": [
      "0.983333333333\n"
     ]
    }
   ],
   "source": [
    "print metrics.accuracy_score(Y_Test,pred)"
   ]
  },
  {
   "cell_type": "code",
   "execution_count": 132,
   "metadata": {
    "collapsed": true
   },
   "outputs": [],
   "source": [
    "from sklearn import svm"
   ]
  },
  {
   "cell_type": "code",
   "execution_count": 133,
   "metadata": {
    "collapsed": false
   },
   "outputs": [
    {
     "data": {
      "text/plain": [
       "SVC(C=1.0, cache_size=200, class_weight=None, coef0=0.0, degree=3, gamma=0.0,\n",
       "  kernel='linear', max_iter=-1, probability=False, random_state=None,\n",
       "  shrinking=True, tol=0.001, verbose=False)"
      ]
     },
     "execution_count": 133,
     "metadata": {},
     "output_type": "execute_result"
    }
   ],
   "source": [
    "svm.SVC(kernel=\"linear\",C=1.0).fit(X,Y)"
   ]
  },
  {
   "cell_type": "code",
   "execution_count": 135,
   "metadata": {
    "collapsed": false
   },
   "outputs": [
    {
     "data": {
      "text/plain": [
       "SVC(C=1.0, cache_size=200, class_weight=None, coef0=0.0, degree=3, gamma=0.7,\n",
       "  kernel='rbf', max_iter=-1, probability=False, random_state=None,\n",
       "  shrinking=True, tol=0.001, verbose=False)"
      ]
     },
     "execution_count": 135,
     "metadata": {},
     "output_type": "execute_result"
    }
   ],
   "source": [
    "svm.SVC(kernel=\"rbf\",C=1.0,gamma=0.7).fit(X,Y)"
   ]
  },
  {
   "cell_type": "code",
   "execution_count": 136,
   "metadata": {
    "collapsed": false
   },
   "outputs": [
    {
     "data": {
      "text/plain": [
       "SVC(C=1.0, cache_size=200, class_weight=None, coef0=0.0, degree=3, gamma=0.0,\n",
       "  kernel='poly', max_iter=-1, probability=False, random_state=None,\n",
       "  shrinking=True, tol=0.001, verbose=False)"
      ]
     },
     "execution_count": 136,
     "metadata": {},
     "output_type": "execute_result"
    }
   ],
   "source": [
    "svm.SVC(kernel=\"poly\",C=1.0,degree=3).fit(X,Y)"
   ]
  },
  {
   "cell_type": "code",
   "execution_count": 137,
   "metadata": {
    "collapsed": false
   },
   "outputs": [
    {
     "data": {
      "text/plain": [
       "LinearSVC(C=1.0, class_weight=None, dual=True, fit_intercept=True,\n",
       "     intercept_scaling=1, loss='squared_hinge', max_iter=1000,\n",
       "     multi_class='ovr', penalty='l2', random_state=None, tol=0.0001,\n",
       "     verbose=0)"
      ]
     },
     "execution_count": 137,
     "metadata": {},
     "output_type": "execute_result"
    }
   ],
   "source": [
    "svm.LinearSVC(C=1.0).fit(X,Y)"
   ]
  },
  {
   "cell_type": "code",
   "execution_count": null,
   "metadata": {
    "collapsed": true
   },
   "outputs": [],
   "source": [
    "# merits:\n",
    "# very effective in high dimension and low samples scenario\n",
    "# different kernels\n",
    "\n",
    "# demerits:\n",
    "# memory intensive algo\n",
    "# this is not for larger datasets, it takes more time for model convergence\n",
    "# it does not provie probabilities like standard classifiers"
   ]
  }
 ],
 "metadata": {
  "kernelspec": {
   "display_name": "Python 2",
   "language": "python",
   "name": "python2"
  },
  "language_info": {
   "codemirror_mode": {
    "name": "ipython",
    "version": 2
   },
   "file_extension": ".py",
   "mimetype": "text/x-python",
   "name": "python",
   "nbconvert_exporter": "python",
   "pygments_lexer": "ipython2",
   "version": "2.7.12"
  }
 },
 "nbformat": 4,
 "nbformat_minor": 0
}
