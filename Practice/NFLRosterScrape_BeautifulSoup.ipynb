{
 "cells": [
  {
   "cell_type": "code",
   "execution_count": 1,
   "metadata": {
    "collapsed": true
   },
   "outputs": [],
   "source": [
    "from bs4 import BeautifulSoup as bs4\n",
    "import requests"
   ]
  },
  {
   "cell_type": "code",
   "execution_count": 2,
   "metadata": {
    "collapsed": false
   },
   "outputs": [],
   "source": [
    "url='http://www.nfl.com/standings'"
   ]
  },
  {
   "cell_type": "code",
   "execution_count": 3,
   "metadata": {
    "collapsed": false
   },
   "outputs": [],
   "source": [
    "html=requests.get(url)\n",
    "soup=bs4(html.text,'lxml')\n",
    "tables=soup.find('table')\n",
    "rows=tables.find_all('tr',attrs={'class':'tbdy1'})"
   ]
  },
  {
   "cell_type": "code",
   "execution_count": 4,
   "metadata": {
    "collapsed": false
   },
   "outputs": [],
   "source": [
    "teaminfo={}\n",
    "for row in rows:\n",
    "    _teamname=row.find('a').contents[0]\n",
    "    teamname='_'.join(_teamname.split())\n",
    "    teamurl='http://www.nfl.com'+row.find('a')['href']\n",
    "    teamabbvr=teamurl[teamurl.find('=')+1:]\n",
    "    teaminfo[teamabbvr]={}\n",
    "    teaminfo[teamabbvr]['name']=teamname\n",
    "    teaminfo[teamabbvr]['url']=teamurl\n",
    "    teaminfo[teamabbvr]['abbvr']=teamabbvr\n",
    "#     Include division and other stats here\n"
   ]
  },
  {
   "cell_type": "code",
   "execution_count": 5,
   "metadata": {
    "collapsed": true
   },
   "outputs": [],
   "source": [
    "for team in teaminfo.keys():\n",
    "    rosterurl='http://www.nfl.com/teams/roster?team='+team\n",
    "    html=requests.get(rosterurl)\n",
    "    soup=bs4(html.text,'lxml')\n",
    "    tables=soup.find('table',attrs={'id':'result'})\n",
    "    rows=tables.find_all('tr')\n",
    "    roster={}\n",
    "    counter=1\n",
    "    for row in rows[1:]:\n",
    "        roster[counter]={}\n",
    "        attribu=row.find_all('td')\n",
    "        roster[counter]['jerseyno']=row.find_all('td')[0].text\n",
    "        roster[counter]['name']=row.find_all('td')[1].text\n",
    "        roster[counter]['pos']=row.find_all('td')[2].text\n",
    "        roster[counter]['status']=row.find_all('td')[3].text\n",
    "        roster[counter]['height']=row.find_all('td')[4].text\n",
    "        roster[counter]['weight']=row.find_all('td')[5].text\n",
    "        roster[counter]['birthdate']=row.find_all('td')[6].text\n",
    "        roster[counter]['exp']=row.find_all('td')[7].text\n",
    "        roster[counter]['college']=row.find_all('td')[8].text\n",
    "        counter+=1\n",
    "    teaminfo[team]['roster']=roster"
   ]
  },
  {
   "cell_type": "code",
   "execution_count": 26,
   "metadata": {
    "collapsed": false
   },
   "outputs": [
    {
     "name": "stdout",
     "output_type": "stream",
     "text": [
      "#    Name                                    Weight    Height    Position  \n",
      "0     Agholor, Nelson                        198        6'0\"     WR        \n",
      "1     Allen, Beau                            327        6'3\"     DT        \n",
      "2     Andrews, Josh                          311        6'2\"     G         \n",
      "3     Bailey, Rasheed                        209        6'1\"     WR        \n",
      "4     Barbre, Allen                          310        6'4\"     OG        \n",
      "5     Bonnet, Andrew                         245        6'3\"     FB        \n",
      "6     Bradham, Nigel                         241        6'2\"     OLB       \n",
      "7     Brooks, Brandon                        335        6'5\"     G         \n",
      "8     Brooks, Ron                            190        5'10\"    CB        \n",
      "9     Brooks, Terrence                       200        5'11\"    DB        \n",
      "10    Burton, Trey                           235        6'3\"     TE        \n",
      "11    Celek, Brent                           255        6'4\"     TE        \n",
      "12    Cherry, Don                            240        6'2\"     LB        \n",
      "13    Cox, Fletcher                          310        6'4\"     DT        \n",
      "14    Curry, Vinny                           279        6'3\"     DE        \n",
      "15    Denham, Anthony                        235        6'4\"     TE        \n",
      "16    Dorenbos, Jon                          250        6'0\"     LS        \n",
      "17    Ertz, Zach                             250        6'5\"     TE        \n",
      "18    Foles, Nick                            243        6'6\"     QB        \n",
      "19    Gordon, Dillon                         322        6'4\"     OG        \n",
      "20    Graham, Brandon                        265        6'2\"     DE        \n",
      "21    Green-Beckham, Dorial                  237        6'5\"     WR        \n",
      "22    Greene, Darrell                        321        6'3\"     OG        \n",
      "23    Grugier-Hill, Kamu                     220        6'2\"     OLB       \n",
      "24    Grymes, Aaron                          185        5'11\"    DB        \n",
      "25    Hamilton, Justin                       315        6'2\"     DT        \n",
      "26    Hart, Taylor                           281        6'6\"     DE        \n",
      "27    Hicks, Jordan                          236        6'1\"     MLB       \n",
      "28    Jeffery, Alshon                        218        6'3\"     WR        \n",
      "29    Jenkins, Malcolm                       204        6'0\"     SS        \n",
      "30    Jernigan, Timmy                        295        6'2\"     DT        \n",
      "31    Johnson, Lane                          317        6'6\"     T         \n",
      "32    Johnson, Marcus                        204        6'1\"     WR        \n",
      "33    Jones, Donnie                          221        6'2\"     P         \n",
      "34    Kelce, Jason                           295        6'3\"     C         \n",
      "35    Kendricks, Mychal                      240        6'0\"     OLB       \n",
      "36    LeRibeus, Josh                         310        6'2\"     G         \n",
      "37    Long, Chris                            270        6'3\"     DE        \n",
      "38    Lovato, Rick                           249        6'2\"     LS        \n",
      "39    Maragos, Chris                         200        5'10\"    FS        \n",
      "40    Marshall, Byron                        201        5'9\"     WR        \n",
      "41    Mathews, Ryan                          220        6'0\"     RB        \n",
      "42    Matthews, Jordan                       212        6'3\"     WR        \n",
      "43    McCalister, Alex                       239        6'6\"     DE        \n",
      "44    McLeod, Rodney                         195        5'10\"    FS        \n",
      "45    Means, Steven                          263        6'3\"     DE        \n",
      "46    Mills, Jalen                           191        6'0\"     CB        \n",
      "47    Neary, Aaron                           284        6'4\"     C         \n",
      "48    Peters, Jason                          328        6'4\"     T         \n",
      "49    Seumalo, Isaac                         303        6'4\"     OG        \n",
      "50    Shittu, Aziz                           288        6'2\"     DE        \n",
      "51    Smallwood, Wendell                     208        5'10\"    RB        \n",
      "52    Smith, C.J.                            189        5'11\"    CB        \n",
      "53    Smith, Marcus                          251        6'3\"     DE        \n",
      "54    Smith, Torrey                          205        6'0\"     WR        \n",
      "55    Sproles, Darren                        190        5'6\"     RB        \n",
      "56    Sturgis, Caleb                         192        5'9\"     K         \n",
      "57    Thomas, Dallas                         316        6'5\"     OG        \n",
      "58    Tobin, Matt                            290        6'6\"     G         \n",
      "59    Treggs, Bryce                          185        5'10\"    WR        \n",
      "60    Turner, Paul                           193        5'10\"    WR        \n",
      "61    Vaeao, Destiny                         299        6'3\"     DT        \n",
      "62    Vaitai, Halapoulivaati                 320        6'6\"     OT        \n",
      "63    Walker, Joe                            236        6'2\"     ILB       \n",
      "64    Warmack, Chance                        323        6'2\"     G         \n",
      "65    Watford, David                         212        6'2\"     WR        \n",
      "66    Watkins, Jaylen                        194        5'11\"    DB        \n",
      "67    Watson, Terrell                        240        6'1\"     RB        \n",
      "68    Wentz, Carson                          237        6'5\"     QB        \n",
      "69    White, Mitchell                        184        5'11\"    DB        \n",
      "70    Williams, Dom                          200        6'2\"     WR        \n",
      "71    Wisniewski, Stefen                     305        6'3\"     OG        \n"
     ]
    }
   ],
   "source": [
    "team='PHI'\n",
    "print('{:<5}{:<40}{:<10}{:<10}{:<10}'.format('#','Name','Weight','Height','Position'))\n",
    "for id,player in enumerate(teaminfo[team]['roster'].values()):\n",
    "    print('{:<5}{:<40}{:<10}{:<10}{:<10}'.format(id,player['name'],player['weight'],player['height'],player['pos']))"
   ]
  },
  {
   "cell_type": "code",
   "execution_count": 31,
   "metadata": {
    "collapsed": false
   },
   "outputs": [
    {
     "name": "stdout",
     "output_type": "stream",
     "text": [
      "NYG \t New_York_Giants\n",
      "OAK \t Oakland_Raiders\n",
      "MIA \t Miami_Dolphins\n",
      "MIN \t Minnesota_Vikings\n",
      "JAX \t Jacksonville_Jaguars\n",
      "CIN \t Cincinnati_Bengals\n",
      "TB \t Tampa_Bay_Buccaneers\n",
      "ATL \t Atlanta_Falcons\n",
      "BUF \t Buffalo_Bills\n",
      "DAL \t Dallas_Cowboys\n",
      "LAC \t San_Diego_Chargers\n",
      "LA \t Los_Angeles_Rams\n",
      "NE \t New_England_Patriots\n",
      "NO \t New_Orleans_Saints\n",
      "CAR \t Carolina_Panthers\n",
      "ARI \t Arizona_Cardinals\n",
      "PHI \t Philadelphia_Eagles\n",
      "BAL \t Baltimore_Ravens\n",
      "DET \t Detroit_Lions\n",
      "NYJ \t New_York_Jets\n",
      "SF \t San_Francisco_49ers\n",
      "HOU \t Houston_Texans\n",
      "CHI \t Chicago_Bears\n",
      "IND \t Indianapolis_Colts\n",
      "PIT \t Pittsburgh_Steelers\n",
      "CLE \t Cleveland_Browns\n",
      "GB \t Green_Bay_Packers\n",
      "KC \t Kansas_City_Chiefs\n",
      "WAS \t Washington_Redskins\n",
      "TEN \t Tennessee_Titans\n",
      "SEA \t Seattle_Seahawks\n",
      "DEN \t Denver_Broncos\n"
     ]
    }
   ],
   "source": [
    "for i,j in teaminfo.items():\n",
    "    print(i,'\\t',j['name'])"
   ]
  },
  {
   "cell_type": "code",
   "execution_count": null,
   "metadata": {
    "collapsed": true
   },
   "outputs": [],
   "source": []
  }
 ],
 "metadata": {
  "kernelspec": {
   "display_name": "Python 3",
   "language": "python",
   "name": "python3"
  },
  "language_info": {
   "codemirror_mode": {
    "name": "ipython",
    "version": 3
   },
   "file_extension": ".py",
   "mimetype": "text/x-python",
   "name": "python",
   "nbconvert_exporter": "python",
   "pygments_lexer": "ipython3",
   "version": "3.4.3"
  }
 },
 "nbformat": 4,
 "nbformat_minor": 2
}
