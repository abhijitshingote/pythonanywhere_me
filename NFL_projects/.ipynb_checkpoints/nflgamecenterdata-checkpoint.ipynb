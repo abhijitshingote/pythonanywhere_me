{
 "cells": [
  {
   "cell_type": "code",
   "execution_count": 1,
   "metadata": {
    "collapsed": true
   },
   "outputs": [],
   "source": []
  },
  {
   "cell_type": "code",
   "execution_count": null,
   "metadata": {
    "collapsed": true
   },
   "outputs": [],
   "source": [
    "import requests\n",
    "import json"
   ]
  },
  {
   "cell_type": "code",
   "execution_count": 78,
   "metadata": {
    "collapsed": true
   },
   "outputs": [],
   "source": [
    "gamedate='20161106'"
   ]
  },
  {
   "cell_type": "code",
   "execution_count": 104,
   "metadata": {
    "collapsed": false
   },
   "outputs": [],
   "source": [
    "gameurls={}\n",
    "gameurls[gamedate]=[]\n",
    "for _x in range(16):\n",
    "    if _x<10:\n",
    "        x='0'+str(_x)\n",
    "    else:\n",
    "        x=str(_x)\n",
    "        \n",
    "    url='http://www.nfl.com/liveupdate/game-center/' + gamedate + x + '/' + gamedate + x + '_gtd.json'\n",
    "    gameurls[gamedate].append(url)"
   ]
  },
  {
   "cell_type": "code",
   "execution_count": 113,
   "metadata": {
    "collapsed": false
   },
   "outputs": [],
   "source": [
    "for gameurl in gameurls[gamedate]:\n",
    "    response=requests.get(gameurl)\n",
    "    if response.status_code==200:\n",
    "        gamedata=response.json()\n",
    "        storedata=gamedata[list(gamedata.keys())[0]]\n",
    "        filename=list(gamedata.keys())[0] + '.txt'\n",
    "        with open(list(gamedata.keys())[0]+'.txt','w') as filename:\n",
    "            json.dump(storedata,filename)\n",
    "        time.sleep(60)\n",
    "        "
   ]
  },
  {
   "cell_type": "code",
   "execution_count": null,
   "metadata": {
    "collapsed": false
   },
   "outputs": [],
   "source": []
  },
  {
   "cell_type": "code",
   "execution_count": 6,
   "metadata": {
    "collapsed": false
   },
   "outputs": [],
   "source": [
    "import requests"
   ]
  },
  {
   "cell_type": "code",
   "execution_count": 66,
   "metadata": {
    "collapsed": true
   },
   "outputs": [],
   "source": [
    "url='http://www.nfl.com/liveupdate/game-center/2016110608/2016110608_gtd.json'"
   ]
  },
  {
   "cell_type": "code",
   "execution_count": 67,
   "metadata": {
    "collapsed": false
   },
   "outputs": [
    {
     "data": {
      "text/plain": [
       "dict_keys(['2016110608', 'nextupdate'])"
      ]
     },
     "execution_count": 67,
     "metadata": {},
     "output_type": "execute_result"
    }
   ],
   "source": [
    "response=requests.get(url)\n",
    "data=response.json()\n",
    "data.keys()"
   ]
  },
  {
   "cell_type": "code",
   "execution_count": 73,
   "metadata": {
    "collapsed": false
   },
   "outputs": [
    {
     "data": {
      "text/plain": [
       "200"
      ]
     },
     "execution_count": 73,
     "metadata": {},
     "output_type": "execute_result"
    }
   ],
   "source": [
    "response.status_code"
   ]
  },
  {
   "cell_type": "code",
   "execution_count": 72,
   "metadata": {
    "collapsed": false
   },
   "outputs": [
    {
     "data": {
      "text/plain": [
       "'2016110608'"
      ]
     },
     "execution_count": 72,
     "metadata": {},
     "output_type": "execute_result"
    }
   ],
   "source": [
    "gameid=list(data.keys())[0]\n",
    "gameid"
   ]
  },
  {
   "cell_type": "code",
   "execution_count": 62,
   "metadata": {
    "collapsed": false
   },
   "outputs": [
    {
     "ename": "TypeError",
     "evalue": "'dict_keys' object does not support indexing",
     "output_type": "error",
     "traceback": [
      "\u001b[1;31m---------------------------------------------------------------------------\u001b[0m",
      "\u001b[1;31mTypeError\u001b[0m                                 Traceback (most recent call last)",
      "\u001b[1;32m<ipython-input-62-1bbf9e2e5737>\u001b[0m in \u001b[0;36m<module>\u001b[1;34m()\u001b[0m\n\u001b[1;32m----> 1\u001b[1;33m \u001b[0mdata\u001b[0m\u001b[1;33m[\u001b[0m\u001b[0mdata\u001b[0m\u001b[1;33m.\u001b[0m\u001b[0mkeys\u001b[0m\u001b[1;33m(\u001b[0m\u001b[1;33m)\u001b[0m\u001b[1;33m[\u001b[0m\u001b[1;36m0\u001b[0m\u001b[1;33m]\u001b[0m\u001b[1;33m]\u001b[0m\u001b[1;33m.\u001b[0m\u001b[0mkeys\u001b[0m\u001b[1;33m(\u001b[0m\u001b[1;33m)\u001b[0m\u001b[1;33m\u001b[0m\u001b[0m\n\u001b[0m",
      "\u001b[1;31mTypeError\u001b[0m: 'dict_keys' object does not support indexing"
     ]
    }
   ],
   "source": [
    "data[data.keys()[0]].keys()"
   ]
  },
  {
   "cell_type": "code",
   "execution_count": 26,
   "metadata": {
    "collapsed": false
   },
   "outputs": [
    {
     "data": {
      "text/plain": [
       "dict_keys(['1', '2', '3', '4', '5', '6', '7', '8', '9', '10', '11', '12', '13', '14', '15', '16', '17', '18', '19', '20', '21', '22', '23', '24', 'crntdrv'])"
      ]
     },
     "execution_count": 26,
     "metadata": {},
     "output_type": "execute_result"
    }
   ],
   "source": [
    "data['2016110600']['drives'].keys()"
   ]
  },
  {
   "cell_type": "code",
   "execution_count": 30,
   "metadata": {
    "collapsed": false
   },
   "outputs": [
    {
     "data": {
      "text/plain": [
       "dict_keys(['sp', 'qtr', 'down', 'time', 'yrdln', 'ydstogo', 'ydsnet', 'posteam', 'desc', 'note', 'players'])"
      ]
     },
     "execution_count": 30,
     "metadata": {},
     "output_type": "execute_result"
    }
   ],
   "source": [
    "data['2016110600']['drives']['1']['plays']['106'].keys()"
   ]
  },
  {
   "cell_type": "code",
   "execution_count": 34,
   "metadata": {
    "collapsed": false
   },
   "outputs": [
    {
     "name": "stdout",
     "output_type": "stream",
     "text": [
      "S.Janikowski kicks 68 yards from OAK 35 to DEN -3. K.Bibbs to DEN 14 for 17 yards (C.James). OAK CAPTAINS: #4 D. Carr, #22 T. Jones, #27 R. Nelson, #51 B. Ivrin, #52 K. Mack, #61 R. Hudson DEN Captains: #13 T. Siemian, #43 T. Ward, #57 D. Watson\n",
      "(14:56) T.Siemian pass incomplete short middle to V.Green.\n",
      "(14:53) T.Siemian pass incomplete short left to E.Sanders (D.Williams).\n",
      "(14:50) (Shotgun) T.Siemian pass incomplete short middle to D.Thomas (R.Nelson).\n",
      "(14:45) R.Dixon punts 48 yards to OAK 38, Center-C.Kreiter. J.Richard to OAK 48 for 10 yards (D.Watson).\n"
     ]
    }
   ],
   "source": [
    "for playid in data['2016110600']['drives']['1']['plays'].keys():\n",
    "    print(data['2016110600']['drives']['1']['plays'][playid]['desc'])"
   ]
  },
  {
   "cell_type": "code",
   "execution_count": 38,
   "metadata": {
    "collapsed": false
   },
   "outputs": [
    {
     "name": "stdout",
     "output_type": "stream",
     "text": [
      "{'sp': 0, 'qtr': 1, 'down': 0, 'time': '15:00', 'yrdln': 'OAK 35', 'ydstogo': 0, 'ydsnet': 0, 'posteam': 'OAK', 'desc': 'S.Janikowski kicks 68 yards from OAK 35 to DEN -3. K.Bibbs to DEN 14 for 17 yards (C.James). OAK CAPTAINS: #4 D. Carr, #22 T. Jones, #27 R. Nelson, #51 B. Ivrin, #52 K. Mack, #61 R. Hudson DEN Captains: #13 T. Siemian, #43 T. Ward, #57 D. Watson', 'note': 'KICKOFF', 'players': {'00-0031102': [{'sequence': 2, 'clubcode': 'DEN', 'playerName': 'K.Bibbs', 'statId': 45, 'yards': 17}], '00-0019646': [{'sequence': 1, 'clubcode': 'OAK', 'playerName': 'S.Janikowski', 'statId': 43, 'yards': 68}, {'sequence': 3, 'clubcode': 'OAK', 'playerName': 'S.Janikowski', 'statId': 42, 'yards': 0}], '00-0033056': [{'sequence': 4, 'clubcode': 'OAK', 'playerName': 'C.James', 'statId': 79, 'yards': 0}]}}\n",
      "\n",
      "\n",
      "\n",
      "{'sp': 0, 'qtr': 1, 'down': 1, 'time': '14:56', 'yrdln': 'DEN 14', 'ydstogo': 10, 'ydsnet': 0, 'posteam': 'DEN', 'desc': '(14:56) T.Siemian pass incomplete short middle to V.Green.', 'note': None, 'players': {'00-0028142': [{'sequence': 2, 'clubcode': 'DEN', 'playerName': 'V.Green', 'statId': 115, 'yards': 0}], '00-0032156': [{'sequence': 1, 'clubcode': 'DEN', 'playerName': 'T.Siemian', 'statId': 14, 'yards': 0}, {'sequence': 3, 'clubcode': 'DEN', 'playerName': 'T.Siemian', 'statId': 112, 'yards': 6}]}}\n",
      "\n",
      "\n",
      "\n",
      "{'sp': 0, 'qtr': 1, 'down': 2, 'time': '14:53', 'yrdln': 'DEN 14', 'ydstogo': 10, 'ydsnet': 0, 'posteam': 'DEN', 'desc': '(14:53) T.Siemian pass incomplete short left to E.Sanders (D.Williams).', 'note': None, 'players': {'00-0027685': [{'sequence': 2, 'clubcode': 'DEN', 'playerName': 'E.Sanders', 'statId': 115, 'yards': 0}], '00-0032156': [{'sequence': 1, 'clubcode': 'DEN', 'playerName': 'T.Siemian', 'statId': 14, 'yards': 0}, {'sequence': 4, 'clubcode': 'DEN', 'playerName': 'T.Siemian', 'statId': 112, 'yards': 6}], '00-0027877': [{'sequence': 3, 'clubcode': 'OAK', 'playerName': 'D.Williams', 'statId': 85, 'yards': 0}]}}\n",
      "\n",
      "\n",
      "\n",
      "{'sp': 0, 'qtr': 1, 'down': 3, 'time': '14:50', 'yrdln': 'DEN 14', 'ydstogo': 10, 'ydsnet': 0, 'posteam': 'DEN', 'desc': '(14:50) (Shotgun) T.Siemian pass incomplete short middle to D.Thomas (R.Nelson).', 'note': None, 'players': {'0': [{'sequence': 1, 'clubcode': 'DEN', 'playerName': '', 'statId': 7, 'yards': 0}], '00-0027874': [{'sequence': 3, 'clubcode': 'DEN', 'playerName': 'D.Thomas', 'statId': 115, 'yards': 0}], '00-0032156': [{'sequence': 2, 'clubcode': 'DEN', 'playerName': 'T.Siemian', 'statId': 14, 'yards': 0}, {'sequence': 5, 'clubcode': 'DEN', 'playerName': 'T.Siemian', 'statId': 112, 'yards': 1}], '00-0025408': [{'sequence': 4, 'clubcode': 'OAK', 'playerName': 'R.Nelson', 'statId': 85, 'yards': 0}]}}\n",
      "\n",
      "\n",
      "\n",
      "{'sp': 0, 'qtr': 1, 'down': 4, 'time': '14:45', 'yrdln': 'DEN 14', 'ydstogo': 10, 'ydsnet': 0, 'posteam': 'DEN', 'desc': '(14:45) R.Dixon punts 48 yards to OAK 38, Center-C.Kreiter. J.Richard to OAK 48 for 10 yards (D.Watson).', 'note': 'PUNT', 'players': {'00-0027812': [{'sequence': 3, 'clubcode': 'DEN', 'playerName': 'D.Watson', 'statId': 79, 'yards': 0}], '00-0033025': [{'sequence': 2, 'clubcode': 'OAK', 'playerName': 'J.Richard', 'statId': 33, 'yards': 10}], '00-0032943': [{'sequence': 1, 'clubcode': 'DEN', 'playerName': 'R.Dixon', 'statId': 29, 'yards': 48}]}}\n",
      "\n",
      "\n",
      "\n"
     ]
    }
   ],
   "source": [
    "for playid in data['2016110600']['drives']['1']['plays'].keys():\n",
    "    print(data['2016110600']['drives']['1']['plays'][playid])\n",
    "    print('\\n\\n')"
   ]
  },
  {
   "cell_type": "code",
   "execution_count": 39,
   "metadata": {
    "collapsed": true
   },
   "outputs": [
    {
     "name": "stdout",
     "output_type": "stream",
     "text": [
      "15:00\n",
      "\n",
      "\n",
      "\n",
      "14:56\n",
      "\n",
      "\n",
      "\n",
      "14:53\n",
      "\n",
      "\n",
      "\n",
      "14:50\n",
      "\n",
      "\n",
      "\n",
      "14:45\n",
      "\n",
      "\n",
      "\n"
     ]
    }
   ],
   "source": [
    "for playid in data['2016110600']['drives']['1']['plays'].keys():\n",
    "    print(data['2016110600']['drives']['1']['plays'][playid]['time'])\n",
    "    print('\\n\\n')"
   ]
  },
  {
   "cell_type": "code",
   "execution_count": 41,
   "metadata": {
    "collapsed": true
   },
   "outputs": [
    {
     "name": "stdout",
     "output_type": "stream",
     "text": [
      "14:33\n",
      "\n",
      "\n",
      "\n",
      "13:56\n",
      "\n",
      "\n",
      "\n",
      "13:16\n",
      "\n",
      "\n",
      "\n",
      "12:33\n",
      "\n",
      "\n",
      "\n",
      "11:53\n",
      "\n",
      "\n",
      "\n",
      "11:49\n",
      "\n",
      "\n",
      "\n",
      "11:07\n",
      "\n",
      "\n",
      "\n",
      "10:24\n",
      "\n",
      "\n",
      "\n"
     ]
    }
   ],
   "source": [
    "for playid in data['2016110600']['drives']['2']['plays'].keys():\n",
    "    print(data['2016110600']['drives']['2']['plays'][playid]['time'])\n",
    "    print('\\n\\n')"
   ]
  },
  {
   "cell_type": "code",
   "execution_count": 44,
   "metadata": {
    "collapsed": false
   },
   "outputs": [
    {
     "name": "stdout",
     "output_type": "stream",
     "text": [
      "posteam   OAK\n",
      "qtr   1\n",
      "redzone   True\n",
      "plays   {'157': {'sp': 0, 'qtr': 1, 'down': 1, 'time': '14:33', 'yrdln': 'OAK 48', 'ydstogo': 10, 'ydsnet': 5, 'posteam': 'OAK', 'desc': '(14:33) L.Murray right guard to DEN 47 for 5 yards (T.Davis).', 'note': None, 'players': {'00-0030513': [{'sequence': 1, 'clubcode': 'OAK', 'playerName': 'L.Murray', 'statId': 10, 'yards': 5}], '00-0031427': [{'sequence': 2, 'clubcode': 'DEN', 'playerName': 'T.Davis', 'statId': 79, 'yards': 0}]}}, '178': {'sp': 0, 'qtr': 1, 'down': 2, 'time': '13:56', 'yrdln': 'DEN 47', 'ydstogo': 5, 'ydsnet': 16, 'posteam': 'OAK', 'desc': '(13:56) (Shotgun) D.Carr pass short middle to J.Richard to DEN 36 for 11 yards (T.Davis).', 'note': None, 'players': {'00-0031427': [{'sequence': 7, 'clubcode': 'DEN', 'playerName': 'T.Davis', 'statId': 79, 'yards': 0}], '0': [{'sequence': 1, 'clubcode': 'OAK', 'playerName': '', 'statId': 4, 'yards': 0}], '00-0031280': [{'sequence': 2, 'clubcode': 'OAK', 'playerName': 'D.Carr', 'statId': 15, 'yards': 11}, {'sequence': 3, 'clubcode': 'OAK', 'playerName': 'D.Carr', 'statId': 111, 'yards': 7}], '00-0033025': [{'sequence': 4, 'clubcode': 'OAK', 'playerName': 'J.Richard', 'statId': 21, 'yards': 11}, {'sequence': 5, 'clubcode': 'OAK', 'playerName': 'J.Richard', 'statId': 115, 'yards': 0}, {'sequence': 6, 'clubcode': 'OAK', 'playerName': 'J.Richard', 'statId': 113, 'yards': 4}]}}, '206': {'sp': 0, 'qtr': 1, 'down': 1, 'time': '13:16', 'yrdln': 'DEN 36', 'ydstogo': 10, 'ydsnet': 17, 'posteam': 'OAK', 'desc': '(13:16) D.Washington up the middle to DEN 35 for 1 yard (D.Wolfe).', 'note': None, 'players': {'00-0029586': [{'sequence': 2, 'clubcode': 'DEN', 'playerName': 'D.Wolfe', 'statId': 79, 'yards': 0}], '00-0032940': [{'sequence': 1, 'clubcode': 'OAK', 'playerName': 'D.Washington', 'statId': 10, 'yards': 1}]}}, '227': {'sp': 0, 'qtr': 1, 'down': 2, 'time': '12:33', 'yrdln': 'DEN 35', 'ydstogo': 9, 'ydsnet': 38, 'posteam': 'OAK', 'desc': '(12:33) (Shotgun) D.Carr pass short right to A.Cooper to DEN 14 for 21 yards (T.Nixon).', 'note': None, 'players': {'0': [{'sequence': 1, 'clubcode': 'OAK', 'playerName': '', 'statId': 4, 'yards': 0}], '00-0031280': [{'sequence': 2, 'clubcode': 'OAK', 'playerName': 'D.Carr', 'statId': 15, 'yards': 21}, {'sequence': 3, 'clubcode': 'OAK', 'playerName': 'D.Carr', 'statId': 111, 'yards': 5}], '00-0032157': [{'sequence': 7, 'clubcode': 'DEN', 'playerName': 'T.Nixon', 'statId': 79, 'yards': 0}], '00-0031544': [{'sequence': 4, 'clubcode': 'OAK', 'playerName': 'A.Cooper', 'statId': 21, 'yards': 21}, {'sequence': 5, 'clubcode': 'OAK', 'playerName': 'A.Cooper', 'statId': 115, 'yards': 0}, {'sequence': 6, 'clubcode': 'OAK', 'playerName': 'A.Cooper', 'statId': 113, 'yards': 16}]}}, '251': {'sp': 0, 'qtr': 1, 'down': 1, 'time': '11:53', 'yrdln': 'DEN 14', 'ydstogo': 10, 'ydsnet': 38, 'posteam': 'OAK', 'desc': '(11:53) (Shotgun) D.Carr pass incomplete short middle to C.Walford (B.Marshall).', 'note': None, 'players': {'00-0031280': [{'sequence': 1, 'clubcode': 'OAK', 'playerName': 'D.Carr', 'statId': 14, 'yards': 0}, {'sequence': 4, 'clubcode': 'OAK', 'playerName': 'D.Carr', 'statId': 112, 'yards': 14}], '00-0032256': [{'sequence': 2, 'clubcode': 'OAK', 'playerName': 'C.Walford', 'statId': 115, 'yards': 0}], '00-0029620': [{'sequence': 3, 'clubcode': 'DEN', 'playerName': 'B.Marshall', 'statId': 85, 'yards': 0}]}}, '273': {'sp': 0, 'qtr': 1, 'down': 2, 'time': '11:49', 'yrdln': 'DEN 14', 'ydstogo': 10, 'ydsnet': 46, 'posteam': 'OAK', 'desc': '(11:49) L.Murray up the middle to DEN 6 for 8 yards (C.Nelson, J.Simmons).', 'note': None, 'players': {'00-0030513': [{'sequence': 1, 'clubcode': 'OAK', 'playerName': 'L.Murray', 'statId': 10, 'yards': 8}], '00-0031350': [{'sequence': 2, 'clubcode': 'DEN', 'playerName': 'C.Nelson', 'statId': 80, 'yards': 0}], '00-0032971': [{'sequence': 3, 'clubcode': 'DEN', 'playerName': 'J.Simmons', 'statId': 82, 'yards': 0}]}}, '294': {'sp': 0, 'qtr': 1, 'down': 3, 'time': '11:07', 'yrdln': 'DEN 6', 'ydstogo': 2, 'ydsnet': 47, 'posteam': 'OAK', 'desc': '(11:07) (Shotgun) D.Carr pass short right to S.Roberts to DEN 5 for 1 yard (L.Doss).', 'note': None, 'players': {'00-0031166': [{'sequence': 4, 'clubcode': 'OAK', 'playerName': 'S.Roberts', 'statId': 21, 'yards': 1}, {'sequence': 5, 'clubcode': 'OAK', 'playerName': 'S.Roberts', 'statId': 115, 'yards': 0}, {'sequence': 6, 'clubcode': 'OAK', 'playerName': 'S.Roberts', 'statId': 113, 'yards': 0}], '0': [{'sequence': 1, 'clubcode': 'OAK', 'playerName': '', 'statId': 7, 'yards': 0}], '00-0031280': [{'sequence': 2, 'clubcode': 'OAK', 'playerName': 'D.Carr', 'statId': 15, 'yards': 1}, {'sequence': 3, 'clubcode': 'OAK', 'playerName': 'D.Carr', 'statId': 111, 'yards': 1}], '00-0032136': [{'sequence': 7, 'clubcode': 'DEN', 'playerName': 'L.Doss', 'statId': 79, 'yards': 0}]}}, '318': {'sp': 1, 'qtr': 1, 'down': 4, 'time': '10:24', 'yrdln': 'DEN 5', 'ydstogo': 1, 'ydsnet': 47, 'posteam': 'OAK', 'desc': '(10:24) S.Janikowski 24 yard field goal is GOOD, Center-J.Condo, Holder-M.King.', 'note': 'FG', 'players': {'00-0019646': [{'sequence': 1, 'clubcode': 'OAK', 'playerName': 'S.Janikowski', 'statId': 70, 'yards': 24}]}}}\n",
      "fds   2\n",
      "result   Field Goal\n",
      "penyds   0\n",
      "ydsgained   47\n",
      "numplays   8\n",
      "postime   4:12\n",
      "start   {'qtr': 1, 'time': '14:33', 'yrdln': 'OAK 48', 'team': 'OAK'}\n",
      "end   {'qtr': 1, 'time': '10:21', 'yrdln': 'DEN 5', 'team': 'OAK'}\n"
     ]
    }
   ],
   "source": [
    "for drivekeys,values in data['2016110600']['drives']['2'].items():\n",
    "    print(drivekeys,' ',values)\n",
    "    "
   ]
  },
  {
   "cell_type": "code",
   "execution_count": 56,
   "metadata": {
    "collapsed": false
   },
   "outputs": [
    {
     "name": "stdout",
     "output_type": "stream",
     "text": [
      "1   DEN 0 Punt 0:27 5\n",
      "2   OAK 47 Field Goal 4:12 8\n",
      "3   DEN 2 Punt 1:02 6\n",
      "4   OAK 42 Field Goal 4:27 10\n",
      "5   DEN 7 Punt 1:17 5\n",
      "6   OAK 57 Touchdown 4:28 11\n",
      "7   DEN 5 Punt 1:19 5\n",
      "8   OAK 2 Punt 0:55 5\n",
      "9   DEN 84 Touchdown 3:31 8\n",
      "10   OAK 41 Missed FG 3:49 9\n",
      "11   DEN 9 Punt 1:29 5\n",
      "12   OAK 52 Touchdown 1:39 12\n",
      "13   DEN 38 Field Goal 1:25 11\n",
      "14   OAK 31 Punt 6:11 13\n",
      "15   DEN 9 Punt 1:04 4\n",
      "16   OAK 22 Punt 3:11 6\n",
      "17   DEN 51 Field Goal 4:38 14\n",
      "18   OAK 68 Field Goal 6:37 12\n",
      "19   DEN 14 Fumble 1:06 5\n",
      "20   OAK 4 Touchdown 1:04 8\n",
      "21   DEN 80 Touchdown 0:51 5\n",
      "22   OAK 34 Punt 2:58 14\n",
      "23   DEN 0 Interception 0:23 4\n",
      "24   OAK -3 End of Game 1:57 4\n"
     ]
    }
   ],
   "source": [
    "mydatadict={}\n",
    "for drivekeys,values in data['2016110600']['drives'].items():\n",
    "    if drivekeys !='crntdrv':\n",
    "        print(drivekeys,' ',values['posteam'],values['ydsgained'],values['result'],values['postime'],values['numplays'])\n",
    "        mydatadict[int(drivekeys)]={}\n",
    "        mydatadict[int(drivekeys)]['team_poss']=values['posteam']\n",
    "        mydatadict[int(drivekeys)]['ydsgained']=values['ydsgained']\n",
    "        mydatadict[int(drivekeys)]['driveresult']=values['result']\n",
    "        mydatadict[int(drivekeys)]['timeofposs']=values['postime']\n",
    "        mydatadict[int(drivekeys)]['numofplays']=values['numplays']"
   ]
  },
  {
   "cell_type": "code",
   "execution_count": 55,
   "metadata": {
    "collapsed": false
   },
   "outputs": [
    {
     "data": {
      "text/plain": [
       "{1: {'driveresult': 'Punt',\n",
       "  'numofplays': 5,\n",
       "  'team_poss': 'DEN',\n",
       "  'timeofposs': '0:27',\n",
       "  'ydsgained': 0},\n",
       " 2: {'driveresult': 'Field Goal',\n",
       "  'numofplays': 8,\n",
       "  'team_poss': 'OAK',\n",
       "  'timeofposs': '4:12',\n",
       "  'ydsgained': 47},\n",
       " 3: {'driveresult': 'Punt',\n",
       "  'numofplays': 6,\n",
       "  'team_poss': 'DEN',\n",
       "  'timeofposs': '1:02',\n",
       "  'ydsgained': 2},\n",
       " 4: {'driveresult': 'Field Goal',\n",
       "  'numofplays': 10,\n",
       "  'team_poss': 'OAK',\n",
       "  'timeofposs': '4:27',\n",
       "  'ydsgained': 42},\n",
       " 5: {'driveresult': 'Punt',\n",
       "  'numofplays': 5,\n",
       "  'team_poss': 'DEN',\n",
       "  'timeofposs': '1:17',\n",
       "  'ydsgained': 7},\n",
       " 6: {'driveresult': 'Touchdown',\n",
       "  'numofplays': 11,\n",
       "  'team_poss': 'OAK',\n",
       "  'timeofposs': '4:28',\n",
       "  'ydsgained': 57},\n",
       " 7: {'driveresult': 'Punt',\n",
       "  'numofplays': 5,\n",
       "  'team_poss': 'DEN',\n",
       "  'timeofposs': '1:19',\n",
       "  'ydsgained': 5},\n",
       " 8: {'driveresult': 'Punt',\n",
       "  'numofplays': 5,\n",
       "  'team_poss': 'OAK',\n",
       "  'timeofposs': '0:55',\n",
       "  'ydsgained': 2},\n",
       " 9: {'driveresult': 'Touchdown',\n",
       "  'numofplays': 8,\n",
       "  'team_poss': 'DEN',\n",
       "  'timeofposs': '3:31',\n",
       "  'ydsgained': 84},\n",
       " 10: {'driveresult': 'Missed FG',\n",
       "  'numofplays': 9,\n",
       "  'team_poss': 'OAK',\n",
       "  'timeofposs': '3:49',\n",
       "  'ydsgained': 41},\n",
       " 11: {'driveresult': 'Punt',\n",
       "  'numofplays': 5,\n",
       "  'team_poss': 'DEN',\n",
       "  'timeofposs': '1:29',\n",
       "  'ydsgained': 9},\n",
       " 12: {'driveresult': 'Touchdown',\n",
       "  'numofplays': 12,\n",
       "  'team_poss': 'OAK',\n",
       "  'timeofposs': '1:39',\n",
       "  'ydsgained': 52},\n",
       " 13: {'driveresult': 'Field Goal',\n",
       "  'numofplays': 11,\n",
       "  'team_poss': 'DEN',\n",
       "  'timeofposs': '1:25',\n",
       "  'ydsgained': 38},\n",
       " 14: {'driveresult': 'Punt',\n",
       "  'numofplays': 13,\n",
       "  'team_poss': 'OAK',\n",
       "  'timeofposs': '6:11',\n",
       "  'ydsgained': 31},\n",
       " 15: {'driveresult': 'Punt',\n",
       "  'numofplays': 4,\n",
       "  'team_poss': 'DEN',\n",
       "  'timeofposs': '1:04',\n",
       "  'ydsgained': 9},\n",
       " 16: {'driveresult': 'Punt',\n",
       "  'numofplays': 6,\n",
       "  'team_poss': 'OAK',\n",
       "  'timeofposs': '3:11',\n",
       "  'ydsgained': 22},\n",
       " 17: {'driveresult': 'Field Goal',\n",
       "  'numofplays': 14,\n",
       "  'team_poss': 'DEN',\n",
       "  'timeofposs': '4:38',\n",
       "  'ydsgained': 51},\n",
       " 18: {'driveresult': 'Field Goal',\n",
       "  'numofplays': 12,\n",
       "  'team_poss': 'OAK',\n",
       "  'timeofposs': '6:37',\n",
       "  'ydsgained': 68},\n",
       " 19: {'driveresult': 'Fumble',\n",
       "  'numofplays': 5,\n",
       "  'team_poss': 'DEN',\n",
       "  'timeofposs': '1:06',\n",
       "  'ydsgained': 14},\n",
       " 20: {'driveresult': 'Touchdown',\n",
       "  'numofplays': 8,\n",
       "  'team_poss': 'OAK',\n",
       "  'timeofposs': '1:04',\n",
       "  'ydsgained': 4},\n",
       " 21: {'driveresult': 'Touchdown',\n",
       "  'numofplays': 5,\n",
       "  'team_poss': 'DEN',\n",
       "  'timeofposs': '0:51',\n",
       "  'ydsgained': 80},\n",
       " 22: {'driveresult': 'Punt',\n",
       "  'numofplays': 14,\n",
       "  'team_poss': 'OAK',\n",
       "  'timeofposs': '2:58',\n",
       "  'ydsgained': 34},\n",
       " 23: {'driveresult': 'Interception',\n",
       "  'numofplays': 4,\n",
       "  'team_poss': 'DEN',\n",
       "  'timeofposs': '0:23',\n",
       "  'ydsgained': 0},\n",
       " 24: {'driveresult': 'End of Game',\n",
       "  'numofplays': 4,\n",
       "  'team_poss': 'OAK',\n",
       "  'timeofposs': '1:57',\n",
       "  'ydsgained': -3}}"
      ]
     },
     "execution_count": 55,
     "metadata": {},
     "output_type": "execute_result"
    }
   ],
   "source": [
    "mydatadict"
   ]
  },
  {
   "cell_type": "code",
   "execution_count": null,
   "metadata": {
    "collapsed": true
   },
   "outputs": [],
   "source": []
  }
 ],
 "metadata": {
  "kernelspec": {
   "display_name": "Python 3.6",
   "language": "python",
   "name": "python3.6"
  },
  "language_info": {
   "codemirror_mode": {
    "name": "ipython",
    "version": 3
   },
   "file_extension": ".py",
   "mimetype": "text/x-python",
   "name": "python",
   "nbconvert_exporter": "python",
   "pygments_lexer": "ipython3",
   "version": "3.6.0"
  }
 },
 "nbformat": 4,
 "nbformat_minor": 0
}
