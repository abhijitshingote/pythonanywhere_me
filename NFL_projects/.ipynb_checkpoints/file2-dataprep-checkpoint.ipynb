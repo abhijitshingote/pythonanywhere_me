{
 "cells": [
  {
   "cell_type": "code",
   "execution_count": 75,
   "metadata": {
    "collapsed": false
   },
   "outputs": [],
   "source": [
    "import json\n",
    "import pandas as pd\n",
    "import os\n",
    "import matplotlib.pyplot as plt\n",
    "%matplotlib inline"
   ]
  },
  {
   "cell_type": "code",
   "execution_count": 50,
   "metadata": {
    "collapsed": false
   },
   "outputs": [],
   "source": [
    "filenames=[filename for filename in os.listdir() if filename.endswith(\".txt\")]"
   ]
  },
  {
   "cell_type": "code",
   "execution_count": 51,
   "metadata": {
    "collapsed": false
   },
   "outputs": [],
   "source": [
    "mydatadict={}\n",
    "for filename in filenames:\n",
    "    with open (filename) as file:\n",
    "        data=json.load(file)\n",
    "    for drivekeys,values in data['drives'].items():\n",
    "        if drivekeys !='crntdrv':\n",
    "            uniquedrivekey=filename[:-4]+'-' + drivekeys\n",
    "            mydatadict[uniquedrivekey]={}\n",
    "            mydatadict[uniquedrivekey]['team_poss']=values['posteam']\n",
    "            mydatadict[uniquedrivekey]['ydsgained']=values['ydsgained']\n",
    "            mydatadict[uniquedrivekey]['driveresult']=values['result']\n",
    "            mydatadict[uniquedrivekey]['timeofposs']=values['postime']\n",
    "            mydatadict[uniquedrivekey]['numofplays']=values['numplays']"
   ]
  },
  {
   "cell_type": "code",
   "execution_count": 53,
   "metadata": {
    "collapsed": false
   },
   "outputs": [],
   "source": [
    "driveresults=[]\n",
    "timeofposs=[]\n",
    "numofplays=[]\n",
    "team_name=[]\n",
    "totalyards=[]\n",
    "drive_key=[]\n",
    "for key,data in mydatadict.items():\n",
    "    drive_key.append(key)\n",
    "    driveresults.append(data['driveresult'])\n",
    "    timeofposs.append(data['timeofposs'])\n",
    "    numofplays.append(data['numofplays'])\n",
    "    team_name.append(data['team_poss'])\n",
    "    totalyards.append(data['ydsgained'])"
   ]
  },
  {
   "cell_type": "code",
   "execution_count": 54,
   "metadata": {
    "collapsed": false
   },
   "outputs": [],
   "source": [
    "dataframe=pd.DataFrame({\n",
    "        'drive_id':drive_key,\n",
    "        'team':team_name,\n",
    "        'totalyards':totalyards,\n",
    "        'plays':numofplays,\n",
    "        'time':timeofposs,\n",
    "        'driveend':driveresults      \n",
    "                      })"
   ]
  },
  {
   "cell_type": "code",
   "execution_count": 63,
   "metadata": {
    "collapsed": false
   },
   "outputs": [],
   "source": [
    "def converttime(timeval):\n",
    "    times=timeval.split(':')\n",
    "    return int(times[0])*60 + int(times[1])"
   ]
  },
  {
   "cell_type": "code",
   "execution_count": 68,
   "metadata": {
    "collapsed": false
   },
   "outputs": [],
   "source": [
    "dataframe.time=dataframe.time.apply(converttime)"
   ]
  },
  {
   "cell_type": "code",
   "execution_count": 69,
   "metadata": {
    "collapsed": false
   },
   "outputs": [
    {
     "data": {
      "text/html": [
       "<div>\n",
       "<table border=\"1\" class=\"dataframe\">\n",
       "  <thead>\n",
       "    <tr style=\"text-align: right;\">\n",
       "      <th></th>\n",
       "      <th>drive_id</th>\n",
       "      <th>driveend</th>\n",
       "      <th>plays</th>\n",
       "      <th>team</th>\n",
       "      <th>time</th>\n",
       "      <th>totalyards</th>\n",
       "    </tr>\n",
       "  </thead>\n",
       "  <tbody>\n",
       "    <tr>\n",
       "      <th>0</th>\n",
       "      <td>2016110607-1</td>\n",
       "      <td>Missed FG</td>\n",
       "      <td>9</td>\n",
       "      <td>LA</td>\n",
       "      <td>224</td>\n",
       "      <td>38</td>\n",
       "    </tr>\n",
       "    <tr>\n",
       "      <th>1</th>\n",
       "      <td>2016110607-2</td>\n",
       "      <td>Punt</td>\n",
       "      <td>4</td>\n",
       "      <td>CAR</td>\n",
       "      <td>88</td>\n",
       "      <td>2</td>\n",
       "    </tr>\n",
       "    <tr>\n",
       "      <th>2</th>\n",
       "      <td>2016110607-3</td>\n",
       "      <td>Punt</td>\n",
       "      <td>4</td>\n",
       "      <td>LA</td>\n",
       "      <td>57</td>\n",
       "      <td>2</td>\n",
       "    </tr>\n",
       "    <tr>\n",
       "      <th>3</th>\n",
       "      <td>2016110607-4</td>\n",
       "      <td>Touchdown</td>\n",
       "      <td>10</td>\n",
       "      <td>CAR</td>\n",
       "      <td>307</td>\n",
       "      <td>53</td>\n",
       "    </tr>\n",
       "    <tr>\n",
       "      <th>4</th>\n",
       "      <td>2016110607-5</td>\n",
       "      <td>Punt</td>\n",
       "      <td>5</td>\n",
       "      <td>LA</td>\n",
       "      <td>97</td>\n",
       "      <td>3</td>\n",
       "    </tr>\n",
       "  </tbody>\n",
       "</table>\n",
       "</div>"
      ],
      "text/plain": [
       "       drive_id   driveend  plays team  time  totalyards\n",
       "0  2016110607-1  Missed FG      9   LA   224          38\n",
       "1  2016110607-2       Punt      4  CAR    88           2\n",
       "2  2016110607-3       Punt      4   LA    57           2\n",
       "3  2016110607-4  Touchdown     10  CAR   307          53\n",
       "4  2016110607-5       Punt      5   LA    97           3"
      ]
     },
     "execution_count": 69,
     "metadata": {},
     "output_type": "execute_result"
    }
   ],
   "source": [
    "dataframe.head()"
   ]
  },
  {
   "cell_type": "code",
   "execution_count": 74,
   "metadata": {
    "collapsed": false
   },
   "outputs": [
    {
     "data": {
      "text/plain": [
       "<matplotlib.collections.PathCollection at 0x7f8c39a83f98>"
      ]
     },
     "execution_count": 74,
     "metadata": {},
     "output_type": "execute_result"
    },
    {
     "data": {
      "image/png": "[encoded data removed]",
      "text/plain": [
       "<matplotlib.figure.Figure at 0x7f8c39aa2b70>"
      ]
     },
     "metadata": {},
     "output_type": "display_data"
    }
   ],
   "source": [
    "plt.scatter(dataframe.time,dataframe.totalyards)"
   ]
  },
  {
   "cell_type": "code",
   "execution_count": 77,
   "metadata": {
    "collapsed": false
   },
   "outputs": [],
   "source": [
    "import datetime"
   ]
  },
  {
   "cell_type": "code",
   "execution_count": 79,
   "metadata": {
    "collapsed": false
   },
   "outputs": [],
   "source": [
    "today=datetime.date.today()"
   ]
  },
  {
   "cell_type": "code",
   "execution_count": 82,
   "metadata": {
    "collapsed": false
   },
   "outputs": [
    {
     "data": {
      "text/plain": [
       "0"
      ]
     },
     "execution_count": 82,
     "metadata": {},
     "output_type": "execute_result"
    }
   ],
   "source": [
    "today.weekday()"
   ]
  },
  {
   "cell_type": "code",
   "execution_count": 85,
   "metadata": {
    "collapsed": false
   },
   "outputs": [
    {
     "data": {
      "text/plain": [
       "1"
      ]
     },
     "execution_count": 85,
     "metadata": {},
     "output_type": "execute_result"
    }
   ],
   "source": [
    "datetime.date(2017,5,2).weekday()"
   ]
  },
  {
   "cell_type": "code",
   "execution_count": null,
   "metadata": {
    "collapsed": true
   },
   "outputs": [],
   "source": []
  }
 ],
 "metadata": {
  "kernelspec": {
   "display_name": "Python 3.6",
   "language": "python",
   "name": "python3.6"
  },
  "language_info": {
   "codemirror_mode": {
    "name": "ipython",
    "version": 3
   },
   "file_extension": ".py",
   "mimetype": "text/x-python",
   "name": "python",
   "nbconvert_exporter": "python",
   "pygments_lexer": "ipython3",
   "version": "3.6.0"
  }
 },
 "nbformat": 4,
 "nbformat_minor": 0
}
