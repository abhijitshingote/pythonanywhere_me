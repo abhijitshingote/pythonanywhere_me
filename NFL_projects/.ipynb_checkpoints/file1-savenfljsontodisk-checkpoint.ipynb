{
 "cells": [
  {
   "cell_type": "code",
   "execution_count": null,
   "metadata": {
    "collapsed": true
   },
   "outputs": [],
   "source": [
    "# How to read and write JSON data\n",
    "\n",
    "# mydict={'a':(1,2,3)}\n",
    "# import json\n",
    "# with open('nflgamedata.txt', 'w') as outfile:\n",
    "#     json.dump(mydict, outfile)\n",
    "    \n",
    "# with open('nflgamedata.txt','r') as reader:\n",
    "#     mynewdict=json.load(reader)\n",
    "# mynewdict"
   ]
  },
  {
   "cell_type": "code",
   "execution_count": 16,
   "metadata": {
    "collapsed": true
   },
   "outputs": [],
   "source": [
    "import requests\n",
    "import json\n",
    "import time,datetime"
   ]
  },
  {
   "cell_type": "code",
   "execution_count": 9,
   "metadata": {
    "collapsed": true
   },
   "outputs": [],
   "source": [
    "gamedate='20161106'"
   ]
  },
  {
   "cell_type": "code",
   "execution_count": 17,
   "metadata": {
    "collapsed": true
   },
   "outputs": [],
   "source": [
    "sundays=[]\n",
    "for year in range(2009,2018):\n",
    "    for month in (9,10,11,12,1,2):\n",
    "        for date in range(1,32):\n",
    "            try:\n",
    "                if datetime.date(year,month,date).weekday()==0:\n",
    "                    sundays.append(str(year)+(str(month)).zfill(2)+(str(date)).zfill(2))\n",
    "            except:\n",
    "                continue"
   ]
  },
  {
   "cell_type": "code",
   "execution_count": 37,
   "metadata": {
    "collapsed": true
   },
   "outputs": [],
   "source": [
    "gameurls={}\n",
    "for gamedate in sundays:\n",
    "    gameurls[gamedate]=[]\n",
    "    for _x in range(16):\n",
    "        if _x<10:\n",
    "            x='0'+str(_x)\n",
    "        else:\n",
    "            x=str(_x)\n",
    "\n",
    "        url='http://www.nfl.com/liveupdate/game-center/' + gamedate + x + '/' + gamedate + x + '_gtd.json'\n",
    "        gameurls[gamedate].append(url)"
   ]
  },
  {
   "cell_type": "code",
   "execution_count": 38,
   "metadata": {
    "collapsed": true
   },
   "outputs": [],
   "source": [
    "#unpack above dict of  lists\n",
    "count=0\n",
    "listofgameurls=[eachgameurl for gamedayurls in gameurls.values() for eachgameurl in gamedayurls]\n",
    "for gameurl in listofgameurls:\n",
    "    response=requests.get(gameurl)\n",
    "    if response.status_code==200:\n",
    "        gamedata=response.json()\n",
    "        storedata=gamedata[list(gamedata.keys())[0]]\n",
    "        filename=list(gamedata.keys())[0] + '.txt'\n",
    "        with open(list(gamedata.keys())[0]+'.txt','w') as filename:\n",
    "            json.dump(storedata,filename)\n",
    "        time.sleep(60)\n",
    "        count+=1\n",
    "        if count>5:\n",
    "            break\n",
    "   "
   ]
  },
  {
   "cell_type": "code",
   "execution_count": null,
   "metadata": {
    "collapsed": true
   },
   "outputs": [],
   "source": []
  }
 ],
 "metadata": {
  "kernelspec": {
   "display_name": "Python 3.6",
   "language": "python",
   "name": "python3.6"
  },
  "language_info": {
   "codemirror_mode": {
    "name": "ipython",
    "version": 3
   },
   "file_extension": ".py",
   "mimetype": "text/x-python",
   "name": "python",
   "nbconvert_exporter": "python",
   "pygments_lexer": "ipython3",
   "version": "3.6.0"
  }
 },
 "nbformat": 4,
 "nbformat_minor": 0
}
