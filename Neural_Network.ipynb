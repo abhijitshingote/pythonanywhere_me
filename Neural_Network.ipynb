{
 "cells": [
  {
   "cell_type": "code",
   "execution_count": 110,
   "metadata": {
    "collapsed": true
   },
   "outputs": [],
   "source": [
    "import numpy as np"
   ]
  },
  {
   "cell_type": "code",
   "execution_count": 111,
   "metadata": {
    "collapsed": true
   },
   "outputs": [],
   "source": [
    "# X \t (trainingsamples,input_nodes)\n",
    "# layer1\t(training_samples,hidden-nodes)\n",
    "# layer2\t(training_samples,output)\n",
    "\t\n",
    "# outputerror\t(training_samples,output)\n",
    "# outputerrorgradient\t(training_samples,output)\n",
    "\t\n",
    "# hidden_error\t(training_samples,hidden_nodes)\n",
    "# hidden_error_gradient\t(training_samples,hidden_nodes)\n",
    "\t\n",
    "# delta_1_2\t(hidden_nodes,output)\n",
    "# delta_0_1\t(input_nodes,hidden_nodes)\n",
    "\n",
    "X=np.array([[2,3,2,1],\n",
    "           [4,5,7,4],\n",
    "           [1,1,1,5],\n",
    "           [5,5,5,1],\n",
    "           [5,7,5,9],\n",
    "           [5,5,7,1]])\n",
    "\n",
    "y=np.array([[34],[79],[42],[66],[122],[68]])"
   ]
  },
  {
   "cell_type": "code",
   "execution_count": 112,
   "metadata": {
    "collapsed": false
   },
   "outputs": [],
   "source": [
    "# class NeuralNetwork:\n",
    "\n",
    "#     def __init__(self,input_nodes,hidden_nodes,output_nodes,no_of_epochs,learning_rate):\n",
    "#         self.weight_0_1=np.random.normal(size=[input_nodes,hidden_nodes])\n",
    "#         self.weight_1_2=np.random.normal(size=[hidden_nodes,output_nodes])\n",
    "#         self.no_of_epochs=no_of_epochs\n",
    "#         self.learning_rate=learning_rate\n",
    "    \n",
    "#     def sigmoid(self,x):\n",
    "#         return 1/(1+np.exp(-x))\n",
    "\n",
    "#     def train(self,X,y):\n",
    "    \n",
    "#         for ii in range(self.no_of_epochs):\n",
    "\n",
    "#             # FORWARD PROPAGATION\n",
    "#             layer_1=self.sigmoid(np.dot(X,self.weight_0_1))\n",
    "#             layer_2=self.sigmoid(np.dot(layer_1,self.weight_1_2))\n",
    "\n",
    "#             #BACKWARD PROPAGATION\n",
    "#             output_error=layer_2 - y\n",
    "#             output_error_gradient=output_error*layer_2*(1-layer_2)\n",
    "\n",
    "#             hidden_error=np.dot(output_error_gradient,self.weight_1_2.T)\n",
    "#             hidden_error_gradient=hidden_error*layer_1*(1-layer_1)\n",
    "\n",
    "#             self.weight_1_2 -= np.dot(layer_1.T,output_error_gradient)*self.learning_rate\n",
    "#             self.weight_0_1 -= np.dot(X.T,hidden_error_gradient)*self.learning_rate\n",
    "            \n",
    "#     def run(self,X,y):\n",
    "        \n",
    "#             layer_1=self.sigmoid(np.dot(X,self.weight_0_1))\n",
    "#             layer_2=self.sigmoid(np.dot(layer_1,self.weight_1_2))\n",
    "#             for ii in range(y.shape[0]):\n",
    "#                 print('Prediction: ',layer_2[ii][0],'  Actual: ',y[ii][0])"
   ]
  },
  {
   "cell_type": "code",
   "execution_count": 113,
   "metadata": {
    "collapsed": true
   },
   "outputs": [],
   "source": [
    "class NeuralNetwork:\n",
    "\n",
    "    def __init__(self,input_nodes,hidden_nodes,output_nodes,no_of_epochs,learning_rate):\n",
    "        self.weight_0_1=np.random.normal(size=[input_nodes,hidden_nodes])\n",
    "        self.weight_1_2=np.random.normal(size=[hidden_nodes,output_nodes])\n",
    "        self.no_of_epochs=no_of_epochs\n",
    "        self.learning_rate=learning_rate\n",
    "    \n",
    "    def sigmoid(self,x):\n",
    "        return 1/(1+np.exp(-x))\n",
    "\n",
    "    def train(self,X,y):\n",
    "    \n",
    "        for ii in range(self.no_of_epochs):\n",
    "\n",
    "            # FORWARD PROPAGATION\n",
    "            layer_1=self.sigmoid(np.dot(X,self.weight_0_1))\n",
    "            layer_2=(np.dot(layer_1,self.weight_1_2))\n",
    "\n",
    "            #BACKWARD PROPAGATION\n",
    "            output_error=layer_2 - y\n",
    "            output_error_gradient=output_error\n",
    "\n",
    "            hidden_error=np.dot(output_error_gradient,self.weight_1_2.T)\n",
    "            hidden_error_gradient=hidden_error*layer_1*(1-layer_1)\n",
    "\n",
    "            self.weight_1_2 -= np.dot(layer_1.T,output_error_gradient)*self.learning_rate\n",
    "            self.weight_0_1 -= np.dot(X.T,hidden_error_gradient)*self.learning_rate\n",
    "            \n",
    "    def run(self,X,y):\n",
    "        \n",
    "            layer_1=self.sigmoid(np.dot(X,self.weight_0_1))\n",
    "            layer_2=(np.dot(layer_1,self.weight_1_2))\n",
    "            print('Prediction: ',layer_2,'  Actual: ',y)"
   ]
  },
  {
   "cell_type": "code",
   "execution_count": 114,
   "metadata": {
    "collapsed": false
   },
   "outputs": [],
   "source": [
    "nn=NeuralNetwork(4,10,1,10000,0.1)"
   ]
  },
  {
   "cell_type": "code",
   "execution_count": 115,
   "metadata": {
    "collapsed": false
   },
   "outputs": [
    {
     "name": "stderr",
     "output_type": "stream",
     "text": [
      "/usr/local/lib/python3.6/dist-packages/IPython/kernel/__main__.py:10: RuntimeWarning: overflow encountered in exp\n"
     ]
    }
   ],
   "source": [
    "nn.train(X,y)"
   ]
  },
  {
   "cell_type": "code",
   "execution_count": 116,
   "metadata": {
    "collapsed": false
   },
   "outputs": [
    {
     "name": "stdout",
     "output_type": "stream",
     "text": [
      "Prediction:  [[ 68.50000137]\n",
      " [ 68.49999944]\n",
      " [ 68.50000088]\n",
      " [ 68.49999944]\n",
      " [ 68.49999944]\n",
      " [ 68.49999944]]   Actual:  [[ 34]\n",
      " [ 79]\n",
      " [ 42]\n",
      " [ 66]\n",
      " [122]\n",
      " [ 68]]\n"
     ]
    },
    {
     "name": "stderr",
     "output_type": "stream",
     "text": [
      "/usr/local/lib/python3.6/dist-packages/IPython/kernel/__main__.py:10: RuntimeWarning: overflow encountered in exp\n"
     ]
    }
   ],
   "source": [
    "nn.run(X,y)"
   ]
  },
  {
   "cell_type": "code",
   "execution_count": 117,
   "metadata": {
    "collapsed": false
   },
   "outputs": [
    {
     "data": {
      "text/plain": [
       "array([[ -1.88384762e+00,   1.04964713e+02,  -3.37951605e+05,\n",
       "         -2.53810968e+00,   5.07081590e+00,  -5.88794503e+00,\n",
       "         -3.38061183e+00,  -1.77022049e+01,   1.00004749e+01,\n",
       "         -3.43383540e+00],\n",
       "       [ -1.39470418e+00,   1.45324305e+02,  -3.37950272e+05,\n",
       "         -3.59631448e+00,   3.07945414e+00,  -9.83384051e+00,\n",
       "         -8.38028829e-01,  -1.89975747e+01,   1.20606554e+01,\n",
       "         -2.96002300e+00],\n",
       "       [ -2.04675000e+00,   1.03826847e+02,  -3.37950787e+05,\n",
       "         -3.27594245e+00,   3.71187726e+00,  -8.47782057e+00,\n",
       "         -3.11473927e+00,  -2.07410072e+01,   1.00597076e+01,\n",
       "         -2.91005402e+00],\n",
       "       [ -1.95508779e+00,   1.86214949e+02,  -1.68973858e+06,\n",
       "         -4.55210430e+00,   7.40841954e+00,  -1.04585347e+01,\n",
       "         -1.92850079e+00,  -3.11991494e+00,   1.03515509e+01,\n",
       "         -3.27808196e+00]])"
      ]
     },
     "execution_count": 117,
     "metadata": {},
     "output_type": "execute_result"
    }
   ],
   "source": [
    "nn.weight_0_1"
   ]
  },
  {
   "cell_type": "code",
   "execution_count": 118,
   "metadata": {
    "collapsed": false
   },
   "outputs": [
    {
     "data": {
      "text/plain": [
       "array([[  1.56039123e+00],\n",
       "       [  2.83253381e+01],\n",
       "       [ -1.96239482e+03],\n",
       "       [  3.81968268e+01],\n",
       "       [  3.17429620e+01],\n",
       "       [  1.45177401e+01],\n",
       "       [  2.37286980e+01],\n",
       "       [  3.67216718e+01],\n",
       "       [  8.43169927e+00],\n",
       "       [  1.37521877e+01]])"
      ]
     },
     "execution_count": 118,
     "metadata": {},
     "output_type": "execute_result"
    }
   ],
   "source": [
    "nn.weight_1_2"
   ]
  },
  {
   "cell_type": "code",
   "execution_count": null,
   "metadata": {
    "collapsed": true
   },
   "outputs": [],
   "source": []
  }
 ],
 "metadata": {
  "kernelspec": {
   "display_name": "Python 3.6",
   "language": "python",
   "name": "python3.6"
  },
  "language_info": {
   "codemirror_mode": {
    "name": "ipython",
    "version": 3
   },
   "file_extension": ".py",
   "mimetype": "text/x-python",
   "name": "python",
   "nbconvert_exporter": "python",
   "pygments_lexer": "ipython3",
   "version": "3.6.0"
  }
 },
 "nbformat": 4,
 "nbformat_minor": 0
}
